{
  "nbformat": 4,
  "nbformat_minor": 0,
  "metadata": {
    "colab": {
      "name": "Financial_news_sentiment",
      "provenance": [],
      "collapsed_sections": []
    },
    "kernelspec": {
      "name": "python3",
      "display_name": "Python 3"
    },
    "language_info": {
      "name": "python"
    },
    "accelerator": "GPU"
  },
  "cells": [
    {
      "cell_type": "markdown",
      "metadata": {
        "id": "uKxZNOcwCKXK"
      },
      "source": [
        "Texthero is a simple python toolkit that can preprocess,represent,map into vectors,and visualize text data in just couple of lines of code"
      ]
    },
    {
      "cell_type": "code",
      "metadata": {
        "colab": {
          "base_uri": "https://localhost:8080/"
        },
        "id": "XYukDTyd9Ytb",
        "outputId": "cfd2e2ee-5342-49df-f5e2-b12705a5ce67"
      },
      "source": [
        "pip install texthero "
      ],
      "execution_count": 55,
      "outputs": [
        {
          "output_type": "stream",
          "text": [
            "Requirement already satisfied: texthero in /usr/local/lib/python3.7/dist-packages (1.0.9)\n",
            "Requirement already satisfied: spacy>=2.2.2 in /usr/local/lib/python3.7/dist-packages (from texthero) (2.2.4)\n",
            "Requirement already satisfied: scikit-learn>=0.22 in /usr/local/lib/python3.7/dist-packages (from texthero) (0.22.2.post1)\n",
            "Requirement already satisfied: matplotlib>=3.1.0 in /usr/local/lib/python3.7/dist-packages (from texthero) (3.2.2)\n",
            "Requirement already satisfied: plotly>=4.2.0 in /usr/local/lib/python3.7/dist-packages (from texthero) (4.4.1)\n",
            "Requirement already satisfied: nltk>=3.3 in /usr/local/lib/python3.7/dist-packages (from texthero) (3.5)\n",
            "Requirement already satisfied: wordcloud>=1.5.0 in /usr/local/lib/python3.7/dist-packages (from texthero) (1.5.0)\n",
            "Requirement already satisfied: pandas>=1.0.2 in /usr/local/lib/python3.7/dist-packages (from texthero) (1.1.5)\n",
            "Requirement already satisfied: tqdm>=4.3 in /usr/local/lib/python3.7/dist-packages (from texthero) (4.41.1)\n",
            "Requirement already satisfied: gensim>=3.6.0 in /usr/local/lib/python3.7/dist-packages (from texthero) (3.6.0)\n",
            "Requirement already satisfied: unidecode>=1.1.1 in /usr/local/lib/python3.7/dist-packages (from texthero) (1.2.0)\n",
            "Requirement already satisfied: numpy>=1.17 in /usr/local/lib/python3.7/dist-packages (from texthero) (1.19.5)\n",
            "Requirement already satisfied: requests<3.0.0,>=2.13.0 in /usr/local/lib/python3.7/dist-packages (from spacy>=2.2.2->texthero) (2.23.0)\n",
            "Requirement already satisfied: cymem<2.1.0,>=2.0.2 in /usr/local/lib/python3.7/dist-packages (from spacy>=2.2.2->texthero) (2.0.5)\n",
            "Requirement already satisfied: preshed<3.1.0,>=3.0.2 in /usr/local/lib/python3.7/dist-packages (from spacy>=2.2.2->texthero) (3.0.5)\n",
            "Requirement already satisfied: wasabi<1.1.0,>=0.4.0 in /usr/local/lib/python3.7/dist-packages (from spacy>=2.2.2->texthero) (0.8.2)\n",
            "Requirement already satisfied: thinc==7.4.0 in /usr/local/lib/python3.7/dist-packages (from spacy>=2.2.2->texthero) (7.4.0)\n",
            "Requirement already satisfied: setuptools in /usr/local/lib/python3.7/dist-packages (from spacy>=2.2.2->texthero) (54.1.2)\n",
            "Requirement already satisfied: srsly<1.1.0,>=1.0.2 in /usr/local/lib/python3.7/dist-packages (from spacy>=2.2.2->texthero) (1.0.5)\n",
            "Requirement already satisfied: blis<0.5.0,>=0.4.0 in /usr/local/lib/python3.7/dist-packages (from spacy>=2.2.2->texthero) (0.4.1)\n",
            "Requirement already satisfied: plac<1.2.0,>=0.9.6 in /usr/local/lib/python3.7/dist-packages (from spacy>=2.2.2->texthero) (1.1.3)\n",
            "Requirement already satisfied: murmurhash<1.1.0,>=0.28.0 in /usr/local/lib/python3.7/dist-packages (from spacy>=2.2.2->texthero) (1.0.5)\n",
            "Requirement already satisfied: catalogue<1.1.0,>=0.0.7 in /usr/local/lib/python3.7/dist-packages (from spacy>=2.2.2->texthero) (1.0.0)\n",
            "Requirement already satisfied: joblib>=0.11 in /usr/local/lib/python3.7/dist-packages (from scikit-learn>=0.22->texthero) (1.0.1)\n",
            "Requirement already satisfied: scipy>=0.17.0 in /usr/local/lib/python3.7/dist-packages (from scikit-learn>=0.22->texthero) (1.4.1)\n",
            "Requirement already satisfied: pyparsing!=2.0.4,!=2.1.2,!=2.1.6,>=2.0.1 in /usr/local/lib/python3.7/dist-packages (from matplotlib>=3.1.0->texthero) (2.4.7)\n",
            "Requirement already satisfied: kiwisolver>=1.0.1 in /usr/local/lib/python3.7/dist-packages (from matplotlib>=3.1.0->texthero) (1.3.1)\n",
            "Requirement already satisfied: cycler>=0.10 in /usr/local/lib/python3.7/dist-packages (from matplotlib>=3.1.0->texthero) (0.10.0)\n",
            "Requirement already satisfied: python-dateutil>=2.1 in /usr/local/lib/python3.7/dist-packages (from matplotlib>=3.1.0->texthero) (2.8.1)\n",
            "Requirement already satisfied: six in /usr/local/lib/python3.7/dist-packages (from plotly>=4.2.0->texthero) (1.15.0)\n",
            "Requirement already satisfied: retrying>=1.3.3 in /usr/local/lib/python3.7/dist-packages (from plotly>=4.2.0->texthero) (1.3.3)\n",
            "Requirement already satisfied: regex in /usr/local/lib/python3.7/dist-packages (from nltk>=3.3->texthero) (2019.12.20)\n",
            "Requirement already satisfied: click in /usr/local/lib/python3.7/dist-packages (from nltk>=3.3->texthero) (7.1.2)\n",
            "Requirement already satisfied: pillow in /usr/local/lib/python3.7/dist-packages (from wordcloud>=1.5.0->texthero) (7.0.0)\n",
            "Requirement already satisfied: pytz>=2017.2 in /usr/local/lib/python3.7/dist-packages (from pandas>=1.0.2->texthero) (2018.9)\n",
            "Requirement already satisfied: smart-open>=1.2.1 in /usr/local/lib/python3.7/dist-packages (from gensim>=3.6.0->texthero) (4.2.0)\n",
            "Requirement already satisfied: chardet<4,>=3.0.2 in /usr/local/lib/python3.7/dist-packages (from requests<3.0.0,>=2.13.0->spacy>=2.2.2->texthero) (3.0.4)\n",
            "Requirement already satisfied: idna<3,>=2.5 in /usr/local/lib/python3.7/dist-packages (from requests<3.0.0,>=2.13.0->spacy>=2.2.2->texthero) (2.10)\n",
            "Requirement already satisfied: urllib3!=1.25.0,!=1.25.1,<1.26,>=1.21.1 in /usr/local/lib/python3.7/dist-packages (from requests<3.0.0,>=2.13.0->spacy>=2.2.2->texthero) (1.24.3)\n",
            "Requirement already satisfied: certifi>=2017.4.17 in /usr/local/lib/python3.7/dist-packages (from requests<3.0.0,>=2.13.0->spacy>=2.2.2->texthero) (2020.12.5)\n",
            "Requirement already satisfied: importlib-metadata>=0.20; python_version < \"3.8\" in /usr/local/lib/python3.7/dist-packages (from catalogue<1.1.0,>=0.0.7->spacy>=2.2.2->texthero) (3.7.2)\n",
            "Requirement already satisfied: zipp>=0.5 in /usr/local/lib/python3.7/dist-packages (from importlib-metadata>=0.20; python_version < \"3.8\"->catalogue<1.1.0,>=0.0.7->spacy>=2.2.2->texthero) (3.4.1)\n",
            "Requirement already satisfied: typing-extensions>=3.6.4; python_version < \"3.8\" in /usr/local/lib/python3.7/dist-packages (from importlib-metadata>=0.20; python_version < \"3.8\"->catalogue<1.1.0,>=0.0.7->spacy>=2.2.2->texthero) (3.7.4.3)\n"
          ],
          "name": "stdout"
        }
      ]
    },
    {
      "cell_type": "code",
      "metadata": {
        "colab": {
          "base_uri": "https://localhost:8080/"
        },
        "id": "de3eNj019lbv",
        "outputId": "32304e72-9a19-4f49-ad32-d99040bc475f"
      },
      "source": [
        "import texthero\n",
        "help(texthero)"
      ],
      "execution_count": 56,
      "outputs": [
        {
          "output_type": "stream",
          "text": [
            "Help on package texthero:\n",
            "\n",
            "NAME\n",
            "    texthero - Texthero: python toolkit for text preprocessing, representation and visualization.\n",
            "\n",
            "PACKAGE CONTENTS\n",
            "    extend_pandas\n",
            "    nlp\n",
            "    preprocessing\n",
            "    representation\n",
            "    stop_words\n",
            "    stopwords\n",
            "    visualization\n",
            "\n",
            "DATA\n",
            "    Callable = typing.Callable\n",
            "    List = typing.List\n",
            "    Optional = typing.Optional\n",
            "    Set = typing.Set\n",
            "\n",
            "FILE\n",
            "    /usr/local/lib/python3.7/dist-packages/texthero/__init__.py\n",
            "\n",
            "\n"
          ],
          "name": "stdout"
        }
      ]
    },
    {
      "cell_type": "code",
      "metadata": {
        "colab": {
          "base_uri": "https://localhost:8080/",
          "height": 597
        },
        "id": "4Z4tcfut97uk",
        "outputId": "dca0b5ae-8bc0-4f43-aff4-4733d36dbcad"
      },
      "source": [
        "import pandas as pd\n",
        "fin=pd.read_csv(\"IndianFinancialNews.csv\")\n",
        "fin"
      ],
      "execution_count": 57,
      "outputs": [
        {
          "output_type": "execute_result",
          "data": {
            "text/html": [
              "<div>\n",
              "<style scoped>\n",
              "    .dataframe tbody tr th:only-of-type {\n",
              "        vertical-align: middle;\n",
              "    }\n",
              "\n",
              "    .dataframe tbody tr th {\n",
              "        vertical-align: top;\n",
              "    }\n",
              "\n",
              "    .dataframe thead th {\n",
              "        text-align: right;\n",
              "    }\n",
              "</style>\n",
              "<table border=\"1\" class=\"dataframe\">\n",
              "  <thead>\n",
              "    <tr style=\"text-align: right;\">\n",
              "      <th></th>\n",
              "      <th>Unnamed: 0</th>\n",
              "      <th>Date</th>\n",
              "      <th>Title</th>\n",
              "      <th>Description</th>\n",
              "    </tr>\n",
              "  </thead>\n",
              "  <tbody>\n",
              "    <tr>\n",
              "      <th>0</th>\n",
              "      <td>0</td>\n",
              "      <td>May 26, 2020, Tuesday</td>\n",
              "      <td>ATMs to become virtual bank branches, accept d...</td>\n",
              "      <td>Close to 14.6 per cent (or 35,000) of the 240,...</td>\n",
              "    </tr>\n",
              "    <tr>\n",
              "      <th>1</th>\n",
              "      <td>1</td>\n",
              "      <td>May 26, 2020, Tuesday</td>\n",
              "      <td>IDFC First Bank seniors to forgo 65% of bonus ...</td>\n",
              "      <td>V Vaidyanathan, managing director and chief ex...</td>\n",
              "    </tr>\n",
              "    <tr>\n",
              "      <th>2</th>\n",
              "      <td>2</td>\n",
              "      <td>May 25, 2020, Monday</td>\n",
              "      <td>Huge scam in YES Bank for many years, says Enf...</td>\n",
              "      <td>Rana Kapoor's wife also charged with abetting ...</td>\n",
              "    </tr>\n",
              "    <tr>\n",
              "      <th>3</th>\n",
              "      <td>3</td>\n",
              "      <td>May 24, 2020, Sunday</td>\n",
              "      <td>Bank of Maharashtra sanctioned Rs 2,789 cr in ...</td>\n",
              "      <td>The bank said it was now gearing up to extend ...</td>\n",
              "    </tr>\n",
              "    <tr>\n",
              "      <th>4</th>\n",
              "      <td>4</td>\n",
              "      <td>May 23, 2020, Saturday</td>\n",
              "      <td>DCB Bank's profit before tax declines 37.6% to...</td>\n",
              "      <td>Net profit for the financial year ended March ...</td>\n",
              "    </tr>\n",
              "    <tr>\n",
              "      <th>...</th>\n",
              "      <td>...</td>\n",
              "      <td>...</td>\n",
              "      <td>...</td>\n",
              "      <td>...</td>\n",
              "    </tr>\n",
              "    <tr>\n",
              "      <th>49995</th>\n",
              "      <td>49995</td>\n",
              "      <td>February 11, 2003, Tuesday</td>\n",
              "      <td>Lic Mops Up Government Securities As Prices Crash</td>\n",
              "      <td>Lic Mops Up Government Securities As Prices Crash</td>\n",
              "    </tr>\n",
              "    <tr>\n",
              "      <th>49996</th>\n",
              "      <td>49996</td>\n",
              "      <td>February 11, 2003, Tuesday</td>\n",
              "      <td>Banks Plan To Raise Lending Rates Without Alte...</td>\n",
              "      <td>Banks Plan To Raise Lending Rates Without Alte...</td>\n",
              "    </tr>\n",
              "    <tr>\n",
              "      <th>49997</th>\n",
              "      <td>49997</td>\n",
              "      <td>February 10, 2003, Monday</td>\n",
              "      <td>Net Scheduled Inflows Of Rs 1,559.9 Crore</td>\n",
              "      <td>Net Scheduled Inflows Of Rs 1,559.9 Crore</td>\n",
              "    </tr>\n",
              "    <tr>\n",
              "      <th>49998</th>\n",
              "      <td>49998</td>\n",
              "      <td>February 10, 2003, Monday</td>\n",
              "      <td>Rbi Calls Meet To Push Floating Rate Deposits</td>\n",
              "      <td>Rbi Calls Meet To Push Floating Rate Deposits</td>\n",
              "    </tr>\n",
              "    <tr>\n",
              "      <th>49999</th>\n",
              "      <td>49999</td>\n",
              "      <td>February 10, 2003, Monday</td>\n",
              "      <td>Sticky Loans Divide Consortiums</td>\n",
              "      <td>Sticky Loans Divide Consortiums</td>\n",
              "    </tr>\n",
              "  </tbody>\n",
              "</table>\n",
              "<p>50000 rows × 4 columns</p>\n",
              "</div>"
            ],
            "text/plain": [
              "       Unnamed: 0  ...                                        Description\n",
              "0               0  ...  Close to 14.6 per cent (or 35,000) of the 240,...\n",
              "1               1  ...  V Vaidyanathan, managing director and chief ex...\n",
              "2               2  ...  Rana Kapoor's wife also charged with abetting ...\n",
              "3               3  ...  The bank said it was now gearing up to extend ...\n",
              "4               4  ...  Net profit for the financial year ended March ...\n",
              "...           ...  ...                                                ...\n",
              "49995       49995  ...  Lic Mops Up Government Securities As Prices Crash\n",
              "49996       49996  ...  Banks Plan To Raise Lending Rates Without Alte...\n",
              "49997       49997  ...          Net Scheduled Inflows Of Rs 1,559.9 Crore\n",
              "49998       49998  ...      Rbi Calls Meet To Push Floating Rate Deposits\n",
              "49999       49999  ...                    Sticky Loans Divide Consortiums\n",
              "\n",
              "[50000 rows x 4 columns]"
            ]
          },
          "metadata": {
            "tags": []
          },
          "execution_count": 57
        }
      ]
    },
    {
      "cell_type": "code",
      "metadata": {
        "id": "S8tDtP24-tLR"
      },
      "source": [
        "fin.drop(['Date'],axis=1,inplace=True)\n",
        "fin.drop(['Title'],axis=1,inplace=True)"
      ],
      "execution_count": 58,
      "outputs": []
    },
    {
      "cell_type": "code",
      "metadata": {
        "colab": {
          "base_uri": "https://localhost:8080/",
          "height": 407
        },
        "id": "ab47BbCe_ZdR",
        "outputId": "6b03ce3f-d7ac-4659-da51-0a231e4d72a2"
      },
      "source": [
        "fin"
      ],
      "execution_count": 59,
      "outputs": [
        {
          "output_type": "execute_result",
          "data": {
            "text/html": [
              "<div>\n",
              "<style scoped>\n",
              "    .dataframe tbody tr th:only-of-type {\n",
              "        vertical-align: middle;\n",
              "    }\n",
              "\n",
              "    .dataframe tbody tr th {\n",
              "        vertical-align: top;\n",
              "    }\n",
              "\n",
              "    .dataframe thead th {\n",
              "        text-align: right;\n",
              "    }\n",
              "</style>\n",
              "<table border=\"1\" class=\"dataframe\">\n",
              "  <thead>\n",
              "    <tr style=\"text-align: right;\">\n",
              "      <th></th>\n",
              "      <th>Unnamed: 0</th>\n",
              "      <th>Description</th>\n",
              "    </tr>\n",
              "  </thead>\n",
              "  <tbody>\n",
              "    <tr>\n",
              "      <th>0</th>\n",
              "      <td>0</td>\n",
              "      <td>Close to 14.6 per cent (or 35,000) of the 240,...</td>\n",
              "    </tr>\n",
              "    <tr>\n",
              "      <th>1</th>\n",
              "      <td>1</td>\n",
              "      <td>V Vaidyanathan, managing director and chief ex...</td>\n",
              "    </tr>\n",
              "    <tr>\n",
              "      <th>2</th>\n",
              "      <td>2</td>\n",
              "      <td>Rana Kapoor's wife also charged with abetting ...</td>\n",
              "    </tr>\n",
              "    <tr>\n",
              "      <th>3</th>\n",
              "      <td>3</td>\n",
              "      <td>The bank said it was now gearing up to extend ...</td>\n",
              "    </tr>\n",
              "    <tr>\n",
              "      <th>4</th>\n",
              "      <td>4</td>\n",
              "      <td>Net profit for the financial year ended March ...</td>\n",
              "    </tr>\n",
              "    <tr>\n",
              "      <th>...</th>\n",
              "      <td>...</td>\n",
              "      <td>...</td>\n",
              "    </tr>\n",
              "    <tr>\n",
              "      <th>49995</th>\n",
              "      <td>49995</td>\n",
              "      <td>Lic Mops Up Government Securities As Prices Crash</td>\n",
              "    </tr>\n",
              "    <tr>\n",
              "      <th>49996</th>\n",
              "      <td>49996</td>\n",
              "      <td>Banks Plan To Raise Lending Rates Without Alte...</td>\n",
              "    </tr>\n",
              "    <tr>\n",
              "      <th>49997</th>\n",
              "      <td>49997</td>\n",
              "      <td>Net Scheduled Inflows Of Rs 1,559.9 Crore</td>\n",
              "    </tr>\n",
              "    <tr>\n",
              "      <th>49998</th>\n",
              "      <td>49998</td>\n",
              "      <td>Rbi Calls Meet To Push Floating Rate Deposits</td>\n",
              "    </tr>\n",
              "    <tr>\n",
              "      <th>49999</th>\n",
              "      <td>49999</td>\n",
              "      <td>Sticky Loans Divide Consortiums</td>\n",
              "    </tr>\n",
              "  </tbody>\n",
              "</table>\n",
              "<p>50000 rows × 2 columns</p>\n",
              "</div>"
            ],
            "text/plain": [
              "       Unnamed: 0                                        Description\n",
              "0               0  Close to 14.6 per cent (or 35,000) of the 240,...\n",
              "1               1  V Vaidyanathan, managing director and chief ex...\n",
              "2               2  Rana Kapoor's wife also charged with abetting ...\n",
              "3               3  The bank said it was now gearing up to extend ...\n",
              "4               4  Net profit for the financial year ended March ...\n",
              "...           ...                                                ...\n",
              "49995       49995  Lic Mops Up Government Securities As Prices Crash\n",
              "49996       49996  Banks Plan To Raise Lending Rates Without Alte...\n",
              "49997       49997          Net Scheduled Inflows Of Rs 1,559.9 Crore\n",
              "49998       49998      Rbi Calls Meet To Push Floating Rate Deposits\n",
              "49999       49999                    Sticky Loans Divide Consortiums\n",
              "\n",
              "[50000 rows x 2 columns]"
            ]
          },
          "metadata": {
            "tags": []
          },
          "execution_count": 59
        }
      ]
    },
    {
      "cell_type": "code",
      "metadata": {
        "id": "LOc5b5uw_dKv"
      },
      "source": [
        "import texthero as hero"
      ],
      "execution_count": 60,
      "outputs": []
    },
    {
      "cell_type": "code",
      "metadata": {
        "colab": {
          "base_uri": "https://localhost:8080/"
        },
        "id": "69vvlret_q40",
        "outputId": "5a28f6e8-6499-4689-a217-d66a79db5d73"
      },
      "source": [
        "hero.remove_digits(fin['Description'])"
      ],
      "execution_count": 61,
      "outputs": [
        {
          "output_type": "execute_result",
          "data": {
            "text/plain": [
              "0        Close to  .  per cent (or  , ) of the  ,  ATMs...\n",
              "1        V Vaidyanathan, managing director and chief ex...\n",
              "2        Rana Kapoor's wife also charged with abetting ...\n",
              "3        The bank said it was now gearing up to extend ...\n",
              "4        Net profit for the financial year ended March ...\n",
              "                               ...                        \n",
              "49995    Lic Mops Up Government Securities As Prices Crash\n",
              "49996    Banks Plan To Raise Lending Rates Without Alte...\n",
              "49997              Net Scheduled Inflows Of Rs  , .  Crore\n",
              "49998        Rbi Calls Meet To Push Floating Rate Deposits\n",
              "49999                      Sticky Loans Divide Consortiums\n",
              "Name: Description, Length: 50000, dtype: object"
            ]
          },
          "metadata": {
            "tags": []
          },
          "execution_count": 61
        }
      ]
    },
    {
      "cell_type": "code",
      "metadata": {
        "colab": {
          "base_uri": "https://localhost:8080/"
        },
        "id": "pmR9IDcw_4R0",
        "outputId": "54008eda-25f8-4077-c118-72036c0cf2c3"
      },
      "source": [
        "hero.remove_punctuation(fin['Description'])"
      ],
      "execution_count": 62,
      "outputs": [
        {
          "output_type": "execute_result",
          "data": {
            "text/plain": [
              "0        Close to 14 6 per cent  or 35 000  of the 240 ...\n",
              "1        V Vaidyanathan  managing director and chief ex...\n",
              "2        Rana Kapoor s wife also charged with abetting ...\n",
              "3        The bank said it was now gearing up to extend ...\n",
              "4        Net profit for the financial year ended March ...\n",
              "                               ...                        \n",
              "49995    Lic Mops Up Government Securities As Prices Crash\n",
              "49996    Banks Plan To Raise Lending Rates Without Alte...\n",
              "49997            Net Scheduled Inflows Of Rs 1 559 9 Crore\n",
              "49998        Rbi Calls Meet To Push Floating Rate Deposits\n",
              "49999                      Sticky Loans Divide Consortiums\n",
              "Name: Description, Length: 50000, dtype: object"
            ]
          },
          "metadata": {
            "tags": []
          },
          "execution_count": 62
        }
      ]
    },
    {
      "cell_type": "code",
      "metadata": {
        "colab": {
          "base_uri": "https://localhost:8080/"
        },
        "id": "QnnK2qstAMhD",
        "outputId": "263ca68e-eff4-4f13-8c66-a87bdf753756"
      },
      "source": [
        "hero.remove_brackets(fin['Description'])"
      ],
      "execution_count": 63,
      "outputs": [
        {
          "output_type": "execute_result",
          "data": {
            "text/plain": [
              "0        Close to 14.6 per cent  of the 240,000 ATMs in...\n",
              "1        V Vaidyanathan, managing director and chief ex...\n",
              "2        Rana Kapoor's wife also charged with abetting ...\n",
              "3        The bank said it was now gearing up to extend ...\n",
              "4        Net profit for the financial year ended March ...\n",
              "                               ...                        \n",
              "49995    Lic Mops Up Government Securities As Prices Crash\n",
              "49996    Banks Plan To Raise Lending Rates Without Alte...\n",
              "49997            Net Scheduled Inflows Of Rs 1,559.9 Crore\n",
              "49998        Rbi Calls Meet To Push Floating Rate Deposits\n",
              "49999                      Sticky Loans Divide Consortiums\n",
              "Name: Description, Length: 50000, dtype: object"
            ]
          },
          "metadata": {
            "tags": []
          },
          "execution_count": 63
        }
      ]
    },
    {
      "cell_type": "code",
      "metadata": {
        "colab": {
          "base_uri": "https://localhost:8080/"
        },
        "id": "A1RStowDAaCO",
        "outputId": "5e12e249-a0e8-40c4-c6f8-0c21369a34a5"
      },
      "source": [
        "hero.remove_whitespace(fin['Description'])"
      ],
      "execution_count": 64,
      "outputs": [
        {
          "output_type": "execute_result",
          "data": {
            "text/plain": [
              "0        Close to 14.6 per cent (or 35,000) of the 240,...\n",
              "1        V Vaidyanathan, managing director and chief ex...\n",
              "2        Rana Kapoor's wife also charged with abetting ...\n",
              "3        The bank said it was now gearing up to extend ...\n",
              "4        Net profit for the financial year ended March ...\n",
              "                               ...                        \n",
              "49995    Lic Mops Up Government Securities As Prices Crash\n",
              "49996    Banks Plan To Raise Lending Rates Without Alte...\n",
              "49997            Net Scheduled Inflows Of Rs 1,559.9 Crore\n",
              "49998        Rbi Calls Meet To Push Floating Rate Deposits\n",
              "49999                      Sticky Loans Divide Consortiums\n",
              "Name: Description, Length: 50000, dtype: object"
            ]
          },
          "metadata": {
            "tags": []
          },
          "execution_count": 64
        }
      ]
    },
    {
      "cell_type": "code",
      "metadata": {
        "colab": {
          "base_uri": "https://localhost:8080/"
        },
        "id": "1teU09ofAn0N",
        "outputId": "508eb0d4-bf60-45d2-d12c-a23e7333f94a"
      },
      "source": [
        "hero.clean(fin['Description'])"
      ],
      "execution_count": 65,
      "outputs": [
        {
          "output_type": "execute_result",
          "data": {
            "text/plain": [
              "0        close per cent atms india new age recyclers ev...\n",
              "1        v vaidyanathan managing director chief executi...\n",
              "2             rana kapoor wife also charged abetting crime\n",
              "3        bank said gearing extend stimulus package anno...\n",
              "4        net profit financial year ended march fy20 sto...\n",
              "                               ...                        \n",
              "49995          lic mops government securities prices crash\n",
              "49996    banks plan raise lending rates without alterin...\n",
              "49997                       net scheduled inflows rs crore\n",
              "49998           rbi calls meet push floating rate deposits\n",
              "49999                      sticky loans divide consortiums\n",
              "Name: Description, Length: 50000, dtype: object"
            ]
          },
          "metadata": {
            "tags": []
          },
          "execution_count": 65
        }
      ]
    },
    {
      "cell_type": "code",
      "metadata": {
        "colab": {
          "base_uri": "https://localhost:8080/"
        },
        "id": "kpkZv-nbsxba",
        "outputId": "5ef97a22-cbef-4296-f2f1-e6a19e02083d"
      },
      "source": [
        "fin.isna().sum() #finds if any null values exists"
      ],
      "execution_count": 66,
      "outputs": [
        {
          "output_type": "execute_result",
          "data": {
            "text/plain": [
              "Unnamed: 0       0\n",
              "Description    710\n",
              "dtype: int64"
            ]
          },
          "metadata": {
            "tags": []
          },
          "execution_count": 66
        }
      ]
    },
    {
      "cell_type": "code",
      "metadata": {
        "colab": {
          "base_uri": "https://localhost:8080/",
          "height": 407
        },
        "id": "zV_p8kG_r2K2",
        "outputId": "2da2629d-ea1e-4287-e1ad-a52017781da2"
      },
      "source": [
        "fin.dropna() #Drop those null values"
      ],
      "execution_count": 67,
      "outputs": [
        {
          "output_type": "execute_result",
          "data": {
            "text/html": [
              "<div>\n",
              "<style scoped>\n",
              "    .dataframe tbody tr th:only-of-type {\n",
              "        vertical-align: middle;\n",
              "    }\n",
              "\n",
              "    .dataframe tbody tr th {\n",
              "        vertical-align: top;\n",
              "    }\n",
              "\n",
              "    .dataframe thead th {\n",
              "        text-align: right;\n",
              "    }\n",
              "</style>\n",
              "<table border=\"1\" class=\"dataframe\">\n",
              "  <thead>\n",
              "    <tr style=\"text-align: right;\">\n",
              "      <th></th>\n",
              "      <th>Unnamed: 0</th>\n",
              "      <th>Description</th>\n",
              "    </tr>\n",
              "  </thead>\n",
              "  <tbody>\n",
              "    <tr>\n",
              "      <th>0</th>\n",
              "      <td>0</td>\n",
              "      <td>Close to 14.6 per cent (or 35,000) of the 240,...</td>\n",
              "    </tr>\n",
              "    <tr>\n",
              "      <th>1</th>\n",
              "      <td>1</td>\n",
              "      <td>V Vaidyanathan, managing director and chief ex...</td>\n",
              "    </tr>\n",
              "    <tr>\n",
              "      <th>2</th>\n",
              "      <td>2</td>\n",
              "      <td>Rana Kapoor's wife also charged with abetting ...</td>\n",
              "    </tr>\n",
              "    <tr>\n",
              "      <th>3</th>\n",
              "      <td>3</td>\n",
              "      <td>The bank said it was now gearing up to extend ...</td>\n",
              "    </tr>\n",
              "    <tr>\n",
              "      <th>4</th>\n",
              "      <td>4</td>\n",
              "      <td>Net profit for the financial year ended March ...</td>\n",
              "    </tr>\n",
              "    <tr>\n",
              "      <th>...</th>\n",
              "      <td>...</td>\n",
              "      <td>...</td>\n",
              "    </tr>\n",
              "    <tr>\n",
              "      <th>49995</th>\n",
              "      <td>49995</td>\n",
              "      <td>Lic Mops Up Government Securities As Prices Crash</td>\n",
              "    </tr>\n",
              "    <tr>\n",
              "      <th>49996</th>\n",
              "      <td>49996</td>\n",
              "      <td>Banks Plan To Raise Lending Rates Without Alte...</td>\n",
              "    </tr>\n",
              "    <tr>\n",
              "      <th>49997</th>\n",
              "      <td>49997</td>\n",
              "      <td>Net Scheduled Inflows Of Rs 1,559.9 Crore</td>\n",
              "    </tr>\n",
              "    <tr>\n",
              "      <th>49998</th>\n",
              "      <td>49998</td>\n",
              "      <td>Rbi Calls Meet To Push Floating Rate Deposits</td>\n",
              "    </tr>\n",
              "    <tr>\n",
              "      <th>49999</th>\n",
              "      <td>49999</td>\n",
              "      <td>Sticky Loans Divide Consortiums</td>\n",
              "    </tr>\n",
              "  </tbody>\n",
              "</table>\n",
              "<p>49290 rows × 2 columns</p>\n",
              "</div>"
            ],
            "text/plain": [
              "       Unnamed: 0                                        Description\n",
              "0               0  Close to 14.6 per cent (or 35,000) of the 240,...\n",
              "1               1  V Vaidyanathan, managing director and chief ex...\n",
              "2               2  Rana Kapoor's wife also charged with abetting ...\n",
              "3               3  The bank said it was now gearing up to extend ...\n",
              "4               4  Net profit for the financial year ended March ...\n",
              "...           ...                                                ...\n",
              "49995       49995  Lic Mops Up Government Securities As Prices Crash\n",
              "49996       49996  Banks Plan To Raise Lending Rates Without Alte...\n",
              "49997       49997          Net Scheduled Inflows Of Rs 1,559.9 Crore\n",
              "49998       49998      Rbi Calls Meet To Push Floating Rate Deposits\n",
              "49999       49999                    Sticky Loans Divide Consortiums\n",
              "\n",
              "[49290 rows x 2 columns]"
            ]
          },
          "metadata": {
            "tags": []
          },
          "execution_count": 67
        }
      ]
    },
    {
      "cell_type": "code",
      "metadata": {
        "colab": {
          "base_uri": "https://localhost:8080/"
        },
        "id": "21pa_zOuuVV7",
        "outputId": "7d8ca784-c20a-45f1-ed5b-1a65a5ab237d"
      },
      "source": [
        "!python -m spacy download en_core_web_sm"
      ],
      "execution_count": 68,
      "outputs": [
        {
          "output_type": "stream",
          "text": [
            "Requirement already satisfied: en_core_web_sm==2.2.5 from https://github.com/explosion/spacy-models/releases/download/en_core_web_sm-2.2.5/en_core_web_sm-2.2.5.tar.gz#egg=en_core_web_sm==2.2.5 in /usr/local/lib/python3.7/dist-packages (2.2.5)\n",
            "Requirement already satisfied: spacy>=2.2.2 in /usr/local/lib/python3.7/dist-packages (from en_core_web_sm==2.2.5) (2.2.4)\n",
            "Requirement already satisfied: tqdm<5.0.0,>=4.38.0 in /usr/local/lib/python3.7/dist-packages (from spacy>=2.2.2->en_core_web_sm==2.2.5) (4.41.1)\n",
            "Requirement already satisfied: preshed<3.1.0,>=3.0.2 in /usr/local/lib/python3.7/dist-packages (from spacy>=2.2.2->en_core_web_sm==2.2.5) (3.0.5)\n",
            "Requirement already satisfied: murmurhash<1.1.0,>=0.28.0 in /usr/local/lib/python3.7/dist-packages (from spacy>=2.2.2->en_core_web_sm==2.2.5) (1.0.5)\n",
            "Requirement already satisfied: cymem<2.1.0,>=2.0.2 in /usr/local/lib/python3.7/dist-packages (from spacy>=2.2.2->en_core_web_sm==2.2.5) (2.0.5)\n",
            "Requirement already satisfied: wasabi<1.1.0,>=0.4.0 in /usr/local/lib/python3.7/dist-packages (from spacy>=2.2.2->en_core_web_sm==2.2.5) (0.8.2)\n",
            "Requirement already satisfied: catalogue<1.1.0,>=0.0.7 in /usr/local/lib/python3.7/dist-packages (from spacy>=2.2.2->en_core_web_sm==2.2.5) (1.0.0)\n",
            "Requirement already satisfied: plac<1.2.0,>=0.9.6 in /usr/local/lib/python3.7/dist-packages (from spacy>=2.2.2->en_core_web_sm==2.2.5) (1.1.3)\n",
            "Requirement already satisfied: srsly<1.1.0,>=1.0.2 in /usr/local/lib/python3.7/dist-packages (from spacy>=2.2.2->en_core_web_sm==2.2.5) (1.0.5)\n",
            "Requirement already satisfied: thinc==7.4.0 in /usr/local/lib/python3.7/dist-packages (from spacy>=2.2.2->en_core_web_sm==2.2.5) (7.4.0)\n",
            "Requirement already satisfied: blis<0.5.0,>=0.4.0 in /usr/local/lib/python3.7/dist-packages (from spacy>=2.2.2->en_core_web_sm==2.2.5) (0.4.1)\n",
            "Requirement already satisfied: setuptools in /usr/local/lib/python3.7/dist-packages (from spacy>=2.2.2->en_core_web_sm==2.2.5) (54.1.2)\n",
            "Requirement already satisfied: requests<3.0.0,>=2.13.0 in /usr/local/lib/python3.7/dist-packages (from spacy>=2.2.2->en_core_web_sm==2.2.5) (2.23.0)\n",
            "Requirement already satisfied: numpy>=1.15.0 in /usr/local/lib/python3.7/dist-packages (from spacy>=2.2.2->en_core_web_sm==2.2.5) (1.19.5)\n",
            "Requirement already satisfied: importlib-metadata>=0.20; python_version < \"3.8\" in /usr/local/lib/python3.7/dist-packages (from catalogue<1.1.0,>=0.0.7->spacy>=2.2.2->en_core_web_sm==2.2.5) (3.7.2)\n",
            "Requirement already satisfied: idna<3,>=2.5 in /usr/local/lib/python3.7/dist-packages (from requests<3.0.0,>=2.13.0->spacy>=2.2.2->en_core_web_sm==2.2.5) (2.10)\n",
            "Requirement already satisfied: certifi>=2017.4.17 in /usr/local/lib/python3.7/dist-packages (from requests<3.0.0,>=2.13.0->spacy>=2.2.2->en_core_web_sm==2.2.5) (2020.12.5)\n",
            "Requirement already satisfied: urllib3!=1.25.0,!=1.25.1,<1.26,>=1.21.1 in /usr/local/lib/python3.7/dist-packages (from requests<3.0.0,>=2.13.0->spacy>=2.2.2->en_core_web_sm==2.2.5) (1.24.3)\n",
            "Requirement already satisfied: chardet<4,>=3.0.2 in /usr/local/lib/python3.7/dist-packages (from requests<3.0.0,>=2.13.0->spacy>=2.2.2->en_core_web_sm==2.2.5) (3.0.4)\n",
            "Requirement already satisfied: typing-extensions>=3.6.4; python_version < \"3.8\" in /usr/local/lib/python3.7/dist-packages (from importlib-metadata>=0.20; python_version < \"3.8\"->catalogue<1.1.0,>=0.0.7->spacy>=2.2.2->en_core_web_sm==2.2.5) (3.7.4.3)\n",
            "Requirement already satisfied: zipp>=0.5 in /usr/local/lib/python3.7/dist-packages (from importlib-metadata>=0.20; python_version < \"3.8\"->catalogue<1.1.0,>=0.0.7->spacy>=2.2.2->en_core_web_sm==2.2.5) (3.4.1)\n",
            "\u001b[38;5;2m✔ Download and installation successful\u001b[0m\n",
            "You can now load the model via spacy.load('en_core_web_sm')\n"
          ],
          "name": "stdout"
        }
      ]
    },
    {
      "cell_type": "code",
      "metadata": {
        "id": "okE-NNKivivS"
      },
      "source": [
        "fin['Description']=fin['Description'].astype(str) #converting the description cloumn from datatype of object to strings"
      ],
      "execution_count": 69,
      "outputs": []
    },
    {
      "cell_type": "code",
      "metadata": {
        "colab": {
          "base_uri": "https://localhost:8080/"
        },
        "id": "hCjYQpLeuoyR",
        "outputId": "f0d9a14d-4e88-4c9a-befc-34e29549968b"
      },
      "source": [
        "fin=[Description.strip() for Description in fin.Description] #removes both leading and trailing characters i.e unwanted spaces\n",
        "fin=[Description for Description in fin if Description] #removes empty strings\n",
        "fin[0:50]"
      ],
      "execution_count": 70,
      "outputs": [
        {
          "output_type": "execute_result",
          "data": {
            "text/plain": [
              "['Close to 14.6 per cent (or 35,000) of the 240,000 ATMs in India are new-age recyclers, even though they have been around for only ...',\n",
              " 'V Vaidyanathan, managing director and chief executive, will take 30 per cent cut in his compensation, including fixed ...',\n",
              " \"Rana Kapoor's wife also charged with abetting crime\",\n",
              " 'The bank said it was now gearing up to extend the stimulus package announced by Finance Minister Nirmala Sitharaman to restart ...',\n",
              " 'Net profit for the financial year ended March 31, 2020 (FY20), stood at Rs 337.25 crore, up marginally from Rs 325.37 crore in ...',\n",
              " 'Under the scheme, the government will offer 100 per cent guarantee on loans.',\n",
              " 'HDFC Bank cuts base rate by 55 bps; SBI calls ALCO meeting to take call',\n",
              " 'The six-member MPC also kept policy stance unchanged at \\'accommodative\\' for \"as long as necessary\" to revive growth',\n",
              " 'The central bank has increased group exposure limits of lenders from 25% to 30%',\n",
              " 'Two new series will have maturities of April 2025 and April 2031.',\n",
              " 'Credit costs could touch Rs 2.7 trillion',\n",
              " 'Enquiries for fresh loans see uptick',\n",
              " 'While slippages from the corporate sector may rise by Rs 3.4 trillion, for non-corporate segments it may increase by Rs 2.1 ...',\n",
              " 'The meeting was earlier scheduled on May 11, but due to the stimulus package announcements, it was deferred, they added',\n",
              " \"In a Q&A, the lender's MD & CEO, Amitabh Chaudhry, also dwells on the stimulus package announced by the government, and risk ...\",\n",
              " 'Loans sanctioned by public sector banks (PSBs) at the end of May 8 stood at Rs 5.95 trillion',\n",
              " \"Senior bank executives said the Indian Banks' Association (IBA) has already approached the Reserve Bank of India with a plea for ...\",\n",
              " 'It may be time to link the higher deposit insurance cover and the way co-operative banks and select non-banks raise retail ...',\n",
              " 'NBFCs cry foul as they were expecting a two-three year support',\n",
              " 'The only way to boost demand may be lowering interest rates to boost consumption, analysts said',\n",
              " 'PE, VC funds domiciled in the island nation on the radar',\n",
              " 'Last financial year saw a series of banks failures starting with Punjab & Maharashtra Co-operative Bank and culminated in near ...',\n",
              " 'These firms operate with very little short-term liquidity, which can become even more strained as customers start defaulting even ...',\n",
              " 'State-owned banks launched an emergency credit line to provide funds to its existing MSME and corporate borrowers in the last ...',\n",
              " \"Refinancing high-cost debt into low-cost debt is possible, thanks to the RBI's TLTROs\",\n",
              " 'Central bank does huge OMO silently to control domestic bond yields',\n",
              " 'While the issue of providing liquidity to existing borrowers who are sapped of revenues has been addressed, banks will have to ...',\n",
              " 'Bank has made a provision of Rs 99.63 cr for the period ended March 31, 2020, based on assessment of recoverability of advances',\n",
              " 'Raises doubts over drawing down capital from Chinese LPs',\n",
              " 'Experts believe spreads will contract as the credit lines start getting utilised, and banks regain confidence about NBFC papers ...',\n",
              " 'Sitharaman announced a special liquidity scheme of Rs 30,000 crore for NBFCs, housing finance companies (HFCs) and MFIs, which ...',\n",
              " 'Profit down due to Covid provisioning and lower other income',\n",
              " 'Lenders that do not have subsidiaries in insurance, asset management, and broking may be exempt from having a non-operative ...',\n",
              " \"Banking lobby group Indian Banks' Association (IBA) is expected to take the proposal, which is on the lines of the Sashakt panel ...\",\n",
              " 'Bank chief Rajkiran Rai says IBA has taken up the issue of restructuring with RBI',\n",
              " 'The coronavirus pandemic is expected to result in a rise in non-performing assets (NPAs) despite relief measures',\n",
              " 'SBI, however, said it is in the process of introducing a pre-approved personal loan offering through YONO to provide relief to ...',\n",
              " \"The excess borrowing will, however, ease the pressure on the RBI's liquidity operation as banks will absorb the excess G-Secs\",\n",
              " 'Excluding covid-19 related provisions, the profit after tax of the bank would have been Rs 3,260 crore',\n",
              " 'Besides SBI, other members of the consortium that has been cheated are Canara Bank, Union Bank of India, IDBI, Central Bank of ...',\n",
              " 'Had it not been for Covid-19 impact, the company would have reported a sharp 80 per cent year-on-year jump in its pre-tax profit ...',\n",
              " 'In the year-ago fortnight, bank loans had stood at Rs 96.20 trillion and deposits at Rs 124.83 trillion',\n",
              " 'The company offers its retail customers housing and non-housing loans',\n",
              " 'With credit cost expected to increase by 200-350 bps across banks, asset quality may deteriorate to FY18 levels',\n",
              " 'Rajnish Kumar said, \"a certainty on regulatory stance, and support that may be coming from the government, is required as we are ...',\n",
              " 'Bank sets aside Rs 334 cr for expected penalty for SLR breach',\n",
              " 'During March-April 2020, PSBs sanctioned loans worth Rs 5.66 lakh cr for more than 41.81 lakh accounts',\n",
              " 'The rise in currency in circulatiom is perplexing when economic activity has nosedived. Generally, CIC should rise in tandem with ...',\n",
              " 'The bank saw a healthy growth of 37 per cent in its operating profit at Rs 765 crore compared to Rs 560 crore a year ago.',\n",
              " 'The State Bank of India (SBI) has introduced a special deposit scheme for senior citizens with a higher interest rate']"
            ]
          },
          "metadata": {
            "tags": []
          },
          "execution_count": 70
        }
      ]
    },
    {
      "cell_type": "code",
      "metadata": {
        "id": "UqF1MRKGvyZl"
      },
      "source": [
        "import spacy"
      ],
      "execution_count": 71,
      "outputs": []
    },
    {
      "cell_type": "code",
      "metadata": {
        "id": "XwikrqPuwMXn"
      },
      "source": [
        "nlp=spacy.load('en_core_web_sm') #parts of speech tagging"
      ],
      "execution_count": 72,
      "outputs": []
    },
    {
      "cell_type": "code",
      "metadata": {
        "colab": {
          "base_uri": "https://localhost:8080/",
          "height": 52
        },
        "id": "ZO7piX8iwVqk",
        "outputId": "6e4af1a4-6e48-4f73-87da-46013fc865c3"
      },
      "source": [
        "block1=fin[100]\n",
        "doc_block=nlp(block1)\n",
        "spacy.displacy.render(doc_block,style='ent',jupyter=True) #perform spacy operation"
      ],
      "execution_count": 73,
      "outputs": [
        {
          "output_type": "display_data",
          "data": {
            "text/html": [
              "<span class=\"tex2jax_ignore\"><div class=\"entities\" style=\"line-height: 2.5; direction: ltr\">Piramal, \n",
              "<mark class=\"entity\" style=\"background: #7aecec; padding: 0.45em 0.6em; margin: 0 0.25em; line-height: 1; border-radius: 0.35em;\">\n",
              "    Tata Power\n",
              "    <span style=\"font-size: 0.8em; font-weight: bold; line-height: 1; border-radius: 0.35em; text-transform: uppercase; vertical-align: middle; margin-left: 0.5rem\">ORG</span>\n",
              "</mark>\n",
              ", and \n",
              "<mark class=\"entity\" style=\"background: #7aecec; padding: 0.45em 0.6em; margin: 0 0.25em; line-height: 1; border-radius: 0.35em;\">\n",
              "    TVS\n",
              "    <span style=\"font-size: 0.8em; font-weight: bold; line-height: 1; border-radius: 0.35em; text-transform: uppercase; vertical-align: middle; margin-left: 0.5rem\">ORG</span>\n",
              "</mark>\n",
              " group units figure in list</div></span>"
            ],
            "text/plain": [
              "<IPython.core.display.HTML object>"
            ]
          },
          "metadata": {
            "tags": []
          }
        }
      ]
    },
    {
      "cell_type": "code",
      "metadata": {
        "colab": {
          "base_uri": "https://localhost:8080/",
          "height": 35
        },
        "id": "OYdDYDXBxhtA",
        "outputId": "de719dc7-4443-41ae-e7e5-a83a330b730b"
      },
      "source": [
        "block1"
      ],
      "execution_count": 74,
      "outputs": [
        {
          "output_type": "execute_result",
          "data": {
            "application/vnd.google.colaboratory.intrinsic+json": {
              "type": "string"
            },
            "text/plain": [
              "'Piramal, Tata Power, and TVS group units figure in list'"
            ]
          },
          "metadata": {
            "tags": []
          },
          "execution_count": 74
        }
      ]
    },
    {
      "cell_type": "code",
      "metadata": {
        "colab": {
          "base_uri": "https://localhost:8080/",
          "height": 86
        },
        "id": "ijwVQxXexq7m",
        "outputId": "ee08265b-cd1c-4a7b-f6fa-43608fe08b35"
      },
      "source": [
        "block2=fin[400]\n",
        "doc_block=nlp(block2)\n",
        "spacy.displacy.render(doc_block,style='ent',jupyter=True)"
      ],
      "execution_count": 75,
      "outputs": [
        {
          "output_type": "display_data",
          "data": {
            "text/html": [
              "<span class=\"tex2jax_ignore\"><div class=\"entities\" style=\"line-height: 2.5; direction: ltr\">If you are paying a personal/home loan or doing SIPs, shift \n",
              "<mark class=\"entity\" style=\"background: #7aecec; padding: 0.45em 0.6em; margin: 0 0.25em; line-height: 1; border-radius: 0.35em;\">\n",
              "    ECS\n",
              "    <span style=\"font-size: 0.8em; font-weight: bold; line-height: 1; border-radius: 0.35em; text-transform: uppercase; vertical-align: middle; margin-left: 0.5rem\">ORG</span>\n",
              "</mark>\n",
              " mandate to another bank. It just might make sense to have one ...</div></span>"
            ],
            "text/plain": [
              "<IPython.core.display.HTML object>"
            ]
          },
          "metadata": {
            "tags": []
          }
        }
      ]
    },
    {
      "cell_type": "code",
      "metadata": {
        "colab": {
          "base_uri": "https://localhost:8080/",
          "height": 54
        },
        "id": "kedKPpwOxyTv",
        "outputId": "57161458-dd9c-4576-b71e-e812d603f839"
      },
      "source": [
        "block2"
      ],
      "execution_count": 76,
      "outputs": [
        {
          "output_type": "execute_result",
          "data": {
            "application/vnd.google.colaboratory.intrinsic+json": {
              "type": "string"
            },
            "text/plain": [
              "'If you are paying a personal/home loan or doing SIPs, shift ECS mandate to another bank. It just might make sense to have one ...'"
            ]
          },
          "metadata": {
            "tags": []
          },
          "execution_count": 76
        }
      ]
    },
    {
      "cell_type": "code",
      "metadata": {
        "colab": {
          "base_uri": "https://localhost:8080/"
        },
        "id": "FT-LpqTsx4H2",
        "outputId": "2a1649ff-51d6-45a7-907a-e710ee4bcd20"
      },
      "source": [
        "for token in doc_block[0:50]:  #tokenization of selected sentences to know parts of speech\n",
        "  print(token,token.pos_)"
      ],
      "execution_count": 77,
      "outputs": [
        {
          "output_type": "stream",
          "text": [
            "If SCONJ\n",
            "you PRON\n",
            "are AUX\n",
            "paying VERB\n",
            "a DET\n",
            "personal ADJ\n",
            "/ SYM\n",
            "home NOUN\n",
            "loan NOUN\n",
            "or CCONJ\n",
            "doing VERB\n",
            "SIPs NOUN\n",
            ", PUNCT\n",
            "shift NOUN\n",
            "ECS PROPN\n",
            "mandate NOUN\n",
            "to ADP\n",
            "another DET\n",
            "bank NOUN\n",
            ". PUNCT\n",
            "It PRON\n",
            "just ADV\n",
            "might VERB\n",
            "make VERB\n",
            "sense NOUN\n",
            "to PART\n",
            "have AUX\n",
            "one NUM\n",
            "... PUNCT\n"
          ],
          "name": "stdout"
        }
      ]
    },
    {
      "cell_type": "code",
      "metadata": {
        "colab": {
          "base_uri": "https://localhost:8080/"
        },
        "id": "Kq1KHgl8yRSq",
        "outputId": "61aa9225-269d-4c97-be91-895fb07cb8e8"
      },
      "source": [
        "noun_verbs=[token.text for token in doc_block if token.pos_ in('NOUN','VERB')]\n",
        "print(noun_verbs[0:50])  #print only noun and verb pos for selected sentences"
      ],
      "execution_count": 78,
      "outputs": [
        {
          "output_type": "stream",
          "text": [
            "['paying', 'home', 'loan', 'doing', 'SIPs', 'shift', 'mandate', 'bank', 'might', 'make', 'sense']\n"
          ],
          "name": "stdout"
        }
      ]
    },
    {
      "cell_type": "code",
      "metadata": {
        "id": "X2q5wK8FzACl"
      },
      "source": [
        "from sklearn.feature_extraction.text import CountVectorizer #to count the frequency of words\n",
        "cv=CountVectorizer()\n",
        " \n",
        "text=cv.fit_transform(noun_verbs) #to count no of verbs and nouns \n",
        "sum_words=text.sum(axis=0)\n",
        "word_freq=[(word,sum_words[0,idx])for word,idx in cv.vocabulary_.items()]\n",
        "word_freq=sorted(word_freq,key=lambda x:x[1],reverse=True)\n",
        "wf_df=pd.DataFrame(word_freq) \n",
        "wf_df.columns=[\"Word\",\"count\"]           "
      ],
      "execution_count": 79,
      "outputs": []
    },
    {
      "cell_type": "code",
      "metadata": {
        "colab": {
          "base_uri": "https://localhost:8080/",
          "height": 378
        },
        "id": "b4IMoxMuzj7t",
        "outputId": "39dbb981-95c5-4f20-d59f-3238682cbfbe"
      },
      "source": [
        "wf_df[0:50]"
      ],
      "execution_count": 80,
      "outputs": [
        {
          "output_type": "execute_result",
          "data": {
            "text/html": [
              "<div>\n",
              "<style scoped>\n",
              "    .dataframe tbody tr th:only-of-type {\n",
              "        vertical-align: middle;\n",
              "    }\n",
              "\n",
              "    .dataframe tbody tr th {\n",
              "        vertical-align: top;\n",
              "    }\n",
              "\n",
              "    .dataframe thead th {\n",
              "        text-align: right;\n",
              "    }\n",
              "</style>\n",
              "<table border=\"1\" class=\"dataframe\">\n",
              "  <thead>\n",
              "    <tr style=\"text-align: right;\">\n",
              "      <th></th>\n",
              "      <th>Word</th>\n",
              "      <th>count</th>\n",
              "    </tr>\n",
              "  </thead>\n",
              "  <tbody>\n",
              "    <tr>\n",
              "      <th>0</th>\n",
              "      <td>paying</td>\n",
              "      <td>1</td>\n",
              "    </tr>\n",
              "    <tr>\n",
              "      <th>1</th>\n",
              "      <td>home</td>\n",
              "      <td>1</td>\n",
              "    </tr>\n",
              "    <tr>\n",
              "      <th>2</th>\n",
              "      <td>loan</td>\n",
              "      <td>1</td>\n",
              "    </tr>\n",
              "    <tr>\n",
              "      <th>3</th>\n",
              "      <td>doing</td>\n",
              "      <td>1</td>\n",
              "    </tr>\n",
              "    <tr>\n",
              "      <th>4</th>\n",
              "      <td>sips</td>\n",
              "      <td>1</td>\n",
              "    </tr>\n",
              "    <tr>\n",
              "      <th>5</th>\n",
              "      <td>shift</td>\n",
              "      <td>1</td>\n",
              "    </tr>\n",
              "    <tr>\n",
              "      <th>6</th>\n",
              "      <td>mandate</td>\n",
              "      <td>1</td>\n",
              "    </tr>\n",
              "    <tr>\n",
              "      <th>7</th>\n",
              "      <td>bank</td>\n",
              "      <td>1</td>\n",
              "    </tr>\n",
              "    <tr>\n",
              "      <th>8</th>\n",
              "      <td>might</td>\n",
              "      <td>1</td>\n",
              "    </tr>\n",
              "    <tr>\n",
              "      <th>9</th>\n",
              "      <td>make</td>\n",
              "      <td>1</td>\n",
              "    </tr>\n",
              "    <tr>\n",
              "      <th>10</th>\n",
              "      <td>sense</td>\n",
              "      <td>1</td>\n",
              "    </tr>\n",
              "  </tbody>\n",
              "</table>\n",
              "</div>"
            ],
            "text/plain": [
              "       Word  count\n",
              "0    paying      1\n",
              "1      home      1\n",
              "2      loan      1\n",
              "3     doing      1\n",
              "4      sips      1\n",
              "5     shift      1\n",
              "6   mandate      1\n",
              "7      bank      1\n",
              "8     might      1\n",
              "9      make      1\n",
              "10    sense      1"
            ]
          },
          "metadata": {
            "tags": []
          },
          "execution_count": 80
        }
      ]
    },
    {
      "cell_type": "code",
      "metadata": {
        "colab": {
          "base_uri": "https://localhost:8080/",
          "height": 565
        },
        "id": "np2o5aSv1rK9",
        "outputId": "41687a13-a2b7-4f8c-8085-7415c490dd3c"
      },
      "source": [
        "wf_df[0:40].plot.bar(x=\"Word\",figsize=(12,8),title=\"Top nouns and verbs\")"
      ],
      "execution_count": 81,
      "outputs": [
        {
          "output_type": "execute_result",
          "data": {
            "text/plain": [
              "<matplotlib.axes._subplots.AxesSubplot at 0x7f7929236990>"
            ]
          },
          "metadata": {
            "tags": []
          },
          "execution_count": 81
        },
        {
          "output_type": "display_data",
          "data": {
            "image/png": "[encoded data removed]",
            "text/plain": [
              "<Figure size 864x576 with 1 Axes>"
            ]
          },
          "metadata": {
            "tags": [],
            "needs_background": "light"
          }
        }
      ]
    },
    {
      "cell_type": "code",
      "metadata": {
        "colab": {
          "base_uri": "https://localhost:8080/"
        },
        "id": "uKd96ZHx2NtC",
        "outputId": "82421ee0-ac3c-43b2-9dfb-a26b4381506c"
      },
      "source": [
        "affin=pd.read_csv(\"Afinn.csv\",sep=',',encoding='latin-1') #read affin dataset a list of english words having a range of -ve to +ve integer values\n",
        "affin.shape"
      ],
      "execution_count": 82,
      "outputs": [
        {
          "output_type": "execute_result",
          "data": {
            "text/plain": [
              "(2477, 2)"
            ]
          },
          "metadata": {
            "tags": []
          },
          "execution_count": 82
        }
      ]
    },
    {
      "cell_type": "code",
      "metadata": {
        "colab": {
          "base_uri": "https://localhost:8080/",
          "height": 198
        },
        "id": "Dh8X6_FQ23pW",
        "outputId": "0782442c-a0f4-45ef-e8d8-fff757a027d2"
      },
      "source": [
        "affin.head()"
      ],
      "execution_count": 83,
      "outputs": [
        {
          "output_type": "execute_result",
          "data": {
            "text/html": [
              "<div>\n",
              "<style scoped>\n",
              "    .dataframe tbody tr th:only-of-type {\n",
              "        vertical-align: middle;\n",
              "    }\n",
              "\n",
              "    .dataframe tbody tr th {\n",
              "        vertical-align: top;\n",
              "    }\n",
              "\n",
              "    .dataframe thead th {\n",
              "        text-align: right;\n",
              "    }\n",
              "</style>\n",
              "<table border=\"1\" class=\"dataframe\">\n",
              "  <thead>\n",
              "    <tr style=\"text-align: right;\">\n",
              "      <th></th>\n",
              "      <th>word</th>\n",
              "      <th>value</th>\n",
              "    </tr>\n",
              "  </thead>\n",
              "  <tbody>\n",
              "    <tr>\n",
              "      <th>0</th>\n",
              "      <td>abandon</td>\n",
              "      <td>-2</td>\n",
              "    </tr>\n",
              "    <tr>\n",
              "      <th>1</th>\n",
              "      <td>abandoned</td>\n",
              "      <td>-2</td>\n",
              "    </tr>\n",
              "    <tr>\n",
              "      <th>2</th>\n",
              "      <td>abandons</td>\n",
              "      <td>-2</td>\n",
              "    </tr>\n",
              "    <tr>\n",
              "      <th>3</th>\n",
              "      <td>abducted</td>\n",
              "      <td>-2</td>\n",
              "    </tr>\n",
              "    <tr>\n",
              "      <th>4</th>\n",
              "      <td>abduction</td>\n",
              "      <td>-2</td>\n",
              "    </tr>\n",
              "  </tbody>\n",
              "</table>\n",
              "</div>"
            ],
            "text/plain": [
              "        word  value\n",
              "0    abandon     -2\n",
              "1  abandoned     -2\n",
              "2   abandons     -2\n",
              "3   abducted     -2\n",
              "4  abduction     -2"
            ]
          },
          "metadata": {
            "tags": []
          },
          "execution_count": 83
        }
      ]
    },
    {
      "cell_type": "code",
      "metadata": {
        "colab": {
          "base_uri": "https://localhost:8080/",
          "height": 198
        },
        "id": "q7nO_2Qe28qJ",
        "outputId": "0e6dc4ae-868a-4cfb-9149-116df417e081"
      },
      "source": [
        "affin.tail()"
      ],
      "execution_count": 84,
      "outputs": [
        {
          "output_type": "execute_result",
          "data": {
            "text/html": [
              "<div>\n",
              "<style scoped>\n",
              "    .dataframe tbody tr th:only-of-type {\n",
              "        vertical-align: middle;\n",
              "    }\n",
              "\n",
              "    .dataframe tbody tr th {\n",
              "        vertical-align: top;\n",
              "    }\n",
              "\n",
              "    .dataframe thead th {\n",
              "        text-align: right;\n",
              "    }\n",
              "</style>\n",
              "<table border=\"1\" class=\"dataframe\">\n",
              "  <thead>\n",
              "    <tr style=\"text-align: right;\">\n",
              "      <th></th>\n",
              "      <th>word</th>\n",
              "      <th>value</th>\n",
              "    </tr>\n",
              "  </thead>\n",
              "  <tbody>\n",
              "    <tr>\n",
              "      <th>2472</th>\n",
              "      <td>yucky</td>\n",
              "      <td>-2</td>\n",
              "    </tr>\n",
              "    <tr>\n",
              "      <th>2473</th>\n",
              "      <td>yummy</td>\n",
              "      <td>3</td>\n",
              "    </tr>\n",
              "    <tr>\n",
              "      <th>2474</th>\n",
              "      <td>zealot</td>\n",
              "      <td>-2</td>\n",
              "    </tr>\n",
              "    <tr>\n",
              "      <th>2475</th>\n",
              "      <td>zealots</td>\n",
              "      <td>-2</td>\n",
              "    </tr>\n",
              "    <tr>\n",
              "      <th>2476</th>\n",
              "      <td>zealous</td>\n",
              "      <td>2</td>\n",
              "    </tr>\n",
              "  </tbody>\n",
              "</table>\n",
              "</div>"
            ],
            "text/plain": [
              "         word  value\n",
              "2472    yucky     -2\n",
              "2473    yummy      3\n",
              "2474   zealot     -2\n",
              "2475  zealots     -2\n",
              "2476  zealous      2"
            ]
          },
          "metadata": {
            "tags": []
          },
          "execution_count": 84
        }
      ]
    },
    {
      "cell_type": "code",
      "metadata": {
        "colab": {
          "base_uri": "https://localhost:8080/"
        },
        "id": "VfOb7bUa3AJ8",
        "outputId": "79e7c39e-fafc-4126-e957-0bb0f890d5a5"
      },
      "source": [
        "import nltk  #nltk is a python package used for nlp operations\n",
        "nltk.download('punkt')\n",
        "from nltk import tokenize #tokenize the sentences\n",
        "sentences=tokenize.sent_tokenize(\" \".join(fin)) #split into single tokens and finally join them \n",
        "sentences=sentences[0:49290]\n",
        "sentences[0:49290]"
      ],
      "execution_count": 85,
      "outputs": [
        {
          "output_type": "stream",
          "text": [
            "[nltk_data] Downloading package punkt to /root/nltk_data...\n",
            "[nltk_data]   Package punkt is already up-to-date!\n"
          ],
          "name": "stderr"
        },
        {
          "output_type": "execute_result",
          "data": {
            "text/plain": [
              "[\"Close to 14.6 per cent (or 35,000) of the 240,000 ATMs in India are new-age recyclers, even though they have been around for only ... V Vaidyanathan, managing director and chief executive, will take 30 per cent cut in his compensation, including fixed ... Rana Kapoor's wife also charged with abetting crime The bank said it was now gearing up to extend the stimulus package announced by Finance Minister Nirmala Sitharaman to restart ... Net profit for the financial year ended March 31, 2020 (FY20), stood at Rs 337.25 crore, up marginally from Rs 325.37 crore in ...\",\n",
              " 'Under the scheme, the government will offer 100 per cent guarantee on loans.',\n",
              " 'HDFC Bank cuts base rate by 55 bps; SBI calls ALCO meeting to take call The six-member MPC also kept policy stance unchanged at \\'accommodative\\' for \"as long as necessary\" to revive growth The central bank has increased group exposure limits of lenders from 25% to 30% Two new series will have maturities of April 2025 and April 2031. Credit costs could touch Rs 2.7 trillion Enquiries for fresh loans see uptick While slippages from the corporate sector may rise by Rs 3.4 trillion, for non-corporate segments it may increase by Rs 2.1 ...',\n",
              " \"The meeting was earlier scheduled on May 11, but due to the stimulus package announcements, it was deferred, they added In a Q&A, the lender's MD & CEO, Amitabh Chaudhry, also dwells on the stimulus package announced by the government, and risk ... Loans sanctioned by public sector banks (PSBs) at the end of May 8 stood at Rs 5.95 trillion Senior bank executives said the Indian Banks' Association (IBA) has already approached the Reserve Bank of India with a plea for ...\",\n",
              " 'It may be time to link the higher deposit insurance cover and the way co-operative banks and select non-banks raise retail ... NBFCs cry foul as they were expecting a two-three year support The only way to boost demand may be lowering interest rates to boost consumption, analysts said PE, VC funds domiciled in the island nation on the radar Last financial year saw a series of banks failures starting with Punjab & Maharashtra Co-operative Bank and culminated in near ...',\n",
              " 'These firms operate with very little short-term liquidity, which can become even more strained as customers start defaulting even ...',\n",
              " 'State-owned banks launched an emergency credit line to provide funds to its existing MSME and corporate borrowers in the last ...',\n",
              " \"Refinancing high-cost debt into low-cost debt is possible, thanks to the RBI's TLTROs Central bank does huge OMO silently to control domestic bond yields While the issue of providing liquidity to existing borrowers who are sapped of revenues has been addressed, banks will have to ... Bank has made a provision of Rs 99.63 cr for the period ended March 31, 2020, based on assessment of recoverability of advances Raises doubts over drawing down capital from Chinese LPs Experts believe spreads will contract as the credit lines start getting utilised, and banks regain confidence about NBFC papers ... Sitharaman announced a special liquidity scheme of Rs 30,000 crore for NBFCs, housing finance companies (HFCs) and MFIs, which ... Profit down due to Covid provisioning and lower other income Lenders that do not have subsidiaries in insurance, asset management, and broking may be exempt from having a non-operative ... Banking lobby group Indian Banks' Association (IBA) is expected to take the proposal, which is on the lines of the Sashakt panel ... Bank chief Rajkiran Rai says IBA has taken up the issue of restructuring with RBI The coronavirus pandemic is expected to result in a rise in non-performing assets (NPAs) despite relief measures SBI, however, said it is in the process of introducing a pre-approved personal loan offering through YONO to provide relief to ...\",\n",
              " \"The excess borrowing will, however, ease the pressure on the RBI's liquidity operation as banks will absorb the excess G-Secs Excluding covid-19 related provisions, the profit after tax of the bank would have been Rs 3,260 crore Besides SBI, other members of the consortium that has been cheated are Canara Bank, Union Bank of India, IDBI, Central Bank of ... Had it not been for Covid-19 impact, the company would have reported a sharp 80 per cent year-on-year jump in its pre-tax profit ...\",\n",
              " 'In the year-ago fortnight, bank loans had stood at Rs 96.20 trillion and deposits at Rs 124.83 trillion The company offers its retail customers housing and non-housing loans With credit cost expected to increase by 200-350 bps across banks, asset quality may deteriorate to FY18 levels Rajnish Kumar said, \"a certainty on regulatory stance, and support that may be coming from the government, is required as we are ... Bank sets aside Rs 334 cr for expected penalty for SLR breach During March-April 2020, PSBs sanctioned loans worth Rs 5.66 lakh cr for more than 41.81 lakh accounts The rise in currency in circulatiom is perplexing when economic activity has nosedived.',\n",
              " 'Generally, CIC should rise in tandem with ...',\n",
              " 'The bank saw a healthy growth of 37 per cent in its operating profit at Rs 765 crore compared to Rs 560 crore a year ago.',\n",
              " 'The State Bank of India (SBI) has introduced a special deposit scheme for senior citizens with a higher interest rate With collections taking a big hit, microfinance institutions will be put through the wringer, reports Raghu Mohan There is a facility of standby line of credit for MSMEs as well as PNB COVID-19 Emergency Credit Facility (PNB-CECF), the bank ...',\n",
              " \"The lender had psoted a pre-tax loss of Rs 2,338.31 crore in the same quarter of previous financial year Considers 25 fresh credit proposals from shadow banks The outstanding portfolio of private banks in the credit card space has increased by 59 per cent year-on-year while other issuers ... Debt of Centre and states combined is over 70% of GDP already; country is currently just a notch above junk Muted lending and subdued cross-selling amidst extended lockdown to hurt fee income and earnings Private banks put up a better show than other card financiers Axis' credit costs for the quarter ended March 31, 2020 are higher than anticipated, but some of it is precautionary Economic slowdown hits activity, adding fuel to the fire In addition, West Bengal will also request the Reserve Bank of India (RBI) to increase the additional credit limit to MSMEs, to ...\",\n",
              " 'The motor and health segments led the decline in premiums for the industry as the month saw premium fall by 9 per cent.',\n",
              " 'Senior SBI executives said most of those seeking deferment are retail and micro and small enterprises and are hard-pressed for ...',\n",
              " \"Suggestions from various quarters, including from Indian Banks' Association, have come for the further extension of moratorium ... Covid-19 has led to lot of uncertainties including those pertaining to the income level of borrowers and hence, their loan ... Mutual Funds say they didn't need to use their liquidity line fully From now on, the system should open up systematically as people's financial cushions could vanish soon, he says The RBI cancelled the licence of CKP Co-op Bank on April 28, and notified the cancelletaion on its website on Saturday.\",\n",
              " 'There it ...',\n",
              " \"The number of NPA accounts rose from 2,08,035 as of March 31, 2014, to 6,17,306 as of December 2019 Relaxation likely on branch audit as Guv meets bankers Depositors to get up to Rs 5 lakh under deposit insurance on liquidation The meetings were also attended by deputy governors and other senior officers of the central bank, RBI said in a statement on its ... Dhawan will assume charge from Saturday in place of Ashish Agarwal, the current chief risk officer, who will be transitioning to ... Fitch has cut its forecast for India's GDP growth in the financial year ending March 2021 (FY21) to 0.8 per cent from a ...\",\n",
              " 'The meeting will take stock of implementation of several steps announced by the RBI, including moderation in interest rate and ...',\n",
              " 'Larger challenge is to communicate to borrowers the difference between moratorium and waiver, say lenders Capital infusion to be supported by IDFC limited, ICICI Prudential Life, HDFC Life, Warburg Pincus and Bajaj Allianz On April 27, the RBI had introduced the Rs 50,000-crore liquidity line for the MF industry With malls and shops closed, spending avenues are practically non-existent.',\n",
              " 'Affirms Issuer Default Ratings for seven banks including these four and Bank of India, Canara and PNB Industry has also pitched for SPV with initial funding from govt, to help refinance small and mid-sized NBFCs According to informal estimates, the two organisations together are looking to extend Rs 7,000-8,000 crore in funding Given the extended lockdown, the bank extensively used its digital platform, including video conferencing, to carry out the ... On April 1, Punjab National Bank (PNB) took over Oriental Bank of Commerce (OBC) and United Bank of India (UBI) to become the ... Vyas is a senior banking professional with over 36 years of experience in banking across a range of diverse functions in both ... Banks have built internal capacities for assisting companies, including micro, small & medium enterprises (MSMEs).',\n",
              " 'Both the banks have come together amid the coronavirus (Covid-19) lockdown and started working as a single bank with a larger ...',\n",
              " 'The write-offs are technical or prudential in nature, which means the banks have made 100 per cent provisions against the loans Lenders are staring at unexpected asset quality losses due to the slowdown in economic activity after the countrywide lockdown.',\n",
              " 'Axis is looking to purchase around 55.61 crore shares of Max Life Insurance at a price of Rs 28.61 per share, but the estimate ...',\n",
              " 'The special repo window, under which banks can borrow up to 90 days to extend loans or buy debt papers of MFs, remains open till ...',\n",
              " 'According to the available data, the credit risk fund category saw its assets under management (AUM) dip by another 12 per cent ... Public sector bank executives point out that banks understand the need to provide critical support to borrowers hit by the ...',\n",
              " 'The lender reported a 45 per cent jump in net interest income at Rs 3,232 crore in Q4 FY20 Bid and offer pattern shows a healthy market response The duo was arrested on Sunday from a Mahabaleshwar-based quarantine facility, nearly 50 days after they were booked in the case ... Banks unwilling to take on credit risk in their balance sheets beyond a point, says central bank governor The liquidity strains have intensified in the wake of redemption pressures related to closure of some debt MFs and potential ... Covid has caused disruption in the domestic and global markets, enhancing the risk of default from the rise in cost of repayments ...',\n",
              " 'The RBI had permitted a one-time restructuring of existing loans to GST-registered MSME units Piramal, Tata Power, and TVS group units figure in list With no upper limit, interest rates in this sphere can go as high as 35 per cent.',\n",
              " 'However, even with high interest rates, many ...',\n",
              " 'The forward premium comes down when the demand for the spot is more than the future dollar Among all banks, SBI controls a market share of 22% in the MSME lending Currency in circulation (CIC), in the fortnight ended April 10 stood at Rs 49,554.30 crore Reluctant to lend to NBFCs, MFIs in current situation The finance ministry, in a letter dated April 17 and seen by Reuters, asked banks to furnish detailed data on new loans, ... Five small finance banks, including Equitas SFB, are due for listing by 2021 The latest auction was part of the TLTRO 2.0, through which RBI had planned to infuse up to Rs 50,000 crore, to begin with.',\n",
              " 'Credit enhancement would entail guarantee from bigger institutions in case of defaults up to a certain percentage NBFCs and MFIs have been hit on two fronts, with collections dipping due to the covid-19 lockdown, and the three-month moratorium ...',\n",
              " \"According to the latest available figures, the Reserve Bank of India had about Rs 9 trillion worth of bonds on its books Use instalments to increase cover; benefit from quick approvals We need to understand the nature of the astronomical tax arrears' figure of Rs 9 trillion 'The burden of unsold inventory of over half a million housing units in the top 7 cities will worsen due to impact of the ...\",\n",
              " \"Even after the Reserve Bank of India 'permitted' banks to offer a three-month moratorium to borrowers (of all hues), NBFCs ...\",\n",
              " \"Many farmers couldn't visit banks to pay dues on short-term crop loans in the wake of the Covid-19 lockdown and restrictions on ... Banks want tenants to make payment in escrow accounts The reduction in rate comes after the RBI provided a boost to the banking system through its policy measures and also introduced ...\",\n",
              " 'The extension has been granted based on the feedback received from banks and taking into account the disruptions caused by ...',\n",
              " \"The Bank did not elaborate the extent of its exposure and the steps it is taking to protect its interest It now holds 72 million shares in the lender Asia's banking sector profitability will also decline from deteriorating asset quality and lower net interest margins, said ...\",\n",
              " 'The tankers, Wu Yi San and Chang Bai San, were carrying cargoes financed by ICICI, the source said, adding the bank had about ...',\n",
              " 'The RBI has so far not provided any clarity on whether banks will grant moratorium to the shadow lenders on the loans they have ... Ways and means advances (WMA) are temporary liquidity line given by the central bank to the government to meet short-term ... With no upper limit, the interest rates in the platform can go as high as 35 per cent, on a reducing balance Besides challenges faced by wholesale NBFC in particular, the credit costs (amount to be provided for stressed assets), are ...',\n",
              " 'According to an Edelweiss report, Rs 1 trillion non-convertible dentures (NCDs) and Rs 1.2 trillion commercial papers (CPs) are ... On a standalone basis, as of December quarter, the lender had a capital adequacy ratio of 18.2 per cent, with tier 1 capital at ... To tap RBI refinance window for funding to RRBs etc Although the government has allowed NBFCs, HFCs to start operations, they have not allowed resumption of operations in hotspots ...',\n",
              " \"Lenders to face central bank's censure; board meet in May seen leading to fresh measures Banks will have to categorise the moratorium loans as special mention accounts (SMA) wherein loans are in the 0-90 days overdue ... On Friday, the RBI said it will conduct the second tranche of targeted long-term repo operation (TLTRO 2.0) for an aggregate ...\",\n",
              " 'It is one of the most coveted jobs in the Indian banking sector and market watchers are keenly awaiting who will be the chosen ... Golden Jubilee Hotels Pvt Ltd is a public-private partnership (PPP) with the Department of Tourism and Youth Advancement, Tourism ...',\n",
              " 'However, there was no clarity on whether the finance companies that borrow from banks would get the option to delay payments to ...',\n",
              " 'It had reported a pre-tax profit of Rs 8,954.38 crore in the same period last financial year (Q4FY19).',\n",
              " \"A senior executive of a public sector bank said the IBA's management committee meeting would discuss the issue of giving a ...\",\n",
              " \"Unless demand revives, industry experts say the move may not be very effective The branches will function as usual and will adhere to all instructions laid down by the state governments for corporates ... RBI has put the ball in banks' court on the moratorium issue Calls for economic package for distressed sectors continue RBI by reducing reverse repo rate by 25 basis points has sent clear signals to deploy that money - either by investing markets ...\",\n",
              " 'The RBI has indicated that it expects inflation to come down by September, which means that more rate cuts are in the offing RBI governor is walking a tightrope, says a former chief statistician Earlier, the RBI had reduced the repo rate to a 15-year low of 4.40 per cent by announcing a steep cut of 75 basis points on ...',\n",
              " 'The banks are expected to start credit operations from April 20, in a bid to help a staggered restart of the economic activities The first TLTRO facility took place on March 27, and so far Rs 1 trillion has already been deployed.',\n",
              " \"A senior State Bank of India (SBI) executive said in the case of large corporates, where there is consortium and social banking, ... All analysts tracking it are optimistic on the stock, which hasn't seen any downgrade so far CII has sought an increase in credit limits for all regular banking accounts by 25 per cent Public trust in public sector banks will remain strong, underpinned by a perception of strong government protection for them, ...\",\n",
              " 'The approach, according to people familiar with the RBI, is that the regulator can only enable the banks to take such commercial ...',\n",
              " 'Some branch staff have complained on social media of the difficulty in imposing social distancing in such conditions, earning a ...',\n",
              " 'Worsening business conditions and sell-off by anchor investors have taken the stock southward Moody\\'s said the Yes Bank episode places the country\\'s financial system on \"alert\" and the rescue in itself \"exposes weaknesses ... Muthoot Finance\\'s Ba2 CFR is affirmed and its outlook changed to negative from stable.',\n",
              " 'FIDC has asked the central bank to extend the facility to all customer loans The Asian Development Bank said it has also approved measures to streamline its operations for quicker and more flexible delivery ...',\n",
              " \"The company's collection efficiency pan-India for the period from January 1, 2020 till March 21, 2020 stands at 98.7 per cent Max Life Insurance is a joint venture between Max Financial Services Ltd and Mitsui Sumitomo Insurance Loans and advances jumped by 60 per cent to Rs 71,825 crore during 2019-20, from Rs 44,776 crore the year before.\",\n",
              " \"Sources say PBoC may have increased its stake by 0.2 percentage points in March Ironclad succession process could weigh on extensions for current heads PNB also has a tie up with Life Insurance Corporation of India (LIC) for selling its products through the bank's branches According to him, interest rates will go down further, but banks must pass them on to companies.\",\n",
              " 'Most banks are yet to decide on giving moratorium to shadow lenders It had said that repayment schedule for such loans as also the residual tenor would be shifted across the board by three months ...',\n",
              " 'These investors are yet to approve the moratorium on underlying loans and reschedule most PTC repayments Many finance companies are already facing a liquidity challenge after the IL&FS debacle.',\n",
              " 'Deposit accretion activity also moderated in FY20 to 7.9 per cent from 10 per cent in FY19, according to Reserve Bank of India ...',\n",
              " 'Private sector lenders have been leading on this front for some time, mostly leveraging on retail credit.',\n",
              " 'Bank advances growth in FY20 was the slowest since the fiscal ended March 1962, when loans had grown by 5.38 per cent RBI had announced a relief package which included a three-month moratorium on payment of all term loans outstanding as on March ... MPC report says better transmission of rates would remain priority Among other tenors, the MCLRs from overnight to six month loans have been cut by 0.15 per cent each in the range of 7.40-7.85 per ... Banks and finance companies may do more lending business in the retail segment on the digital platform However, it said specific cases would be considered on merit While efforts are being mounted on a war footing to arrest its spread, Covid-19 would impact economic activity in India directly ... Could disallow retail investments directly and through MFs in the instrument Irdai has said the acquiring bank can retain the existing certificate of registration (COR) to act as a corporate agent and ...',\n",
              " 'The Board of Directors, at its meeting held on Wednesday, April 8, 2020, has approved the rupee bond borrowing limit of Rs 7,500 ...',\n",
              " 'The Corporate Insolvency Resolution Process (CIRP) was initiated against the debt-ridden company as per the provisions of the ... RBI seeks data on drawdowns, bank loans, exposure to NCDs and CPs SBI rate cut: The savings rate has been reduced to 2.75 per cent from 3 per cent Piecemeal regulatory forbearance will not go far and tougher questions will be asked of both Mint Road and banks, reports Raghu ...',\n",
              " 'The credit cost, amounts set aside for bad and stressed loans, for the Indian banking system will rise to 2.8 per cent in ... On a sequential basis, the deposit base has grown 12 per cent over December 2019 Many are worried about not being able to meet their loan obligations this month; several either have started defaulting or are ...',\n",
              " \"The report noted that an additional USD 300 billion spike in lenders' credit costs and a USD 600 billion increase in (NPAs) will ... RBI may allow relaxation in delinquency period, go easy on additional collateral requirements The government provided Rs 16,091 crore to PNB and Rs 1,666 crore to United Bank of India in September for enhancing the capital ...\",\n",
              " \"The deposit base of the private sector lender stood at Rs 11.46 trillion in Q4FY20 compared to Rs 9.23 trillion in the same ... Moody's revises outlook for ICICI Bank and Axis Bank to negative Apex bank announces change in market timing, trading hours to function from 10 am to 2 pm The move has met with criticism by a large section of SBI employees, who called it an attempt to muzzle free speech and ... RBI had ordered a moratorium of three months on EMIs 'Spike in NPAs will be reflected over the next few quarters' Many lenders also advised borrowers not to make use of the moratorium offer in case they were in a position to pay their ...\",\n",
              " 'The spike in reported non-perfoming assets (NPAs) would be reflected over the next few quarters, rating agency Icra said Here is an FAQ by HDFC Bank, explaining how the stipulation by RBI will impact its customers The bank said it would not charge any interest on the amount for this extended period SBI informed customers that in some cases, deferring 3 EMIs on a home loan may force the borrower to pay 8 more EMIs Corporates may end up paying four months interest on their loans together.',\n",
              " 'Experts feel that the three-month moratorium on repayment on loans to help people fight the impact of coronavirus seems to be ...',\n",
              " 'The bank is in the process of filing listing applications with the stock exchanges Largest private sector lender HDFC Bank said it would encourage customers with adequate funds to continue repayments to avoid the ...',\n",
              " 'Experts said merger at this point of time will not be very smooth and seamless.',\n",
              " 'However, heads of the anchor banks are exuding ... Each of the amalgamated entities with scale and national reach would have a business of over Rs 8 trillion.',\n",
              " 'Bankers said the tepid credit off-take was reflection of elongated economic slowdown and demand Effective April 1, Allahabad Bank will merge with Indian Bank, creating an entity with over 6,000 branches, 4,800 ATMs, 43,000 ...',\n",
              " 'The lender has sent a communication to its customers that they were being offered a moratorium.',\n",
              " 'Managing liability outflows will be a tightrope walk for NBFCs in the near term The apex bank has four deputy governors.',\n",
              " 'Other three are N S Vishwanathan, M K Jain and Michael Debabrata Patra The bank said credit costs likely to rise by 200-210 bps, targeting 60% provision cover, deposits down by 10-11% in March quarter The new rate will be applicable for all floating-rate personal or retail loans (such as housing and automobiles) and ... Banks are expecting a huge number of footfalls due to expected disbursement in Jan Dhan accounts, women beneficiaries, pension ...',\n",
              " 'The government on March 4 notified the amalgamation scheme as part of its consolidation plan to create bigger and stronger banks ...',\n",
              " 'The BRLLR linked to RBI Repo Rate is revised downwards in line with the reduction on Reserve Bank of India Repo Rate from 5.15 ...',\n",
              " 'The government had recently raised the threshold for default from Rs 1 lakh to Rs 1 crore to prevent triggering of insolvencies RBI has expanded liquidity in the system sizably to ensure financial markets and institutions are able to function normally, in ...',\n",
              " \"However, this isn't a blanket policy and will be implemented on a case-by-case basis; accounts granted relief will undergo ... With branches and call centres working with skeletal staff, communicating to customers and documenting the process are key ... With branches and call centres working with skeletal staff, communicating to customers and documenting the process are key ... Customers of other banks can also use the facility Banks are expected to witness a surge in transactions across channels next week, owing to salary payments to employees The bond issue was done through private placement.\",\n",
              " 'With the Prime Minister announcing the national-level lockdown and public transportation being stopped in most of the cities, ...',\n",
              " 'The timely and decisive action by the Reserve Bank of India (RBI) provides vital liquidity and ensures that credit lines remain ...',\n",
              " \"The Union Bank CEO said that the RBI's package would help in sustaining business at a time when a 21-day nationwide lockdown to ...\",\n",
              " 'The new announcements would help lift home buyer sentiment, kick-starting the demand cycle for mid-range homes and in affordable ...',\n",
              " 'The moratorium is for three months on payment of all instalments due between March 1, 2020, and May 31, 2020, including credit ... SBI also cut interest rates on retail term deposits by 20-50 bps.',\n",
              " 'For bulk deposits, the cut was steeper, by 50-100 bps, due to ... On Friday, the Reserve Bank of India (RBI) came up with policy measures to ensure there is enough liquidity in the system The central bank is tight-lipped on its intervention strategy, but it is suspected that it recently intervened in a huge amount ...',\n",
              " 'The RBI governor, in his video-streamed speech, said the central bank was taking this route as the COVID-19 pandemic has ignited ... Consequently, the lender has also reduced interest rates on retail and bulk deposits by between 20 to 100 basis points across ...',\n",
              " \"The spectacular meltdown at YES Bank reveals the mental makeup of someone only too eager to walk on life's wild side This would help banks increase lending by over Rs 3.5 trillion by leveraging ten times of the capital The outbreak of coronavirus has impacted almost 75 per cent of the sectors and the measures announced by the RBI and the ... 'Today RBI has taken giant steps to safeguard our economy from the impact of the Coronavirus,' said PM Modi The repo rate has come down by 75 basis points to 4.4 per cent, while the reverse repo rate has been lowered by 90 basis points ... Increasing challenges from the pandemic are expected to worsen an already difficult operating environment, Fitch said SEBI issued the final observations to the lenders proposal on March 20, 2020.\",\n",
              " 'The bank looks to reassure its depositors with a new print advertisement acknowledging the past and asking depositors to look ... Strategic plan to factor in Covid-19 impact India is still very much a cash society and banks have been exempted from a 21-day lockdown that began this week as they are ... All MSME/agriculture borrowers are eligible for a loan up to Rs 10 crore and others up to Rs 50 crore The state also permitted small caterers serving the elderly to continue supply of cooked food provided their vehicles sport the ... With the financial year ending  on March 31, small- and mid-sized companies are likely to default en masse, while rating agencies ... Banks working towards merging balance sheets before April 1 It will be the second bank after State Bank of India (SBI) to come out with such schemes An account becomes NPA if default is beyond 90 days.',\n",
              " 'With the present crisis, a huge number of accounts will fall in this ...',\n",
              " \"According to ICRA's estimates, Rs 93,669 crore of AT-I bonds are outstanding as of now It is tough if you are a PMC Bank depositor to be made aware now that you are not mainstream enough The demand for a hike in the interchange hides a bigger mess, reports Raghu Mohan Tuesday's stock reaction is also an indicator of the challenges ahead of him and probably the toughest faced by the bank in the ...\",\n",
              " 'In February, the RBI had approved the appointment of Kathpalia as the MD & CEO of the private lender Puri in an interaction with reporters said: \"… the recommendations are with the search committee and before April, an appropriate ...',\n",
              " 'This is part of steps to provide support for financial sector entities to deal with slowdown and aftermath of COVID-19 Estimates suggest the locked down districts account for close to 50% of microfinance business in India; banks and SFBs could also ...',\n",
              " 'The central bank has announced a series of measures to tide over any liquidity issues caused by the Coronavirus dislocation in ...',\n",
              " 'The first tranche of OMO purchase auction worth Rs 15,000 crore will be conducted on March 24 HDFC Bank has urged people to use cheque drop boxes to help reduce crowding in branches The bank, however, could not hide its bad debt under the carpet for long as RBI auditors forced all banks to disclose their bad ...',\n",
              " 'It is a chance for stakeholders in the banking sector to revisit contractual obligations, say experts The facility, operational from March 19 as part of the Business Contingency Plan (BCP), was up and running in 24 hours of the ...',\n",
              " 'The banks are working round-the-clock to ensure all digital channels are up to date and have all the information that you may ...',\n",
              " 'Some banks are going on an overdrive to secure employees who have to deal with the public at the branches on a daily basis with ...',\n",
              " 'Advises them to avoid ATMs and cash deals, says mobile and internet banking are both safe and convenient RBI has been talking to other authorities on sale of securities and loan recovery; Unlike in commercial banks, it has no powers ...',\n",
              " 'The RBI had put a six-month regulatory restriction on the bank on September 23, 2019 The loan will be offered at an interest rate of 7.25% with a tenure of 12 months.',\n",
              " \"The central bank received bids worth Rs 45,049 crore for Friday's open market operation The ad-hoc loan facility named - COVID 19 Emergency Credit Line (CECL) is aimed at meeting the temporary liquidity mismatch ...\",\n",
              " 'The loans can be repayable in 6 monthly installments after a moratorium period i.e, 6 months from the date of disbursement Agency concerned investigation may hit asset valuation, monetisation The central bank infused Rs 10,000 crore through open market operations on Friday The former banker was arrested on March 8 by the ED under the provisions of Prevention of Money Laundering Act (PMLA) and was ...',\n",
              " \"Appointment is for two years; this is Gandhi's second stint in the same capacity The brokerage lowered the bank's rating to 'underperform' from 'market-perform' earlier, and lowered target price to Rs 750, from ... IBA withdraws note on FinMin letter which had PMO inputs CRISIL has assigned 'A2' rating to the programme Moratorium on loans should be offered, say CFOs The agency has also sent a second summons to Essel Group chairman and Rajya Sabha MP Subhash Chandra to appear before it on March ...\",\n",
              " 'Logo of the bigger bank to get prominence; Indian Bank name to be retained post amalgamation The banking services resumed at 6 pm on March 18, 2020, and customers were able to get full services by visiting the branches ...',\n",
              " 'Yes Bank had resumed complete services on March 18 after the Reserve Bank of India placed it under moratorium on March 5.',\n",
              " 'The RWE indicates the possibility of the ratings being either upgraded, downgraded or affirmed.',\n",
              " 'The agency is expected to record the statement of the 60-year-old Ambani under the Prevention of Money Laundering Act (PMLA).',\n",
              " 'FIEO President Sharad Kumar Saraf said that the spread of Covid-19 to over 144 countries points to the most challenging times for ... RBI Governor Shaktikanta Das on Monday had said the regulator was ready to offer liquidity if required The Street is sceptical of the sustainability of rich valuations of large players such as Bajaj Finance and Housing Development ...',\n",
              " \"The RBI allotted an amount of Rs 25,012 crore, with a pro-rata allotment percentage to 92.27 per cent The central bank will conduct open market operations (OMO) on March through a multi-security auction Three-fourth of this holding has been locked-in for three years as part of the restructuring plan for the bank On Wednesday, the private lender's stock saw its steepest single-day fall of 9.9 per cent in nearly 12 years; it is down 33 per ...\",\n",
              " 'The government notified the YES Bank reconstruction scheme last week Non-banking financial companies (NBFCs) are struggling to raise funds from the capital market due to higher cost and lack of ...',\n",
              " \"The appeal to the Reserve Bank of India (RBI) will be made via the Indian Banks' Association, the two senior bankers said, asking ... On March 5, the RBI had imposed a moratorium on YES Bank, restricting withdrawals to Rs 50,000 per depositor till April 3 in view ... On Wednesday, the bank's stock on the BSE fell by Rs.\",\n",
              " '61.10 or 9.20 per cent to close at Rs.',\n",
              " \"603.05 from its previous close Administrator Prashant Kumar said the bank had made adequate preparations for any surge in withdrawal of deposits One of the possibilities that banks would explore is to split duties and responsibilities, apart from working in different shifts ... Unicredit boss Jean Pierre Mustier and incoming UBS Group Ralph Hamers were among those reported to have caught Tucker's eye According to the reconstruction scheme, 75 per cent of the total investment by the bank would be locked in for three years, ICICI ... Rs 10K-cr infusion, lock-in and hurried short-covering led to 2.3x surge in the stock The plan would cover all medical conditions, including Covid-19, and up to 10 days of hospitalisation, with a cover of Rs 5,000 ... Stating that the investors will not regret coming on board a new Yes Bank, he pointed to the massive rise in the share price of ... Kapoor is already facing an ED criminal case for receiving alleged kickbacks, through companies purportedly controlled by his ...\",\n",
              " 'The Board of Directors on March 5 approved fair equity share exchange ratio at 115 equity shares of Rs 10 each of Indian Bank for ... \"Our customers will be able to enjoy all services available before the moratorium,\" said Prashant Kumar at a press conference in ...',\n",
              " 'The lender said market rumours around financial health and stability of the bank are totally misplaced, motivated and not based ... Banks and regulated entities \"should also assess the impact on their balance sheet,\" it said The agency also calls Subhash Chandra, Naresh Goyal, Kapil Wadhawan, and Peter Kerkar in money laundering probe Das said the central bank had enough instruments for use if needed - they would be deployed at a time that would maximise impact The weak trading debut contrasted the stellar demand seen during SBI Cards\\' Rs 10,300-crore IPO earlier this month BL Bank, for example, is down 47.2 per cent during the period.',\n",
              " 'Its m-cap is down from ~15,700 crore on February 20 to ~8,283 ...',\n",
              " \"The rating action concludes the review with direction uncertain that was initiated on Yes Bank's ratings on 06 March 2020.\",\n",
              " 'Ailing ...',\n",
              " 'The sessions court in Mumbai on Monday extended the custody of Rana Kapoor, former managing director and chief executive officer ...',\n",
              " 'The central bank had superseded YES Bank board on April 5 and placed it under an administrator According to the banks, they have either put the sessions on hold or are opting for e-learning instead of classroom sessions.',\n",
              " 'On Friday, HDFC said it is investing in 100 crore equity shares of Rs 2 each in Yes Bank for a consideration of Rs 10 per share ... Public shareholders have Rs 8,673 cr exposure to bank SBI Card, the second largest largest credit card issuer in the country, got listed at 13 per cent discount at Rs 658 on the BSE, ...',\n",
              " 'Yes Bank customers will be able to access full banking services from Wednesday evening, as the moratorium will be lifted ... Several market observers said FPIs and other institutional investors have raised concerns regarding difficulty in liquidating ...',\n",
              " 'The bailout scheme requires YES Bank to write down about Rs 8,700 crore ($1.2 billion) of outstanding AT1s In Nifty 100, Adani Transmission will replace Yes Bank, while in Nifty 500, Sterling and Wilson Solar will be added TMB has 20,600 shareholders The authorised capital of Yes Bank has been increased to Rs 6,200 crore, Finance Minister Nirmala Sitharaman said on Friday.',\n",
              " \"Its standard advances after subtracting net NPAs were about Rs 1.75 trillion at end-December Auditors cast doubts on bank's ability to remain a going concern, investors holding more than 100 shares barred from selling According to sources, the Kapoor companies invested around $10-11 million in Awfis but their shareholding got diluted as new ... For about last six months, India has stopped importing oil from Iran, and thus oil companies have stopped depositing money to the ...\",\n",
              " \"Gross NPAs gallop to Rs 40,709 crore in Dec 19 Andhra Pradesh's Ordinance to regulate MFIs has been a double-edged sword for the poor, with some digging deeper into debt, ... SBI is investing Rs 7,250 crore in the ailing lender.\",\n",
              " 'LIC, HDFC, ICICI, Axis and Kotak Mahindra and other investors have also ...',\n",
              " 'The Union Cabinet on Friday approved a reconstruction plan proposed by the RBI for bailing out fund-starved Yes Bank.',\n",
              " \"Three-year lock-in period for investors ICICI Bank, HDFC, Axis Bank and Kotak Mahindra Bank too on Friday said they will join the SBI-led consortium and invest in Yes ... RBI had on March 5 put a moratorium on Yes Bank restricting withdrawals to Rs 50,000 per depositor till April 3 The consultancy or advisory firm will conduct assessment of core business opportunities and work towards a holistic operating ... 'Conspired' with Avantha group and bought house at discounted price Market participants say ask yields for other large-sized banks' AT-1 bonds have hardened further Taking part in discussion on the Yes Bank issue, he said the government would take a review to know the quantum of civic bodies' ...\",\n",
              " 'The YES Bank reconstruction plan will include an equity investment of at least Rs 11,350 crore from various entities, including ...',\n",
              " 'The committee will inquire into the deposit of the Lords money in the private bank by the Shree Jagannath Temple Administration The ICICI Bank in a regulatory filing said that the board has approved an equity investment of up to Rs 1000 crore in equity ...',\n",
              " 'The probe agency is carrying out searches in Delhi and Mumbai at multiple locations \"This investment is likely to result in ICICI Bank Ltd holding in excess of 5 per cent shareholding in Yes Bank,\" the lender said ...',\n",
              " 'The scheme was announced a day after the RBI imposed a month-long moratorium on YES bank Under the reconstruction scheme, SBI is to buy up to 49 per cent of YES Bank and cannot reduce its holding below 26 per cent for ... \\'We strongly believe that such a move can have banking and financial sector stability implications,\\' the letter stated The bank would like to take this opportunity \"to assure our customers that their deposits are safe in our bank\" The FM met chief executives of public sector banks which are going to be merged from April 1 Growth in advances to the services sector decelerated to 8.9% from 23.9% in January 2019 SBI said its shareholding in Yes Bank will remain within 49 per cent of the paid up capital of the private lender and following ... Jasvinder Singh Banwait, Vishwanatha Shridhar Prabhu and Shripad Govind Jere were arrested on Thursday Overall, more than Rs 8,000 crore of investments are exposed to YES Bank\\'s AT-1 bonds Himachal Pradesh Chief Minister Jai Ram Thakur informed the Assembly that more than Rs 1,900 crore belonging to the state ...',\n",
              " \"The first sell/buy swap auction involving $2 billion will be held on Monday, the central bank said The market has been expecting an off-cycle interest rate cut by the Reserve Bank of India but the source said no such step is ... Former Yes Bank founder, Rana Kapoor's wife, Bindu was a director in the main investment and holding companies associated with ...\",\n",
              " \"When the private lender started operations in August 2016, microcredit constituted 85 per cent of its total loan portfolio The move comes even as the impact of coronavirus is beginning to be felt in India, raising further risks to economic growth and ... Firms say there are limits to audits identifying ever-greening of loans, or flagging suspect collateral securities The first-of-its-kind move will mark the activation of RBI's ironclad November 4, 2019 guidelines on the compensation JC Flowers, Tilden, Cerberus ask SBI to prepare a clean-up plan The special court under the Prevention of Money Laundering Act granted an extension to keep Rana Kapoor under custody till March ... To seek provisional attachment in next few weeks Proceeds to be used to shore up liquidity RBI Governor Shaktikanta Das had met SBI Chairman Rajnish Kumar on Friday to discuss the way forward.\",\n",
              " \"Infra giant has Rs 100 crore of exposure to bank's AT-1 bonds We have been consistently maintaining CRAR above the minimum prescribed by the RBI as well as the bank's internal policy, ...\",\n",
              " 'The SLB mechanism allows traders to borrow securities that they may not have to meet their obligations It said a rate cut is unlikely to work in isolation as bank transmission of RBI\\'s rate cut has been slow No more SMS charges, Home and auto loan customers to gain as MCLR is slashed by 10-15 bps in tenth such cut this year The announcement comes a day after its customers were allowed inward IMPS and NEFT services for the same purposes The move on Yes Bank comes as the impact of the coronavirus is beginning to be felt in India, raising further risks to economic ... SBI, India\\'s largest bank, has more than 24,000 branches and over 400 million customers In view of adequate liquidity in the system, bank in a statement said it has realigned interest rates on Term Deposits with ... \"We are in the process,\" said Prashant Kumar, the administrator appointed by the Reserve Bank of India (RBI) The banking outlets also include doorstep banking units and home loan service centres The bank\\'s capital adequacy ratio is at 16.08 per cent, much higher than the regulatory requirement of 11.5 per cent The statement comes in the wake of the Yes Bank crisis, following which stock prices of various banks went sharply down.',\n",
              " 'Overnight and one-month MCLRs have been reduced by 15 basis points to 7.45 per cent each.',\n",
              " 'Three-month MCLR has been revised to ...',\n",
              " \"According to the data sourced from primemfdatabase.com, MFs' exposure to the AT-1 bonds - also called perpetual bonds - stood at ...\",\n",
              " 'Some aides of Kapoor, former board members may be asked to join probe YES Bank administrator Prashant Kumar said that the moratorium imposed by the Reserve Bank of India could be lifted before the ...',\n",
              " 'The Enforcement Directorate has widened its probe in the YES Bank case, taking it beyond loans given to DHFL; it is now looking ... Hopeful that moratorium on withdrawal will be lifted by Friday, says bank administrator The central government, represented by the department of financial services and YES Bank, and the RBI have been included in the ... A substantial portion of YES Bank\\'s corporate loans are \"bilateral transactions\", and fall outside the pale of consortium For the housing sector, the authorities are aware of the strong linkages it has with the economy.',\n",
              " 'Former RBI governor, Urijit Patel, had said in the aftermath of the blowout at PNB that the banking regulator was better ... Banks likely to set up common call centres and monitoring cells Yes Bank has been put under a moratorium by the RBI till April 3, during which customers are not allowed to withdraw more than Rs ...',\n",
              " 'If you are paying a personal/home loan or doing SIPs, shift ECS mandate to another bank.',\n",
              " 'It just might make sense to have one ... \"Prime Minister, you need to tell the nation what is the BJP\\'s connection to the Yes Bank and its owner,\" Randeep Surjewala A dozen alleged shell firms, Kapoor family investments of Rs 2,000 crore and over Rs 4,500 crore worth of transactions are under ...',\n",
              " \"The difference in deposits between March 2019 to September 2019, reflects withdrawals to the tune of Rs 18,110 crore The bank, which had over Rs 2.09 lakh crore in deposits, was put under moratorium last Thursday due to an inability to raise ... Kumar's mettle was tested in field while leading Kolkata circle as chief General Manager and as general manager in erstwhile ... Before the RBI action, YES Bank had deferred announcement of its earnings for the 3rd quarter of 2019-20 to March 14 or before.\",\n",
              " \"... RBI on Thursday took control of Yes Bank, after the lender - which is laden with bad debts - failed to raise the capital it needs ... S&P Global Ratings on Monday said quick resolution of Yes Bank's insolvency will keep India's banking sector contagion at bay, ...\",\n",
              " 'The development comes after YES Bank on Thursday was put under a moratorium, with the RBI capping deposit withdrawals at Rs ... RBI said it would work on a revival plan, as part of which bonds classified as AT1 capital will be written down \"permanently, in ...',\n",
              " 'YES Bank, weighed down by an increasing pile of bad debt, had struggled for months to raise the capital it needs to stay above ...',\n",
              " 'Teams of CBI officers are carrying out operations at the residence and official premises of the accused in Mumbai 12 shell firms, 2 UK assets, 44 paintings under ED scanner; London-bound daughter stopped at Mumbai Airport; CBI books Kapoor and ...',\n",
              " \"The RBI in December 2019 noted that private sector banks accounted for 69 per cent of incremental loans in 2018-19 RBI's draft reconstruction scheme for YES Bank suggested a permanent write-down of these bonds outstanding as of March 5.\",\n",
              " 'Experts say concern over growth, credit cost, and asset quality would restrict valuation improvement despite sharp correction in ...',\n",
              " 'Soon after the RBI announced the moratorium, global bank JP Morgan pegged YES Bank shares at Rs 1 a share.',\n",
              " 'Regulators, bankers in a huddle to resolve issue During the period of moratorium, the Yes Bank Ltd will not, without the permission in writing of the RBI, make payment to a ... \"RBI closely monitors all the banks and hereby assures all depositors that there is no such concern of safety of their deposits ...',\n",
              " \"He said that it is a wrong method to assess a lender's health based on the ratio of deposit to m-cap (market capitalisation) Weak compliance, poor governance and greed led to the bank's failure as it lent to borrowers who did not have the ability to Sources said the agency might also register a separate case against Rana Kapoor, depending on the outcome of the search The original plan was to borrow in local or foreign currency through AT-1 instrument or tier-2 capital SBI shall not reduce its holding below 26 per cent before completion of three years from the date of infusion of the capital, the ...\",\n",
              " \"The Reserve Bank of India has imposed a moratorium on the bank and restricted withdrawals to Rs 50,000 per depositor till April 3 The AIBEA said that people's money should be for people's welfare and not for private loot The source said the searches are being carried out at the residential premises of all three daughters -- Rakhee Kapoor Tandon, ... SBI chief asserts private lender's failure could have huge implications for economy, says many co-investors have evinced interest ... Customers are also facing trouble because net banking services are not working and some even complained that their credit cards ...\",\n",
              " \"The ED had searched Rana's residence in the upscale 'Samudra Mahal' complex in the Worli area on Friday night and had grilled him ...\",\n",
              " \"The SBI chief has also said that the initial investment in YES Bank will be Rs 2,450 crore Nippon India's schemes saw maximum impact following perpetual bond write-offs The RBI's draft reconstruction plan for YES Bank states that AT-1 bondholders shall not be entitled to get any compensation from ...\",\n",
              " 'Confirming the development, an ED official said searches would continue over the weekend and Kapoor might have to face ...',\n",
              " 'YES Bank would be run independently and focus will be on turnaround to make it a robust bank and a good investment, Kumar said The Mumbai-based lender has a market capitalisation of about $86 billion, giving it a bigger standing than major US banks like ...',\n",
              " \"The promoters of the bank plan to acquire additional shares from open market in India He stressed that a swap line was critical from the point of view of preserving global financial stability Since YES Bank is PhonePe's exclusive UPI partner, the latter's users have been affected the most They said the raid is being carried out at his Samudra Mahal residence in the western metropolis Across branches, the busiest people were the relationship managers, trying to soothe nerves The central bank's takeover of Yes Bank appears intended to restore depositor confidence As per the data, SBI Mutual Fund has the highest exposure of Rs 152.83 crore, followed by Rs 67 crore by HDFC Mutual Fund in the ... To pick up 49% stake in bank for Rs 2,650 cr; administrator says working to revive bank well before moratorium period ends On Thursday, the RBI restricted withdrawals from Yes Bank to Rs 50,000 per depositor Analysts calculate SBI's investment in Yes Bank would need to total almost Rs 2,500 crore ($339.10 million).\",\n",
              " 'Finance Minister Nirmala Sitharaman on Friday hit back at senior Congress leader P Chidambaram for his jibe over crisis-hit Yes ... \"Paytm Payments Bank Ltd (PPBL) today (Friday) announced that they are restricting transaction settlements, including UPI, into ... Kumar, an ex-chief financial officer of SBI, also assured depositors that their money is safe and there is no reason to panic On finding risky credit decisions, the RBI advised change in management, the Finance Minister said Asia and Africa account for 52 per cent and 42 per cent respectively of the share of total LoC commitments The bank\\'s board has been superseded by RBI-appointed administrator Prashant Kumar, former deputy managing director and chief ...',\n",
              " 'The draft comes a day after the RBI imposed a moratorium on the bank, restricting withdrawals to Rs 50,000 per depositor till ...',\n",
              " 'The Reserve Bank of India has capped withdrawals at Rs 50,000 and imposed strict limits on operations at Yes Bank.',\n",
              " 'In addition, the fund house has imposed a limit of Rs 2 lakh on fresh inflows into the impacted schemes till further notice, ... For LIC, the mark-to-market hit could have been over Rs 600 crore; FIIs\\' holding down by Rs 1,162 crore \"This will surely not be a rescue plan.',\n",
              " 'You will get to know when the scheme is out,\" a top SBI executive who did not wish to be ... RBI has assured there will be a quick resolution, says FM, even as RBI Governor promises resolution in 30 days; SBI Chairman ... Gill had the unenviable task of steering a troubled entity with legacy issues.',\n",
              " 'But he could have been more proactive She added that the people can withdraw money to deal with tough situations and the cash crunch is being dealt with Instructions to the effect have been issued by Chief Minister Uddhav Thackeray to the concerned departments Move aimed to avoid funds getting blocked in account post-redemption request Prashant Kumar taking charge as the Yes Bank administrator is in line with notifications issued by Department of Financial ...',\n",
              " 'The RBI governor also said that the impact of Covid-19 on India will be limited The bank has also experienced serious governance issues and practices in the recent years which have led to steady decline of the ...',\n",
              " 'It can be noted that the bank\\'s own net banking facilities have not been operational since last evening RBI on Thursday imposed a month-long moratorium on YES Bank citing \"serious deterioration in its financial position\" YES Bank will not be able to grant or renew any loan or advance, make any investment, incur any liability or agree to disburse ... Way back in 2004, the crisis-ridden Global Trust Bank was merged with the Oriental Bank of Commerce by the Reserve Bank of India It will depend on the acquiring bank or financial institution\\'s capacity to hold the assets till the market improves and sell ...',\n",
              " 'The customers claimed that the bank had not given any prior information about it while many rued that the ATMs have run out of ... Macquarie Capital Securities also said if State Bank of India (SBI) decided to buy stake in the bank, they should buy it at Rs 1 ... A rescue plan involving SBI and Life Insurance Corporation of India was being discussed and an announcement in this regard might ... Lender placed under moratorium; withdrawal capped at Rs 50,000; govt, central bank flag governance issues The announcement came hours after Yes Bank was placed under a moratorium, with the RBI capping deposit withdrawals at Rs 50,000 ...',\n",
              " 'In the residential area of suburban Chembur, one ATM was dispensing cash but had a long queue of anxious depositors Yes Bank has been put under moratorium and may have to take a government-planned bailout.',\n",
              " \"The 100-million share offering generated close to 2.7 billion bids Allahabad Bank-Indian Bank deal to be determined The government had in August last year announced plans to merge 10 public sector banks (PSBs) into four The central bank has appointed former SBI CFO Prashant Kumar as the Yes bank's administrator Yes Bank has been placed under moratorium and the government is reportedly planning a rescue plan involving a capital injection ...\",\n",
              " \"This has been done to quickly restore depositors' confidence in the bank.\",\n",
              " \"The scheme for reconstruction and amalgamation of bank ... Debt capital markets continue to shy away from the shadow banking sector The RBI removed Yes Bank's board and appointed Prashant Kumar, a former chief financial officer of the State Bank of India (SBI), ...\",\n",
              " 'Earlier in the day, sources said SBI along with some other financial institutions would bail out capital-starved Yes Bank, with ... Over the past few months, YES Bank has struggled to raise capital - nearly $2 billion - it desperately needs to stay above ...',\n",
              " 'While the Reserve Bank has accepted his request to be relieved by March 31, the same has to be accepted by the Cabinet as well, ...',\n",
              " 'The troubled non-bank lenders\\' segment is \"defying caution\" and growing the riskier unsecured loans portfolio at a pace of 25 per ... As per a notice published in Singapore\\'s government gazette on March 3, HSBC filed its application for winding up of ITNL ... Court accepts the bank\\'s stance that Kochhar\\'s petition has no legal basis as the lender is a private banking company and the ... ICICI Bank sought dismissal of Kochhar\\'s petition SBI has also been authorised to pick other members of the consortium Integration of balance sheets to be effective from April 1; bank boards to meet soon to finalise the share swap ratio HDFC cuts lending rate by 5 bps for salaried people, effective from March 9 The regulator has also made it clear that in existing products where the cost of hospitalisation is covered, insurers have to ... Keki Mistry has been replaced by Renu Karnad of the bank\\'s parent HDFC in the search panel Agency also cites deteriorating operating environment for decision; affirms lender\\'s domestic and foreign bank deposit ratings If the private bank is able to raise funds in this round, it would get some breathing space The Banking Regulation (Amendment) Bill, 2020, which comes in the backdrop of PMC Bank scam, seeks to strengthen co-operative ...',\n",
              " \"The maximum coverage that the product assures is to the tune of Rs 2 lakh The housing finance company, however, did not specify timing for the QIP offering The outbreak of coronavirus and subsequent spread to geographies across the world has adversely affected the financial markets The recently conducted Long Term Repo Operations (LTRO) by RBI are aimed at providing additional durable liquidity to the Banking ... To comply with Basel-III Capital Regulations, banks need to improve and strengthen their capital planning processes Easing regulations and a surge in online banking are driving the change, with several overseas lenders increasing investment ... Bank credit growth declined to 8.5 per cent in January from 13.5 per cent in the year-ago period At the end of December 2019, the total business of Allahabad Bank was close to Rs 3.94 trillion, while that of Indian Bank was ... Growth in advances to the services sector decelerated to 8.9 per cent from 23.9 per cent in January 2019 Banking unions had given a call for a three-day strike from March 11 While the RBI's repo rate remains unchanged at 5.15 per cent, the three-month MIBOR (Average) has reduced to 5.75% from 6.15% Analysts expect an impact on India due to raw material shortages likely to disrupt supplies for key industries Sectors like thermal power, NBFCs and commercial real estate sector are currently facing some stress PSUs seen as drivers of credit demand, which the bank sees growing by 5-7%; No major impact of coronavirus yet Kathpalia will succeed current MD & CEO Romesh Sobti, who has been at the helm of affairs for over a decade now.\",\n",
              " \"Sobti's term as ...\",\n",
              " 'The talks come just ahead of the mergers of four sets of state-run banks, effective from April 1 Many other pension schemes in the market currently are unregulated Besides, the watchdog has changed the guidelines for reporting of financial statements by issuers listing their debt securities ... On average, IPPB has been opening and maintaining a run rate of 33 lakh accounts per quarter.',\n",
              " 'Axis Bank on Thursday said its board has approved appointment of Puneet Sharma as Chief Financial Officer (CFO).',\n",
              " 'His appointment ... No other bank in the country has almost its entire top brass so closely associated with its helmsman throughout the larger part ...',\n",
              " 'But in a meeting with the brass, Sitharaman didn\\'t discuss the merger process,said a banker Fighting for market share via outpricing is lazy; industry should revisit the way it looks at the customer, offer better claim ... With respect to micro and small enterprises, floating rate loans are already linked with external benchmarks \"We are on the course on bank mergers... lot of core banking operations regarding the merger are currently going on\" Move follows relaxation given by RBI to expand network.',\n",
              " 'Earlier, the regulator had imposed curbs on lender for not meeting ...',\n",
              " 'Transactions via NEFT and RTGS were affected for almost 12 hours beginning Monday midnight Bank loans to corporate houses, excluding bank loans to NBFCs, is expected to remain subdued in FY20 The matter pertains to a bank guarantee of Rs 6.97 crore furnished by BoB to Indian Oil Corporation (IOC) on behalf of Simplex ... RBI has announced an extension of the one-time restructuring scheme for MSMEs Private banks are struggling to get top-class independent directors on their boards The bank has been allowed to open new branches, provided 25% of all new banking outlets opened in a financial year are in ...',\n",
              " 'The reversal date of LTRO on March 2, 2020 is March 1, 2023 while for LTRO to be conducted on March 9, 2020, it will be March 7, ...',\n",
              " 'The proposed fee will be Rs 25 per transaction; the bank has uploaded a notice on its website listing this and three other ...',\n",
              " \"The portfolio at risk (PAR) for the industry for repayment between 31 and 180 days stood at 1.5 per cent, which was 50 per cent ... ADB's masala bonds are listed on both Luxembourg exchange and India INX HDFC Bank aims to be a dominant and\\ngo-to bank for startups, a key official said on Tuesday.\",\n",
              " 'Close to 9,000 start-ups are ...',\n",
              " 'In the auction for three-year maturity liquidity operations made last week, the RBI had received bids worth Rs 1.94 trillion for ...',\n",
              " \"Optimism on the stock is highest in 15 years; easing of corporate sector stress in Q3 gave the much-needed comfort Real estate developers, battling a prolonged slowdown in demand, are struggling to raise funds to construct or complete projects PNB Housing's fund-raising ability has remained intact over the last 6-9 months and it is continuing to maintain high on-balance ...\",\n",
              " 'The finance minister emphasised on the need for a closer collaboration between revenue agencies to investigate tax affairs of ...',\n",
              " 'Though oil giant Saudi Aramco was supposed to be a largest investor, particularly in the PCPIR in Visakhapatnam, it went away to ...',\n",
              " 'Even after Cabinet approval to the proposed mega merger plan, officials said, fixation of share swap ratio, shareholders consent ...',\n",
              " \"The bank published the advertisement for the proposed auction in newspapers as well as the social media Currently, Indian Overseas Bank (IOB), Central Bank of India, UCO Bank and United Bank of India are under this framework According to a circular issued by the lender's digital banking division on February 17, cash dispensation from Rs 2,000 currency ...\",\n",
              " \"Funded assets of the bank rose marginally to Rs 1.06 trillion in December 2019 from Rs 1.04 trillion a year ago SBI Cards expects competition to intensify in future 'Indian Bank is strong in terms of business correspondents', said Chunduru Under the national strategy, the committee has recommended new entrants to the financial system - eligible and willing to undergo ...\",\n",
              " 'The bid validity for five projects is set to expire on February 29 Private sector lender Axis Bank has entered into an exclusive agreement with Max Financial Services and Max Life Insurance to ...',\n",
              " 'According to the RBI data, the system-wide SME loan book stood at Rs 15.7 trillion as of June 2019, up 10 per cent over the 12 ... Gurbaxani is working with Axis Bank at present.',\n",
              " 'In a statement, the finance ministry said Rs 19,950 crore was released to states and union territories on last Monday The MPC is mandated to keep inflation in a range of between 2% and 6% and recent data showed the retail inflation rate in January ...',\n",
              " 'He also said the collateral gives some comfort to bankers while giving finance to exporters, but in terms of recoveries they are ... Max Life is currently the largest non-bank owned private life insurer in India The commercial or debt paper is the favourite route of corporates to raise funds when compared with loans from banks.',\n",
              " 'They help ...',\n",
              " \"The rating agency expects the real GDP growth to slow to 4.6 per cent in 2019-20 from 6.8 per cent in 2018-19, led by a squeeze ... Promoters' voting rights would stand curtailed to 20% until March, and reduce further to 15% from April The global banking and markets segment contributed to $466 million in profits, against $387 million in 2018.\",\n",
              " \"One major obstacle is that the direct stake of the Centre will fall below 51% after the merger Banks continued to lead, with 40% of the industry's market share The Asia-focused lender has been trying to lower costs as it faces a multitude of uncertainties caused by the grinding US-China ... CBDT asks lender to deduct tax at source on notional interest paid The allotment was done for all bids on a pro-rata basis The gross NPA ratio of LIC in the debt portfolio at the end of September 2019 stood at 6.10% The oil company told the court that it had entered into an agreement with Simplex Projects Limited in 2017 for undertaking ...\",\n",
              " \"Established in 1982, Exim Bank is the apex financial institution for financing, facilitating and promoting the country's ...\",\n",
              " 'The average annual grant under was increased by Modi to Rs 14,407 crore in 14th Finance Commission and now to Rs 19,309 crore in ...',\n",
              " 'The SBI chairman said the bank was in the wait-and-watch mode Earlier this month, the central bank opted for a status quo on the benchmark interest rate, amid signs of hardening inflation and ...',\n",
              " 'Non-food credit rose Rs 1.02 trillion to Rs 100.24 trillion Laying more focus on MSME segment, IOB would increase its lending to the sector from the present Rs 31,000 cr to Rs 50,000 cr in ...',\n",
              " 'Regulator aims to usher time-bound settlement of claims and eliminate disparity in charges among different for some common ...',\n",
              " 'The monetary authority also clarified that the interest on these repos will be compounded on an annual basis and will be ... Talking about the current levels of non-performing assets, Basu said banks should have been cautious in some cases SBI reported 4,769 cases of banking frauds worth Rs 30,300 crore during the nine-month period Last week, the RBI harmonised guidelines for deferment of date of commencement of commercial operations (DCCO) for projects in ...',\n",
              " 'The meeting will be chaired by chairman of the Commission, N K Singh, and will be attended by its members including A N Jha, ...',\n",
              " 'In third-quarter results announced earlier this week, the bank said it plans to come out of PCA by focusing on recovery, low-cost ...',\n",
              " \"This is the third downgrade of the private sector lender by Ind-Ra in last one year - which could adversely impact the bank's ... Slippages ratio for FY20 pegged at 3.5 per cent a tad lower than previous year's 3.7 per cent, but MSMEs, agri and retail are ...\",\n",
              " 'Some of the players in the sectors are themselves wary of this unregulated interest rate regime \"The challenge before us is to deeply involve those included.',\n",
              " 'I would urge all of you to think of financial products that meet ...',\n",
              " \"Gross and net non-performing assets rise The lender issued a statement last month assuring customers about its liquidity and stability and said it is making every effort ... Senior officials in UCBs say the central bank has not been practical in its approach Most firms lack proper in-house succession planning; and often don't spend enough time, energy and resources in planning for the ... Lender posts net loss on one-time hit as it opts for lower tax rate This statement comes days after a UBI official said that the government is expected to announce the new name and logo of the ...\",\n",
              " 'The bank was asked by RBI to revisit restructured agriculture accounts, which led to higher recognition of NPA in the sector While home finance can go for a longer period, and vehicle finance loans can reach seven years, analysts say five years is a good ...',\n",
              " 'This means that banks will not be needed to make additional cash reserve ratio against any incremental loans disbursed to the ...',\n",
              " 'The bank had registered a net loss of Rs 346.02 crore during the corresponding October-December period of 2018-19 Better number also aided by NII, which saw an uptick of 25.7% The new rules signal a shift away from enhancing asset classification The NHAI Conciliation Committee recently approved a claim for approximately Rs 707 crore for the ILFS-Fagne Songadh Expressway ... Fresh slippage at Rs 1,647.82 cr; year-ago loss was Rs 609 cr With this reduction, the one-year MCLR has come down to 8.15 per cent per annum from 8.25 per cent, according to a bank ...',\n",
              " 'Follow spirit of April 2017 communique with reference to sector \\'We have successfully done the mergers and recapitalisation of the banks\\', said Thakur Recently Punjab National Bank got board approval to raise Rs 1,000 crore from market through bonds She said the Centre has introduced some features in the budget like \"faceless appeals and sorting out of problems while imparting ...',\n",
              " 'While importers are paying IGST on imports but not claiming credit for the same.',\n",
              " 'This essentially means that the supply of ...',\n",
              " 'The 2020-21 Budget has pegged gross tax revenues for 2020-21 at Rs 24.23 trillion, up 12 per cent from Rs 21.63 trillion in the ... At an extraordinary general meeting, investors approved a resolution to increase authorised share capital from Rs 800 crore to Rs ...',\n",
              " 'Merged entity likely to report 8-10% credit growth, better asset quality next fiscal; equity offering by December The Centre will soon announce the  new name and logo of the entity to be emerged after the merger  of Punjab National Bank (PNB) ... Income increased to Rs 6,051.93 crore, from Rs 4,112.29 crore.',\n",
              " 'On a standalone basis, the net profit increased to Rs 420.68 crore ... A bench comprising Chief Justice S A Bobe and justices B R Gavai and Surya Kant took note of the appeal of the Reserve Bank of ...',\n",
              " \"The bank also reduced interest rate on term deposits - retail and bulk - by 10-50 basis points (bps) across various tenors Gross non-performing assets as a percentage of lending stood at 19.45 per cent at the end of Q3FY20 LVB's financials deteriorated to 5.56 per cent capital adequacy and 21.25 per cent gross NPA ratio in the September 2019 quarter The country has recorded high double-digit credit growth in the past and is capable of achieving similar growth now as well, they ...\",\n",
              " 'Earlier, the RBI decided to hold rates as widely expected and affirmed to stick to the accommodatory stance for as long as it is ...',\n",
              " 'The Kolkata-based bank had reported a net loss of Rs 998.74 crore during the corresponding October-December period of the ...',\n",
              " 'The gross NPA of the bank as a percentage of total lending stood at 15.48 per cent The market has taken the long-term repos worth Rs 1 trillion as the biggest developmental and regulatory step that came out of ...',\n",
              " 'In August last year, Finance Minister Nirmala Sitharaman had announced merger of 10 banks The Reserve Bank does not see any major impact on the balance-sheets of banks due to the five-fold hike in deposit insurance to ...',\n",
              " 'The RBI has cumulatively cut the repo rate by 135 basis since February 2019 to a nine-year low of 5.15 per cent Cantor Fitzgerald is led by Anshu Jain, the former co-CEO of Deutsche Bank AG Going forward, we think that the scales could tip in the favour of growth as soon as inflation prints become more palatable,\" the ...',\n",
              " \"This will be the biggest merger exercise of PSBs, which was announced by Finance Minister Nirmala Sitharaman in August 2019 If the bank formed after amalgamation is not given a separate name, people would feel that OBC and UBI merged into PNB The cover is provided by the Deposit Insurance and Credit Guarantee Corporation (DICGC), a wholly-owned subsidiary of the RBI He is at present Competition Commission of India (CCI) secretary Net NPA which was 3.7 per cent last year third quarter dropped to 2 per cent during the current fiscal Rating agency Crisil on Tuesday warned of potentially high stress in non-banking lenders' wholesale book well above the reported ... At present, the bank is returning excess capital to the district banks which are its members Bank frauds reduced significantly from Rs 38,548 crore in the 2016-17 fiscal to Rs 16,084 crore in 2017-18 fiscal Bank officials said the money raised through tier II bond offering is expected to increase Capital Adequacy Ratio (CAR) by about ...\",\n",
              " 'Non-food bank credit growth decelerated to 7 per cent in December 2019 from 12.8 per cent in December 2018 State-owned Punjab National Bank is seeking IRDAI forbearance on cutting down stake in Canara HSBC OBC Life Insurance, which will ...',\n",
              " 'However, private sector lenders like ICICI Bank and HDFC Bank were operational The government is likely to unveil, in the Union Budget 2020, a Troubled Assets Relief Programme (TARP) similar to what the US ... Equity markets also discount PSBs All four categories - agriculture, industry, services and retail - segments showed deceleration in credit growth Net interest income up 24% to Rs 4,118 cr; GNPAs at same level as last year IBA offered a 15 per cent hike in wages, a revision over previous offer of 12.5 per cent at bilateral meeting of bank and trade ...',\n",
              " 'Earlier this week, a meeting with the Chief Labour Commissioner remained inconclusive, AIBOC President Sunil Kumar said The RBI has also estimated a dip in stress at its bi-yearly stability report in December Private lender withdraws writ petition from Bombay High Court As part of this renewed contract, the Bengaluru- headquartered IT major will enable ABN AMRO Bank to achieve its business and ...',\n",
              " 'The coupon rate for the issue will be 7.65 per cent per annum, the filing added.',\n",
              " 'RBI had issued show cause notice to bank as to why penalty should not be imposed for non-compliance The MSME sector has been reeling from stress for quite some time Private life insurer IDBI Federal Life Insurance on Wednesday announced the appointment of Mathivanan Balakrishnan as its Chief ...',\n",
              " 'While the gross premiums underwritten by private non-life insurers grew by 17 per cent to Rs 69,488 crore, that of the ...',\n",
              " 'Measures to protect prudent commercial decisions of PSB brass The solution offered by the central bank is to kick start the capex cycle.',\n",
              " 'Moreover, Irdai has said a bank in its capacity as a group organizer may have group insurance arrangements with any number of ... Total income grew 28.5 per cent to Rs 1,414 crore during the quarter, from Rs 1,100 crore in the year-ago period \"The insurance companies shall make suitable arrangements with the acquiring banks to this effect,\" said the the Insurance ... Non-banking finance companies (NBFCs) have sought setting up of a permanent refinance window for the sector in the Union Budget, ...',\n",
              " 'The lender sold the shares at an average price of Rs 1.91 apiece, which took the total deal value to over Rs 5.77 crore.',\n",
              " 'Finance Minister Nirmala Sitharaman at several occasions assured bankers that adequate measures would be taken to protect honest ...',\n",
              " \"The Flipkart co-founder resigned for proprietary reasons as he moves to launch his own digital banking entity BoB's new managing director and chief executive Sanjiv Chadha tells Business Standard that while the bank has a comfortable ...\",\n",
              " \"The mortgage lender received fair value gain of Rs 9,020 crore from derecognition of investment in Gruh Finance In the three months to December period, BoB's fresh slippages stood at Rs 10,387 crore, of which Rs 4,509 crore were on account ...\",\n",
              " \"It is also leveraging artificial intelligence to immediately identify and block suspicious activities Responding to an RTI query, the central bank said a total of 181 fraud cases involving Rs 127.7 crore were noticed during 2018-19 The industry has also urged the government to create a dedicated fund for MFIs which are financing water and sanitation projects The two leading urban co-operative banks (UCBs) - with over 100 years of history each - will be the first to seek the central ... Credit costs could stay elevated in the coming financial year The periodic data from the Reserve Bank of India highlights how the slowdown is hurting the banking sector DCB Bank's total income was up 13.66 per cent at Rs 990.89 crore during the quarter under review as against Rs 871.78 crore in ...\",\n",
              " 'The private sector lender had posted PBT of Rs 1,902 crore in Q3FY19 Notably, earlier this financial year, the government had infused about Rs 6896 crore in the bank The Chief Justice said tax judiciary plays a very important role in resource mobilisation of the country and expressed concern ...',\n",
              " 'The performance was in line with expectations, Padmaja Chunduru, MD & CEO, Indian Bank said Finance Minister Nirmala Sitharaman had said in the last Budget that no charge would be levied on UPI and Rupay transactions Bank unions have called for a two-day nationwide strike on January 31 and February 1 after talks over wage revision failed to ...',\n",
              " \"The company will be issuing shares to promoter entity Cholamandalam Financial Holdings, to raise around Rs 300 crore in one or ... Net premium income saw a 13% rise to Rs 7,854 crore in Q3 versus Rs 6,897 crore in the year-ago quarter Advances grow at tepid pace in Q3, indicating slowing loan demand With the account being declared 'fraud', banks are not expected to make additional provisioning; it has been already classified a ... Kumar's statement follows speculation that the government, which controls SBI, may ask the lender to play a role in bailing out ... FPIs will also be allowed to invest in exchange traded funds or ETFs that invest only in debt instruments, the RBI said.\",\n",
              " 'The short-term investment limit has now been increased from 20 per cent to 30 per cent in both the cases, the RBI said in a ...',\n",
              " 'Instead of just focusing on earning brokerage selling ETFs, broking houses are also considering packaging multiple ETFs as part ...',\n",
              " 'The cut-off yield for 7.32 per cent-2024 was 6.408 per cent, while for 6.45 per cent-2029, it was 6.5780 per cent Gross NPAs also fell to 12.64% from 15.82% Puri, whose term comes to an end in October this year, is also an advisor to the search committee tasked with identifying a ...',\n",
              " 'The RBI was forecast to next cut rates by 25 basis points to 4.90% in the October-December quarter, according to the poll ...',\n",
              " 'The exposure, which is for the period ended September 2019, is across various platforms such as life funds, pension funds, and ... Post the ransomware attacks of 2017, the demand for cyber insurance from the manufacturing sector has been on the rise,\" said ...',\n",
              " 'The stock closed lower by 0.7 per cent at Rs 712.7 per share on BSE The bank unions have called for a nationwide strike demanding to expedite the process of wage settlement due since November 2017 The central banks of Britain, the euro zone, Japan, Canada, Sweden and Switzerland announced a plan to share experiences to look ... Abhishek Dafria, Vice President and Head - Structured Finance Ratings at ICRA, said the volume in Q3FY20 were low compared to ...',\n",
              " 'The regulator had planned to implement IndAS 117, which is an equivalent of IFRS 17, and IndAS 109 from April 1 onwards, but the ...',\n",
              " 'Unlike banks, it said these types of companies do not have the repo window facility to borrow in times of need The government has appointed Sanjiv Chadha as the new managing director and chief executive of Bank of Baroda One-time pension charge, higher provisioning impact profits Most officers want to opt out; issue to be taken up at central board meet At present, the Indian banking credit outstanding is nearly Rs 99 trillion The specific loan loss provisions in the current quarter include one-offs of approximately Rs 700 crore, primarily relating to ... Total income rose to Rs 36,039 crore during the December quarter against Rs 30,811.27 crore in the year-ago period, HDFC Bank ... With difficulties in NBFC sector continuing, economists at SBI on Friday pitched for the Reserve Bank to play its role as the ... Patra wrote the monetary policy framework, which targets flexible inflation targeting, and is the basis of the six-member MPC in ... Warrier has been the chief operating officer of the bank since November 2015, and also holding the additional responsibility of ...',\n",
              " \"The PCA norms trigger if a bank's net NPA crosses 6 per cent or if CRAR (capital to risk weighted assets) is below the regulatory ... All these departments, in the past six months, were being managed by the three deputy governors In the consumer credit segment, delinquencies have gone down in automobile loans by 22 bps and in personal loans by 5 bps Facilities can be activated only when the customer specifically requests for it After the two-day strike, bank unions are planning to hold a three-day strike from March 11 to 13 and indefinite strike from ...\",\n",
              " 'The bank has asked its customers not to pay heed to rumours about its financial health The Wadhawans shall help the committee in valuation of HDIL\\'s encumbered properties, the court said Khatanhar took charge as DMD on Wednesday, the filing said There had been offers from Erwin Singh Braich, Citax Holdings and Citax Investment Group A more granular analysis of FY19 and FY18 credit data shows that of the 161 and 148 firms which fall in the \\'very large accounts\\' ... Fintech companies will need to design solutions with merchants in focus to encourage faster adoption, he says The truth is - falling market share of state-run banks is not something many will want to comment on record The figure was Rs 985 crore in the same quarter a year before Sequentially, net profit declined 24.79 per cent as it registered a profit of Rs 972 crore in Q2 The bank, in a regulatory filing on Tuesday said that the regulatory restrictions by RBI on opening new branches, through their ... \"They will study the suggestion of each of the banks.',\n",
              " 'If there are certain areas which need to be harmonized in tune with the ... Soft spoken, articulate, and celebrated for his disciplined and original research work, Patra is known to take hawkish stance who ... Michael Patra will take over as the fourth deputy governor at the Reserve Bank of India \"Your money is 100 per cent safe with Sri Guru Raghavendra Sahakara Bank.',\n",
              " 'It\\'s my responsibility,\" Ramakrishna said at Sri Guru ...',\n",
              " 'The fresh set of guidelines, which will usher in a stricter compliance regime, is in the works and could be in the public domain ...',\n",
              " 'The bank is seeking recovery of amounts towards the clawback of bonuses given to her from April 2006 to March 2018 after her ...',\n",
              " 'The bank further stated that Kochhar flagrantly violated the ICICI Group Code of Business Conduct and Ethics.',\n",
              " 'In an interview with  Business Standard, VIKAS KHEMANI, founder, Carnelian Capital Advisors says earnings should grow by 13-15 ...',\n",
              " 'Better share of retail assets, improved underwriting standards were the positives of his first year as MD & CEO; asset quality ...',\n",
              " 'Seven stand-alone private sector health insurers collected Rs 1,258.14 crore premium during the month The cause for concern for the RBI in this regard is that it has no control over the NDF market, whereas, the onshore market is ...',\n",
              " 'This is a remarkable scale down by the bank, which urgently needs capital, but has failed to get so The amount of monetary penalty would vary depending on the impact on account of various factors The Pradhan Mantri Jan Dhan Yojana (PMJDY), launched in August 2014, was a \"watershed\" in the financial inclusion movement in the ...',\n",
              " 'The bank also said it would not proceed with a $1.2 billion offer from Canadian investor Erwin Singh Braich and SPGP Holdings ...',\n",
              " 'If given a license, Chaitanya will be the second microlender after the West Bengal-focused Bandhan to be granted a universal ... Union Bank of India has reduced the MCLR by 10 basis points across all tenors with effect from January 11, 2020 Chhattisgarh has asked bankers to streamline financial inclusion in restive region Gross hiring till December FY20 has been of 28000 employees and attrition inched up by 2 per cent in FY20 With this app the bank is targeting 3 million places of worship, 600,000-800,000 housing societies; 2,000+ clubs; and 500+ cities ... Sources said the settlement amount could be revised up to four times upwards Though MGNREGA and PM-Kisan have clear rural focus, they think excess public spending should only be on capex This cover will be for SBI funded residential projects and those availing home loan for SBI The time taken for resolution of bad loans is also likely to reduce going ahead with stronger resolution mechanism, he said Rajnish Kumar is hopeful that resolution time of stressed asets will fall below 5 years The banking regulator is seeking an early exit mechanism for private banks under PCA Bankers said they are looking outside the bankruptcy courts and will be able to resolve a few debts in the power sector before ... FIEO President Sharad Kumar Saraf said that it is unfortunate that exporters have been singled out for GST frauds The headroom will not be available in FY21, unless public sector banks are adequately recapitalised The central bank has accepted the recommendation Long-term bond yields have come down by 20 bps since first OMO last month Offers to purchase three securities, including 10-year benchmark govt bond The RBI had come with a scheme on voluntary transition of UCBs into Small Finance Bank (SFB) on September 27, 2018.',\n",
              " 'But there was ...',\n",
              " 'The base size of the issue is Rs 500 crore with an option to retain oversubscription up to Rs 1,500 crore Foreign money is coming into the market and because of stability in rupee the hedging cost is also lower The bank crossed Rs 5 trillion total business mark at the end of December 31, 2019 The move comes in the backdrop of the scam in Punjab and Maharashtra Cooperative (PMC) Bank causing distress to over 9 lakh ...',\n",
              " \"Regulator may place restriction on declaration or payment of dividend/donation without prior approval of RBI EXIM Bank confirmed that it is in the market but did not divulge specific details about the issues Bank also launches its farmer outreach programme 'Har Gaon Hamara' Infrastructure finance companies might have to brace for additional pressure on asset quality from exposure to renewable energy ...\",\n",
              " 'The independent watchdog for auditing profession has sought applications for 10 posts of consultants and senior consultants on ...',\n",
              " 'The notification of the returns followed Budget announcements making income-tax return filing mandatory for certain persons even ... ITR 1-Sahaj is for individuals having an annual income of up to Rs 5 million from salaries, a house, interest income, family ...',\n",
              " 'The framework is used to put lenders with high non- performing assets, weak return on assets and low capital adequacy ratio on a ...',\n",
              " 'The government, which usually notifies forms for filing income tax returns by individuals in April every year, on January 3 ...',\n",
              " 'Following an NCLT order dated December 3, Subramaniakumar, through a public notice, had asked all the creditors including fixed ...',\n",
              " \"According to sources, promotions and transfers till scale four at officers' level for the financial year 2020-21 is being decided ...\",\n",
              " 'The Board of Directors of the Bank accepted the resignation on the day and he will be relieved from services on March 31, based ...',\n",
              " 'In a regulatory filing to the stock exchanges, the bank said it has received the amount as contribution of the government in ... CRISIL believes BoB will be able to maintain adequate capitalisation over the medium term, backed by capital support from the ...',\n",
              " 'Speaking at an interactive session organsied by FICCI, Rajnish Kumar said private investment was necessary for achieving the ... Jammu and Kashmir Bank on Saturday said the RBI has permitted lenders to extend the rehabilitation benefits applicable to the ...',\n",
              " \"In August 2019, the Finance Ministry had announced capital infusion of Rs 3,800 crore which was later increased by Rs 560 crore Ten central trade unions have called a nation-wide general strike on January 8 'to protest against anti-labour policies' of the ... For customers with loans above Rs 75 lakh, the effective rate will be 8.45 per cent.\",\n",
              " 'For women borrowers in each loan category, ...',\n",
              " 'Direct tax collection target for the current fiscal has been pegged at Rs 13.35 lakh crore despite corporate tax relief of 1.45 ...',\n",
              " 'Currently, State Bank of India (SBI) holds 5.19 per cent stake in the exchange Banco Exterior De Cuba is a nominated agency of the Government of Cuba The issue which opened on Thursday and closed the same day, saw a total of 11 allottees through private placement of bonds, the ...',\n",
              " 'Under financial inclusion, the bank has about 58,000 BCs and 22,010 branches across the country to offer banking services RBI said it reserves the right to decide on the quantum of purchase/sale of individual securities; accept bids/offers for less ...',\n",
              " \"In the year-ago fortnight, banks' advances stood at Rs 92.87 trillion, while deposits were at Rs 118.16 trillion Sheth further said they will also be tapping the customers from those developers whom it funds now to grow the loan book Power supply fell to 101.92 billion units in December, down 1.1% from 103.04 billion units last year, an analysis of daily load ...\",\n",
              " 'The PCBA is a key component in the mobile manufacturing ecosystem.',\n",
              " \"It sought continuation of BCD on mobile phones at 20 per cent The base size of the issue is Rs 200 crore with an option to retain oversubscription aggregating up to Rs 1,000 crore The free app doesn't need Internet connection and can identify Mahatma Gandhi series of notes, both old and new, included in half ...\",\n",
              " \"These UCBs must obtain prior approval of the RBI for appointing the CEO A cheer for depositors, the move is contrary to what RBI and banks had advised The new board of Infrastructure Leasing and Financial Services (IL&FS) expects to recover close to 50 per cent of the firm's ...\",\n",
              " 'The RBI-regulated entities have to amend their contracts at the earliest or at the time of renewal, in any case not later than ...',\n",
              " 'While concerns have been expressed of late that stress may be on the rise in the retail loan books, it is also true that lenders ... Non-banking financial companies (NBFCs) continued to contribute significantly to the economy The size of the distressed asset fund is expected to be on the lines of the government of India-backed AIF for distressed housing ... A problem which is now being worked upon is to how to marry the low cost of funds from banks with the lower cost of operations of ... S Sundar follows at least three other senior executives, including former CEO Parthasarathi Mukherjee, who quit in August Non-food credit growth of banks slowed to 7.2 per cent to Rs 86.73 lakh crore in November, according to the latest data from the ...',\n",
              " 'The BoM will be constituted by the Board of Directors (BoD) of the UCBs concerned within one year, the RBI said The crippled non-banking financial companies are hoping for better days in the New Year as they expect liquidity condition to ... United Bank of India has written to the Government seeking a new name for the entity formed out of its merger with Punjab ...',\n",
              " \"Under his governorship, Das silenced the ever-hungry market and North Block mandarins with 135 basis points reduction in interest ... Interestingly, instead of the 10-year bond yields coming down, it increased about 5 basis points to close at 6.55% after the OMO Industry fears the move to drag the growth of digital payments UCBs' target for priority-sector lending has been proposed at 75 per cent of their credit from 40 per cent now At the start of the decade, the government was busy infusing stimulus packages to revive various sectors affected by the global ... 96% of loans disbursed are non-performing Move to boost NETC, foster competition among system participants; turnaround time for resolving failed transactions will be ...\",\n",
              " 'The RBI had announced to purchase and sell simultaneously government securities under Open Market Operations (OMO) for Rs 10,000 ... \"Every fundamentals indicate towards higher growth and better future next year,\" Finance Secretary Rajiv Kumar told PTI, ...',\n",
              " 'The new rates will be applicable from January 1, 2020 Automation also needs to be accompanied by a transformation of skills and talent to enable the finance function to  take on the ...',\n",
              " 'In the last financial year 2018-19, sources said, these companies had reduced their debt burden by about Rs 43,000 crore The Deposit Insurance and Credit Guarantee Corporation has received a total claim of about Rs 14,100 crore in case of defaulting ... Over the past four years, total financing to real estate companies nearly doubled to Rs 2.01 trillion, shows the FSR released on ... After getting it badly from markets watchdog Sebi, credit rating agencies (CRAs) whose role in the bad loan implosion has been ...',\n",
              " 'The RBI declined to give copies of two complaints received by it regarding \\'irregularities\\' in the bank and the action taken on ... PSBs may report fraud through e-filing of FIRs on a designated email address of CBI Apex bank\\'s FSR report says equity prices may also be used to determine \\'intermediate\\' rating action, but advises caution about ... Sitharaman said bankers have no reason to fear the \"three Cs\", referring to the Central Bureau of Investigation (CBI), Central ...',\n",
              " 'It said that PSBs have attached assets worth over Rs 2.3 lakh crore over the last three financial years Says geopolitical uncertainties an overhang; CAD to remain under control On a year-on-year basis, a large variation was observed in HPI growth, with Kanpur recording the highest rise (18.3 per cent) and ... As of 2018-19, the premium collected from member banks was Rs 12,040 crore, of which commercial banks contributed 93 per cent ...',\n",
              " 'Currently, the UCBs are not a part of the CRILIC reporting framework.',\n",
              " \"The RBI's move will help strengthen offsite supervision and ...\",\n",
              " 'Following NBFCs, HFCs were the second-largest borrowers of funds from the financial system with gross payables of around Rs 5.9 ...',\n",
              " 'State-owned banks have been grappling with stressed loans and limited capacity to absorb further rise in slippages expected due ...',\n",
              " 'This involved 4,412 fraud cases of Rs 1 lakh and above, as per the report What is more pertinent is the divestment revenue.',\n",
              " 'Of the Rs 1.05 lakh crore budgeted for the year, only 17 per cent have been ... To start with, UCBs will be required to submit CRILC report on quarterly basis with effect from December 31, 2019 Non-bank lenders witnessed stress in their asset quality in the first half of the current fiscal, with gross NPA ratio increasing ...',\n",
              " 'The fall in 10-year G-Sec yields is estimated to benefit state-owned banks by Rs 5,760 crore; Nifty PSU Bank rises 3% Comments come at a time when many promoters of companies are under regulatory scanner This additional factor of authentication will protect State Bank card holders from unauthorized ATM cash withdrawals, it said ...',\n",
              " \"The foreign banks' gross bad loans may increase to 3.1 per cent from 2.9 per cent in September 2019 LIC Chairman M R Kumar handed over the cheque to Finance Minister Nirmala Sitharaman in presence of Finance Secretary Rajiv Kumar ... Have disbursed just Rs 135 cr out of a total assistance of Rd 6,492 cr; Private sector lenders eclipse all banks These assets belong to HDIL group firms owned by Rakesh Wadhawan and his son Sarang, the prime accused in the Rs 6,500-crore scam ...\",\n",
              " 'In August, the finance ministry had announced a capital infusion of Rs 3,800 crore in the state-owned lender.',\n",
              " 'This has now been ... Karnam Sekar, Managing Director and Chief Executive Officer, IOB, recently said that the bank is expected to come out from prompt ...',\n",
              " 'According to ICRA, even in a high-growth scenario, wherein the second half of FY20 sees the incremental bank credit rise to Rs ... Sitharaman will also discuss with PSBs the prospects of launching RuPay credit cards, a move that was recently announced by SBI ... Analysts expect the central bank to cut repo even further Loans and advances of foreign banks operating in India rose about 13 per cent to nearly Rs 3.97 trillion in 2018-19.This was ...',\n",
              " 'The facility will be available to customers on 24x7 basis even on holidays, enabling them to receive or send funds to any bank ...',\n",
              " \"Sales in Mumbai rose 22% in 2019 even though a persistent credit crunch and economic slowdown curtailed recovery in India's ...\",\n",
              " 'The Department of Financial Services in a letter on Thursday conveyed the sanction for release of the fresh capital infusion fund ...',\n",
              " \"The Reserve Bank on Thursday appointed Jammu & Kashmir Bank as the lead banker for the newly carved out union territory of Jammu ... Net NPAs of banking sector stood at 3.8 per cent as of March 2019 The lender has issued 15,000 redeemable Basel III compliant Tier II bonds in the nature of debenture of Rs 10 lakh each, it said Under the Fugitive Economic Offences Act, the court can order attachment of offenders' properties The amount they bought of such NPAs in the 12-month period was less, at Rs 57,506 cr, from the Rs 67,830 cr they acquired in the ...\",\n",
              " 'According to officials, integration of core banking systems may take 12-18 months The sector faces increasing competition from not only scheduled commercial banks (SCBs) but also from small finance banks and ... Frauds have been predominantly in the loan portfolio, both in number and value.',\n",
              " 'In the first half of FY20, asset quality of the sector showed further deterioration with slight increase in GNPAs.',\n",
              " 'In 2017-18, the government had infused a capital of Rs 90,000 and another Rs 1,06,000 crore in 2018-19 into the PSBs, bolstering ...',\n",
              " \"The Budget projected the Centre's fiscal deficit to come down to 3.3 per cent of the country's gross domestic product (GDP) in ... IMF also said there were weaknesses in the deflation method used to derive value added.\",\n",
              " 'Deflators are used to convert GDP at ...',\n",
              " \"The central bank said it would focus on improving supervision of around 1,500 UCBs across the country According to a study titled 'Asia-Pacific Prime Office Rental Index Q3 2019' by property consultant Knight Frank, the National ...\",\n",
              " 'The anti-CAA protests have led to delays in repayments in the entire north-east region, pockets of Uttar Pradesh, as well as in ...',\n",
              " 'Currently, there is not a single domestic lender in the global top 50 list, which since the 2008 global financial meltdown has ...',\n",
              " 'The secured redeemable non-convertible debentures are to be allotted on a private placement basis on Friday for an issue size of ... Net non-performing assets (NPAs) of all commercial banks reduced to 3.7 per cent in FY19 as against 6 per cent in FY18.',\n",
              " 'The kingpin and two of his accomplices were arrested and produced before a court which remanded him in judicial custody and ...',\n",
              " \"The lender investing more than Rs 10 lakh across P2P platforms will produce a certificate to P2P platforms from a practising ... Total advances by all sources - public sector banks, private sector banks and co-operative banks rose to Rs 53,5840.18 crore in ... Banks have stopped issuing suo moto cards for dormant accounts and moved to chip-based cards, weeding out many accounts Alitco's bad loans spiked to 23.8% of its loan book in the July-September quarter, adding to concerns of recovery for the lenders The lender will be listing and e-auctioning the properties it repossessed from defaulters on the realty portal The policy easing cycle this year saw Das and his rate-setting panel deliver a rare 35 basis-point cut in August RBL, Federal and City Union appear better-placed to handle the potential SME loans-related woes; investors should be cautious on ... And to address these issues, there are two things which are happening, one is at the IBA level and another by RBI to develop ...\",\n",
              " 'The PCA framework kicks in when banks breach any of the three key regulatory trigger points namely capital to risk weighted ...',\n",
              " 'He also said that the State Bank of India (SBI) is underutilising its loan sanction limits as there is not enough credit demand ... On rate transmission by banks, Kumar said when interest rate moves downwards then everybody starts talking and when it goes ... On transmission of monetary policy, he said the banks cannot lower rates beyond a threshold due to asset liability mismatch ... At present, pensions products are sold by both insurance companies as well mutual funds, which makes Irdai and Sebi, as the ...',\n",
              " \"Addressing industry representatives, Sitharaman said India's macro-economic indicators were on a solid footing Post process, the effective date of listing for the commercial paper at the exchange will be December 23, the BSE said in a ... India is the second-largest shareholder of the bank and the largest recipient of its loan and equity commitments.\",\n",
              " 'The share of women in terms of number of policies is 36%, higher than what it was in FY18 at 32% The bank reported overall capital adequacy ratio of 11.98% in September this year India Inc leaders, including  Bharti Enterprises Chairman Sunil Bharti Mittal, CII President Vikram Kirloskar and Assocham ... Office properties attracted 46 per cent of the total inflow and received nearly Rs 20,000 crore this year The court also said that the assets of HDIL and Wadhawans must be sold at the earliest in the interest of the PMC Bank and its ...',\n",
              " 'In a similar move, ICRA has downgraded rating on YES Bank\\'s tier-II bonds from \"A+\" to \"A\" In recent months, there have been several instances of under-reporting of bad loans by lenders The RBI said while approving Kochhar\\'s termination, it acted in accordance with the statutory provisions Initially the platform will be to collect fixed deposits for HDFC, Bajaj Finance, and Mahindra Finance, he said, which will be ...',\n",
              " 'Currently, NBFC-MFIs are regulated by the Reserve Bank of India but not-for-profit organisations and SHG-promoting- institutions It can be noted that in January 2019, the insurance behemoth completed acquisition 51 percent stake in IDBI Bank, following which ... To comply with Basel III capital regulations, banks need to improve and strengthen their capital planning processes.',\n",
              " 'Resolution delays coupled with rising provision cover on large legacy bad loans (nearing 90 per cent) could mean that loan ... Word is out that there will be relatively few takers for SFB licences compared to the 72 applicants who lined up in February 2015 Mis-selling and ATM-related complaints have gone up Lender had approached tribunal seeking shares pledged by Karvy to it be unfreezed, saying the clients who owned the securities ...',\n",
              " \"The lender's performance is likely to stay subdued on weak economy, NBFC stress Apart from this, the regulatory and legislative measures taken by the government in the past few years have propelled growth in ... SBI had last year listed its life insurance arm and the proceeds came in handy to fight difficulties in asset quality.\",\n",
              " 'It is also ...',\n",
              " 'The bank added that the board had approved the issuance of these bonds in October The equity shares of the company will be listed on the BSE and the NSE.',\n",
              " 'The facility will be available on all days of the year including holidays In addition to the $277 million dollar loan facility, KfW will also extend a grant of 1.5 million euros to SBI as a technical ...',\n",
              " 'The Enforcement Directorate on  Monday filed a charge sheet against Housing Development  Infrastructure Ltd (HDIL) promoters ...',\n",
              " 'The RBI had asked the bank not to grant or renew any loans and advances, make any investment or incur any liability, including ...',\n",
              " 'In a regulatory filing on Saturday, PNB said the divergence in gross non-performing assets (NPAs) assessed by the central bank ... All banks will be eligible for the intraday facility, but the limit will be set by the RBI from time to time Following exposure of scam in the PMC Bank, which had over 9.15 lakh depositors, the RBI had imposed restrictions on withdrawals These entities will have to reveal divergence in provisioning during auditing India Ratings and Research (Ind-Ra) has revised outlook for the lender from \"stable\" to \"negative\" and affirmed its long-term ...',\n",
              " \"The country's largest lender and Insurance Australia Group (IAG) held 70 per cent and 26 per cent, respectively, in SBI General ...\",\n",
              " 'The CEA also pointed out the recent disinvestment decisions regarding PSU majors BPCL, CONCOR and SCI Banks and non-bank firms are in a feedback loop, especially through exposures to the real estate sector, which is under ... Temasek has invested the money through the conversion of its 1.01 crore warrants.',\n",
              " 'Bank plans to raise $1.75 billion; in talks with five European institutions: Ravneet Gill Granular deposits, which are current and savings deposits and retail term deposits, accounted for 48 per cent of total deposits ...',\n",
              " 'Flagging multiple lapses, the National Financial Reporting Authority (NFRA) has said that Deloitte Haskins and Sells LLP failed ...',\n",
              " \"The one-year MCLR is the benchmark to price most of consumer loans such as auto and personal As part of rationalising its  international operations, state-owned Bank of Baroda Thursday  signed a share purchase agreement ... Patil recalled that he had suggested merger of the PMC and MSC banks to the latter's chairman The Mumbai-based lender said its board failed to reach a final decision on potential investors at a meeting Yes Bank Ltd. shares tumbled the most in two months after its board deferred an announcement on new investors, prompting a ...\",\n",
              " \"The meeting focused on credit flow to the 'productive sectors' which include micro, small and medium enterprises and non-banking ...\",\n",
              " 'The technological interventions were necessitated by the increasing cases of defaults in the microfinance segment This will allow public sector banks (PSBs) to buy pooled assets from financially sound entities The outreach programme is being conducted in 54 zones, comprising 5,000 branches Besides, the company sanctioned Rs 200 crore for Project Grand Omaxe Lucknow in January 2018.',\n",
              " \"The cabinet also approved a pact with Japan to help build high grade steel manufacturing capabilities in the country Funding issues, rising borrowing costs, re-calibration and de-risking of loan portfolios and economic slowdown will weigh on AUM ... Adityanath government to take legal action, including filing for claims with liquidator The stock opened lower on the BSE and slumped further by 19.48% to Rs 40.70 ion day trade The bank last month appointed new leadership to the division and aims to bolster its M&A activity by adding more bankers to ... RBI cited concern about near-term inflation when it took analysts and markets by surprise and kept it unchanged last week Defaults that began in 2017 with the IL&FS Group have triggered liquidity issues across other banks and shadow lenders that now ... FMs' statements in the Lok Sabha show that 41,360 public-sector bank employees have been held responsible and penalised for NPAs ...\",\n",
              " \"Yes Bank needs an arranged match brokered by the RBI, or it's No Bank The cash squeeze in the nation's shadow banking industry, which lends to everyone from street vendors to property tycoons, shows ... As a result, the bank's reported profit of Rs 862 crore for the fiscal year now stands at a loss of Rs 6,968 crore Banks' retail credit growth is up  due to higher reliance on securitisation by liquidity starved  non-banking lenders, and does ...\",\n",
              " 'One-year MCLR now stands at 8.20 per cent, down from 8.25 per cent, the public sector bank said Board of directors will continue to evaluate other potential investors to raise capital up to $2 bn The brokerage said if the RBI is not comfortable with a negative real repo rate, which is the repo rate minus the headline ... IDBI Bank will sell up to 49 per cent stake in its subsidiaries IDBI Capital Markets & Securities Ltd (ICMS) and IDBI Intech Ltd ...',\n",
              " \"The board decided that the final decision regarding allotment to Citax Holdings and Citax Investment Group will follow in the ... HDFC Bank had also cut its MCLR by 10 bps across tenures last month The revised one-year MCLR now stands at 8.30 per cent, down from the existing 8.40 per cent, the state-run lender said in a ... Based on the divergence assessed by RBI in provisioning for bad loans, SBI said it would have reported a net loss of Rs 6,968 ... State-run lenders had posted aggregate operating profits during 2017-18 and 2018-19 of Rs 1,55,603 crore and Rs 1,53,871 crore ... Banking Regulation Act says that prior approval of the RBI is required to terminate the contract of a bank's chairman or managing ... Last week, the country's largest lender State Bank of India had approved diluting up to 8.25% stake in UTI AMC Earlier, Kochhar had stated that ICICI Bank was under statutory obligation to obtain prior RBI approval to terminate her from ...\",\n",
              " \"The bank already has a retail branch at the local Manama Centre, it said in a statement At a meeting on Tuesday, the board is expected to reject an offer from Canada's Erwin Singh Braich and Hong Kong-based SPGP ...\",\n",
              " 'This is the eighth cut in MCLR in this financial year and follows a 5 bps reduction last month; most banks have linked their ...',\n",
              " 'The one year MCLR has come down to 7.90 per cent per annum from 8.00 per cent per annum with effect from December 10, 2019 The only conversion to date of an urban co-operative bank into a commercial bank is DCB Bank in 1996, which was however not a ...',\n",
              " \"In the revised scheme, the inspection of the UCBs solely under the Banking Regulation Act will be done by the central bank RBI and the government had differences on many occasions, but the governor didn't let it play them out in public The merger of the three PSBs is scheduled to come into force from April 1 next year.\",\n",
              " 'The bank mobilised total deposit of Rs 9,72.44 crore and extended loans and advances of Rs 8,864.47 crore at the closing of the ... Banks will also consider requests from MSMEs for restructuring their stressed standard assets After the merger, the combined entity will also see a higher number of chief general managers Sebi to freeze shareholding if extended deadline not met NEFT transactions are settled in hourly batches.',\n",
              " 'For weekdays, the batches are from 8 am to 7 pm.',\n",
              " 'On first and third Saturdays, ...',\n",
              " 'The state-owned lender said the board approved issuance of up to 125 crore fresh equity shares through qualified institutions ...',\n",
              " 'The scrip settled the day at Rs 56 on the BSE, down 9.82% Some of the 10 public sector banks that are merging into four are promoters of insurance entities as well The new centre will allow BoA to raise debt in international currency, even as the foreign bank launched two Indian bond auctions ... Sridharan joined Axis Bank in June 2010 and was made CFO in October 2015.',\n",
              " \"He was previously with Capital One Financial, a ... Bank says it concluded the QIP at an issue price of Rs 351 per share pursuant to the allotment of 57.7 million equity shares The report released by environmental groups on Thursday cites more than 1,000 new coal power stations or units in the pipeline The deal includes a commitment of $150 million in NIIF's Master Fund and co-investment rights of up to $450 million in future ... A call will be taken on further course of action once the RBI gets the report The RBI said it would amend the guidelines for UCBs to reduce concentration risk in exposures The market and economists were expecting a sure cut in the policy review, considering the weak growth rate All these analysts agree that a rate cut is on the table but are not the same page on the timing though The CBDT has sought inputs from stakeholders on draft notification proposing amendments December 19 RBI governor says sector being closely monitored; credit flow is improving On September 23, the RBI had imposed regulatory restrictions on the PMC Bank for six months over alleged financial irregularities The bank's customers couldn't access these services from 10 am on Monday to early Wednesday morning.\",\n",
              " \"Many tweeted saying they ... SFBs will at once be identified as scheduled banks and can open branches immediately The bank's PMI has crossed 50 points for the first time this month indicating that sentiment is positive The forensic audit report on the  scam-hit Punjab & Maharashtra Co-operative Bank is expected by  the end the month, Reserve Bank ...\",\n",
              " \"The state-owned banks account for a dominant share (around 90 per cent) of impaired loan stock and have cumulatively written-off ... Retail lending, however, is growing at a decent rate, the bank said Global rating agency says potentially stressed assets and low loss-absorbing buffers may add pressure to the bank's funding and ...\",\n",
              " \"In India's context, corporate loans both standard and Non-Performing Assets (NPAs) have been transferred from banks to other ...\",\n",
              " 'The Maharashtra government has  suggested merger of the scam-hit Punjab & Maharashtra  Cooperative (PMC) Bank with the MSC Bank ... Arvind Kumar Sharma of the ruling Bharatiya Janata Party said on one hand the nation was moving towards Digital India while on ...',\n",
              " 'These measures are expected to strengthen the resilience and sustainability of UCBs and protect the interest of depositors, it ... PPIs have been playing an important role in promoting digital payments and bringing in the new PPI will further facilitate its ...',\n",
              " \"If Reserve Bank's rate cut pause has shocked you, blame it on inflation The comments come a year after the government tagged Bitcoins and other crypto-currencies illegal and following which the RBI ... Banking and policy experts said government lending schemes had a track record of skimping on due diligence, leading to ...\",\n",
              " \"The industry has been reeling from a crisis triggered by the shock collapse of financier IL&FS Group last year, which has been ... Canara Bank Chairman T N Manoharan said his bank was having a business of Rs 10 trillion and the Syndicate Bank R.five trillion The minister said railways spend a lot a funds on cleanliness, running suburban railway trains, gauge conversions and others The government is keen to revive credit growth and spur Asia's third-largest economy, which expanded at the slowest pace in six ...\",\n",
              " 'If the central bank views asset purchases as a way to influence the waning quantity of money, then it should act now.',\n",
              " 'Doing so ... Recovery rates from bad loans have improved after the implementation of the bankruptcy code in 2016 Financial creditors initiated around 1,086 cases or 43 per cent The Economic Offences Wing of the Mumbai Police arrested three former directors - two of them women - of the Punjab & Maharashtra ... Till November 22, the central bank bought Rs 4,300 crore of bonds Retail banking is showing early signs of stress, and growth may well have peaked Some creditors to Altico Capital India Ltd., which focuses on real estate lending, are concerned that the absence of fresh equity ...',\n",
              " 'The bank has apologised on Twitter and assured customers that the problem will be resolved soon The information was provided by Minister of State for Finance Anurag Singh Thakur in a written reply to a question on \"fugitive ... Finance Minister Nirmala Sitharaman in September had asked banks to reach out to customers and signal their willingness to lend ...',\n",
              " \"The minister said that out of 18,782 cases filed under IBC, 2016 at the end of June 2019, 2,173 cases were admitted under the In August, the government announced a mega plan to merge 10 public sector banks into four with a view to creating fewer and ... Fitch said the rating outlook for most Indian banks mirrors the stable outlook on India's sovereign rating The corporation covers all commercial banks, including branches of foreign banks functioning in India, local area banks and ...\",\n",
              " 'The bank is expecting that a little less than 50% of its portfolio will be dominated by affordable housing loans in the next 3 to ...',\n",
              " 'The court gave her time till December 9 to amend the plea and serve notice on the RBI The new product is targeted at those who can deliver a \"relationship value\" of over Rs 5 crore, as against the earlier Rs 30 lakh ... On Friday evening, the bank had announced that its board had agreed to raise $2 billion from an assortment of investors \"Over 62% or about $58 billion of the total loan advances ($93 billion) to Indian real estate by banks and NBFCs/HFCs is ...',\n",
              " 'The third largest pure-play mortgage player has been in liquidity crisis for long and on November 20 the RBI had superseded its ...',\n",
              " 'The Bill seeks to replace the Ordinance which was promulgated by the President in September The Finance Minister said that in case of medical emergencies, marriages and other crisis situations, a depositor of the PMC Bank ...',\n",
              " 'The board will meet again on Dec. 10 to approve a preferential allotment of shares to investors, none of which will receive more ...',\n",
              " \"In April 2019, the bank had first disclosed that it had started to provide extra capital, but had not given out the exact levels ... India's richest man, Mukesh Ambani, wants to connect 30 million small retailers with common inventory-management, billing and tax ...\",\n",
              " \"Even as market rates have fully reflected the rate cuts, companies are not necessarily in the mood for borrowing, as they face a ... Board agrees to allot 24.24 mn shares at Rs 340.70 apiece; RBL had already told shareholders at AGM that it would raise equity ... Chief Minister Pinarayi Vijayan also tweeted that the state's own bank would commence soon.\",\n",
              " \"With this, the holding of Reliance Project Ventures and Management Ltd in Reliance Infra has come down from 30.05 per cent to ... Banks are supporting finance companies also by buying the high retail loan pools and SME An interim moratorium on the assets of the beleaguered company has also commenced following the RBI's application, and will ... Board of directors held marathon meeting which lasted over eight hours Liquidity pressures faced by the non-banking financial sector following the IL&FS failure are likely to continue though funding ...\",\n",
              " 'According to him, the mode of recapitalisation that is being done now is through the issue of bond Yes Bank Ltd. is expected to name the investors and the amount of money they will contribute after its board signs off on the ...',\n",
              " \"It wasn't too long ago that economic aspirations for India echoed China's.\",\n",
              " 'Now this young country of 1.4 billion people is ...',\n",
              " \"Even as banks have written off more loans than before, recovery of bad loans has also improved substantially in the past couple ... Housing, commercial vehicle and term loans fall 23-85% in the September quarter; gold loan reports growth The Chennai-Kanyakumari Industrial Corridor is part of the East Coast Economic Corridor in Tamil Nadu Presently, Muthoot Fincorp has over 3,600 branches in India, with seventy percent in southern markets Under the pact, EHFL and BoB will share risks and rewards in creating a conducive lending ecosystem for home loan seekers Natural calamities, over-lending and liquidity issues with NBFCs add to the sector's woes The issue, which opened on Tuesday and closed the same day, saw a total of 21 allottees through private placement of bonds This includes over Rs 8,820 crore for the newly formed union territories of Jammu and Kashmir and Ladakh The funds have invested about $2 billion this year in the country's non-bank financing sector, which is worth some $40 billion.\",\n",
              " 'Simply put, it will do away with the prevailing situation wherein non-banks have no clue on the status of credit exposure of ...',\n",
              " 'The shareholders of Ujjivan Financial Services will get shares at a discount of Rs 2 per share to the final issue price.',\n",
              " 'The issue will comprise fresh fund raising worth Rs 500 crore, which will be used to augment the capital base to meet future ... A court here has allowed the RBI-  appointed administrator for PMC Bank to sell two airplanes and  a yacht belonging to HDIL ...',\n",
              " 'The regulator has penalised the broker with a fine of Rs 1 crore each for violating norms on related party transactions and not ... Real estate industry associations - CREDAI and NAREDCO have been seeking this one-time rollover Ministry was reluctant to assign serial numbers initially, but relented after SBI raised concerns about internal control and ...',\n",
              " 'The Mudra loan scheme was launched by Prime Minister Narendra Modi in 2015 to help the highly under-funded small and medium ...',\n",
              " 'The current round of fundraising will help the bank deepen its penetration in Punjab and expand into Haryana, Rajasthan and NCT ... India is hardly immune to the global trend of sliding fees and trading commissions.',\n",
              " 'Bankers, NCLT said, failed to appear in the case relating to the IL&FS fraud despite repeated notices from the ministry of ...',\n",
              " 'The top 10 states constitute 82.7 per cent in terms of GLP The provisions in the IBC provide for the orderly resolution of a stressed company.',\n",
              " \"Until now, the only resolution framework for ... Banks have an exposure of Rs 38,000 crore in DHFL, which owes Rs 84,000 crore to mutual funds, retail depositors, and others May resort to debt recovery tribunals or Sarfaesi Act for the smaller ones Speaking to an audience comprising of all the top bankers, RBI deputy governor said the new guidelines will be put in public ... At Business Standard Banking Forum 2019, India's top bankers discuss the difficulties facing the country's financial services ...\",\n",
              " 'Under the Basel-III norms, AT-1 bonds come with loss absorbency features, meaning that in case of stress, banks can write off ...',\n",
              " 'The EOW has already given its consent to dispose of these properties earlier However, the buyer of the shares could not be ascertained Were RBI and govt slow to react to the NBFC crisis?',\n",
              " \"There was an initial feeling that it was a one-institution problem, but going ... Rajesh Mirjankar, MD and CEO of InfrasoftTech, says it's a popular myth that bankers do not understand technology SC ruling last week not only paved the way for ArcelorMittal's purchase of Essar Steel India Ltd., but also allowed banks to set ...\",\n",
              " 'The committee would comprise of Rajiv Lall, non-executive chairman, IDFC First Bank Ltd, N S Kannan, managing director and CEO, ...',\n",
              " 'The potential write-off would place an additional burden on Indian banks already struggling with $130 billion of bad loans, one ...',\n",
              " 'This comes at a time when the RBI is sprucing up its regulatory and supervisory architecture to meet the challenges of the ...',\n",
              " \"The Mumbai-headquartered pureplay mortgage lender has become the first NBFC or housing finance company to go for bankruptcy ... SBI's market capitalisation on Friday stood at a low Rs 2.95 trillion, which is just about 42% of private sector HDFC Bank's Rs ... Edelweiss Personal Wealth Advisory has witnessed an increase of 25 per cent in its client base in Bhubaneswar in the last two ... After watching the shadow banking industry collapse in slow motion for more than a year, authorities have decided that enough is ... For over ten years, the RBI has denied RTI applicants this information arguing that it would be against the economic interests of ...\",\n",
              " \"The UP Power Corporation Contributory Provident Fund Trust also has an intervenor application, seeking release of Rs 4,100 crore Bank's credit grew by 8.07 per  cent to Rs 98.47 lakh crore in the fortnight ended November  6, according to the recent RBI ... His resignation was announced by the Citi Asia Pacific chief executive Peter Babej over email to the employees The non-compliance included the opening of savings bank accounts of a co-operative society and non-adherence with directions on ... Vikram Akula is the non-executive chairperson and co-promoter of the company State Bank of India reported fraud of ₹25,400 crore followed by Punjab National Bank of ₹10,800 crore and Bank of Baroda of ...\",\n",
              " \"The bank's stock has fallen 65% to Rs 64.15 a share, this year to date Gross non-performing assets assessed by the Reserve Bank of India were $457 million higher than Yes Bank had disclosed as of ... FM Sitharaman says 5,743 incidents in govt banks from April to September this year Year to date, the stock of YES Bank has fallen 65 per cent to Rs 64.15 a share Are mergers and acquisitions around the corner?\",\n",
              " 'Patel on how the fintech company plans to build its business, get a small finance bank licence The proposed curbs on core investment companies will make it tough for large corporate groups to funnel capital as they did in ... After providing for in Q2, incremental gross NPA is Rs 2,018 cr; additional provision required is Rs 632 cr Review covers 37 SCBs (18 public sector banks and 19 private sector banks) and the figures are as on November 14 This IPO is mainly to meet the regulatory requirement.',\n",
              " 'RBI had asked the Bank to list on the bourses by September but this was ...',\n",
              " 'In a detailed affidavit filed before the Bombay High Court on Tuesday, the Reserve Bank of India (RBI) has virtually admitted ...',\n",
              " 'The Economic Offences Wing (EOW) of the Mumbai Police is probing the alleged Rs 4355 crore scam in the bank Yes Bank closed on Tuesday 2.66 per cent lower, at Rs 64.15 a share, on the BSE.',\n",
              " 'Banks led by SBI may make a representation to the RBI, stating the current resolution process did not find much success and they ...',\n",
              " 'The bank had reported Rs 11,333.24 crore net NPAs during the year while the RBI assessed it at Rs 13,898.24 crore Indian Bank is the acquiror while Allahabad Bank is the transferor The Reserve Bank employees unions  on Tuesday urged the government to hike the insurance cover on  bank deposits from the present ...',\n",
              " \"It is alleged that there was illegal transfer and misuse of funds from government accounts The RBI had imposed regulatory restrictions on the PMC Bank for six months over alleged financial irregularities One of the active investors in the sector is International Finance Corporation, the World Bank's investment arm Authorities have taken more steps recently to help the shadow bank sector, which plays a vital role in getting money to everyone ... Its corporate loan book stood at over Rs 16,100 crore at the end of September The Reserve Bank is in the  process of setting up a 'college of supervisors' to augment  the supervisory skills of its key ... RBI has been blaming banks for slower transmission of its policy moves into their lending rates and continuously nudging them to ...\",\n",
              " 'Most highly rated companies are enjoying rate benefit of more than 150 basis points in their working capital raised from the ...',\n",
              " 'According to a source close to the development, the bank is still in talks with the investor and has not taken any decision on ... the ministry notified the framework for dealing with systemically important FSPs, excluding banks, under the Code wherein ...',\n",
              " 'Some are using artificial intelligence to identify the right candidate.',\n",
              " 'Federal Bank, for instance New scheme likely for wholesale at Rs 25 lakh; proposals could figure at RBI board meet Bank of India had a fall in its net NPA divergence by Rs 329 crore for 2018-19 Blames lack of it for elevated levels of NPAs, capital shortfalls, fraud Insolvency proceedings will be initiated only on an application by the appropriate regulator, who will be notified by the MCA, ... At present, bank depositors get an insurance cover of Rs 1 lakh on their amount by the Deposit Insurance and credit Guarantee ...',\n",
              " 'Slowing economy and higher tier-I capital requirement shifting focus to retail lending Resolution plans were to be implemented within 180 days from the end of the one-month review period The bank had earlier reported NPA provisions of Rs 18,647.23 crore for 2018-19, while the RBI assessment pegged the provisioning ...',\n",
              " 'The bank had earlier reported NPA provisions of Rs 18,647.23 crore for 2018-19, while the RBI assessment pegged the provisioning ...',\n",
              " 'However, net NPAs were down at 6.98%, against 8.42% The top-rated non-banking financing companies are able to get loans in the domestic market as well, but they are finding that ...',\n",
              " 'There is slow down in motor segment and provisions towards bad debts and diminution in value of certain equity investments ...',\n",
              " 'The lenders, led by State Bank of India, Bank of Baroda and IDFC had moved the high court seeking a relief from an earlier order ... Loan assets of the group grow by 13% to Rs 40,390 crore during first half of FY20 The Economic Offences Wing (EOW)  of Mumbai Police has arrested an auditor in connection with  the alleged Rs 4,355 crore scam at ...',\n",
              " 'The bureau has also suggested the names of L V Prabhakar and Atanu Kumar Das for Canara Bank Bank of India chiefs, respectively As a result, there will be no corporate title promotions in 2019, the memo said.',\n",
              " \"DWS will still have a chief executive and chief ... Kochhar was directed to return about Rs 10 crore in cash bonuses she had received as CEO The bank's gross non-performing assets during the first six months of the year stood at Rs 1346.65 crore, or 4.91 per cent of its ...\",\n",
              " 'While the NBFC sector continues to face the heat, corporate banks seem to be on track to recovery R Gandhi and Y H Malegam report to be the bedrock of new guidelines Two auditors were arrested on  Monday night in connection with the Rs 4,355-crore alleged  Punjab and Maharashtra Cooperative ...',\n",
              " \"Opposing their pleas, the Mumbai Police's Economic Offences Wing (EOW) had said that prima facie a nexus between some of the ... Around 400 depositors of fraud-  hit Punjab & Maharashtra Co-operative Bank (PMC) on Monday met  Mumbai Police Commissioner ...\",\n",
              " \"While profit before tax grew 68.1%, net profit showed an increase of only 1.4% The bank's net non-performing assets were at 1.72 per cent of net advances as on October 31, 2019 and gross non- performing ... Total PE/VC investments in India now stand at $43.7 billion till now this year--16.5 per cent higher than the previous high of ... Its shares have rallied about 50 per cent -- the biggest gain among global peers valued at more than $1 billion -- after ...\",\n",
              " \"Many shadow lenders have been effectively shut out of the nation's credit market as the more than 15-month-old banking crisis ...\",\n",
              " 'According to rough estimates, the need is at least Rs 2,000-3,000 crore in each of the companies, the total collective ...',\n",
              " 'The RBI contemplates a return to an earlier supervisory rating framework for NBFCs, too, while ensuring financial statement ...',\n",
              " 'Gross NPA at 21.25% of gross advances, compared with 12.31% a year ago; net NPA rise to 10.47% from 6.88% Cholamandalam Investment & Finance Company Ltd, in which the Company holds 46.5 per cent stake, disbursed Rs 15,954 crore for the ...',\n",
              " \"The bank's bad loan ratio worsened with gross non-performing assets hitting 21.25% of the gross advances The need for a robust bond market has increased, thanks to the stressed balance-sheets of banks, M Rajeshwar Rao, an executive ...\",\n",
              " 'The bank did not factor in the effect of deferred tax assets for this quarter.',\n",
              " 'It will, however, do it before March 2020.',\n",
              " \"Borrowing costs from overseas markets may not see substantial jump The bank has an optimistic outlook on the credit demand from the corporate and SME sector Additionally, the lender has revised interest rates on term deposits with effect from November 10, 2019 Similarly, the limit has been increased from Rs 1.6 lakh for urban or semi-urban areas to Rs 2 lakh, the RBI said in a circular Tier 1 capital and CRAR stood at 9.52 percent and 11.98 percent, respectively Total income rose to Rs 22,097.91 crore for the second quarter of 2019-20, compared with Rs 13,429.95 crore a year ago Gross NPA ratio rises to 19.05% from 17.53% a year ago, net NPA falls to 5.98% from 7.96% The outlook was revised down for EXIM India, HDFC Bank, Hero FinCorp, HUDCO, IRFC, and SBI Digital payments constituted a high 96% of total non-cash retail payments during the October 2018 to September 2019 The state-owned lender had registered a loss of Rs 1,816.19 crore during the year-ago period The write-offs illustrate the urgent problem of bad loans as borrowers struggle to service, let alone pay-off, their debt in a ... With this reduction, the one year MCLR, to which most of its loan prices are linked, will come down to 8 per cent Most of the stalled projects are in eight large cities and 60 per cent of them are in the Mumbai Metropolitan Region and National ... New framework likely to be introduced even before default happens The first issuance of NCDs of Rs 500 crore was subscribed by a foreign bank Says won't allow the services until it meets data norms The UCO Bank's total income during the September 2019 quarter increased to Rs 4,533.51 crore A consortium - led by Union Bank (UNBK.NS) and State Bank of India (SBI.NS) - was set up to restructure DHFL's (DWNH.NS) debt a ... PMC Bank was placed under an RBI administrator on September 23 for six months due to massive under-reporting of dud loans This issuance is through private placement basis with a door-to-door tenure of 10 years, and the proceeds will be utilised by the ... A consortium - led by Union Bank and State Bank of India - was set up to restructure DHFL's debt a month after it defaulted in ... Surjan Singh is one of three former Credit Suisse bankers who have pleaded guilty to taking millions of dollars in bribes to ...\",\n",
              " 'The RBI panel\\'s advice to limit CIC to two levels is another reform for better financing arrangement It is not clear as to where PMC Bank stands in the pecking order for recovery of its dues from HDIL, worth Rs 6,500 crore An inability to raise planned equity capital will negatively impact YES Bank\\'s credit profile and ratings, Moody\\'s added State Bank chairman Rajnish Kumar said if there is scope for restructuring, then one should do it An official clarified that the existing Lower Parel building will be used by the bank; not be sold or rented out The three firms need immediate recapitalisation of at least Rs 2,000-3,000 crore each in order to maintain solvency ratios and ... IDBI Bank has informed and cautioned the public through the notice that \"no person shall deal with any of the properties of the ...',\n",
              " 'The bank had posted a net profit of Rs 356.55 crore during the corresponding July-September period of last fiscal ended March 31, ... A decision to announce a fresh stimulus could be a tough one for the government, after its budget deficit topped 90% of its ...',\n",
              " 'Lenders restrict funds to companies with lower ratings Initially, NBFCs have to maintain a minimum of 50 per cent of high quality liquid assets as part of the LCR, which will ... Provisioning related to bad loans went up to Rs 3,253 crore in Q2, up from Rs 2,147 crore in the previous quarter More than 60 per cent of customers say they already use these products from BigTechs or \"challenger banks\" or are likely to do so ...',\n",
              " \"It's one of the worst kept secrets in banking, and not many chief executive officers (CEOs) of banks want to go public on it The 3 hotels belong to Rakesh Wadhawan and his family, says ED This marks the fourth revision in withdrawal limit by the RBI since the PMC Bank scam came to the fore The penalty was imposed through an order dated November 4 This is the fifth increase in withdrawal limit since the bank was placed under its direct control with an administrator on ...\",\n",
              " 'The 74-year-old Andrew Lobo died at his home at Kasheli in the neighbouring Thane late Thursday evening The policies that have lapsed for more than two years and were not allowed to be revived earlier can also be revived now, LIC ...',\n",
              " 'The RBI said guaranteed bonus was not consistent with sound risk management The regulator said if the variable pay is up to 200% of the fixed pay, at least 50% of it should be in non-cash The regulator also wants the shadow banks to monitor their liquidity risks based on a stock approach to liquidity The bank last week faced a Rs 1 crore fine from the RBI for not complying with shareholding norms under the licensing rules The bank has lately seen some recovery in its share price after informing exchanges that it had a binding offer from a global ...',\n",
              " \"The RBI said the window for submission of applications will be be open from November 15 to December 15, 2019 Total income down 6% to Rs 5,024 crore; bad loans shrink FPO to strengthen lender's capital adequacy, size will depend on success of QIP The recent changes in mutual funds regulations are likely to result in a decline in the volume of commercial paper outstanding by ...\",\n",
              " 'It directed the RBI to file its affidavit and posted the matter for further hearing on November 19 This everyday excitement is unhelpful.',\n",
              " \"It would be nice to have YES's board approve a concrete fundraising offer With elevated credit cost guidance and addition to stressed assets, share under pressure; faster than anticipated capital ... Gill exuded confidence that the bank does not see any jump in this book in the future, but conceded that it was keeping a similar ... Net profit stood at Rs 266.4 crore compared to a loss of Rs 1,156.3 crore in Q2 of 2018-19.\",\n",
              " 'The bank is in dire need of capital to not only provide for bad assets but also for growth The bank had reported a provisioning of Rs 6,131.86 crore for non-performing assets, while the RBI had assessed provisions of Rs ... or LVB, the net loss widened to Rs 1,006 crore from Rs 894 crore.',\n",
              " 'Statutory filings under the Companies Act are submitted to the ministry through the MCA21 portal The bank had posted a loss of Rs 1,156.25 crore in the July-September quarter last fiscal.',\n",
              " \"Lakshmi Vilas Bank was placed under the RBI's PCA framework due to high level of bad loans, lack of sufficient capital to manage ... On Thursday, option premium for Rs 65 contract was up 270 times at day's high The development follows the RBI's central board decision to create separate supervisory and regulatory cadre The private sector lender had posted a net profit of Rs 951.47 crore in the corresponding period of the previous fiscal The lender's total income grew 11.2% to Rs 1,815 cr during the quarter, from Rs 1,633 cr a year ago Instead, the unions said, ensuring 'proper governance in the system' and 'removing political interference' will address the ... All the four entities, for which data was sought by Irdai on October 9, have been downgraded by credit rating agencies recently This was the third-biggest single-day gain for the stock - it zoomed 33 per cent in early October and 30.7 per cent in ... Congress leader Sanjay Nirupam on  Thursday said the Economic Offences Wing (EOW) of Mumbai  Police has assured that the scam-hit ...\",\n",
              " 'The bank said in September, it witnessed 15.4 million transactions totaling Rs 395 crore being undertaken by its 2 million ... Consumer durable and housing loan accelerated the most, service sector witnesses a sharp fall in the credit growth rate While the bank believes higher margins and lower credit costs will propel its return on assets by FY21, some analysts expect NPAs ... Technology is helping NBFCs show more confidence in high-risk borrowers with credit scores under 700; deep behavioral analysis is ...',\n",
              " 'The market potential for bullion banking in India, according to the council, has an estimated value between $300 million and 500 ...',\n",
              " 'Earlier this month, the gold loan financier had informed about its proposal to raise $2 billion (around Rs 14,200 crore) from ...',\n",
              " \"The bank's provisioning for bad loans and contingencies came down to Rs 639 crore during the quarter as against Rs 2,217 crore in ... At present, there are three deputy governors - N S Vishwanathan, B P Kanungo and M K Jain The Mumbai-based lender jumped 24% at the 3:30 p.m. close in Mumbai on Thursday following the announcement NBFCs have played a key role in consumer credit growth over recent years Union Bank holds around 46 per cent stake in Star Union Dai-ichi Life Insurance and Andhra Bank is a part of IndiaFirst Life ...\",\n",
              " \"The Kolkata-headquartered bank had posted a net loss of Rs 883.17 crore in the July-September period of 2018-19 The Fed said it will 'monitor the implications of incoming information for the economic outlook as it assesses the appropriate ... 9.89% stake of the total share capital of Bandhan Bank has been alloted to HDFC Ltd The association will provide the bank's customers access to the insurer's portfolio and make insurance more accessible to its ...\",\n",
              " 'The shareholding of the government in the bank will go up to 78.52% after the issue, from 70.62% currently.',\n",
              " 'The Kolkata-based bank had reported a net loss of Rs 883 crore in the same quarter last year The private lender was supposed to bring down the shareholding of its non-operative financial holding company The penalty has been imposed in exercise of powers vested in the RBI under the provisions of the Banking Regulation Act, 1949 Shares of Central Bank of India closed 1.70% higher at Rs 17.95 apiece on the BSE Reasonable improvement in deposit accretion and sharp increase in profitability are the key achievements in Sept quarter The bank said this is the first lot of non-performing asset accounts to be sold during the ongoing quarter of the current ...',\n",
              " 'The PMC Bank has been put under restrictions by the RBI after an alleged fraud of Rs 4,355 crore scam came to light Within the BSE-500 universe, mid-sized private banks are the ones to see deeper cuts in FII stakes Debt capital market underwriting fees totalled $201.2 million, up 108.7 per cent from a year ago - the best-ever first three ...',\n",
              " 'Results of SBI, ICICI Bank and Axis Bank indicate respite in formation of fresh bad loans; resolution and recoveries will be ...',\n",
              " 'The NCP leader defeated his cousin Pankaja Munde of the BJP in the just-concluded assembly elections from Parli in Beed district ...',\n",
              " 'The Chennai-headquartered mid-sized private sector bank has been headless since mid-September after the then chief executive ...',\n",
              " 'Such stringent cost control is just an example of how the lender has managed to pare expenses and boost efficiency, wooing ...',\n",
              " \"The central bank's gold reserves is valued at about $27 billion as of October 18, latest data showed Retail loans grew by 22% YoY, while SME loan book grew by 29.9% It had reported a net profit of Rs 1,204.62 crore for the July-September period a year ago Non-food credit climbed Rs 214.40 billion to Rs 97.28 trillion, while food credit rose Rs 2.05 billion to Rs 602.90 billion The bank said it is on track to meet its 9% return on equity goal for 2019, but that the economic environment means achieving its ... Net profit stood at Rs 3,012 crore, as against Rs 945 crore for Q2FY19 The only reason the rescue is even being attempted is to delay - as long as possible -  the collapse of the large shadow lender ... Intense competition among telcos had already impacted financial profile of firms and court judgment would now only add pressure ...\",\n",
              " \"The profit before tax came at Rs 100 crore, as against a loss of Rs 583 crore in the year-ago period Net interest margin has started to come off from the 10 per cent plus mark as proportion of lower-yield mortgages rise Financials have seen sharp erosion in their share prices in wake of the yearlong crisis in India's credit markets KPMG did a forensic audit on DHFL.\",\n",
              " 'Its draft report has startling findings and says DHFL could have diverted funds to ...',\n",
              " 'The unions have been demanding a five-day work week since a long time All transfers and promotions for next financial year will be decided by respective banks, not by the merged entity Total income up 18%.',\n",
              " 'post-tax profit up 2.5x to Rs 359 cr; one bad loan referred to RBI as fraud Troubles began last year when major shadow bank IL&FS Group unexpectedly defaulted, prompting broader shock that made it hard for ... A recent contagion analysis released by the Reserve Bank of India (RBI) suggested that the failure of any top-five HFC or NBFC ...',\n",
              " 'It reported profit before tax (PBT) at Rs 751.78 crore for the second quarter (Q2) ended September 30 (Q2FY20), down from Rs ...',\n",
              " \"The bank suffered a net loss of Rs 112 crore for the quarter due to a Rs 2,138-crore one-off deferred tax asset The agency said it also pictured a scenario where 30 per cent of banks' property exposure becomes non-performing, due to tight ... On a standalone level, which represents the banking operations, PBT at Rs 2,100.63 crore was up 20.6 per cent YoY, while net ...\",\n",
              " 'The stress test examines the potential impact on banks of liquidity pressures in the NBFC sector developing into widespread ...',\n",
              " \"The bank had registered a net profit of Rs 27 crore in July-September quarter of the previous financial year At present, an individual's aggregate deposits in a bank, including fixed deposits, are insured for up to Rs 1 lakh by DICGC The weakest, including those with Viability Ratings in the 'b' range, would face heightened solvency risks without capital ... RBI asks arm to create model that'll make banks pay premiums depending upon their risk factor Employees, more than any other entity, are responsible for internal fraud and leaks of internal information If RBP kicks in, there will be a shakeout among urban-cooperative banks Securitisation under pass-through certificate (PTC) transactions was to the tune of Rs 92,000 crore in the past one year While banking operations are expected to be hit due to the strike, many banks, including branches of SBI are likely to remain Accusing the government of lying about the economic situation, Yechury alleged that public money was being used for PR Most legal experts believe had the FRDI Bill been enacted alongside the Insolvency and Bankruptcy Code, it would have helped the ...\",\n",
              " 'The State Bank of India (SBI) will conduct an e-auction of 11 bad loan accounts on November 7 to recover dues of Rs 466.49 ...',\n",
              " 'Deposits grew 23%, and advances rose 19.5% year on year The depositors gathered outside the RBI around 11.45 am and held protests by showing placards and chanting slogans against PMC ...',\n",
              " \"The demand for currencies rose in the eastern India, where Durga Puja is a major festival An 83-year-old depositor of the  troubled PMC Bank died on Friday, with his family claiming  that it could not raise money for ... A capital-constrained economy like India can't afford a jungle raj in finance Banks have also been asked to promote the disbursement of Mudra loans The regulator, auditor and management should be held responsible for fraud in Punjab and Maharashtra Co-operative Bank or other ... Bandhan Bank announced the opening of 106 additional home loan distribution points The Wadhawans, in a letter to the ED, Union finance ministry and  RBI, requested that they be allowed to sell off 18 of their ...\",\n",
              " \"The company's board will meet on October 24 to declare quarterly earnings for the second quarter of this fiscal and will also ...\",\n",
              " 'Lending growth by banks had nearly halved to 8.8 per cent  at the end-September from the start of the year The properties are spread across seven centres comprising Chennai, Coimbatore, Mumbai, Kolkata, Delhi, Bengaluru and Hyderabad Sitharaman said while she is grateful that Rajan did an asset quality review, but people should know what makes the banks ailing ... Future Group payments affiliate LivQuik to launch foreign remittance services at stores Q2FY20 witnessed the large $16 billion Flipkart-Walmart deal.',\n",
              " 'If this deal is excluded, exits during Q2FY20 were almost twice the ...',\n",
              " 'The association says RBI should get complete regulatory powers over cooperative banks and start doing on-site supervision.',\n",
              " 'The RBI governor also reviewed the credit off-take situation prevailing in the economy amid a slowdown, said sources So far, the ED has attached and identified assets worth Rs 3,830 crore in the PMC money laundering case A depositor of scam-hit PMC Bank  allegedly committed suicide here, while another died of a  heart attack a few hours after ... Sanjay Gulati, the deceased, had lost his job at Jet Airways when the airline was grounded in April, his famly said.',\n",
              " 'He also had ...',\n",
              " \"However, when the accused came face to face, they shifted the onus of their acts onto each other, revealed the remand extension ... RBI said it reviewed the bank's liquidity position and, with a view to reducing the hardship of the depositors, it decided to ...\",\n",
              " 'YES Bank had become Fortis\\'s biggest shareholder with an approximate 17% stake Bankers\\' parleys with top policymakers come at a time when growth has slowed to a six-year low due to consumption slowdown and ... PMC ex-MD Joy Thomas has accepted that his board helped him in manipulating more than 21000 bogus accounts Srinivas said the \"only problem\" between financial and operational creditors during the litigation process in bankruptcy cases ... For the third time since its  punitive actions, the Reserve Bank on Monday increased  withdrawal limits at the crippled ... New rates will now range between 8.25 per cent and 8.65 per cent and the change will benefit all existing customers PMC is in bad health allegedly due to its exposure to near-bankrupt realty player HDIL, to which it has loaned over 70 per cent ... She said the banks have sufficient liquidity, and efforts are being made to ensure that due payments are released to the MSME ...',\n",
              " 'Bond Bulls in India Bet on Rate Cuts to Counter Fiscal Worries Onions have a weight of 0.6 per cent in the overall inflation basket and contribute about 10 per cent to the vegetable basket Instances and scale of farm loan waivers have seen an unprecedented increase since 2014-15... this surge is driven by state govt, ... Federal law limits the time a national bank may hold foreclosed and \"other real estate owned\" (OREO) assets.',\n",
              " 'The meeting assumes importance after the Punjab and Maharashtra Cooperative Bank scam and the general liquidity deficit in the ...',\n",
              " 'According to the Reserve Bank of India rules, banks can choose between repo, treasury rates, or any benchmark set by Financial ... One estimate shows the MSCI inclusion could lead to ETF buying of nearly Rs 1,280 crore in Bandhan Bank.',\n",
              " \"In the first fortnight of the fiscal ending April 12, the credit demand grew 14.19 percent after closing the previous fiscal at ... During the reporting month, the Central bank had purchased $615 million and sold $4.6 billion in the spot market The Reserve Bank's central board on Friday discussed in detail the regulatory and supervisory architecture of commercial and ... PMC's exposure to HDIL is over Rs 6,000 crore Bank officials said with the fall in share price and valuation, there could be interest from other investors With the reduction in their respective benchmark lending rates, home, auto and other loans have become cheaper The organisation, an NBFC, will have authorised capital of Rs 500 crore The decision taken by the RBI brings to an end the uncertainty and the financial institution would continue to raise capital as ... Total income during the second quarter of 2019-20 rose to Rs 8,877.53 crore from Rs 6,755.37 crore in the year-ago period The minister said she will speak to RBI Governor Shaktikanta Das about the interest of the depositors and convey their urgency ... Base rate has been kept unchanged at 9.50 per cent per annum On Wednesday evening, the Reserve Bank of India quashed a proposed merger of Indiabulls Housing Finance Ltd., one of the ... Amazon Flipkart claimed record sales during the recently concluded six-day online shopping bonanza The NBFC issue started after Infrastructure Leasing and Financial Services defaulted on a loan last year Depositors keeping their money in savings bank account are technically not seeing their money grow.\",\n",
              " 'The bank would look for higher equity infusion from the central government, its promoter, and also look at tapping tier-II bonds ...',\n",
              " 'The bank had sought approval from the Reserve Bank of India (RBI) on May 7, 2019 This is despite their strong branch network and plans to expand retail banking operations; PSB lead race, accounting for 70% of ...',\n",
              " \"The Bank's board and shareholders approved setting off losses against the balance lying in share premium account and revenue ...\",\n",
              " 'The one-year marginal cost of funds-based lending rate (MCLR) would come down to 8.05% from 8.15% from October 10 The RBI has appointed an administrator and superseded the board of directors at PMC, after the discovery of major financial ...',\n",
              " 'The bank was waiting to meet capital adequacy norms before starting corporate lending.',\n",
              " 'Based on recent brokerage recommendations, here are six stocks - three that have seen an increase in their target price since ...',\n",
              " 'Valuations have already melted by 15 - 50% for many private sector banks These loans until now have been among the best performing assets for banks given their ability to generate higher yields Retail loans being the fastest growing segment in the last five years may be no exception Meanwhile, there is enough evidence to indicate that NBFCs, real estate sector and retail loans may not presently be in a safe ...',\n",
              " \"The idea - seconded by the R Gandhi committee on UCBs in 2015 - behind this was to cut through the legal bureaucracy and tap ... India's banking industry has been caught in turmoil over souring loans, with the crisis first emanating from the less-regulated ...\",\n",
              " 'According to June 2019 data, SBI witnessed 11.62 per cent year on year growth in the corporate loan book The Punjab & Maharashtra  Cooperative Bank (PMC) scam points to the urgent need to  massively increase the depositor insurance ...',\n",
              " 'The ED is in the process of attaching the properties of HDIL See uptick in retail loan book; expect 10-12% credit growth this festive season Give approval to raise Rs 550 crore through tier-I bonds and Rs 1,050 crore through Basel III-compliant bonds The bungalow is spread across 2.5 acres; valuation being assessed That has erased almost half of the surge sparked by the Sept 20 announcement of a landmark corporate tax cut Trading in NBFC bonds slid to a five-month low of about Rs 75,520 in the secondary market in September, the lowest since April According to an investment banker, the bank has received interest from both global PE players and Indian family offices; ...',\n",
              " \"In an interview with Somesh Jha, Rao spoke about the road map of the amalgamation and how the corporate tax cut and repo ... IndusInd joins Axis Bank Ltd. and Edelweiss Financial Services Ltd. in predicting that the Indian financial sector's woes will ...\",\n",
              " 'This is a fourth arrest in the case Former managing director of Punjab and Maharashtra Cooperative (PMC) Bank, Joy Thomas, arrested in connection with the alleged Rs ...',\n",
              " 'The RBI clearly signalled its continued focus to revive growth, implying that more rate cuts are in the offing.',\n",
              " 'Reliance Home Finance Ltd (RHFL) on Friday said it is in discussion with several investors for equity infusion, amid tight ...',\n",
              " 'Since the Punjab National Bank scam came to light in February 2018, the banking sector has been hit with two other major crises - ... A group of aggrieved home buyers  of the scam-hit realty developer HDIL have written to Prime  Minister Narendra Modi seeking his ... Joy Thomas was arrested by the Mumbai wing of the Economic Offences Wing after the Reserve Bank of India (RBI) took charge of the ...',\n",
              " 'The RBI is reviewing the existing regulatory framework for cooperative banks and will discuss the matter with the government, Das ...',\n",
              " \"They were arrested by the special investigation team (SIT) of the Economic Offences Wing (EOW) of Mumbai Police on Thursday and ... 'Measures are expected to boost MFI lendings to the bottom of the economic pyramid' Das explained placing a lender under PCA framework is normal with lot of precedents The income and loan limits to classify an exposure as an eligible asset were last revised in 2015 The six-member Monetary Policy Committee (MPC) cut the repo rate by 25 basis points to 5.15 per cent As lenders stop new credit, builders are forced to offload properties The bank, which is known for high growth, is consolidating and taking a measured growth approach, Gill added.\",\n",
              " \"The idea behind the mela is that it will revive demand in a sluggish economy Although letters of loan sanctions were handed out to customers at the mela, most of these were already under process for some ... Ravneet Gill, CEO of YES Bank, said the drop in share prices wasn't a reflection of the bank's performance ED registers money laundering case in PMC Bank loan fraud Indian companies cannot set up their subsidiaries through their foreign wholly-owned subsidiaries or joint ventures The Reserve Bank on Thursday  enhanced the withdrawal limits for depositors of the scam-hit  Punjab & Maharashtra Cooperative ...\",\n",
              " 'The S&P BSE Sensex Index posted its third day of losses on Tuesday, ending a surge since the Sept 20 announcement of the tax cuts Weak governance, poor internal controls, political interference and dual regulation by state governments and the Reserve Bank of ...',\n",
              " \"The R Gandhi (former deputy governor of the RBI) Committee's report on UCBs (2015) was prescient, in particular, for the need to ...\",\n",
              " 'Customer service and long-term association spanning generations are also other reasons for the popularity Three UCBs, which reported their FY19 financials, have an average GNPA average ratio of 5.6 per cent last fiscal, down from a ... Coming years will see the sector go through a sea change Dollar bonds of Yes Bank Ltd., which has sizable exposure to the cash-strapped shadow lenders, slumped a record 5.5 cents to 80.9 ...',\n",
              " 'The resignation has come days after RBI initiated prompt corrective action against the private sector lender on September 28 The lender says its financial and operating metrics are intrinsically sound and stable, with liquidity position well in excess of ... SBI is the lead banker in 48 districts across the country.',\n",
              " 'Likewise, BoB is the lead banker in 17 out of 250 districts in the ...',\n",
              " 'The Institute of Chartered Accountants of India has written to the Vigilance Department of the RBI and the Commissioner of ...',\n",
              " 'The suspended managing director of Punjab and Maharashtra Cooperative (PMC) Bank, Joy Thomas, has blamed the auditors for the ...',\n",
              " 'The merger is scheduled to come into force from April 1 next year According to the rating note, these NCDs are Zero Coupon Bonds set for maturity on April 19, 2021.',\n",
              " 'The ministry will study the books of account, related-party transactions and filings of the company Depositors have also planned silent marches across Mumbai today Kapoor has pledged shares of Yes Bank to RNAM, the asset manager of Reliance Mutual Fund, as collateral DHFL said it has no exposure to HDIL and PMC, and cautioned against misleading reports that can trigger panic Smaller banks with lower capital under scanner, they say The firm is targeting an issue size of Rs 1,500-2,000 crore and may file its offer document with markets regulator Securities and ...',\n",
              " 'The RBI statement came on a day when the Nifty Bank index tanked by 1.30 per cent in intra-day trade amid a barrage of negative ...',\n",
              " 'Both parties say they are settling dispute; NCLT dismisses application, permits lender to approach it later BoB to focus heavily on women SHGs, looks to expand small loans, micro finance portfolio Lender inserts ads in several newspapers, issues public notice to explain its point on the FIR that was filed against it based on ...',\n",
              " 'The move comes a day after the public sector lender received capital infusion of Rs 7,000 crore from the Centre Debt-laden housing financier DHFL on Tuesday said it has no exposure to HDIL and Punjab & Maharashtra Co-operative Bank, and ...',\n",
              " \"The Governor has already hinted that the benign inflation provides room for further monetary policy easing while space for fiscal ... India's banks are rapidly losing faith in the shadow financiers that lend to property builders Police to set up SIT team, hire forensic auditor Frenetic large cash withdrawals  by a few large depositors of the now crippled Punjab &  Maharashtra Cooperative in the third ... Banks in India risk seeing their capital severely depleted if there is a rise in corporate defaults, warned global rating agency ...\",\n",
              " 'According to a report, YES Bank had an exposure of Rs 3,700 crore to DHFL - which has also defaulted on its loans Fear delay in execution of resolution plans during transition will lead to fresh provisioning The bank also listed out targets for merchant acquisitions and said it is aiming for a 5 percentage points reduction in its ...',\n",
              " \"Given the extent of current nervousness in the financial system, it would be a bad idea to let this problem linger for even six ... HDFC Capital Advisors guides HDFC Capital Affordable Real Estate Fund 1 (H-CARE 1) and H-CARE 2, in which ADIA is an anchor ... Current RBI thinking is not to align pvt bank CEOs' age limit with Companies Act at 75 years The bank misled auditors of the RBI by replacing legacy accounts of the company with dummy accounts, dating back to 2008 Central bank had flagged large-scale non-performing advances, but didn't have adequate evidence till September 19 The FIRs will be filed at the Economic Offence Wing (EOW) of the Mumbai police PMC was placed under an administrator by the RBI on September 24 and suspended its management led by managing director Joy Thomas The admission came in after a board member leaked the actual balancesheet details to the Reserve Bank, a source in know of the ...\",\n",
              " 'The resolution to raise funds by issuance of securities was approved by shareholders in the annual general meeting held on ...',\n",
              " \"The bank said PCA would not have any adverse impact on its daily operations Joy Thomas to be charged with misrepresenting the bank's books and hiding bad debts of HDIL The framework is proposing that system liquidity should ideally be kept in deficit mode of 0.25-0.50 per cent of the deposit base Waryam Singh held 1.91% stake in HDIL till 2017 The amount is the maximum one can withdraw in six months, and includes the Rs 1,000 withdrawal allowed earlier Sources said the regulators would identify the companies that would come under the new mechanism and require a lifeline The RBI had set up the internal working group to review the current liquidity management framework with a view to simplify it and ... RBI said the relaxation has been granted with a view to reducing the hardship of depositors The RBI has said the depositors of the PMC bank would not be allowed to withdraw more than Rs 1,000 from a savings account, ... Finance Minister Nirmala Sitharaman is expected to hold a press conference at around 7 pm today In an attempt to allay fears of depositors and customers of Punjab & Maharashtra Cooperative Bank (PMC), its suspended managing ...\",\n",
              " 'The QIP issuance was done at a price of Rs 629 per equity share at a tight discount of 1.44% over the closing price of the issue ...',\n",
              " 'The lender has got approval from its board to increase its authorised capital from Rs 800 crore to Rs 1,100 crore As for how long before depositors can withdraw their money from the bank, Bhoria said was left to the RBI to decide SBI also said that a 5 bps concession will be given to women borrowers under each category of loans.',\n",
              " \"This is the second time in less than two years that policy makers have had to publicly come out in support of banks The sudden move caused PMC Bank depositors to panic and led to protests and long queues outside the bank's branches Usha Thorat says it's absolutely essential for financial stability that bank spreads are not under threat The merger marks the end of a bank in which two states with contrasting identities - Uttar Pradesh and West Bengal - took equal ...\",\n",
              " 'Both non-banking financial companies (NBFCs) and housing finance companies (HFCs) are shying away on such loans to micro, small ...',\n",
              " 'The flurry of state-run bank mergers will see an era come to an end Banks in India are not wholesale-funded entities as in developed markets, but deposit-taking.',\n",
              " \"Only a percentage of their books is ... Icra said material incremental NPA generation for fiscal 2020 and 2021 may come from the agriculture and MSME sectors Supersedes board, appoints admin; exposure to HDIL bone of contention AIBOA, the Indian National Bank Officers' Congress and the National Organisation of Bank Officers had called for a two-day strike ...\",\n",
              " \"The loans, which would essentially be for priority sector, would be on a fully-automated platform Also, link pricing credit to Medium units to the repo rate Acharya highlighted the dichotomy of India's massive economy -- Asia's third-largest -- but one where living standards are still ...\",\n",
              " 'The bank has also extended the external benchmark-based lending to medium enterprises, to boost lending to the MSME sector as a ...',\n",
              " 'The loan camps are being held later than the scheduled date of September 24-29 as lenders will be involved in finalising their ... Once the present hurdles relating to the integration of technology with the non-banking finance companies are removed, the model ...',\n",
              " 'These grameen loan melas will be held across more than 300 districts and cover around 6,000 villages across India The NHB has robust asset quality and healthy capitalisation Prospectus and other necessary documents likely to be filed with Sebi by next April, firm has till April 2021 to get listed The financial compensation should be done suo motu by the bank, without waiting for a complaint or a claim by a customer, the RBI ... Against bank credit of Rs 98 trn at present, desired level should be Rs 400 trn, says Dinesh Kumar Khara; As per RBI data, Bank ...',\n",
              " \"The critical issue is to ensure that the process of transition following the merger should be in the most non- disruptive manner, ... Das' comment on non-banking finance companies (NBFCs) comes at a time when banks are grappling with the resolution of stressed ...\",\n",
              " 'This will help the IL&FS board in its stated objective of asset monetisation Lenders await RBI norms on holdco structure; guidelines are likely to be finalised by year end State-owned lenders will hold meetings with Non-Banking Financing Companies--or shadow banks--and new retail customers in 200 ...',\n",
              " \"The premium that top-rated non-bank lenders pay over sovereign debt to borrow fell to the lowest in a year last week The RBI is of the opinion that banks already have enough flexibility to introduce a repo-linked loan product Unlike banks, HFCs and NBFCs do not have any 'anchor rate' or a uniform interest rate-determining structure This development will instill a sense of protection among bankers from prosecution for genuine decisions, and promote lending NCDs are loan-linked bonds that cannot be converted into stocks and usually offer higher interest rates than convertible ... Indian Bank to be anchor in the merger, which will create country's seventh largest lender The mergers have created a problem as many of these banks are promoters of insurance companies Finance ministry is working out mechanism to release the money, stuck after it sanctioned the amount to other ministries & ... At more than $200 billion, India's world-beating pile of bad loans is bigger than Italy's Among other committees formed by banks to implement the merger is a committee on branding, which will look into the issue of logo ... Finance Minister Nirmala Sitharaman had on August 30 announced the consolidation of 10 state-run banks into four large-scale ...\",\n",
              " 'According to reports, a leading private sector bank allegedly moved in to secure its exposure by \"netting-off\" money from a fixed ... A prolonged shadow-banking crisis and hurdles in bankruptcy rules have left India holding the world\\'s worst bad-debt pile Deal could be valued at Rs 700 cr; Analysts say this could be seen as a direct impact of the recently-announced mega-mergers of ...',\n",
              " \"Borrowings by NBFCs up 21% CAGR in last 5 years Rajnish Kumar said the central bank's recent guidelines on floating rate products for the retail segment has necessitated the ... Investor interest for its cards business is very high, and SBI Card listing will happen in the March quarter RBI has stated that the key criteria for licences will be the entity's ability to serve smaller customers The pain is clear in both funding costs and share prices: a handful of shadow banks have lost between 40 per cent and 90 per cent ... Shareholders say negative messages being circulated by short-sellers Releasing the draft guidelines for 'on tap' licensing of SFBs in the private sector, the RBI said existingNBFCs, micro finance ...\",\n",
              " 'The spread of unconventional monetary policies threatens to set off dangerous and unpredictable feedback loops Under the new structure, SBI has divided the principle amount of the loan by the tenur The default by DHFL is towards principal and interest on non-convertible debentures worth Rs 350 crore issued by it, DHFL said in ... RBI had earlier this month made it mandatory for banks to link all their fresh retail loans to an external benchmark, effective ...',\n",
              " 'The RBI on Thursday increased loan exposure limit of banks to a single NBFC (excluding gold loan companies) from 15 per cent to ...',\n",
              " 'In the year-ago fortnight, advances were at Rs 87.80 trillion while deposits stood at Rs 116.46 trillion Currently, the risk weight requirement for such loans is 125 per cent The government has identified four state-run banks- Punjab National Bank, Canara Bank, Union Bank of India and Allahabad Bank for ...',\n",
              " 'Amount outstanding is up by over a tenth in a quarter The announcement of a new stimulus package is a remarkable turn of events, just nine months after the ECB signaled it was done ...',\n",
              " \"The ECB cut its deposit rate to a record low -0.5% from -0.4% Dena Bank and Vijaya Bank got amalgamated with Bank of Baroda from this April Infosys Finacle provides banking solutions various banks across 100 countries and cater to more than 1.3 billion accounts Unsecured loans can only offer banks a temporary shelter during a downturn in collateralised credit The domestic 10-year bond closed at 6.68%, from its Monday's close of 6.58% Estimated working capital needs of the units rises 20% this season, state govt to stand guarantor for loans For now, this service is only available to Bank of India customers and at some ATMs While liquidity played a role, banks' reluctance to lend due to risk aversion and tightened group borrower exposure limits are ... Data also shows the spread and intensity of digital payments does not always increase in tandem with a country's GDP Raising equity is more about when now; not why do so The bankrupt Infrastructure  Leasing & Financial Services (IL&FS) Tuesday has received 14  binding financial bids worth around Rs ...\",\n",
              " \"In addition to the tech investor, smaller investors could pump in about $200 million to $250 million, Gill said In the past 10 years, Aptus has built a franchise in affordable housing finance with a loan book of over Rs 2,650 crore, which ... Bank official hints at another round of rate cuts following low credit offtake State Bank of India reduced interest rates on time deposits across all maturities The appellate tribunal for PML held that though banks had not reported the matter to the authorities BOB is amongst the better capitalised PSBs, with a common equity tier I capital of 8.49% in 1QFY20 Banks to take cue from merger of BoB, Vijaya Bank, and Dena Bank The govt's silence on the road map to change the governance structure of state-run banks make experts wary of the road ahead As many as 1,197 cases of cheating involving Rs 12,012.77 crore were detected in SBI in the first quarter, according to the RTI ...\",\n",
              " \"The sale is on 100 per cent cash basis, PNB said in an advertisement Data shows that the bank started seeking LoC from the Bureau of Immigration from April this year The consolidation will help create strong and globally competitive banks with economies of scale, he said The failure to slash stressed assets is undermining India's efforts to revive economic growth that has cooled to a six-year low Full details of the entire flow of funds to and from all the accounts that were active even for a single day in the year 2018 ... Govt's focus on technological compatibility over cultural is set to make the largest rewrite of the banking history a complex job The decision was taken in a meeting of 10 PSBs, who are part of the latest merger process, with finance ministry officials in ...\",\n",
              " 'Private sector bankers have earlier warned that repo is inherently a volatile rate, but linking the lending rates to the ...',\n",
              " \"There are 238 digital payment apps to choose from if you still haven't downloaded one for your smartphone The government on Friday announced infusion of Rs 16,000 crore in PNB for a smooth and seamless amalgamation US-based private equity firm Advent International will put in Rs 1,000 crore via its affiliate Jomei Investment Limited Banks are also weighing the option of hiring experts for help in specialised areas Move to cover fresh retail, MSME loans from Oct 1; home, auto loans to get cheaper In India, there is a well established secondary market for stressed loans The affirmations reflect Moody's expectation that the acquiring banks will receive sufficient capital injections The apex bank also said that the interest rate under external benchmark, like repo, should be reset at least once in 3 months It also affirmed the local and foreign currency deposit ratings of Canara Bank, OBC, Syndicate Bank and Union Bank at Baa3/P-3 With this cut, which comes amid repeated RBI nudges to slash rates, the total quantum of rate reduction by the bank since April ...\",\n",
              " 'The lender pays Rs 51.6 lakh as settlement charges under so-called consent mechanism; its compliance officer pays another Rs ... By the end of 2019, govt could be forced to raise the fiscal deficit target to 3.5% of GDP from the current target of 3.3% as ...',\n",
              " 'The board will also consider amalgamation of Syndicate Bank with Canara Bank The cash squeeze threatens a broader fallout, as the higher cost of funds is passed on to merchants getting micro loans and ...',\n",
              " 'While the market is looking at near-term implications of the merger like the pace of lending activity, banks are more concerned ...',\n",
              " 'There should be a central loan contract registry, the task force suggested This is the first time the government has decided to pump money in IDBI Bank after LIC acquired a majority stake of 51 per cent ... Bank unions - officers and workmen - had buried their differences and sat across the table on August 29 to work out a fresh deal ...',\n",
              " 'The six-member task force, headed by Canara Bank chairman TN Manoharan, was formed to examine the scope for developing a ...',\n",
              " 'Fear of credit growth, particularly for larger banks, spooked PSB stocks on Tuesday The private sector lender to lean on two segments of the business, namely consumer loans and mortgages Last Friday, the government had unveiled a mega plan to merge as many as 10 public sector banks into four to help create stronger ...',\n",
              " \"The merger of Indian Bank and Allahabad Bank will create a robust entity with a pan-India presence, she said In a Q&A, the bank's chief also dwells the strategies to trim down the lender's non-performing assets With the share of cash deals rising, discounts could remain high.\",\n",
              " \"To make way for newer acquisitions and attract new and repeat ... Futures contracts on India's Nifty 50 Index dropped 1% in Singapore on Monday The idea to create the exchange is the brainchild of three public sector banks - Bank of India, Bank of Baroda and Allahabad Bank The cost per employee is the highest in large public sector banks Punjab is an important area of operation for the bank, says S Harisankar RBI's Annual Report for FY19 says the number frauds went up by 15% to 6,801 cases The report said the Department of Financial Services should work with PSU banks to bring in more efficiency to their work and ...\",\n",
              " 'Besides recent corporate slippages, slowdown would impact unsecured retail loans, farm and micro finance loans, commercial real ...',\n",
              " \"Lenders to be merged into a single entity to also hold separate meetings to chalk out roadmap; April 1 seen as pragmatic deadline ... Real GDP slowed to 5% year-on-year in 2Q (first quarter of FY20) from the first quarter's 5.8%, below DBS' sub-consensus and ...\",\n",
              " 'Under the new regime, home loans can be had at 8.2% a year, while four-wheeler loans will carry 8.85%, which the lender says is ...',\n",
              " \"While disposing of the petition, the bench observed, that the case involves huge money and investigation cannot be stopped Whether folding one weak bank into another will make the combined entity any stronger remains to be seen Unlike private banks, most PSBs, analysts say, do not have clear specialisations and end up competing against each other Any more debt repayment delays or defaults risk reversing an expected recovery in India's gross bad loan ratio and worsen a ...\",\n",
              " 'Including consultancy companies, around Rs 5,000 crore of business could be generated The possibility is that high calibre chief risk officers in the PSBs already earn Rs 1 crore to Rs 2 crore, whereas even SBI ... Nirmala Sitharaman was replying to a question on the bank employees unions opposing the merger plan on the ground it would lead ...',\n",
              " 'The consolidation will help create strong and globally competitive banks with economies of scale and enable realisation of ... PNB will take over OBC and UBI to become the country\\'s second-largest lender after SBI in terms of business Corporation Bank also announced launch of home loans linked with external benchmark Kant was appointed as the managing director and chief financial officer of the World Bank AIBEA general secretary  C H Venkatachalam alleged the merger of public sector banks would mean closure of six banks \"India Ratings and Research has downgraded Yes Bank Ltd\\'s long-term issuer rating to \\'IND A+\\' from \\'IND AA-,\" the bank said in a ...',\n",
              " 'Branch closure would mean more customers going to fewer branches.',\n",
              " 'Banking services would be impacted, as the customer population ...',\n",
              " 'The government on Friday unveiled a mega plan to merge 10 public sector banks into four as part of plans to create fewer and ...',\n",
              " 'However, benefits from these measure, being structural in nature, will accrue in the long term, they said.',\n",
              " \"Our capital to risk (weighted) assets ratio, or CRAR, is good, says Andhra Bank MD There were discussions in general since a few months, said Syndicate Bank MD Mrutyunjay Mohapatra Often the resolution process gets stuck with many smaller players not agreeing with the majority view It was mainly based on system integration that the government took a call for amalgamation, said Narayanan If you book a new fixed deposit or take a fresh loan, the rate will be decided by the merged entity Number of branches, HR policies are other issues in bank mergers; bandwidth of managements will be tested 10 banks to be merged into 4; Indian Bank & Allahabad to be one While announcing the merger, finance minister Nirmala Sitharaman said plans is to create fewer but stronger global- sized banks ... Claims he resigned for personal reasons, adds that a new person at the helm may succeed where he failed To comply with Basel-III capital regulations, banks need to improve and strengthen their capital planning processes Investors need to understand the share swap ratio and the other details of the proposed merger, analysts caution The exercise, seen together with the previous two rounds of bank consolidation, will bring down the number of nationalised public ... After today's mergers, the count of government-owned banks will come down to 12 from 27 in 2017 DHFL and other shadow banking firms have been stung by a liquidity crunch following last year's collapse of IL&FS News of the mergers comes minutes before official data is expected to confirm a fifth-straight quarter of slowing economic growth The products -- Suvidha Plus Home Loan and Suvidha Plus Auto Loan -- will be benchmarked to the Reserve Bank of India's (RBI) ...\",\n",
              " 'Most of the banks are planning to go for a qualified institutional placement to reduce the stake, and LIC would be a major ... Finance ministry has called a meeting with chief executives of ten public sector banks on Friday Commercial credit flows from NBFCs stood at Rs 9.34 trillion in FY19, down from a high of Rs 11.60 trillion in the previous ... Valuation method change, provision write-back play key roles to boost dividend The data was released by the Microfinance Institutions Network (MFIN), the representative body of microfinance institutions The govt has unveiled steps ranging from concessions on vehicle purchases to hastening of capital infusion in state-run banks to ...',\n",
              " \"There were also suggestions to have an agriculture credit guarantee scheme, and a stronger institutional network to prevent ... Moody's said it could change the rating outlook to stable if the private lender adequately provides for its bad assets Fall in share price will challenge the bank's ability to raise sufficient capital to maintain the rating at its previous level, ...\",\n",
              " \"The association's chief says RBI is now maintain the reserve at the lower band of 5.5% instead of at the higher band of 6.5%, ...\",\n",
              " 'The central board of the RBI, which met on Monday, has accepted this recommendation, according to an official LIC has an exposure of Rs 1,570 crore which have been downgraded to junk category HDB Finance, an NBFC in the retail financing space, has seen its overall loan portfolio grow by 22 per cent to Rs 56,287 crore as ...',\n",
              " \"The RBI's transfers would effectively add Rs 58,000 crore to the Centre's kitty in the current fiscal year Increased pledging is often seen as a sign of liquidity issues with promoter groups What is the fuss all about in the Reserve Bank of India's (RBI's) fund transfer to the government?\",\n",
              " 'Business Standard explains This comes at a time when the economic growth rate has slumped to a five-year low after accelerating in the first few years of ...',\n",
              " 'The central bank is coming to its rescue, and without running any immediate risk of exposure to its own credibility The growth and profitability of finance companies (fincos) are also likely to remain under pressure, S&P said The RBI, which currently follows July-June calendar, usually transfers dividend after closing its accounts in August Subhash Chandra Garg was expecting around Rs 1.5 trillion from the RBI Current situation may not allow banks to significantly tinker with deposit rates making it tough to fully pass on the fall in ...',\n",
              " 'This follows the RBI board accepting the recommendation of a high-level panel headed by its former Governor Bimal Jalan on ...',\n",
              " \"The bank is in discussions will NBFCs/HFCs such as PNB Housing Finance, Indiabulls Consumer Finance, IIFFL, Annapoorna MFI among ... Bank chief sees rising price of precious metal helping gold loan segment, but is cautious about volatility and possible softening ... Jalan committee has recommended transferring the RBI's surplus reserves to the government in a staggered manner over three-five ... A significant portion of the capital provided would be tied up in boosting core capital and provisioning against bad debts which ...\",\n",
              " 'Through linking of repo rate to retail loans, the bank is passing interest rate benefits directly to the customers and it will ...',\n",
              " 'The panel in its previous avatar called the Advisory Board on Bank, Commercial and Financial Frauds The largest private sector lender said the quality of its credit card portfolio is not yet affected by the broader economic ...',\n",
              " 'The RBI chief said the slight slowdown in the last quarter was a temporary one and the economy is likely to end the fiscal with ...',\n",
              " 'In order to improve access to long-term finance, the government would be setting up an organisation to provide credit enhancement ...',\n",
              " \"The capital infusion, ahead of the festive season, will boost banks' lending capacity by an additional Rs 5 trillion The move is expected to generate an additional lending and liquidity in the financial system to the tune of Rs 5 lakh crore, she ... CEO Jayakumar said the bonds were likely to be floated by August-end or the first week of September to raise tier II/tier I ...\",\n",
              " 'In view of the falling interest rate scenario and surplus liquidity, SBI realigns its interest rate on Term Deposits with effect ...',\n",
              " \"Lately, India's banking system has been beset by a bad debt crisis, which is crimping credit to productive sectors, dampening ... RBI has also tightened regulations this year by putting in place rules requiring shadow lenders to appoint a chief risk officer ... What is telling is that large swings in the Indian business cycle are still not a thing of the past, despite the adoption of ...\",\n",
              " \"The key reason behind UBFA's revised demand from the 15 per cent earlier is that the gap between what bank employees earn when ... RBI has permitted processing of e-mandate on credit and debit cards, besides prepaid payment instruments, including wallets like ...\",\n",
              " 'The bank has no plans to discontinue debit cards but increased use of the digital platform will itself reduce the requirement of ...',\n",
              " 'The move is a follow-up to instances of illicit deposits - after demonetisaton - in bank accounts opened under the Pradhan Mantri ...',\n",
              " 'The new circular also provides for 75% consent by value for a resolution plan to be passed Indian banks trail their global peers in three areas: Absence of personalised marketing messages, lack of straight-through ...',\n",
              " \"If the private sector banks don't play ball, there is very little public sector banks can do to make the product a success Regulatory changes provide lenders clearer picture of which trades are prohibited, but critics say they could again endanger the ... NCLT directed the IL&FS counsel to file a written submission on Wednesday Reserve Bank of India Governor Shaktikanta Das has stressed the need for the entire banking system to link their loans and ...\",\n",
              " \"Currently, the portal gives in-principle approval for loans of up to Rs 1 crore to micro, small and medium enterprises in just 59 ... As per the Banks Board Bureau's (BBB) recruitment notice, candidates including from the private sector can apply for the ... RBI issued the new NPA recognition and resolution guidelines on June 7 after the Supreme Court had in April declared the earlier ...\",\n",
              " 'In FY19, NBFCs had a 30% share in outstanding retail loans, while public sector lenders had a 39% share and private banks had 26% The comments come at a time when pushing up the sagging economic growth has become the biggest focus for the policymakers The Centre, not the Finance Commission, is deciding the evaluation of the schemes and the sub-schemes to be pruned Shaktikanta Das likely to initiate required steps in coming weeks SBI chairman said through the Yono platform, one can withdraw cash at the automated teller machines or pay for purchases at a ...',\n",
              " 'The defaults pertain to three cases with regard to interest payment on non-convertible debentures and commercial papers (CPs), ...',\n",
              " 'Under the companies law, these entities raising money had to create Debenture Redemption Reserve (DRR) and that requirement has ... Finance Minister Nirmala Sitharaman had already held consultations with various stakeholders, including industry, banks, ...',\n",
              " 'Even as he reiterated the  regulatory resolve to not let any large NBFC fail, Reserve  Bank governor Shaktikanta Das Monday ruled ...',\n",
              " 'Calling for radical corporate governance reforms at state-run banks, Das said their real test would be their ability to access ... DHFL owes banks Rs 40,600 crore.',\n",
              " \"It also has a liability of Rs 45,380 crore to pay the holders of debentures and bonds At present, banks do not share with CRAs details of a company's existing and future borrowing Categorically terming the round of fund infusion as growth capital, Gill believes that it gives the bank some breathing room to ... To contain high bad loans in the MUDRA scheme, the managers suggested that a national portal be floated to verify the borrower ... To help the auto sector tide over stress, the country's largest lender State Bank of India (SBI) has extended the credit period ... As per the BBB's recruitment notice, candidates can apply for the vacancies at PNB and BOI till September 16 The PSB has organised a meeting of all branch heads wherein collective consultative and ideation process was undertaken to align ...\",\n",
              " \"State-owned Punjab & Sind Bank (PSB) on Saturday said it has lowered its marginal cost of funds based lending rate (MCLR) by up ... FinMin has asked govt-owned banks to capture 42 questions on credit, non-performing assets, Mudra loans, agriculture The prosecution complaint was filed in a special court of the Prevention of Money Laundering Act, charging former senior ... With relaxation, one can also deposit with refiners and purity testing centres It also aims to find out the role of PSBs as active partners in the Indian growth story for the next five years The bank had posted a loss of Rs 2,409.89 crore in the April-June quarter of 2018-19 Over the last few quarters, due to stress in the corporate loan sector, banks have been trying to focus on retail loans The issue saw a strong response from foreign as well as from domestic QIBs In terms of delinquency, banks have the lowest with a 30-plus delinquency at 0.50 per cent across all categories of lenders Part of the problem is the manner in which eco-system participants on-board and service customers NBFCs are unlikely to have it easy anytime soon; if anything, the pain is set to get deeper Banks want to dispose of the assets at a deep discount, but for upfront payments YES Bank needs funds to meet Basel-III capital requirements norms Reserve Bank of India's (RBI) report, dated March 22, 2019, found that non-performing assets on IL&FS's books were as high as 70% ... Another eight business verticals have been identified where the group can do away with redundant roles The Jalan committee report will not have the views of former finance and economic affairs secretary Subhash Chandra Garg The bank had given notices to 200 families of Gardenia Gateway by Gardenia Group in Sector 75, Noida, on August 5, as per the ...\",\n",
              " 'Besides, use of ATMs for balance enquiry and fund transfers too should be not part of the free transactions facility given to a ... MCA names SBI, HDFC Bank, PNB, ICICI Bank among others, says they violated appellate tribunal moratorium State Bank of India (SBI) on Wednesday said it is planning to dilute stake in its card business through the initial public offer ... NBFC disbursements have declined steeply as a result, with knock-on effects to other sectors, particularly consumption 57 per cent of banks surveyed said engineering goods has seen a reduction in NPA levels Moreover, it will also allow the RBI to directly give liquidity support to the stressed HFC sector If a fintech firm requires interface with a core banking system for example, a real-time and scaleable model of it will be made ...',\n",
              " \"The government has allowed the NBFCs and HFCs to buy back their assets 'after a specified period of 12 months' as a repurchase ... After five years of operations as SFBs, RBI norms allow the SFBs to go for reverse merger A pooled bond structure is backed by a partial guarantee; enhancing the credit rating for the loans and lowering the cost of ...\",\n",
              " \"The overseas sovereign bond issuance, therefore, will lead to 'feedback process' getting further entrenched in the domestic debt ... With additional challenges such as fresh stress, loan growth, and escalating costs, the sector faces a tough year ahead Adlakha was earlier senior group president and head of financial management & strategy Bank of India also cut its MCLR by 25 bps, while Bank of Maharashtra and IDBI Bank had lowered their rate by 10-15 bps on Few months back, SBI had linked savings account deposits and short-term loans with the repo rate With this revision, Canara Bank has cumulatively reduced its MCLR by 20 bps during the last six months and thus, one-year MCLR ...\",\n",
              " 'Traditional banks must raise their game to keep customers from fleeing to the likes of TransferWise and Revolut Ltd Many more banks are expected to follow suit with rate cuts on the back of comfortable liquidity and low bond yields Nine lenders of the 19 PSBs, including Indian Bank, State Bank, Bank of Baroda and Canara Bank, have reported current value of ...',\n",
              " \"The rate cut follows an MCLR cut by the country's largest lender SBI post the RBI's decision to reduce the key interest rate by ... Tata Capital Financial Services, a subsidiary of Tata Capital, said it would hit the market with tranche 2 of its NCD to raise up ...\",\n",
              " 'The bank continues to stay away from large corporate consortium lendings and infrastructure sector advances In the third bi-monthly monetary policy review, the central bank cut the repo rate for the fourth time in a row to 5.40 percent-- ...',\n",
              " \"This amount has been recovered from about 12.7 million customers across the country Deal volumes similar to 2014, half of 2015, and thrice the deal volume in 2016 and 2018 Last month, the banking regulator had scrapped the levy on online transactions such as NEFT to make the transfer of funds cheaper He said banks have taken this stance despite financial markets, on which they depend for money, moving in tandem with the RBI ... Proposes Sameer Gehlaut as non-executive chairman and Gagan Banga as MD and CEO of the amalgamated bank With the new development, the Centre will automatically get the 60% share that the state of Jammu and Kashmir holds, but via the ... A new mobile-first authentication solution rolled out by the payments major allows such transactions only for deals below Rs She pointed out that developers have been facing cash crunch following the liquidity crisis in the NBFC sector The bank had recorded net profits at Rs 209.31 crore during the corresponding quarter the previous year The non-convertible debentures (NCDs) will offer up to 10.5 per cent yield The agency also said the bank's counterparty risk assessment of Baa3 and domestic and foreign currency counterparty risk rating ... SBI said it had appointed consultant Deloitte to find buyers for Videocon's exploration assets in Brazil and Indonesia Past evidence has proven that transmission works best when there is positive banking system liquidity during rate cuts and tight ...\",\n",
              " 'Lending rates did not move down much after the first two rate cuts of 2019 Public sector lender Punjab National Bank (PNB) said the RBI has imposed a penalty of Rs 50 lakh on it The aforesaid penalty is required to be paid within 14 days from the date of receipt of the RBI order In a separate filing, Bank of Baroda said the RBI has imposed a fine of Rs 50 lakh on it for delay in reporting fraud in an ...',\n",
              " 'These bills are issued on behalf of the government to meet the short-term cash needs of the centre Banks fined on July 31 were Allahabad Bank, Bank of Maharashtra, Bank of Baroda, Bank of India, Indian Overseas Bank, Union Bank ...',\n",
              " 'While the revised norms are applicable only to public sector banks, separate guidelines for private banks and non-banking ... Foreclosure charges are part of the fee income for any lender and adds to its bottom line Finance Minister Nirmala Sitharaman will meet heads of state-owned and private banks on Monday to discuss the ongoing liquidity ...',\n",
              " \"The BSBD Account shall be considered a normal banking service available to all, RBI said RBI is widely expected to go in for a 50 basis points rate cut at its review next week The CNAPS, launched in 2008 by People's Bank of China provides real-time settlement services for all payments cleared in mainland ...\",\n",
              " \"The windfall treasury profits come as a relief for lenders staring at a potential surge in bad loan provisions due to a slowing ... Bank credit and deposits rose by  12.01 percent and 10.59 percent to Rs 96.57 lakh crore and Rs  126.491 lakh crore respectively ... Govt to go ahead with plan following wider consultations: Official In another notification, the RBI said 'Jana Small Finance Bank Limited' too has been included in the Second Schedule The position fell vacant after Viral Acharya resigned six months before the scheduled end of his term For women borrowers, there is an extra 5 bps discount in each category of loans Companies seek returns of over 20 per cent but RBI has put restrictions on yields and tenure Experts say the move can raise India's external liability significantly and build up risks Net interest margin (NIM) stood at 3.40 per cent for the quarter, against 3.46 per cent in the year-ago period Liquidity in G-Secs is mainly in a few benchmark securities, particularly the 10-year bench\\xadmark The Budget proposed that businesses with annual turnover of more than Rs 50 crore shall offer low-cost digital modes of payment ... ECBs with a minimum average maturity period of 10 years can now be used for working capital purposes and general corporate ... As part of the revised terms, the country's largest bank by assets has decided to halt lending to dealers of Hyundai Motor India ... A few quarters of pain in sectors that depend upon shadow financing is a small price to pay to produce a sector that winds up ...\",\n",
              " 'The SBI has cut deposit rates by 5-75 basis points across tenures.',\n",
              " 'Shorter-tenure deposits have seen a higher quantum of cut than ...',\n",
              " 'This is the maiden fundraising via the ECB route in 2019-20 by PNB Housing Finance.',\n",
              " 'The company further said that other ECB ... Having cut rates, they may use this to strategically raise more term-liabilities RBI rejected suggestions given by RTI activist on operations of NBFCs, like to ban calls luring customers for unsecured loans, ...',\n",
              " \"The term deposit rates will be 20 basis points lower for retail customers, and 50-75 basis points lower for deposits up to 179 ... Moody's said it expects growth to be 'weaker' in the next 12-18 months, without quantifying its growth expectation The Reserve Bank of India's board will meet on August 16 to discuss, among others, the nation's proposed maiden offshore bond ...\",\n",
              " \"The country's largest lender has also cut deposit rates on bulk deposits of Rs 2 crore and above PNB Housing Finance Managing Director Sanjaya Gupta said this is the first ECB disbursement during the current financial year ... Plans to resume lending business from monthly EMI collections ICICI, like its peers, also said India's ongoing economic slowdown weighed on its performance in the quarter The bank consolidation exercise is going on as the objective is to bring the number of RRBs to 38 from the current 45 The secondary loan market in India is largely restricted to sale to asset reconstruction companies and ad hoc sale to other ...\",\n",
              " 'Saw Rs 120-crore loss in year-ago quarter On the tepid credit growth, Kumar said he expects some pick up during the second half The report, however, said NBFCs will benefit more from the Rs 70,000 crore recapitalisation of state-owned banks, which will ...',\n",
              " \"Acquiring India's largest micro financier gives the bank presence in more than 115,000 villages that will increase its ... Lender's NPA ratios improve, recoveries surpass slippages during the quarter The Reserve Bank's next policy review meet is scheduled to be held from August 5th to 7th Acharya's boss at the central bank, Shaktikanta Das, says a continuous and prolonged dependence on the government's capital ...\",\n",
              " 'The stock fell 3% on Monday; it was the sharpest decline in reaction to the results At the standalone level, the bank reported a 33 per cent rise in net profit to Rs 1,360 crore from Rs 1,025 crore in the year-ago ...',\n",
              " \"In Maharashtra, people lost Rs 4.8 crore to  bank fraud, while in Delhi people lost Rs 2.9 crore Banks, according to the RBI, did not follow adequate credit appraisals, did not ensure the end-use of funds, or monitor the loans Categories of directors to be streamlined; other regulators' views on candidates to be looked at closer They are comfortable as their balance sheets are not leveraged and premium growth is robust A payments bank can take deposits of up to Rs 1 lakh but cannot give loans or issue credit cards Bandhan Bank's board has approved opening 187 more branches and 340 doorstep service centres this year Total advances included soft loans under Central, state schemes Although Bitcoin is a virtual currency, the energy consumption associated with its use is very real The bids for the offer can be applied for a minimum of 75 shares and its multiples Indira Gandhi's brilliance as a politician lay in her ability to transform the most sordid political intrigue into high ...\",\n",
              " \"The committee has recommended a periodic review of the RBI's economic capital framework, according to a source In the same quarter of the last financial year (2018-19 or FY19), the bank's profit was Rs 1,260 crore Earlier this month, Punjab National Bank (PNB) said it had reported a borrowing fraud of Rs 3805 crore in Bhushan Power's account ...\",\n",
              " 'The surplus capital transfer would help the government meet its fiscal deficit target as it will come as a windfall to the ...',\n",
              " 'The bank is looking to disburse Rs 500 crore in the next one year through its newly-launched lending program, the Smart Edge for ...',\n",
              " 'They say it is anti-patriotic as it could create long-term risks for the economy, potentially allowing rich foreign nations and ... During this period, debt and capital markets underwriting fees stood at $135.1 million, up 98.3 per cent There are talks about two debt managers- one, internal (the RBI), and a government entity for the external Move to allow them to source cash directly from Mint Road comes as a big relief These banks, taking a cue from the recent credit crisis, are reworking their underwriting practices It earned Rs 3,229.30 crore as interest income in the June quarter of this financial year The penalty, RBI said, is based on deficiencies in regulatory compliance and is not intended to pronounce upon the validity of ...',\n",
              " 'The so-called fintech revolution, where outsiders are taking over the traditional activities of established players (like ... IndusInd Bank has appointed Haribhakti & Co as statutory auditor for FY20, subject to RBI nod To address the stress in the sector, Finance minister Nirmala Sitharaman in the Budget proposed that public sector banks would ...',\n",
              " \"The country's largest life insurer LIC, which is the only state-owned life insurance firm, witnessed more than two-fold rise in ... SBI is the only outlier in this trend, which has moved faster and made more progress than other PSU banks Currently, it said, the NBFC has a presence across seven states The bank saw an increase in its bad debt The liquidity is running at a surplus mode now, with the banking system parking more than Rs 1 trillion with RBI People in the know said the bank expects the fund raising to support its plan to grow its advances by 20% Total income during June quarter of 2019-20 rose to 1,829.16 crore from Rs 1,616.44 crore in the year-ago period, the bank said ...\",\n",
              " \"Ahead of this, the SFB will raise Rs 65 crore via increase in promoter shareholding from 27% currently, to 30% by this August The bank had posted a net profit of Rs 1,035 crore in the corresponding period of the preceding fiscal ended March 2019 The financial institution raises funds through long term bonds - usually of 10-15 years tenures Here are some instances of government agencies' tussles with the process Public sector banks are leading the race to raise money through QIPs Kantar today throws up interesting insights and also reflects the huge gap between reality and perception that exists in the ...\",\n",
              " 'The Banning of Unregulated Deposit Schemes will replace the Banning of Unregulated Deposit Schemes Ordinance, 2019.',\n",
              " 'According to the study, private sector lender HDFC Bank and PSU lender State Bank of India top the list of local banks which are ...',\n",
              " 'It will first conduct such exercise on pilot basis and then scale up to cover 400 entities under its supervisory ambit Nabard has introduced new features like multiple pricing of bonds, tripartite repos and 15-year tenor debentures In India, the LEF applies to all banks, apart from the regional rural banks This is the third rate cut announced by the SBI in the current financial year Das said the central bank will provide a backup \"if individual banks require additional liquidity\" A total of 13 banks had approached the high court claiming that the government had arbitrarily decided on the service tax Transmission of interest rates, sectoral concerns to figure in talks end-July The global rating agency\\'s calculation of risk-adjusted capital for most rated Indian PSBs is 5-7 per cent, and this is one of ... After the customary post-budget meeting with Finance Minister Nirmala Sitharaman, he said the system has sufficient liquidity and ...',\n",
              " 'The Budget allowed more NBFCs to come to the bill discounting platform TreDs, potentially solving the funding need for MSMEs The exercise involved an intense effort with most senior managers working without a break between September 2014-February 2015 Public sector lender Punjab National Bank said Saturday it has detected a fraud of more than Rs 3,800 crore by Bhushan Power & ... Government will encourage PSBs to buy high-rated pooled assets of up to Rs 1 trn of good credit firms The decision follows concerns that a broader financial crisis may emerge as firms like Dewan Housing Finance Corp. and Anil ... Srei Infra Finance will remain holding company for lending entity Srei Equipment Finance, which will now only offer fee-based ...',\n",
              " 'The terms of reference of the working group would be to examine the current regulatory framework for CICs Lower credit cost, operating leverage and shift in loan mix are key positives Under this partnership, IndoStar will originate and service the customers through the entire loan life-cycle including sourcing, ...',\n",
              " \"The government is planning to amend the Banking Regulation  Act to give more teeth to the central bank Four out of the seven standalone health insurers have seen stake buyouts either by PEs or strategic players in recent months What's dawning on all concerned is there is simply no way that state-run banks can dole out equal hikes to their staffers as has ...\",\n",
              " 'The apex NBFC body Finance  Industry Development Council (FIDC) Tuesday said they should  be allowed to avail of refinance ...',\n",
              " 'There has been a spike in loan ticket sizes in the past two years, and a rise in the loan outstandings of borrowers approaching ... Its total income came in at Rs 6,891 crore in FY19, a 21 per cent increase over Rs 5,716 crore during the year ended March 2018 CFO Vipul Agarwal will be interim COO Private capital firms like AION Capital, joint venture between ICICI Venture and Apollo Capital Management, and Lone Star are ...',\n",
              " \"The Mumbai-based lender's board approved a sale of the Basel III-compliant debt instrument in the year to March 31 The agency has appointed chief financial officer Vipul Agarwal as the interim chief operating officer who will be reporting to ... Lender is seeking a fresh valuation of the company after it posted positive results in Q4FY19 Annual growth in AUM pegged at 12-14% in FY20 and FY21, from about 15% seen earlier; growth in first half of FY19 was 21% The government does not have any plans to infuse funds in privately-held shadow banks, FM Sitharaman said His existing tenure was to end Wednesday, July 3.\",\n",
              " \"Sekar was on Special Duty and has been a whole-time director of the Bank since April 2019 The one-year MCLR, to which a majority of loans like residential mortgages and auto loans are tied, now stands at 8.65% Singh also said there is a clear directive of RBI to appoint recovery agents only after proper police verification and fulfilling ... Workmen and officer unions likely to hammer out separate deals Currently, the RBI 'levies minimum charges' on banks for transactions routed through its RTGS and NEFT system At present, microfinance is 86% of Bandhan Bank's book The shift towards digitisation has also led to the growing importance of digital officer A source said the auditor has raised additional queries on the firm's accounts Several of its investments are in Mumbai property market; fund is currently valued below its NAV The gross NPAs of Bandhan Bank at the end of Q4FY19 for the bank stood at 2.04%, against 1.25% in the same quarter a year ago RBI sets the average base rate for NBFC-MFIs on the basis of average of base rate of the five largest commercial banks The central bank has already slashed the repo rate by 75 bps since December 2018 when Shaktikanta Das took over reigns from Urjit ...\",\n",
              " 'The report also pointed out that the nature of recent FMP defaults had primarily involved debt obligations backed by pledging of ... NBFCs are facing the highest delinquency levels in all the sub-segments of consumer loans except for loans against property Financial stability report says recent NBFC crisis has brought greater discipline to sector PSBs were found to be severely impacted, with the CAR of 19 of the 21 PSBs likely to go down below 9 per cent in case of such a ...',\n",
              " \"There are concerns that the high return would hurt the economy by reducing banks' ability to lend at attractive rates HDFC Bank may hire more firms for the sale later, the people said Report said public sector banks should see their gross NPAs climb down over 400 bps to close to 10.6 per cent by March 2020 Yogi govt has firmed up bank and institutional loans worth Rs 8,800 cr for the Rs 23,000 cr project The successful candidate would be the only deputy governor out of four at the Reserve Bank of India who will sit on the ... Acharya is the third top official to quit RBI before completing their term.\",\n",
              " \"The first was former RBI Governor Raghuram Rajan and ... Acharya, a New York University economics professor who once called himself the 'poor man's Raghuram Rajan', was appointed as RBI ...\",\n",
              " \"Rating agencies are meant to give comfort about an issuer's ability to repay debt Acharya, who will return to the New York University's Stern Business School in august instead of in 2020, felt the RBI has made ... Deputy Governor N Vishwanathan likely to stay back for another term According to sources, Paytm has registered with the Reserve Bank of India to run a P2P lending platform Extension of loan tenure, fresh working capital, and induction of new management on agenda The SBI has served the Singapore retail and corporate sectors as a qualified full bank since 2008 BoB is targetting a post-consolidation market share in education loans of 11% IBHFL will hold around 90.5% of the post-merger enhanced equity capital of the merged entity The BOJ is in a bind Non-food credit increased 11.9% in April from 10.7 percent in April 2018 The ECF panel constituted by the RBI was mandated to submit its report within 90 days of its first meeting, which took place on ...\",\n",
              " 'Refinancing the obligations poses a challenge as investor concerns flare amid mounting problems such as auditors quitting, ...',\n",
              " 'The on-tap licensing of SFBs comes even as the banking regulator has not officially said it has closed the tap for universal ...',\n",
              " 'The Central bank would purchase five government bonds under open market operations (OMOs) on June 20 The rating agency has affirmed the bank\\'s overall long-term issuer rating at AA+ and the short-term issuer rating at A1+ Recently, Kolkata-based public sector lender UCO Bank published the name of Yashovardhan Birla along with his photograph, in ... ICICI Bank is understood to have cut its fixed deposit rates by 0.10-0.25 per cent starting from Monday Governor Das\\' stress on communication comes at a time when the RBI prepares to revamp its liquidity management framework Sector has accounted for a major share of hiring  in recent times Mishra was principal chief general manager of the bank\\'s risk management department NBFCs sought exemption from having to deduct tax at source for interest payments Kapoor\\'s term was curtailed by RBI due to a slew of concerns, including poor governance and loan practices RBI intends to prescribe stringent rules for liquidity risk management as many NBFCs were hit by a severe asset liability An important factor that has helped this sector grow is the penetration into the rural markets In that period, Indian Overseas Bank reported 1,115 frauds involving Rs 12,644.7 crore, while Oriental Bank of Commerce 1040 ... he one-year MCLR is the benchmark against which most customer loans such as auto, personal and home loans are priced With lower g-sec bond yields, banks may see Rs 10,500 crore MtM profits Aditya Puri\\'s salary was 248 times higher than the average employee salary in FY19 They say the move would boost market confidence and help the bank raise tier-I capital The RBI can \"monetise networth as the creator of money\" and will not have to resort to selling of G-secs or forex reserves This payment of Rs 962 crore is inclusive of the Rs 500 crore DHFL received from exiting its entire stake in subsidiary firm ... As of March 2019, Yes Bank\\'s exposure to Indian housing finance companies and NBFCs was 6.4% of its total exposure Within days of anti-corruption bureau action against J&K Bank, the Income-Tax Department Tuesday initiated probe into the alleged ... HFCs have to in keep 13 per cent as liquid assets--instead of 12.5 per cent earlier--with the remaining share of public deposits ... Banks will also have to provide cheque books and cannot ask them to maintain a minimum balance in lieu of facilities.',\n",
              " 'The SFIO, in its complaint, has alleged that the auditors were aware that IFIN was lending to defaulting borrowers through group ...',\n",
              " 'In the last few months, many micro housing companies had already shrunk their lending operations by 40-45% in the absence of ...',\n",
              " \"The RBI's revised framework brings back the focus on the need for the timely resolution of such assets, says Moody's According to a company source, the group will repay the dues by Thursday, even as its Managing Director and Chief Executive ... Switzerland informs India and other countries about suspected illicit wealth parked in its banks, seeking to shed the perception ... Financial sector governance reforms top RBI agenda RBI is unlikely to repeat a dollar swap but executives in NBFCs are expecting some kind of help from the central bank Chanda Kochhar's brother-in-law, Rajiv Kochhar, has also been grilled by the ED multiple times in the case RBI has relaxed the threshold condition for upgrading an account under a resolution plan The central bank has also said any action by lenders with an intent to conceal the actual status of accounts or evergreen ...\",\n",
              " 'There are about 10 plants totalling 10 Gw, which are incomplete and are highly unlikely to find a buyer On February 12, 2018, the RBI had issued a circular under which banks were asked to initiate resolution or restructuring of loans ... Plan has to be implemented within 180 days after that Historically, there has been no correlation between growth in bank credit to industry and lower benchmark interest rate t was the third consecutive repo rate cut by RBI, with cumulative reduction of 75 basis points in 2019, so far The one-year MCLR is the benchmark against which most customer loans such as auto, personal and home loans are priced.',\n",
              " \"Lenders will have to submit weekly report of instances of default by all borrowers with aggregate exposure of Rs 5 crore and The latest casualty is Dewan Housing Finance Corp, which missed payments due June 4 and had its short-term credit rating cut to ... Shaktikanta Das told a press conference that the central bank is closely monitoring the NBFC sector Due process not followed, ABG group used the money to repay old credit State Bank of India's cash credit and overdraft rates will become cheaper by 25 bps from next month Absence of concrete measures by the RBI to support the NBFC sector disappointed investors The country's largest lender SBI too said it has been closely monitoring its exposure to the NBFC sector for the past 10 months ... AMCs announce 'side pocketing' for schemes with DHFL exposure Nomura analysts said the Reserve Bank of India and the government would need to segregate the potential solvency issue at DHFL ... CLSA feels asset sales will be key to prevent defaults by DHFL, as expected repayments over the next two months are higher at Rs ...\",\n",
              " 'Earlier, it had issued an exposure draft on May 20, proposing a hike in motor third party insurance premiums and had invited ... A strong brand in tier-II and lower cities, DHFL was an AAA-rated company till February 3, when it was downgraded to AA+ by CARE ...',\n",
              " \"In its first charge sheet filed against the group, the SFIO found gross violations by the company while doing credit appraisal ... CRISIL and Icra assigned 'D' rating to DHFL's commercial papers, anticipating a default, while CARE Ratings marked D, or default, ...\",\n",
              " 'While domestic banks account for a significant portion of such credit, its distribution is significantly skewed The latest available RBI consolidated data tells us that in FY18, these banks reported positive earnings before provisions and ... Kolkata-based lender Allahabad Bank had posted a loss of Rs 8,334 crore last fiscal The rating action comes amid the challenges the bank faces in its operating environment, Fitch Ratings said in a statement Axis Trustee will provide facility agency services to IFSC banking units for their ECB transactions and trusteeship services to ...',\n",
              " 'These companies are seeking a level-playing field where all lenders in the segment come under a common code, namely the Code for ...',\n",
              " \"The International Finance Corporation (IFC) sees immense opportunities to finance projects through green bonds in India ... Central bank's move may make lending to NBFCs relatively streamlined The modified 'Large Exposures Framework' (LEF) provides exclusion of entities connected with the sovereign from definition of ...\",\n",
              " 'Liquidity improved, despite a challenging scenario, due to better portfolio quality.',\n",
              " 'Barring few pockets where recovery was ... A total of 5,916 such cases were reported by banks in 2017-18 involving Rs 41,167.03 crore Of the total external commercial borrowings (ECBs) in April 2019, $2.66 billion was raised through the automatic route, $500 ...',\n",
              " 'Slower economic growth putting pressure on RBI to ease policy RBI will undertake a centralised mass media campaign during the month of June on Doordarshan and All India Radio to disseminate ... Credit card loans rose by 26.4% in April 2019, down from 35.2% in same month in 2018 Fitch lowered the operating environment assessment to \"BB+\" from \"BBB\", based on the review of performance in past three years Rate cuts are very much likely, given there are emerging concerns on growth and projected inflation is fairly within the comfort ...',\n",
              " \"In 2018-19, Exim Bank raised foreign exchange aggregating Rs 8,530 crore through a variety of instruments The central government has to consult the RBI before formulating a plan for PSB merger The provisions for NPAs stood at Rs 7,233 crore in Q4FY19 as against Rs 10,773 crore for Q4FY18 Chairman Rajnish Kumar calls for government help for weak shadow banks Recently, the liquidity-starved DHFL had said it won't allow premature withdrawals of its deposits The new age companies use different tenets of digital technologies to keep them agile and keep the business model transparent to ...\",\n",
              " 'The RBI specifies Know Your Customer (KYC) norms to be followed by banks and other entities regulated by it for various customer ...',\n",
              " \"In 2018-19, PNB's recovery more than doubled to Rs 20,000 crore from Rs 9,666 crore in 2017-18 This is the company's first US dollar-syndicated deal since January 2019, when the Reserve Bank of India permitted NBFCs to tap ...\",\n",
              " \"Regulator says any such move could be seen as easing licensing terms for these banks The minimum amount to be remitted through RTGS is Rs 2 lakh with no upper or maximum ceiling The bank's gross non-performing assets (NPA) declined to 15.50% by March 2019, compared to 18.38% by end of December 2018 Instead of providing a much-expected liquidity window to non-bank finance companies via the regular lenders, the central bank ... Pressure on NBFC sector to have stable funding base a major reason In the next 100 days, during which falls the Union Budget in July, the government will be busy with pending issues The matter is being discussed and it has been taken up in some of the pre-Budget consultation meetings Borrowing cost could increase lower investment spread Bullish about the success of its 'Digital India' initiative, the government has already charted its Vision 2022 master plan Under this initiative, customers can interact with the staff to discuss concerns and share feedback The decision was taken considering the evolving liquidity conditions All NBFCs must have contingency funding plans for responding to severe disruptions Public sector banks (PSBs) have recovered close to Rs 1.2 lakh crore from stressed assets during the financial ended March, ...\",\n",
              " \"The bank came out of the Reserve Bank of India's Prompt Corrective Action regime in the fourth quarter ended March 2019 HDFC Bank added more than four times the number of branches in FY19 compared to the previous year The provisions for NPAs for the fourth quarter was at Rs 5,550 versus Rs 3,416 crore in the previous quarter The report comes against the backdrop of the Reserve Bank of India's decision to create a specialised cadre to supervise and ...\",\n",
              " \"Ever since the IL&FS crisis erupted, banks have been averse to lending to the sector, which has put them in a tight spot Three-month rolling average shows April fund-raising through the route is higher than last year On Friday, the company's credit ranking was downgraded by Brickwork Ratings to 'BBB-Plus' The govt has been trying to merge smaller regional state-run banks with better managed larger government-owned lenders as one way ... Says slippages will not be more than Rs 1,000 cr each quarter in FY20 against Rs 2,000 cr each quarter in FY19 NBFCs will be able to borrow, based on their retail, agriculture, and other such assets With the first ever three-way merger, BoB has now become the second-largest public sector lender after State Bank of India The bank, however has reported reduction in non-performing assets (NPAs).\",\n",
              " \"Earlier this week, the Reserve Bank of India (RBI) appointed former Deputy Governor R Gandhi as an additional director to the ... Total income stood at Rs 1,131.44 crore in Q4, up 14.2% over the year-ago period The bank managed to sell only Rs 1,700 crore of assets to asset reconstruction companies in FY19, about one-tenth of what it ... CASHe's forte lies in providing short-term, unsecured personal loans This is the first quarterly earnings announcement by the bank after it came out of the Prompt Corrective Action framework in ...\",\n",
              " \"Muted government spending and high election-linked expenditure have created a cash deficit in India's banking system in the past ...\",\n",
              " \"It is unlikely to find a long list of suitors and any arranged marriage will need to be solemnized by the RBI Shareholders' nod for raising equity capital will be sought at its annual general meeting on June 28 The number of automated teller machines in the country shrank in the past two years despite an increase in transactions, Reserve ...\",\n",
              " 'The role of auditors, credit rating agencies and some former officials entities are already being looked into by the ministry, ... India already has the fewest ATMs per 100,000 people among BRICS nations, according to the International Monetary Fund Existing equity enough to support growth for 3-4 years, says company Provisions for NPAs stood at Rs 2,602 crore, against Rs 3134 crore in the same period of FY18 Indian Bank plans to recover Rs 3,000 crore in FY20, to rope in strategic partner for NBFC arm On Monday, the bank posted a net profit of Rs 95.18 crore for Q4 of FY19, against a net loss of Rs 261 crore in the same period ...',\n",
              " 'Systemic risk for mutual funds as well in case there are large-scale redemptions The gross NPA of the bank as a percentage of total lending in the last quarter stood at 16.48 per cent in the last quarter, ...',\n",
              " 'The net interest income of the mortgage lender for the quarter stood at Rs 3,161 crore against Rs 2,650 crore in Q4FY18 Flags concern on dwindling liquidity; stock down 4.6% Total income of the bank during the January-March quarter rose to Rs 5,711.92 crore from Rs 4,689.12 crore in the same quarter a ...',\n",
              " \"Most of the loans including housing loans are benchmarked against MCLR for one year The board has proposed a final dividend of Rs 17.50 per share and the proposed final dividend is in addition to the interim ... Former ICICI Bank CEO Chanda Kochhar Monday appeared before the ED in connection with an alleged bank loan fraud and money ... Won't let go of quality corporate credit, says Rajnish Kumar During Q4, the lender clawed back close to Rs 2,000 crore of tax expenses.\",\n",
              " \"The public sector lender posted a loss of Rs 2,195.12 crore during January-March quarter of 2017-18 After the RBI's April Monetary Policy, the MCLR was reduced by 5 bps The meeting is scheduled for May 15, 2019.\",\n",
              " 'It will consider raising capital for FY20.',\n",
              " \"The loss is due to increased provisions on NPAs and fraud accounts especially due to back dating of NPAs and one big account ... NCLTs continue to remain heavily burdened as the number of cases being admitted continues to increase quarter-on-quarter Loan waivers, income support schemes are 'poor fiscal marksmanship', says RBI in meeting with Finance Commission.\",\n",
              " 'Indian shadow banks now face rising risks that weaker developers may struggle to repay those borrowings, as housing sales have ...',\n",
              " 'The 21 Offices of Banking Ombudsman (OBO) received 163,590 complaints in FY18, an annual increase of 24.9 per cent As a clutch of private banks set out to raise capital, the quality of assets and governance will hold the key more than ever ...',\n",
              " \"The six-member Jalan panel was appointed on December 26, 2018, to review the Economic Capital Framework for the RBI Stock split is a tool used by corporates to boost liquidity of their shares At the start of the year, YES Bank was ranked 7th While the I-T dept's e-filing website showed returns filed in 2018-19 fell to 6.68 cr from 6.74 cr in the previous fiscal, the ...\",\n",
              " \"The Bank is currently exploring stake sales in joint venture and other entities to help it raise over Rs 445 crore The lender's net profit was Rs 969 crore for the March quarter against Rs 1,020 crore in the year-ago quarter As much as 80 per cent of global flows of merchandise -- worth about $9 trillion -- is financed by some form of credit, guarantee ...\",\n",
              " \"The HoldCo model will lead to cleaner equity holding structures within banking conglomerates RTI experts are elated with the apex court's latest order that emphasised on the RBI's statutory duty to uphold the interests of ... Canara Bank said ratings on its additional Tier-I bonds worth Rs 1,500 crore has been downgraded to 'AA-', with a stable outlook, ... Provisioning for bad loans during the quarter more than halved to Rs 177.76 crore, as against Rs 371.53 crore in the ...\",\n",
              " 'Similarly, for one-month and three-month tenors the interest rates have been increased to 8.30% and 8.45%, respectively M S Sahoo also noted that CoCs must provide all relevant information to resolution applicants so that they find interest in the ... Economic Affairs Secretary Subhash Chandra Garg said there is a rising need for the agency to focus on strengthening human ...',\n",
              " 'Rating action also factors in further weakening in core equity capital cushions due to voluntary provisions and consequent losses ... Reserve Bank of India asked last week banks to do about their IL&FS exposure.',\n",
              " \"As of March, there were 1,143 cases pending at various bankruptcy tribunals, and 32 percent of them are pending for over 270 days Last year's defaults by IL&FS exposed fault lines among India's shadow lenders, which had grown rapidly to account for a third of ...\",\n",
              " \"Along with housing finance companies, NBFCs account for about 60% of property developers' loans The IL&FS crisis in September led to panic in markets with liquidity quickly drying up for borrowers, whose business models ...\",\n",
              " \"The housing finance arm of the Punjab National Bank will announce the fourth quarter results on May 9 Net interest income (NII) of the bank rose 45.6 percent to Rs 1,258 crore against Rs 864 crore in the same period last year Banks have to show how they propose to finance the gap to bring the mismatch within the prescribed limits In FY17, credit to the industry witnessed de-growth of 1.9%, and on that base, credit grew 0.8% in FY18 The lender is profitable on a full-year basis; provision for stressed loans much lower thann other banks Total consolidated income rose 27 per cent year-on-year to Rs 13,823 crore The action is triggered by the increasing share of the corporate loan book in PNBHFL's total loan portfolio and the consequent ...\",\n",
              " \"Fallout will be that some of the smaller audit firms will find it difficult to comply with the new format, and may have to seek ... Gill said the new leadership is very serious about confirming to the highest standards of governance and also set new industry ... Alignment of bank directors' age limit with the cap of 75 years prescribed under Companies Act will help them retain board seats SC reprimanded RBI on Friday for not disclosing information sought under the RTI citing 'fiduciary relationship' with banks For the full year, the bank's net profit more than halved to Rs 1,709.3 crore from Rs 4,233 crore in 2017-18 The bank has reported a net profit of Rs 1,505 crore for the March quarter of 2018-19 SC holds RBI in contempt of court, but gives it one last chance to withdraw disclosure policy, follow 2015 orders He explained that markets regulator Sebi has exempted acquisitions under resolution plans from making public offers under the ...\",\n",
              " 'The original February 12, 2018, circular was explicit that resolution plans should be drawn up on unanimous approval by all ...',\n",
              " 'The lender has focused Strongly on cost reduction, bank rationalisation and NPA recoveries; today, only 5% of its branches are ...',\n",
              " 'The temple official said the over 2000-year-old Lord Venkateswara temple was growing richer by the year with an annual income of ... From the start of this fiscal, firms with a working capital limit of Rs 150 crore and above will first have to avail of 40% of it ...',\n",
              " 'Rating agency ICRA in its outlook for the microfinance sector said that more than 90 per cent of the capital raised in FY2019 was ... Reach, cost and distribution are three key factors driving corporate entities into the microfinance sector Chanda Kochhar also has to provide income-tax returns in her individual capacity and of companies if she was a director or held ... All-India Bank Employees Association praises SBI-led lenders for deft handling of Jet case Credit bureaus are increasingly focusing on custom data analytics and alternative data partnerships with fintech companies While coming up with a revised framework for resolution of stressed assets, the regulator should be careful of the potential for ...',\n",
              " 'The Pradhan Mantri Jan Dhan Yojana (PMJDY) was launched on August 28, 2014 with an aim to provide universal access to banking ... Net interest income for the quarter increased 22.8 per cent to Rs 13,089.5 crore from Rs 10,657.7 crore in the same period of the ...',\n",
              " \"According to MFIs, one of the factors behind the rise in securitisation deals was State Bank of India's (SBI) decision to buy ...\",\n",
              " 'Currently, branches of commercial banks observe holiday only on second and fourth Saturday of a month apart from Sunday Currency dealers say the central bank has the scope to do another $5 billion swap, considering that banks have extra dollar ...',\n",
              " \"The 34 non-life insurers had a gross premium of Rs 1.51 trillion in 2017-18 The net interest margins rose to 4.23% in Q4FY19 from 3.98 per cent in Q4FY18 Shaparia's appointment will be effective from May 2019 The RBI governor advocated a 25 basis points cut, showed minutes of the MPC At present, borrowing  from the P2P platform by a single entity is also limited to Rs 10 lakh.\",\n",
              " 'Most micro and small enterprises ...',\n",
              " 'One-year marginal cost of funds-based lending rate (MCLR) has been reduced to 8.80 per cent from 8.85 per cent Sixty-nine firms of the group have been classified under categories based on their ability to service routine debt obligations Liquidity has improved, but 20 out of 24 NBFC stocks are staring at an over 5% reduction in 12-month target prices.',\n",
              " \"Affidavit by IBBI filed in NCLAT shows data of 88 successful CIRP All major consumer lending products experienced double-digit percentage growth Das was speaking at the IMF's 'Governor Talks' programme at the International Monetary Fund-World Bank Spring Meetings Mutual funds and institutional investors are still wary of lending to non-bank financiers, and tighter market liquidity has ...\",\n",
              " 'The BBB has told the government to improve the operative environment and selection process for filing up post of directors on PSB ...',\n",
              " 'In the year-ago fortnight, deposits were at Rs 114.26 trillion and advances at Rs 86.25 trillion Bank deposit growth fell to a five-decade low in year to March 2017 as demonetisation bonanza withered Officials say bad debt recovery process should not be hindered.',\n",
              " 'Also, growth should be more inclusive The individuals branching out face huge risks succeeding where financial institutions with deeper pockets stumbled Murali Ramaswami, executive director at Vijay Bank, will move to Bank of Baroda The information asymmetry on credit continues to plague banks One-year MCLR will be 8.50% per annum (pa).',\n",
              " 'The interest rates on all loans linked to MCLR stand reduced by 5 bps from April 10, ... Indian Overseas Bank is the second state-run lender to reduce MCLR following a second consecutive 25 bps cut in the repo rate by ...',\n",
              " 'While the pace of growth of retail loans has slowed, the demand for credit products has accelerated due to factors like rising ...',\n",
              " 'Flush with funds, SBI in October 2018 had tripled its target to buy good quality retail asset portfolio from finance companies to ... Earnings of Nifty50 firms may grow by 23.6% in March quarter despite 10-quarter low revenue growth The bank said its board of directors will consider the proposal at its ensuing meeting on April 20 \"We expect the bank\\'s internal capital generation to improve gradually as declining credit costs alleviate pressure on its ...',\n",
              " 'The union further alleged it (the merger) is obviously a short-circuit method by Indiabulls Housing Finance Ltd and manage to ...',\n",
              " 'The management has said the present name had been a locally known one in Kerala and nearby states for around a century, though it ...',\n",
              " 'There are around 5,000 employees in Lakshmi Vilas Bank.',\n",
              " \"The merged entity will have 14,302 In a 4:2 majority vote, RBI had cut the repo rate to 6 per cent from 6.25 citing the need to support growth that has lost ... After the stake sale, BoI will hold 3.91% stake in Star Union Dai-ichi Life Insurance Share-swap deal gives 36% premium to the bank's shareholders One of the biggest reason was that few large mortgage players returned to the market in the first quarter of fiscal 2019 after ... BOI has a 28.96 per cent stake in the joint venture, while Union Bank of India and Dai-ichi Life owns 25.10 per cent and 45.94 ... Last month, the Sebi board approved such participation to provide investors an additional tool to hedge against inflation.\",\n",
              " 'The ...',\n",
              " 'The banking regulator did not consult the government before issuing the circular, which drags a bunch of companies to the IBC, ...',\n",
              " 'The Supreme Court quashed the RBI circular of last year that pertains to the provisions for referring the defaulter to the NCLT ... Mallya, who added a portfolio of real estate, yachts, Scotch whisky and Formula 1 racing to his United Breweries Ltd. business ...',\n",
              " 'Lenders also have the option of restructuring the loans Analysts at Bank of America Merill Lynch were sanguine on the changes Kant said such a move ensuring timely repayment and resolution of stressed assets is essential for long-term growth The Paytm Payments Bank has 4.4 crore savings bank accounts with a deposit of over Rs 400 crore The petition alleged that Sankaran favoured the group because of his proximity to C Sivasankaran.',\n",
              " 'RBI was doing good work in tackling bad loans to big business, but judges have decided it went too far.',\n",
              " \"That's a serious blow Legal experts pointed out that only one aspect of the RBI's framework - to send all ailing companies to IBC - has been turned Menon is currently the chairman and managing director of Thomas Cook India Most of the economists suggested a rate cut of at least 25 bps in the RBI's monetary policy on April 4 The Supreme Court on Tuesday quashed the February 12, 2018 circular, and thereby denied all resolution process arising after it Banks will continue with their resolution process and take defaulting companies to NCLTs, said bankers Moody's also said the resolution of stressed loans impacted by the circular will be further delayed RBI had asked lenders to execute a resolution plan for big stressed accounts by a 180-day deadline, failing which they were to ...\",\n",
              " \"The total auction would be of Rs 17,000 crore in which five bonds of different tenure will be issued RBI's plan is to allow loss-making banks to go easy on their disclosure.\",\n",
              " 'A division bench of Justice A S Oka and Justice M S Sanklecha was hearing a petition filed by the bank This comes shortly after the RBI said last month it will conduct a dollar-rupee buy-sell swap auction of $5 billion This is slated to help the state-run lenders, who are expected to return to the black after four consecutive years of losses The government in September last year announced the first-ever three-way consolidation of banks in India, with a combined ...',\n",
              " 'Earlier this week, the government decided to infuse Rs 5,042 crore in BoB to enhance capital base of the lender ahead of the ...',\n",
              " 'Both VardePartners and General Atlantic Group will buy 1.089 crore shares each at Rs 850 per share in the housing finance company PNB has entered into an agreement to sell 1,08,91,733 equity shares held in PNB Housing Finance Ltd to Varde Partners at a price ...',\n",
              " 'Shrinking staff is an annual tradition for the biggest securities firms, which trim personnel in some areas to expand in others ...',\n",
              " \"In January this year, Bandhan Bank announced its merger with Gruh Finance, which will reduce the promoters' stake to about 61 per ...\",\n",
              " \"The purpose of IPO is to have a diversified shareholding Bandhan Bank's merger with Gruh Finance would reduce the non-operative promoter Bandhan Financial Holding to 61% from 80% Last year, Toronto-based Fairfax agreed to invest $168 million for a 51% stake in the Syrian Catholic Bank, the first time the ...\",\n",
              " \"Experts say it is about time RBI lift the ban on such derivatives but there aren't enough natural safeguards if the deals are ...\",\n",
              " 'The government in September last year had announced merger of Vijaya Bank and Dena Bank with Bank of Baroda, aiming to create the ...',\n",
              " \"The brokerage had earlier expected no change in the policy rate in the April meeting Sebi, however, directed reduction in non-public shareholding in the lender post capital infusion In the year-ago fortnight, advances were at Rs 83.46 trillion and deposits at Rs 111.11 trillion Experts believe the schemes are very much within the definition of 'deposit' but clarity is needed based on intent RBI said the accused willfully and deliberately gave false information in their compliance report The idea behind the swaps is to infuse rupee liquidity by buying dollars RBI has bought 3 trillion rupees of debt this financial year Earlier this year, the RBI had imposed penalties worth Rs 71 crore on 36 public, private and foreign banks Farmers are an integral part of India, and 'Baroda Kisan' is a dedicated platform created to ease their requirements, the bank ... 'The meal is ready to be served.\",\n",
              " \"A new investor can demand salt and masala to taste' The coupon rate of the bonds is fixed at 8.55 per cent with redemption date of March 27, 2029.\",\n",
              " 'What the data indicates is that banks are slowly restoring their confidence on the industry sector HFCs are expected to report a 13-15 per cent credit growth in FY19, which will inch up to 14-16 per cent in next fiscal year, ...',\n",
              " \"The concerns have been conveyed to the finance ministry through the Indian Bank's Association earlier this month In a late night statement, the RBI said the legislative amendments recommended by it are under consideration of the Centre In February, the government proposed a capital infusion of Rs 4,112 crore in the public sector lender through preferential ...\",\n",
              " 'The two banks cite unfair treatment saying other lenders will get disproportionately higher amounts, object to payout through a ...',\n",
              " \"The move will also allow states to buy back bonds and issue a new lot with lower coupon The problems started late last year following shock defaults at shadow lender IL&FS group Debt concerns have pushed funding costs for non-bank financing companies to multi-year highs in recent weeks The strategy is offering lenders extra returns The bank is pinning its hopes on profitability of unit-level branches, reduction in NPA and slippages, improvement in operating ... BofA is yet to make a final decision on setting up an ARC and may choose not to go ahead with the plan This is for the first time that the IBA has proposed a performance-linked pay for banks The Nifty PSU Bank index is flat since the government announced a Rs 2.11-trillion recapitalisation plan in October 2017 In January, the insurance behemoth LIC completed the acquisition of 51 per cent controlling stake in IDBI Bank India now has three companies in the global top 100 list in terms of market value Manian is currently working as the president - corporate, investment bank The government's capital infusion of Rs 1.91 trillion into the PSBs during 2018 and 2019 augurs well with their growth The bank had recently invited bids for the property, but did not receive any as the reserve price was on a higher side at around ... Gruh Finance, the affordable housing finance arm of HDFC Ltd, was taken over in January by Kolkata-based Bandhan Bank in a ...\",\n",
              " \"The meeting comes ahead of commencing business as merged entity on April 1 Inclusion in the list gives additional comfort to investors that these banks won't be allowed to fail and therefore, borrowing ...\",\n",
              " 'The three-year swap will take place through an auction on March 26 In the first nine month of FY19, the net losses stood at Rs 42,900 crore and is expected to increase to Rs 65,000 crore during ... n January, LIC completed the process of picking up a controlling 51 per cent stake in the nearly crippled IDBI Bank This liquidity will return only in the next financial year as the government starts spending RBI to hold quarterly meetings from April 1 on NPAs, governance and fraud The ATM industry has been lobbying for an increase of inter-change by Rs 3 to Rs 18 These banks have witnessed growth in assets under management, deposits, and better return on their equities, besides mitigating ...',\n",
              " 'The purchase will happen through multi-security auction using the multiple price method.',\n",
              " \"State-run banks' standard restructured advances fell to Rs 0.34 trillion by Q3FY19 In case of deposits, HDFC and PNB Housing have good chunk of total deposits Shaktikanta Das has been pragmatic and more accommodative of the financial market's concerns even as he keeps his counsel The lender said except Mittal Corp and Shree Vaishnav, the auctions are under the Swiss Challenge method and will be conducted on ... Videocon Industries and its promoter Venugopal Dhoot and P N Dhoot are guarantors to Unity Appliances, as per the public notice ...\",\n",
              " 'The bank will service its savings bank account holders with over Rs 1 lakh of outstanding balance an interest 2.75 per cent lower ...',\n",
              " 'While the RBI has not mandated banks to switch to external benchmarking, it had proposed that they link all new floating retail ...',\n",
              " 'The housing market regulator has proposed to raise capital adequacy ratio for HFCs from 12% to 15% by March 2022 and pare their ... Upgrade reflects improved solvency of the banks, following capital infusion by govt.',\n",
              " \"Moody's estimates both banks will achieve a ... LIC acquired 51 per cent controlling stake in IDBI Bank, making the insurer the lender's majority shareholder Shaktikanta Das, the new RBI governor, has been trying to nudge bankers to lower lending rates, holding meetings with bank chiefs ... Indian lenders burdened with the world's worst bad-loan ratio are stepping up effort to recover delinquent debt after the Reserve ...\",\n",
              " 'The share of NBFC-MFIs increased from 32% to 37% in the time period The matter is scheduled to come up for hearing at the Bombay High Court on Tuesday.',\n",
              " \"The share of the banned notes in the currency in circulation was about 86 per cent, amounting to about Rs 15.41 trillion The bank and LIC, through its collective network of branches, offices and workforce, have started leveraging their mutual ... Forms task force for synergy with LIC,  approves insurer as a corporate agent under bancassurance Tightening the spigot on debt purchases is bad news for a market already jittery about heavy supply of paper from PM Modi's ... From May 1, the savings bank deposits with balance above Rs 1 lakh will earn an interest of 3.5 per cent, 2.75 per cent lower ... Khullar, a graduate from the Indian Institute of Management, Ahmedabad, is a career Citibanker, having worked with the ... SBI is the first lender to announce a timeline to switch to an external benchmark The penalties, ranging from Rs 1 crore to Rs 4 crore, were imposed by orders dated January 31, 2019, and February 25, 2019, the ...\",\n",
              " 'The move will to a large extent speed up the monetary transmission process Reserve Bank Governor Shaktikanta Das Friday said credit rating agencies play a critical role in the stability and efficient ...',\n",
              " 'The RBI also permitted WLA operators to source cash from any bank, including cooperatives and regional rural banks The exact date of issuance of these new series coins is yet to be announced Banks would be required to prepare financial statements for the financial year beginning April 2019 as well as for the previous ... Exim Bank said the bonds were distributed 87% in Asia and 13% in Europe and offshore US The independent audit report is on 39 of the 64 allegations levelled against the housing finance company by a news agency Global majors IBM and Accenture set to compete with existing vendors Infosys and HP for deal to integrate different technology ... RBI wants to snuff out evergreening, stock-play via bank-led units; risk-based supervision on cards The decision is based on an assessment of liquidity conditions and also of durable liquidity needs, it added The relaxation in the ECBs and masala bonds norms has made it attractive for the NBFCs and HFCs to tap into the offshore credit ...',\n",
              " 'The RBI imposed the fines over the past four days, according to stock exchange filings by the banks, though specifics of the ...',\n",
              " 'The decision on OMO is based on an assessment of prevailing liquidity conditions and also of the durable liquidity needs going ...',\n",
              " 'The new rates are effective from March 7 Post the PNB fraud, which came to light in February 2018, the RBI has been tough on banks to tighten all kinds of transactions Asset quality improvement, receding funding pressure boost confidence, with 14 stocks trading near 52-week high Swift is the global messaging software used for transactions by the financial entities Of this, banks could deploy a portion towards higher rated NBFCs given the lower risk weight for these entities State-owned Central Bank of India has put up for sale four stressed accounts, including Bhushan Power & Steel and Essar Steel ...',\n",
              " 'However, with market sentiments remaining muted, the fundraising might not be an easy task, especially for banks which are still ...',\n",
              " 'According to the Budget 2018-19, the government intends to disburse loans of up to Rs 3 trillion in the current financial year ...',\n",
              " 'Built into this speculative episode, like its predecessors, is a euphoric flight from reality and a blindness to risks that ... Dena Bank said the Reserve Bank has imposed a penalty of Rs 20 million on it for non-compliance with the directions issued on ...',\n",
              " 'The Appointments Committee of the Cabinet has approved his appointment as part-time non-official director as well as ...',\n",
              " 'Yes Bank Friday said Ravneet Gill has taken charge as its MD and CEO with immediate effect for a tenure of three years.',\n",
              " '\"Ravneet ... International Finance Corporation to invest up to $25 million for a 20% stake The agreement was done during Prime Minister Narendra Modi\\'s visit to Japan in October 2018 The task force will submit its report by June- end.',\n",
              " \"Reserve Bank of India's rate cuts are proving to be ineffective in lowering rates Bulk of the recap funds to banks will go towards provisioning, and it will take time before it leads to acceleration of credit ...\",\n",
              " 'The finance ministry last week announced infusion of Rs 48,239 crore in 12 public sector banks in this fiscal to help them ...',\n",
              " \"The bank has identified loans to 49 companies for sale The proposed guidelines said their variable pay needs to constitute at least half of the total remuneration Penalty on cards if bank underreports bad debt, provisioning NBFC-MFIs, which hold the largest share in  micro-credit space, were able to shake off impact of tight liquidity in Q3 It's only a matter of time before they are cleared, which will give the first glimpse of a new CEO compensation regime.\",\n",
              " 'In December 2018, the bank announced that Rajiv Anand, executive director-retail banking has taken over as the executive ...',\n",
              " \"Along with HFCs, NBFCs account for about 60 per cent of real estate developers' loans as banks stayed away from lending to ... Dena Bank, which is among eight entities under PCA, will cease to exist from April 1, 2019.\",\n",
              " 'The IL&FS bond toxicity contagion is spreading rapidly.',\n",
              " 'The virus has now spread to a rather large body of savers, in this case ...',\n",
              " \"The decision was taken by the RBI in its last bi-monthly monetary policy Uco Bank expects its privileged status processing refiners' payments for Iranian oil shipments to add more than Rs 8 billion to ... NSSF offers high-volume long-term debt funding, an area where the bond market falls short RBI Governor Shaktikanta Das held the first meeting with heads of select commercial banks after the monetary policy review on ...\",\n",
              " 'Even after the last policy rate reduction, only two banks--SBI and Bank of Maharashtra--chose to do something, by lowering just ...',\n",
              " \"Combined microcredit portfolio of all lenders as on December 31, 2018, was Rs 1,57,497 crore Though capital adequacy and net NPAs will improve, banks will need more capital to expand Government had announced Rs 48,239 crore capital infusion into 12 public sector banks in this fiscal to help them maintain ... Several public banks are now focusing on agriculture infrastructure credit, like warehouses and cold storages, while the growth ... Deutsche Bank resisted for years reducing the value of those bonds and related derivatives on its books to a level that markets ... Moody's assessed that the downside risks to the bank's credit profile have diminished With two major cases at the final stage of resolution, the Finance Ministry expects bad loan recoveries to touch Rs 1.80 lakh ... Allahabad Bank will be provided Rs 6,896 crore In the past year, the US lender has had to team up with local asset reconstruction companies to purchase loans made to firms ...\",\n",
              " \"The bank's management, on its part, is confident about softening of bad loan or NPA with the recovery of Rs 34,000 crore from ... On February 14, the private lender had disclosed that the RAR had not found any divergence in asset classification and ... Signalling an end to the  liquidity crisis that NBFCs have been facing since last  September, corporate bond issuances by them ... RBI said in December that the ratio for banks fell for the first time since 2015, though it's still 'high for comfort' The state-owned lender would also expedite payment of insurance amount of Rs 30 lakh each to the families of CRPF personnel India is the fastest growing major economy in the world and banking services are yet to reach all the people, Puri added Digital security concerns have assumed greater importance amid the Modi government's efforts to steer India towards a less-cash, ...\",\n",
              " \"Commenting on mergers in the banking space, Finance Minister Arun Jaitley said India needs fewer and mega banks which are strong In the current situation if I cut the rate of interest then I will have a problem, says Kumar If recapitalisation of banks is welcomed, a farm loan waiver should be as acceptable The warning comes after the regulator received several whistle-blower complaints in the past two months against more than one of ... Linkage with RBI's compliance and inspection reports to be strengthened The sharp spurt in prices on Thursday had added more than Rs 2,000 crore (notional gains) to promoters' wealth The eighth round of the survey for the period July to December 2018 witnessed participation of 23 banks.\",\n",
              " 'Between April and November 2108, the central bank had net sold $26.51 billion in the spot market against net purchase of $18.017 ...',\n",
              " \"The programme, christened Nayi Disha, focuses on work-life balance and also involves the staffs' immediate family members The liquidity crisis at NBFCs  triggered by the bankruptcy of IL&FS and the Supreme Court  verdict banning use of the Aadhaar ...\",\n",
              " 'The regulator for housing-finance firms has allowed an accumulation of illiquid long-term assets with liquid short-term ... Allahabad Bank expects fresh capital infusion from the government by the end of this month or early next month The RBI said the directions in this regard have been issued the Foreign Exchange Management Act Shaktikanta Das also discussed the current regulations and requirements for investment in fixed income for FPIs SBI announced only a 0.05% cut in interest rate on home loans of up to Rs 30 lakh despite the RBI cutting the repo rate by 0.25% ... Defaulters cannot get additional finance from banks The Reserve Bank of India assesses compliance by banks with extant prudential norms on income recognition, asset classification ...',\n",
              " \"Developers in India are struggling as loans become harder to get from non-bank lenders whose own funding is drying up The nuance that has been lost is whether the move is aimed more to free up the capital of banks or to help loan companies The crowd which dares to walk alone is getting bigger as the years pass, reports Raghu Mohan Loans extended under PMMY from the inception of the scheme up to March 2018 were Rs 5.71 trn Banking, capital markets and insurance sectors in IFSCs are regulated by multiple regulators at present City Union Bank Ltd., a small lender based in Kumbakonam, has risen more than 27% over the last twelve months, the best ... International rating agency S&P  Global Monday affirmed credit rating of state-run Indian  Overseas Bank (IOB) at 'BB' and 'B' on ...\",\n",
              " 'The process of amalgamation is going on according to the schedule, the sources said.',\n",
              " 'They added that the other proposal would be ...',\n",
              " 'The bulk of accounts up for sale by SBI are of small and medium enterprises that have dues amounting to Rs 4,667 crore The government has shifted the focus on accounts from \\'every household\\' to \\'every unbanked adult\\' The scheme announced by RBI is a one-time scheme wherein a loan tenor and interest rate can be revised without classifying the ... As the IL&FS group defaulted on its debt obligations, the NBFC sector earned a bad reputation for itself and also went through a ... Reddy said that by taking recourse to unprecedented practice of interim dividend, the government has compromised on the ... SBI reduces rates by 5 basis points on home loans up to Rs 30 lakh Interchange fee is the amount charged by ATM operators for every transaction \"As the nation\\'s largest lender, we have always kept customer interests at the centre,\" said SBI chairman Rajnish Kumar Making more credit available more cheaply is vital for Modi, who wants to please businesses, farmers and individual borrowers UCO Bank\\'s NPAs ballooned to 27.39% of gross loans at end of December 31, 2018 The yield on the most-traded 2028 sovereign bonds fell just seven basis points, the rupee eked out a gain and the main stocks ... Calls for one-time relief that will allow restructuring of viable companies and not expose them to the threat of insolvency ...',\n",
              " \"Earlier in the day, the Reserve Bank cut its repo rate at which it lends to the system by 0.25% to 6.25% The rate cut will benefit Modi's government as it will boost economic growth and lending to small businesses, according to ...\",\n",
              " 'Following the recent defaults by  entities like the IL&FS, the regulator Irdai Thursday said  insurance companies will have to ...',\n",
              " \"The central bank unexpectedly lowered interest rates and, as anticipated, shifted its stance to 'neutral' to boost a slowing ... Banks' net non-performing loan (NPL) ratios and capital -- two of the four parameters that the RBI tracks as part of the PCA ... A few leading payment providers are actively engaging with the Reserve Bank of India (RBI) for allowing free flow of data across ...\",\n",
              " 'The bank will seek further capital infusion from the government by March 2019 The retail loan portfolio, including SME credit, was over Rs 36,000 crore at end of Dec The move comes at a time when a host of state-run banks are set to jettison some of their non-banking ventures to raise capital Need for a separate unified regulator arose after the existing regulators expressed concerns that transactions in GIFT City can ... State-run Punjab National Bank,  which returned to the black in the December quarter with a  modest profit after three successive ... SMS alerts cannot be the basis to determine the liability of a customer, for there would be account holders who may not be in the ...',\n",
              " 'The healthier private sector lenders will account for up to 60 per cent of the incremental deposit mobilisation, domestic ratings ...',\n",
              " \"Confirming the order, V Suresh, counsel for ICICI Bank said that the court dismissed the revision petition and allowed the bank ... 'If you say there are job losses where is this growth coming from,' Kumar said in response to criticism about lack of generation ... Uco Bank was fined Rs 2 crore for non-compliance on account payee cheques Had suffered Rs 4,530-crore net loss in the second quarter of the current fiscal Penalty of Rs 2 crore has been imposed each on Axis Bank and UCO Bank for non-compliance of norms related to payment through ... Of the Rs 13.5-14 trillion stressed corporate loans, banks have recognised only Rs 10 trillion as of Sept 2018 Next trigger for bonds will come from the central bank's policy decision on Thursday, when it is expected to change its stance to ...\",\n",
              " 'The total income for the October-December 2018 quarter was at Rs 762.47 crore as against Rs 817.57 crore registered a year ago.',\n",
              " \"Bank board's proposal in this regard must receive nod from RBI, shareholders and Stock Exchanges; it is also subject to name ... Its asset quality remains under severe pressure The bank had reported a net loss of Rs 1,524.31 crore in the corresponding quarter of the previous fiscal Quite simply, you will end up paying a bit more on your stock deals It denied to share the copies of these reports, saying the disclosure would cause breach of privilege of Parliament The boards of both companies have approved the transaction, however, the value of the deal has not been disclosed Such a move could drag states' ability to woo investors , say experts The bank has partnered with Tata AIA for life insurance, Cholamandalam MS for general insurance Its total income decreased to Rs 6,329.17 crore during the quarter under review, as against Rs 6,589.32 crore in the year-ago ... Tamil Nadu Grama Bank reported around Rs 21,000 crore of business with 625 branches Control on slippages and lower overhead expenses boosted bottom line Mondal, who resigned on Thursday, will serve notice till close of business hours of March 31,2019 On January 31, Rana Kapoor's reign as the Managing Director and Chief Executive of Yes Bank, which was co-founded by him Various steps taken by govt has helped the banks significantly and as a result 3 banks -- Bank of India, Bank of Maharashtra and ... Bank of India, Bank of Maharashtra, Oriental Bank of Commerce can resume normal business but will be under observation A report by Cobrapost claimed that DHFL, through layers of 45 shell companies, allegedly siphoned off Rs 31,000 crore out of the ... RBI said that both BoI and BoM have Net NPAs of less than 6% as per Q3 results while OBC's net NPA has come down as the govt has ...\",\n",
              " \"Regulator to approach GST council on reducing tax on property insurance, is upbeat about cyber security business Besides, Kochhar will also have to forgo her unexercised stocks options Insurance companies will have to  make provisions for their exposure to the crippled infra  lender IL&FS, industry regulator ... Defaults at IL&FS have roiled the credit market and made it harder for other non-bank lenders to access funds Recent bankruptcy proceedings that wrested prominent companies from their owners were a wake up call for India's business ...\",\n",
              " \"The Justice B N Krishna committee report has vindicated the agency's stand, the officials said First victim of the NBFC crisis, the company's m-cap already down by 60% since September 'I am utterly disappointed, hurt and shocked by the decision', said Chanda Kochhar Net interest income up 21% to Rs 6,875 cr, other income rises 9% to Rs 3,404 cr Lender has decided to treat her leave from the bank as a termination and claw back her bonuses from April 2009 to March 2018 The domestic firms had raised $1.31 billion through the ECB route in December 2017 A measure of asset quality, fell to 7.75 per cent at the end of December, from 8.54 per cent in the previous quarter and 7.82 per ...\",\n",
              " \"The report has been tabled at the bank's board meeting and a discussion on the findings of the investigation is underway; board ...\",\n",
              " 'Wants to return to 18% RoE and sustain it However, banks are managing these costs closely through a hike in slabs and some explicit cuts.',\n",
              " \"With concerns on funding costs put to rest, Bajaj Finance stocks rose over 2 per cent on Tuesday While RBI's supervisory bureaucracy was blindsided on PNB, it gave the sense of having put sound systems in place This one year window has afforded an opportunity to PSBs by an estimated relief of around Rs 35,000-38,000 crore Report notes that Insolvency and Bankruptcy Code's success has been a mixed bag so far Total income in the reported quarter increased at Rs 14,562.85 crore as compared to Rs 12,976.28 crore in the year-ago period Gross non-performing loans fell to 5.75 per cent of total loans at the end of December The implosion of the highly rated lender raised financing costs for everyone who had borrowed short-term funds to invest in ... RBI Governor Shaktikanta Das addressed the PSB chiefs earlier in the day and took stock of the liquidity situation It is alleged that during the tenure of Chanda Kochhar, six loans worth Rs 1,875 crore were cleared for Videocon Group and its ...\",\n",
              " \"Provisions and contingencies during the reported quarter stood at Rs 1,977.34 cr, as compared to Rs 2,673.64 cr in the same ... Net Interest Income up 40% to 655 crore; improvement in asset quality seen in better NPA ratios Indian banks' bad debt problem, second in the world only to Italy, offer opportunities for a potentially lucrative form of ... IIB has analysed how prices of health insurance claims have risen over a seven-year period, since 2010 The RBI says banks may consider the applications from exporters and grant permission for opening or hiring of warehouses abroad On January 18, the finance ministry, issued an order to sack Rao and Sharan Repco Micro Finance last year submitted a proposal for getting a licence as Small Finance Bank, but the Reserve Bank of India ...\",\n",
              " 'The SFIO and PSU banks can initiate the process if they suspect that the defaulter may leave the country to escape the law CBI has named former ICICI Bank MD & CEO Chanda Kochhar, her husband Deepak Kochhar, Videocon Group promoter Venugopal Dhoot as ...',\n",
              " \"According to industry experts, 2017 was the year of digitisation In 2017-18, the revised estimate was higher than the Budget Estimate by 2.6% On May,'09, Chanda Kochhar took over as ICICI Bank MD and CEO The CSO in its latest forecast, has pegged GDP to grow at a rate of 7.2% for 2018-19 The pleas claim that RBI and former governor Urjit Patel had 'willfully and deliberately' disobeyed SC's judgement asking the ... NCLT proceedings and court cases have not been moving at the pace that the bank expected Recoveries during the quarter surpass slippages; Provision coverage ratio improves to 64.23% in reporting quarter from 57.83% a ... Total income was up at Rs 5,269.10 crore from Rs 4,903.07 crore in the year-ago period The fiscal deficit may touch 3.4 per cent of gross domestic product (GDP) for year ending March 2019, breach the target of 3.3 ...\",\n",
              " 'The companies like Swiss Ribbons, Shivam Water Treaters, and Ganesh Prasad Pandey, an individual petitioner, had challenged ...',\n",
              " 'In October, the RBI had refused to give incumbent CEO Rana Kapoor an extension to his term He said big tech companies tended to specialise in payments and settlement rather than deposit-taking and lending Chanda Kochhar showed dishonesty by abusing her official position in sanctioning a loan in favour of Videocon International ...',\n",
              " \"The appellate tribunal has directed the Ahmedabad Bench of NCLT to pass an order on the insolvency resolution of Essar Steel on ... Net interest margin increased to 3.06%, as against 3.02% for the third quarter of the previous fiscal Bank's senior group president says Jan 29 board meeting will decide whether an interim CEO will be brought in for the gap between ...\",\n",
              " \"The paper's findings rekindle the debate on the Reserve Bank of India's autonomy, just as a panel reviews how much funds the ...\",\n",
              " \"Uncertainty over the outcome of a national election in May is seen as the main downside risk to Asia's third-largest economy Dragging cases in NCLT would mean higher provisioning in next quarter 'The healthy net interest margin (11.8 per cent) helped to increase profits,' MD and CEO Samit Ghosh said According to the report, close to 40 per cent of the gross credit exposure of Indian banks is in sectors where water risks are ...\",\n",
              " \"The bank's total income also rose to Rs 4,106.42 crore during the period This is the first time the country's biggest bank's exposure has been revealed in the case involving Mehul Choksi, who is among ...\",\n",
              " 'The RBI will buyback five securities maturing between June 2019 and December 2033 through the purchase, it said and also ... Deal size grew considerably in the reporting year, which is a sign of the increasing maturation of the VC market here The institute has proposed a collaborative approach among all the stakeholders in a network while stressing on the need to evolve ... A policy paper placed on the RBI website on Monday discusses the various pros and cons of having a single operator for payments Canara Bank has invited bids at a floor price of Rs 225 per share, according to the Request for the Proposal floated by the bank Shares of IDBI Bank Monday fell over 3 per cent on a day when insurance behemoth LIC announced completion of 51 per cent stake ...',\n",
              " 'It had posted a net loss of Rs 124.98 crore in October-December 2017 (Q3Fy18) Net NPA stood at 0.67% for the present quarter, against 0.94% in the year-ago quarter IDBI Bank Monday said insurance behemoth LIC has completed acquisition of 51 per cent controlling stake in the bank, making it ...',\n",
              " 'The Wall Street bank said lower inflation projections, and expectations of a slower pace of US policy rate hikes prompted it to ... A country that needs to sweat every investor rupee and dollar to put its swelling, restive labor force to work will continue to ...',\n",
              " \"The Centre said the PNB two executives failed in their capacity in the top management to justify their dismissal The JV will provide various payment options to customers and merchants The successful issuance demonstrates the strong niche investor base SBI has created for itself in offshore capital markets The total outlay for credit requirement projections is an aggregation of the 'Potential Linked Credit Plans' prepared by the ...\",\n",
              " 'The bank had recorded a net profit of Rs 115 crore in the corresponding period of the previous financial year The PNB has intimated the action to the stock exchanges This follows a wait-and-see approach laid out earlier this month by several other Fed policymakers, making clear that a consensus ...',\n",
              " 'The RBI Act was amended in November 2016 to make the goal as \"maintaining price stability keeping in mind the objective of ...',\n",
              " \"According to the list of financial creditors as of October 2018, SC Lowy Primary Investments has an exposure of about Rs 900 cr ... Over Rs 1.21 trillion debt (a part of the Rs 4.10 trillion) is likely to emanate from corporates rated 'AA-' and above, a report ... Fincare announced this during its entry into Hyderabad with the launch of its branch at Banjara Hills The counsel representing the RBI sought more time from the court to file the affidavit in reply to the writ petition filed by the ...\",\n",
              " \"In a meeting with RBI Governor Shaktikanta Das, industry chambers suggested measures to ease tight liquidity situation and reduce ... SBI has concluded the standalone issuance of fixed rate senior unsecured notes in two tranches of $850 mn for 5 years The bonds will have a call option, which means the management can buy back the bonds, if they wish to, after a specific period The bank will raise about $ 700 million through five- year bonds and $300 million through three-year bonds According to RBI, the fine was imposed for non-compliance with 'Master Directions on Frauds-Classification and Reporting' The estimated cost of the project, being constructed by the Maharashtra State Road Development Corporation, is around Rs 50,000 ...\",\n",
              " \"The reappointment is effective from January 19, 2019, ICICI Bank said in a regulatory filing The Union Cabinet, chaired by Prime Minister Narendra Modi, also approved an increase in the bank's authorised capital from Rs ... Senior SBI executive said the sale if goes through would give bank immediate cash to be deployed for lending operations The government had provided for Rs 500 crore towards capital infusion in the Exim Bank in the budget for this fiscal She has been courted as an administration ally by Ivanka Trump, the president's eldest daughter who is playing a role in the ... RBI has permitted authorised card payment networks to offer card tokenisation services to consumers requesting it, in an effort ...\",\n",
              " 'The RBI plans to inject liquidity under OMOs for Rs 50,000 crore in January 2019 A slowdown in the world economy, the trade war and skittish financial markets are forcing policy makers to express fresh caution ...',\n",
              " \"In the financial year 2017-18, SFBs posted a collective net loss of Rs 2,020 crore, against a net profit of Rs 140 crore the ... Former IDBI CEO B Sriram and management consultant Rama Bijapurkar appointed for five years Weaker growth and the possibility of inflation undershooting the 2 per cent lower boundary of the RBI's inflation target range ... Sobti, 68, was selected unanimously by a five-member high profile jury headed by former Reserve Bank of India deputy governor S S ...\",\n",
              " 'However, net NPAs rose marginally to 4.59 per cent of the net loans from 4.29 per cent in the corresponding period a year ago The rupee had a better run in the past fiscal, while it was one of the worst among its emerging market peers this fiscal year, ...',\n",
              " 'The central bank has flagged that bad loans under PMMY have risen to Rs 11,000 crore UPI 2.0 to fast-track growth, as merchant transactions rise Existing shareholders feel value of their shares going up substantially in the future following management takeover by LIC Currently, the bank has a total business of roughly around Rs 4.80 trillion, comprising deposits of about Rs 2.50 trillion Dutt has been on the board of the bank since July 2013 as an independent director The US-based Citibank has been operating in India for over 115 years PNBHFL is among the top-five HFCs in India in terms of assets under management, with about a six per cent market share of housing ...',\n",
              " \"The panel would cover all the factors affecting the sector's performance and what would be the viable solution for its ...\",\n",
              " 'The government of Prime Minister Narendra Modi has been pressuring the central bank to ease the curbs on at least some of the ... Chandra Shekhar Ghosh has been a cautious businessman all through his career, but the acquisition of Gruh Finance appears out of ...',\n",
              " 'The lender posted a 10% rise in profit to Rs 331 crore in the December quarter These small-finance banks require a new pool of talent for diversification Experts said this was likely to attract huge quantities of gold over the coming months.',\n",
              " 'Some claimed this was a move to bring out ...',\n",
              " 'The survey found that consumers in China, India and Latin America are more open to banking with technology firms than others, ... RBI governor has been holding consultations with various stakeholders in the financial sector after taking charge in December Indian mills expect sudden spike in global sugar prices to persist due to drought in Brazil, giving India a fair chance to ...',\n",
              " 'The bank had earlier stated that it had a total exposure of Rs 3,000 crore against the IL&FS group, of which Rs 2,000 crore is ...',\n",
              " \"The mechanism offers an additional layer of security as it masks sensitive card data such as the 16-digit account number, ... Loan defaults rise in three years; finance companies becoming vulnerable The most obvious is the goods and services tax (GST) The committee will review the state of digitisation of payments in the country, identify gaps and how to bridge these The non-payment of dues beyond 90 days would force the banks to treat their exposure as a non-performing assets At present, tokenised card transaction facility would be offered through mobile phones or tablets only and will be extended to ... Govt informed Rajya Sabha that no proposal with regard to change in the RBI's powers with respect to public sector banks was ...\",\n",
              " 'The government and RBI under previous governor Urjit Patel had been at loggerheads over the Rs 9.6 trillion surplus capital with ...',\n",
              " \"The operation in SBI and private sector banks remained unaffected as other seven unions in the banking sector are not part of the ... Govt will have to amend the Constitution to bypass SC order After the merger, HDFC will have about a 15 per cent stake in the Bandhan Bank, this is more than what RBI's rules permit ... Das says the RBI constantly monitors liquidity conditions and would take steps to address any deficit in the banking system Domestic securitisation market volumes touched all-time high of Rs 1.44 trn during the nine months to December 2018, as compared ... RBI will take steps if there's liquidity shortage, said Shaktikanta Das As on January 31, 2018, PSBs had about 165 overseas branches, besides subsidiaries, joint ventures and representative offices The committee has also made a case for more incentives and a better remuneration package for senior management of PSBs The All India Bank Employees Association and Bank Employees Federation of India has informed the Indian Banks' Association of the ... A fourth of the total amount was owed by these defaulters to SBI on September 30, 2018 The PNB had approached the tribunal challenging the adjudicating authority's order allowing the ED to attach the company's ...\",\n",
              " \"Following roadshow in December 2018, it may come out with bond issues based on market conditions in January-February 2019; Looks ... PNB has informed that these funds are duly audited by the bank's statutory central auditors every year, said Jaitley There has been no recent decision regarding 2,000 rupee note production, says Garg The move has been roundly criticized by most analysts, and many fear the culture of forbearance is back and could lead to more ... As for NBFCs, the retail credit stood at Rs 8.3 trillion as on September 2018 Banks have requested a relook on its February 12 circular that makes a firm a defaulter as soon as it misses a payment within the ... Motilal Oswal Financial Services, Anand Rathi Shares and Stockbrokers Ltd. and India Infoline among companies served notice The merged entity will become India's third largest bank after SBI and HDFC Bank he standing committee on finance also asked the RBI to evaluate the efficacy of its own guidelines on dealing with frauds Bill proposes to ban deposit takers from promoting, operating, issuing advertisements or accepting deposits in any unregulated ...\",\n",
              " \"The report said NBFC segment is well capitalised for addressing the medium-term growth opportunities Lenders have so far recovered Rs 8,000 crore from the resolution of 66 cases While PSBs met their PSL target for agriculture of 18 per cent, private banks and foreign banks failed to meet the targets at ... MTM gain and availability of liquidity mitigates pressure to increase deposit rates, amid relatively slower growth in deposits The company's Board will consider the issuance of NCDs on private placement basis in a meeting on January 29 Vijaya, Dena shareholders to get 402 & 110 shares, respectively, of BoB for every 1,000 held A meeting of the committee of directors on ESPS -- Compensation Committee -- is scheduled to be held on Jan 7 to consider, ...\",\n",
              " \"The government in September last year had announced merger of state-owned Vijaya Bank and Dena Bank, with larger peer Bank of ... Reserve Bank Governor Shaktikanta Das Wednesday said he will meet representatives of MSMEs and non-banking financial companies ... To be eligible, the MSME account should remain a 'standard asset' as of January 1 Banks are to link retail loans to external benchmarks; finance companies may be next After the IL&FS crisis, the RBI feels that the oversight framework related to the financial corporations need to be geared for ...\",\n",
              " 'The aggregate exposure, including non-fund based facilities of banks and NBFCs, to a borrower should not exceed Rs 25 crore as on ...',\n",
              " \"The government on Monday infused Rs 10,882 crore in four public sector banks, including UCO Bank and Syndicate Bank Urjit Patel resigned after a months-long tussle over policy with the government that raised concerns about the bank's ...\",\n",
              " 'The genesis of differences between the RBI and the government was one-day default norms announced by the central bank on February ...',\n",
              " 'The primary reasons for spurt in stressed assets include aggressive lending practices, wilful default, loan frauds, corruption in ...',\n",
              " 'The share of net credit of housing finance companies (HFCs) in the total flow of credit nearly doubled from 6.2 per cent in FY14 ...',\n",
              " \"The move comes amid a system-wide hike in lending rates due to tight liquidity Banks showed an overall improvement with their gross NPA ratio declining from 11.5% in March 2018 to 10.8% in September 2018 Amitabh Chaudhry will be the new managing director and CEO of the bank with effect from January 1, 2019 The Reserve Bank Monday pitched  for greater coordination between financial sector regulators  to plug any possible gaps which ... With the bank growing its assets by over 30-35% quarter after quarter, it is constantly in need of capital RBI's latest report suggests that if the Nirav Modi scam were left out, the quantum of frauds would have risen by just Rs 38 bn ... Public sector banks accounted for a majority of frauds during the year As of September 2018, total client outreach of the sector was 29.9 million As inflation is expected to undershoot the Monetary Policy Committee's target of 4% plus/minus 2% While banks recovered Rs 49 billion of bad loans through the IBC, the amount recovered through SARFAESI was Rs 265 billion in Currently, intaglio printing-based identification marks are present in banknotes of Rs 100 and above for helping the visually ...\",\n",
              " 'The capital adequacy ratio denotes how much capital a bank has against its loans The fund infusion would be by way of preferential allotment of shares Backed by an increase in fund-based income, the NBFCs saw an improvement in their profitability in FY18 and in the H1 of FY 19 The Reserve Bank Friday warned  that with high bad loans and inadequate provisioning to cover  the same, any relaxation in the ...',\n",
              " 'The government and the RBI under the previous Governor Urjit Patel were at loggerheads on several issues, including over ...',\n",
              " 'The date of allotment is December 28, 2018, it added Various initiatives taken by the government have yielded results, with the bad loans of public sector banks declining by over Rs ...',\n",
              " 'The 11 public sector banks that  are under the prompt corrective action (PCA) framework have  shown lower growth in gross ...',\n",
              " 'The number of ATMs has declined  marginally to 2.07 lakh in FY18 from 2.08 lakh in FY17,  primarily due to branch rationalisation ... System-wide gross non-performing  assets of banks rose to 11.2 percent or at Rs 10.39 trillion  in FY18 from 9.3 percent a year ...',\n",
              " \"The bank said these fraudulent transactions had taken place over a number of years and amounted to $1.77 billion The RBI had, in April, imposed several restrictions on City Cooperative Bank, including limiting the withdrawal by depositors to ... All banks, except Syndicate Bank, which are expected to receive capital infusion under RBI's PCA are facing certain lending ...\",\n",
              " 'Earlier this month, Finance Minister Arun Jaitley said the government would put an additional Rs 410 billion in PSBs over and ...',\n",
              " 'The central probe agency had filed a criminal case against the firm and its promoters under the PMLA after taking cognisance of a ...',\n",
              " \"In 2016-17, CPSEs' contribution to the exchequer stood at Rs 36 trillion PSBs need to get over the vexed issue of wage negotiation, and collectively work to promote an institutional environment Former deputy governor Rakesh Mohan will be vice-chairman of the six-member committee V Vaidyanathan is a retail veteran having been retail head at ICICI Bank ICICI Bank's then MD & CEO Chanda Kochhar abruptly sought early retirement There is still no clarity on the timeline for peace between the two groups Weeks ago, Nirav Modi was spotted having dinner at a London restaurant Former RBI governor Bimal Jalan will be the committee's chairman and Rakesh Mohan, a former deputy governor, deputy chairman The Reserve Bank of India (RBI) will capture payment habits of individuals in six cities, including four metropolitan towns.\",\n",
              " 'For ...',\n",
              " \"In the afternoon, over 5,000 bank staffers staged a rally at Mumbai's Azad Maidan and raised slogans opposing the proposed merger The bank said the issue price under ESPS has to be decided by the board and it will be in a way so that the government holding ... A total of 8,802 frauds have been reported by scheduled commercial banks and public sector banks in 2017-18 as against 7,794 in ... With branches closed, cash transactions are also set to take a hit According to Reserve Bank of India and Securities and Exchange Board of India rules, it is not mandatory for shareholders to sing ...\",\n",
              " 'According to AIBEA General Secretary C H Vekatachalam, the strike is effective across the country and employees are fighting for ...',\n",
              " 'The nation-wide strike would impact banking services like deposits and withdrawal at branches, cheque clearances and issuance of ... As the year of the dog melts into the year of the pig, you will see more drama in the digital space The unions may go on an indefinite strike and the RTGS system, which is the backbone of financial transactions in the country, ... A New York Times examination of mass shootings since the Virginia Tech attack in 2007 reveals how credit cards have become a ...',\n",
              " 'Private sector banks will continue to function as usual Various services offered by the bank, including ATM transaction and cash deposits, come at a cost, but the charges have been kept ...',\n",
              " \"The Rs 20 notes accounted for 9.8 per cent of the total number of currency notes in circulation at the end of March 2018 P V Bharathi will take over the charge on or after February 1, 2019 Committee expected to submit ICICI Bank-Videocon loan case probe report by third week of January Kolkata tops list with 617 cancellations, Delhi second with 203 The 'Alternative Mechanism' (AM) headed by Finance Minister Arun Jaitley had decided to merge three banks with a view to create a ... As per the requirement, the scheme of amalgamation will be placed before Parliament, which is in session till January 8 The strike call comes on the heels of an officers union of state-run banks observing a day-long strike last Friday In June this year, the RBI had announced to set up a PCR for India to address information asymmetry, foster access to credit and ...\",\n",
              " \"The government's move to inject an additional Rs 410 billion into PSBs will be done in tranches starting this month The bank cut faculty allowances of members at various training establishments to 10% of the basic, from 30% earlier, without ... SBI will have a majority stake in the proposed JV The merged entity will have a combined business of Rs 14.82 trillion, making it the third largest bank after SBI and ICICI Bank Currently, banks have given mandate to the Indian Bank Association (IBA) to negotiate for bank employees from scale 1-3 The association was concerned that taking away public sector bank status of the IDBI could affect the employment conditions of ...\",\n",
              " 'Given that the public sector banks alone control 75 per cent of the total business in the country, the public is sure to face ...',\n",
              " \"The infusion is aimed at helping better-performing banks under prompt corrective action (PCA) to come out of this category While top banks can afford to purchase high-end deception technologies and build strong security operations centres but the ... As part of the consultative process, Das finished meeting with the public sector lender on Wednesday Statement comes a day after FM said govt doesn't need RBI money to bridge fiscal gap RBI's HR department issued a circular stating that the bottom 25% in the grade B to C and D to E won't get a promotion, a ceiling ...\",\n",
              " 'The RBI had kept the repo rate -- at which it lends to banks -- at 6.50% in the MPC review held between Dec 3-5 According to sources, the government is considering additional capital infusion of up to Rs 300-400 billion in PSBs as they have ...',\n",
              " 'The banks will remain closed on December 22 and 23 on account of fourth Saturday and Sunday respectively.',\n",
              " 'December 25 will be ...',\n",
              " 'The lenders who attended the meeting included Bank of Baroda, Bank of Maharashtra, Allahabad Bank, Indian Overseas Bank, Indian ...',\n",
              " 'The issue of parting with a portion of RBI reserves, which as of June stood at Rs 9.43 trillion, to the government has been a ...',\n",
              " \"The impact on shorter maturities builds over time and the peak impact occurs with a lag of around six months With the new policy, only 75% of the officers with a particular rank would be promoted, while it was 90% earlier At 14 per cent of GDP, India's shadow-banking universe is much smaller than the 70 per cent ratio in the People's Republic, as ...\",\n",
              " 'The OMO purchase in the present fiscal year will be around Rs 2.5 trillion V Vaidyanathan will be the managing director and chief executive officer of the merged entity New generation private sector IDFC Bank and non-banking financial company Capital First announced completion of their merger ...',\n",
              " 'According to a BSE filing, the bank said it sold the stake in various tranches The EDPMS system was introduced by the RBI in 2014 for all banks to bring their transactions with the exporters online The post of MD and CEO of Canara Bank is lying vacant since superannuation of Rakesh Sharma on July 31, 2018 Carlyle is considering expanding its 32.4% holding after valuations for the housing finance company turned attractive Yes Bank has recommended  the name of its board member Brahm Dutt for the post of Chairman to the RBI, according to sources.',\n",
              " 'The ...',\n",
              " \"The State Bank of India (SBI) has  been pursuing resolution of Non Performing Assets (NPA) and  they should decline in the ... Govt doesn't need a single penny from RBI in this fiscal, said Arun Jaitley Even as the PSBs struggle with the weight of non-performing assets, they are hunting for new-age talent for an image makeover Within the NBFC space, housing finance companies (HFCs) are likely to find few takers In the last few months, some of DMDs from SBI have been appointed as chief executives and MDs for the public sector banks Not only were Urjit and Rajan outsiders, they also hired laterally, bypassing the existing talent, especially in the field of ...\",\n",
              " \"The shareholders also approved Chaudhry's appointment as MD & CEO for three years Traditionally, nationalised banks' EDs were elevated as MD, while DMDs were made MDs of SBI RBI's board last month decided to set up a committee for examining the economic capital framework to determine the appropriate ...\",\n",
              " 'The All India IDBI Officers Association was concerned that taking away public sector status of IDBI could affect the employment ...',\n",
              " 'The matter will be heard next on January 17, 2019 The court said it would hear the case next on January 17 Das and a possible course correction in monetary policy should allow the tailwinds of structural reforms of the past few years to ...',\n",
              " \"The RBI has often impressed it upon banks that the EDPMS needs to be up to date as the data is required to monitor how fast ... RBI nod in place, Jaitley-led group of ministers to give final approval soon Opposing the merger of these three banks, nearly one million bank employees and officers will take part in a nation-wide srike on ... Work on the registry is happening in a 'modular' manner and it will take three-five years before every financial transaction is ... A multi-agency probe is already underway into the fraud, which was mainly perpetrated by way of fraudulent Letters of Undertaking Prime Minister Narendra Modi has a new ally at the Reserve Bank of India in Governor Shaktikanta Das IMF Director Gerry Rice said this in response to a question on the recent developments at the RBI It has around 7,000 staffers in this country, being the largest international bank in India, with 100 branches in 43 cities Of particular import is the portfolio of the highly sensitive Department of Banking Regulation (DBR) under the charge of N S ...\",\n",
              " 'When contacted, a Standard Chartered Bank spokesperson confirmed the downsizing Total first-year premiums of private insurers for the period rose by 23.22% to Rs 401.97 bn The RBI has injected durable liquidity through open market operations of Rs 1.36 trillion in the current financial year YES Bank said it had finalised its recommendation for the role of a non-executive part-time chairman in its meeting Sources said the matter is being considered by the government and the final decision is expected in few weeks Yes bank added it has finalised its recommendation for the role of a non-executive part-time chairman, which has been vacant ...',\n",
              " 'The central board of the Reserve Bank of India (RBI) under new Governor Shaktikanta Das will meet on Friday where the directors ... RBI governor is right in Govt & RBI role, says Gurumurthy A seasoned IAS officer who is close to the current government, will Das find an independent voice as the new central bank boss?',\n",
              " \"Choksi, who escaped in the first week of January this year after he and his companies cheated the bank of Rs 70 billion, has ... Of all people, Modi should recognize that no election victory is worth giving up on India's best chance at becoming a ... Icra expects further capital infusion of Rs 135 billion in PCA banks during FY19 with capital infusion of Rs 119 billion till now With the 40 new ones, the count would be 978 by end-December.\",\n",
              " 'With Wednesday\\'s development, it was 943 The interest rate for fixed deposits between 1-3 years will increase to 6.25 per cent from 6 per cent Das said he will preserve the \"core values\" of the central bank, but called for \"frank discussions\" with the government Shaktikanta Das said the RBI board meeting scheduled for Friday will be held as planned New RBI governor Shaktikanta Das addressed the media in Mumbai Progress on the steps taken by Governor Shaktikanta Das\\' predecessor Urjit Patel to restore financial system integrity will be a ... Das, a career bureaucrat, is seen as someone who can ease tensions with the state, prompting a mixed reaction from markets Fitch said the full implications of Patel\\'s resignation will only become clearer once there is some indication of the RBI\\'s ... Finance Minister Arun Jaitley termed Das as a person with \\'right credentials\\' for the RBI top job.',\n",
              " \"Surprisingly for a leader elected in a 2014 landslide after touting business-friendly credentials, Modi can't seem to hang on to ... Crucial board meeting to take place as scheduled for December 18 In FY18, on an average, public sector banks reported tier-I capital ratio of 8.4 %, against global average of 14.1% Many past illustrious RBI governors were government officials, Shaktikanta Das would have to take their legacy forward When the stakes are high, Shaktikanta Das manages to work with those involved and narrow down differences.\",\n",
              " 'Das, 61, a 1980 batch Tamil Nadu cadre IAS officer, who retired as the economic affairs secretary in May 2017 was Tuesday ...',\n",
              " \"The crucial board meeting is expected to see discussion on various issues including governance reforms at the RBI Mild-mannered, Shaktikanta Das is known to rarely lose his cool and focus mostly on looking at solutions through consensus RBI maintains that its intervention in the foreign exchange market is to curb volatility in the rupee The country's largest lender SBI is running pilot projects to disburse agricultural loans digitally and expects to roll out the ...\",\n",
              " \"The contravention is with regard to RBI's directions on Frauds- Classification and Reporting by Commercial Banks The Niti Aayog vice chairman also assured that the government will do whatever is required to continue its business as usual The first step is for Prime Minister Narendra Modi to appoint an interim governor, as has been the practice in the past Patel's decision to leave rather than accept the threat to the RBI's autonomy has a certain nobility.\",\n",
              " 'But he might have offered a ...',\n",
              " \"It had been in the making for some time, says Kerala finance minister and senior CPI(M) leader It earned Rs 1.55 trillion as interest and Rs 97.68 billion as dividend, returning a yield of 7.71% for the year RBI board member S Gurumurthy says Patel's exit comes as a shock since the November board meeting was held in such a 'cordial ... Assocham Secretary General Uday Kumar Verma said it was 'inappropriate' to make a comment on the matter, terming it as an issue ...\",\n",
              " \"The public sector lender said, the fund is planned to be raised during January to March, next year Patel cited 'personal reasons' for his resignation On Monday, Urjit Patel resigned from the position of RBI governor citing personal reasons Announces his decision in a statement posted on RBI's official website There was overall growth across all product segments such as health insurance, personal accident and travel, and commercial ... RBI had turned down the bank's stake dilution plan through non-convertible preference shares Bhattacharya will succeed former banker M V Nair, who is stepping down after completing five years with the company New framework to be akin to Reporting Friday norms; pressure on equity, and debt pricing set to rise Chief Economist Maurice Obstfeld said International Monetary Fund does not want politicians 'manipulating' central banks for ... Top experts discuss the way ahead for NBFCs in BS Round Table Experts agreed that banks cannot avoid disruption but can leverage reach, technology and economies of scale of new-age players Top bank CEOs in a panel discussion at the Business Standard Annual Banking Forum 2018 These 24 dud loan accounts are majorly concentrated in Mumbai, Delhi and Kolkata zones of the bank Chaudhry, 54 years, will take over from Shikha Sharma after she demits office on December 31, 2018 An AQR for NBFCs, including HFCs, is necessary given the uncertainty over NPAs, says the former chief economic adviser The new RBI guidelines stipulate that the sanctioned fund-based working capital limits of Rs 1.50 bn and above must comprise at ...\",\n",
              " \"The bank issued Basel III compliant tier II bonds of face value of Rs 1 million each amounting to Rs 9.71 billion SBI shares closed 0.13% down at Rs 275.40 on the BSE The criticality of credit flow to the MSMEs is borne out of its contribution to employment and inclusive growth There's concern among the central-banking community that the independence of central banks could be under threat There is a need to look beyond numbers like 8 per cent of risk-weighted assets or 9 per cent, says RBI Executive Director ...\",\n",
              " \"The source said that the central bank's board for financial supervision (BFS) only discussed the banks' September quarter results ... For the microfinance industry too, the increase in lending rates has been roughly between 50-100 bps Is the future of banking fin tech or tech fin?\",\n",
              " 'Will technology follow banking, or the other way round?',\n",
              " 'Top bankers discuss at ...',\n",
              " 'The NCDs offer an effective yield of 10.20 per cent per annum for 39-month tenure, 10.42 per cent per annum for 60 months and ...',\n",
              " \"Experts say the crunch was triggered by the IL&FS issue and not because realtors defaulted The current issue is about service tax, but it has even more serious implications under the GST regime The scheme will be notified by the end of January next year The RBI has also augmented system-wide liquidity through various moves Difficulties in getting funding  will halve the non-bank lenders' asset growth to around 10 per  cent in the second half of the ... Surge in October driven by unsecured retail lending and to non-banking financial companies Even as five IL&FS employees continue to remain in captivity of unpaid staff in Ethiopia, the local police have taken into ... Fusion Microfinance is a rural MFI with a Pan-India presence through 500 branches across about 200 under-developed districts in ...\",\n",
              " \"The asset management company will launch two schemes -- YES Liquid Fund and YES Ultra Short Term Fund The board is engaging with financial and transaction advisors to assess the vertical and asset-level resolution options In a letter to the bank, the Government of India has confirmed that it will not participate in the open offer made by LIC The facility will be available on 600 select stocks on the BSE representing 99 per cent of market capitalisation SBI's subsidiary SBIFMPL is the fourth-largest asset manager in India and caters to HNIs along with domestic and offshore ...\",\n",
              " 'It has also set a target to recover Rs 30 billion from the recovery of non-performing assets Vijayan has been a key member of the search and selection committee set up to identify a suitable successor for the MD & CEO The lender continues to be among the better capitalised PSBs, with a common equity tier 1 of 9.05 per cent in the first half of ... NBFC-MFIs held the largest share of the portfolio in micro-credit with total loan outstanding of Rs 540.18 bn, or 37% of the ...',\n",
              " \"The tiff with the Reserve Bank of India (RBI) has caused several top executives to exit Yes Bank's board, and prompted rating The capitalization at public sector banks (PSBs) will remain weak but government support may provide relief, said Moody's Banks have been channeling increasing amounts of credit to retail consumers after defaults among corporate borrowers eroded their ... Tax sleuths have detected over Rs 520 million of unexplained cash in jewellers' bank accounts On Nov 22, SBI had held an e-auction of 11 NPA accounts that had outstanding dues of Rs 10.19 bn towards the bank ICICI Securities has been selected to advise the Finance Ministry on two merger and acquisition (M&A) deals, an official ... Fund houses held shares worth Rs 84 billion in the private sector lender at the end of September Sources close to the bank told news agencies that several of the concerns raised by the RBI have already been addressed LIC would also infuse Rs 150-200 billion into the loss-making IDBI Bank struggling with accumulated bad loans Deutsche Bank shares traded 1.4% lower on Friday morning after a 3.4 decline on Thursday.\",\n",
              " \"Shares are down 48% so far this year What neither side disputes is that Gurumurthy, who joined the central bank's board in August, is now one of the country's most ...\",\n",
              " 'If the banks are charged GST for free services, the customers may have to pay a higher tax for holding a minimum balance account According to the revised norms, loans of original maturity of more than five years can be securitised after receiving the ...',\n",
              " 'The IT provider will have to set up entirely new systems and carry out exhaustive data analysis Mumbai, 29 November Central government-owned Bank of Maharashtra (BoM) is on the mend and deserves to continue operating as a ...',\n",
              " \"The RBI has so far maintained it doesn't view cash crunch as a systematic issue, which it feels is limited to a few housing ...\",\n",
              " \"Remarks come days after Nitin Gadkari blamed the Reserve Bank for 'complicating' project finance and asked the central bank to ... As per the guidelines, the RBI may require an individual bank to adopt more stringent standards to reflect its funding risk ...\",\n",
              " 'Relaxation on the minimum holding period will be allowed when the NBFC retains 20% of the book value of these loans, said RBI Last week, the SAC approved the proposal for treating the J-K Bank Limited as a PSU, bringing it under the purview of the Right ...',\n",
              " \"Some 170 police officers and investigators from the Frankfurt prosecutors' office were searching six of the bank's premises in ...\",\n",
              " 'The bank has allegedly been charging extra interest, has not paid out insurance premiums, is lifting subsides to recover debt and ...',\n",
              " \"The offer by Punjab National Bank will open on November 30 and close on December 10 Ratings agency Moody's on Tuesday downgraded the bank's instruments and changed its outlook on the bank from stable to negative Morgan Credits and Yes Capital are holding companies owned by Rana Kapoor's daughters This fiscal ICICI Bank plans to grow its disbursement of consumer loans by nearly 50 per cent to Rs 50 billion Bank credit growth is up by 14.88 per cent to Rs 91.1 trillion, as of November 09, compared to Rs 79.3 trillion, one year ago The lender has kept deposits rates unchanged for other maturities BofAML said it does not rule out the possibility of the RBI cutting the cash reserve ratio (CRR) by 1% Yes Bank Wednesday said its board on December 13 will recommend names for new chairman to be approved by the RBI as well as ... Bank is in midst of management transition amid resignations The Indian Banks' Association has suggested the use of blockchain to monitor financial transactions of a borrower financed by a ...\",\n",
              " 'The outstanding of resources mobilised stood at Rs 97.3 trillion Consumer and small- and medium-enterprises loans account for 60 per cent of their loan mix With the latest announcement, OMO purchases by December-end will cross Rs 1.5 trillion Ghosh also suggested that microfinance institutions (MFIs) should be cautious in expansion in the present market scenario One can expect the overall business model to improve and also be a genuine convenience for the fully KYC-ed consumer Banks are required to classify NPAs as \"substandard\" assets, \"doubtful\" assets, and \"loss\" assets Sources said Kochhar has reiterated her stand to the regulator and had claimed that she adhered to all requisite disclosures The brass of the finance ministry and the RBI are in touch to decide the members and terms of reference of the committee If the peace proposal goes through, the two promoter groups will jointly recommend the successor to Rana Kapoor According to sources close to Kapoor, whose new- three-year term was curtailed by RBI in mid-September, progress has been made ... N Damodaran said a mature conversation between both the sides, carried out in private, will help iron out the differences Board resignations, coupled with RBI cutting Rana Kapoor\\'s term, raise corporate governance concerns, says ratings agency Sources said RBI Governor Urjit Patel made a presentation about the state of the economy as well about the world economy to the ... Lender\\'s profitability remains under pressure, says ratings agency The members, including government nominees, will press for some of the weak banks to be removed from the so-called prompt ... World Bank\\'s investment arm said that the proposed investment would demonstrate IFC\\'s continued support to its financial ...',\n",
              " 'According to industry sources, shoe companies are contemplating increasing prices An amendment in the IBC will clear any ambiguity regar\\xadding the rules on punitive action that can be taken by the regulator after ... NHB has proposed the RBI to hike this lending limit for the company from 10 times to 12.5-13 times of the net-owned funds, which ...',\n",
              " 'The hedging reduction would help Indian firms borrow funds relatively cheaply as hedging cost added up substantially to the final ... Interestingly, the day the rating was reaffirmed, the share price of YES Bank was down 50% in three months The relaxed norms will apply to the ECBs with a maturity period between 3 and 5 years Rana Kapoor had said he did not intend to sell his holding in the bank, even after he leaves the bank The IL&FS group will shortly be launching the asset monetisation process for the sale of many other assets as part of its ongoing ...',\n",
              " \"The report said the move is likely to improve funding access for entities rated IND A or lower A liquidity crunch had hit India's shadow banks in September and October after a major infrastructure funding company defaulted ... Banks, which are aware of the retail car sales trend, are also apprising manufacturers of the critical situation and asking them ... Last week, the RBI in its central board meeting decided the issue of banks under PCA will be examined by Board for Financial ...\",\n",
              " 'When the IL&FS show did stop, risk management was nowhere to be found; fiduciary responsibilities were similarly absent While cost reduction and recoveries from bad loans was on top of their agenda, the bank also has to grow its loan book for more ...',\n",
              " \"There have been as many as 18 top management changes in listed public sector banks, and another nine in the private banking space Among the current crop of 11 banks under the PCA, the first to fall in line was United Bank of India in early 2014 In a far-reaching decision, the Jammu and Kashmir bank has been brought under the purview of the Right to Information (RTI) act, ... Sources said the government had moved a proposal titled 'governance in RBI' at least six months back RBI has not acceded to the government's demand of altering the risk weights assigned to the Micro, Small and Medium Enterprises ...\",\n",
              " 'The first blockchain project in the country went live some months ago CCB is a relatively new concept, introduced under the international Basel III norms, which says that during good times, banks ...',\n",
              " 'The firm is slowly diversifying into other segments relating to real estate business as part of its initiatives to find varied ... Move seen to empower state-owned banks to keep eye on defaulters HDFC Bank is leveraging its geographical reach, digital offerings, and its complete suite of products in order to reach out to ...',\n",
              " \"Many have started buying loan portfolios from NBFCs and HFCs to provide liquidity push India's 60 million MSMEs are broadly defined as businesses with annual revenue up to Rs 2.5 billion Earlier, the Finance Ministry had asked PSBs to collect passport details of all those borrowers who have borrowed loans of more ... At 21 per cent, buyouts delivered the highest median returns in exits by strategy Bidding process started on Tuesday, received at least five offers including that of Axis Capital CEO Dharmesh Mehta Experts say The bank's outlook and governance record has been marred after the resignation of three board members over the last ... Former independent director of YES Bank Rentala Chandrashekar quit the board as he was not happy with the recent developments in ... Rattled by the resignation of three Board members, Yes Bank, India's fourth largest private sector lender has got into the damage ... RBI cuts short Kapoor's term till January 31, 2019 PM Modi wants to keep India's economy firing as he campaigns for re-election next year.\",\n",
              " \"RBI Governor Urjit Patel has other ... RBI move to ease norms may reduce govt's capital infusion burden by Rs 350 billion Kapoor and Kapur have an acrimonious past and have also battled in the Bombay High Court Former independent director says he was dismayed by recent developments and the way they were handled LIC said it had in the past made several attempts to have a bank of its own, but its endeavours had failed Over Rs 1.12 trillion in capital has been infused into PSBs since April 2017 Incorporated in April 2001, CCIL had consolidated revenue of Rs 6.7 billion in 2017-18 The first domestic blockchain project began few months ago, aimed at preventing frauds A decision in this regard too was taken at the Board meeting held in Mumbai yesterday According to Moody's, the track record of such dispensations on asset classification, when seen over the last few years in India, ... Amid growing tension between the government and the central bank, the RBI board met Monday and discussed issues to boost funding ... Banking system liquidity is in deficit in this holiday-shortened week and will get a hand from the RBI's open market operations, ...\",\n",
              " \"The Reserve Bank of India will form a panel to consider the funds transfer to the government In a nine-hour meeting at the RBI headquarters, the central bank's board decided to constitute an expert committee to examine the ... Mumbai, 19 NovemberSBI Capital Ventures (SVL), an alternative asset management arm of the State Bank of India group, will float ...\",\n",
              " \"The Board decided to constitute an expert committee to examine ECF A crucial meeting of the RBI's central board was held on Monday amid a rift between the central bank and the government over key ...\",\n",
              " 'In a clean-up exercise, private sector lender YES Bank is expected to overhaul its board after receiving nod from its promoters, ... Rumours are rife that RBI governor Urjit Patel may step down.',\n",
              " 'Track updates on the crucial RBI board meeting Gurumurthy and other government nominees have been vocal about bank supervision, flow of credit to industry and easier financial ...',\n",
              " 'The net interest income has shrunk sequentially since their loan book is growing at a slow pace or contracting in some cases In the first fortnight of November, NBFCs were able to issue CPs worth Rs 1.03 trillion as against debt of Rs 726.8 billion that ... Govt has made up its mind it will not use a contentious provision of the RBI Act to issue directions on its suggestions to the ...',\n",
              " \"It will also send a bad signal to global markets just as Raghuram Rajan's exit did, said Veerappa Moily The commission had earlier issued a show cause notice to RBI Governor Urijit Patel for 'dishonouring' a Supreme Court judgment ... Choksi has claimed that he cannot take a 41-hour flight to come to India due to a 'brain clot' and other medical conditions The officers have also been provided special kits to help their banks extend more credit to MSMEs, while they have also been ... Patel and his four deputies will present a united front, while a few independent directors too are expected to support the ...\",\n",
              " \"In the same period last year, RBI was a net purchaser of the greenback, as it had bought $16.301 billion These 21 public sector banks had posted a net loss of Rs 42.84 billion in the September quarter of 2017-18 The government can still have its way with the RBI by invoking a rule that hasn't been used in the central bank's 83-year history A resource-strapped government covets the RBI's surplus capital In 1979, a Special Secretary in the finance ministry called Manmohan Singh would give a sharp rap on the RBI's knuckles for not ... Apex bank's fiat to appoint new CEO could impact lender's capital raising ability The officials also said all these steps have been taken jointly by the government and the regulators after an extensive and ...\",\n",
              " \"The bank will decide on the final name by the third week of December, at least a month before the RBI deadline of January 31 The partial credit enhancement  (PCE)facility by the Reserve Bank of India's (RBI) for  non-bank lenders is unlikely to have the ... Board to examine stringent capital norms for Indian banks Andrew Holland, however, said his bullish call was based on the assumption that India does not get a 'messy coalition' government ... NFC transactions account for 2-3% of card transactions in India Most of the recent rise in RBI reserves has happened due to appreciation of the dollar The state-run banking index has dropped nearly 25 per cent in the past 12 months Former SBI chairman O P Bhatt has resigned from the panel set up by Yes Bank to find a successor to its MD and CEO Rana Kapoor, ... RBI board member S Gurumurthy made a case for enhancing credit for the MSME sector SBI has started to reap profits as a total of Rs.\",\n",
              " '260 billion has been deposited with them under PMJDY so far Mehta said the committee is now in talks with potential sponsors for the AIF Global rating agency S&P  Thursday said it\\'s \\'BB\\' long-term and \\'B\\' short-term issuer  credit ratings on state-run IDBI Bank ... \"All of them (NBFCs) have been able to meet their commitment as far as roll overs are concerned,\" Kumar said With this investment, the Indian billionaire now owns 5% in a Kerala-based Bank Ashok Chawla continues to be director on the boards of the National Stock Exchange and Jet Airways Manipulation, exploitation and eventual acquisition of Kanak Resource Management Limited has unearthed a raft of shady lending ... Ashok Chawla\\'s resignation is effective from November 14, 2018, the company said One source said the RBI could agree to tweak restrictions on lending to improve credit flows for smaller companies with a ... PNB owns 32.79 per cent stake in PNG Housing Finance Raters need to share weights being assigned to risk-factors and rating action in different scenarios, say mutual funds The ailing lender, which is under PCA regime, posted a drop in net interest income to Rs 13 billion It\\'s entirely up to North Block as the owner to find a way to get state-run banks out of the prompt corrective action framework Until a few months ago, NBFCs were recruiting chief executive officers with annual packages of Rs 20-45 million In the regulator\\'s central board meeting, it will ask the RBI to ease provisioning norms for micro, small and medium enterprises ...',\n",
              " 'The gross NPA as a percentage of total lending stood at 22.69%, while net NPA stood at 14.36% The bank has assessed a capital requirement of about Rs 18 bn to maintain capital adequacy according to Basel-III norms The Reserve Bank Tuesday announced it will inject Rs 12,000 crore into the system through purchase of government securities on ...',\n",
              " 'The liquidity crisis at non-bank  lenders and higher interest rates seem to have rattled chief  financial officers (CFOs) of ...',\n",
              " \"The lender on Tuesday reported a net loss of Rs 18.22 billion in the quarter to September This issue may come up for discussion in the upcoming board meeting on November 19 SEBI ordered CRAs to analyse deterioration in the liquidity conditions of an issuer, while monitoring its repayment schedules and ... Fairfax agreed to invest around Rs 12 billion in the bank Ever since IL&FS defaulted on some of its debt recently, the entire sector has been starved of funds The stock of the bank closed 4.27 per cent down at Rs20.20 on the BSE on Monday The new board has requested NHAI and Ministry of Road Transport to settle claims filed by IL&FS' companies for concessions The Reserve Bank of India in December 2018 put BOI under the prompt corrective action (PCA) framework, allowing it to take ... Just when the RBI could be most effective, government overreach has brought relations to a dangerous low.\",\n",
              " \"Jaitley's comments come at a time when both the RBI and the government are witnessing a tense relationship that has spilled out ... Bank credit grew 4.45% for the fortnight to October 12, the data shows The entire board is appointed by the government under the RBI Act Experts say, while larger non-banking entities are covered for their near-term payments, funding for fresh business may be a ...\",\n",
              " \"The merger will be effected through an all-stock transaction of BFIL into IndusInd through a Composite Scheme of Arrangement DEA Subhash Garg says discussions are on only over capital framework The Reserve Bank Friday cancelled  the certificate of registrations of as many as 31 non-banking  finance companies (NBFCs) for ... Indian Bank's total exposure to the NBFC sector is around Rs 204.77 billion The total income of the bank increased by 5.23 per cent to Rs 51.29 billion during the quarter Overall, most banks showed a reduction in gross non-performing loans (NPLs) and lower formation of new NPLs Rating agency CRISIL in a statement said there had been some change in market sentiment over the past two weeks with gradual ... As top 50 non-banking finance  companies need Rs 95,000 crore to repay debts, of which Rs  70,000 crore are commercial papers ...\",\n",
              " \"But this will come as a growth booster for banks, which for long have been ceding credit market share to NBFCs, said DBS' ...\",\n",
              " \"This is the govt's contribution in the preferential allotment of equity shares of the bank during the financial year 2018-19 The increase in overall PE investment value has been despite the number of deals this year being lower than last year, and the ...\",\n",
              " 'The board had earlier approved the raising of Basel-III-compliant AT1 or Tier-2 bonds up to Rs 10 billion While increase in liquidity provides comfort in terms of asset-liability management, near-term margin pressure continues The report said being traditionally more conservative helps in withstanding crisis and early recognition of the problem leads to ... Kolkata, 7 NovemberTo overcome a liquidity problem in the sector, micro finance institutions (MFIs) are coming together to sell a ...',\n",
              " 'The greatest impact of transformation is expected to be in the areas of payments, mobile wallets and lending in the next three ...',\n",
              " \"This follows a meeting chaired by Prime Minister Narendra Modi in September to review the prevailing economic issues If Patel departs it is likely to roil financial markets-traders Two government officials and four deputy governors won't vote at the crucial meeting Given the way the govt-RBI relationship has developed lately, nobody can be certain there will be no new twists or turns before ... Ujjivan would use the funds for on-lending to MSMEs, SMEs and women-owned enterprises Bankers said the asset quality cycle had turned for better, reflecting the effect of repayments after a rigorous follow up Besides reviewing the single-investor limit, the regulator is mulling whether a liquid scheme is the right place for money meant ...\",\n",
              " 'The NCLAT has adjourned the matter till November 13 People in the know say that rating agencies have responded to the regulator, explaining their stance on why they failed to act on ... HDFC Bank has increased deposit rate to 7.25 per cent for fixed deposits of 3-5 years from the earlier 7.1 per cent.',\n",
              " \"The bank said consent of the shareholders will be sought to issue equity shares for an amount not exceeding Rs 200 billion The case against prime accused Harshad Mehta was 'abated' after he died in 2001 The big chill will come if SBI's $36 bn in advances to small and midsize enterprises are stressed, which may well happen if ...\",\n",
              " 'Under the code of conduct, Chanda Kochhar didn\\'t need to disclose third parties\\' investments in husband\\'s firm, says bank Kulkarni was a director in a Hong Kong-based \"dummy\" firm linked to Choksi SBI chairman Rajnish Kumar in a media conference call said bank is back in profit after three quarters Back then PM Jawaharlal Nehru, backed FM T T Krishnamachari and made it clear that RBI was part of \"the various activities of the ... CIC has asked Patel to explain why a maximum penalty should not be imposed on him for \\'dishonouring\\' the court verdict, which had ... Net profit fell 1.6% as provision accounts for 44 per cent of private banks\\' operating profit Blockchain can ensure cost-effectiveness, quicker turnaround and also potentially unlock liquidity for businesses, HSBC and RIL ...',\n",
              " 'Most of the banks would be getting growth capital for expanding their lending, particularly to MSMEs The Public Credit Registry would be the single point of mandatory reporting for all material events for each loan, ... SBI has put up 11 non-performing assets (NPAs) for sale to ARCs and financial companies to recover dues of nearly Rs 1,019 ...',\n",
              " \"The board also reinstated functional responsibilities of R K Gupta The bank earned Rs 4 billion in the first half of the current financial year The private bank's net profit surged 83% to Rs 78.9 mn thanks to growing interest income and better provisioning A decent cash recovery from resolution of Essar Steel, Binani Cement, Odisha Slurry accounts to help the lender reduce its NPA ... Chola MS offers a wide range of insurance products across motor and non-motor lines of business through IndusInd Bank's outlets ...\",\n",
              " \"Non-food bank credit of schedule  commercial banks rose 11.3 per cent to Rs 80.25 lakh crore in  September 2018 as compared to an ... Analysts had expected a net profit of Rs 7.41 billion, according to Refinitiv data Bank will issue 41,159 non-convertible, taxable, redeemable, subordinated, unsecured debt instruments This finding was submitted to the Mumbai bench of the National Company Law Tribunal by the government-appointed board Wednesday NPA provisioning for the quarter has declined 47% year-on-year to Rs 680 million The loss was much bigger than an estimated average loss of Rs  14.38 billion based on the views of 13 analysts Swamy said if Patel resigned then it would be a 'direct consequence' of Finance Minister Arun Jaitley's comments effectively ...\",\n",
              " \"The first RBI governor to revive the importance of the role of the Central Board of Directors was Raghuram Rajan The buzz in bureaucratic circles is that whether through written communication or informal channels, instead of negotiating on ... Acharya has been a strong proponent of cleaning up bad debt on banks' books and is an active supporter of the PCA framework for ... Bajpai, an ex-Sebi chairman, was one of the seven directors appointed on the company's board by the government Accusing the NDA government of interfering in the functioning of the Reserve Bank of India(RBI), CPI(M) general secretary Sitaram ...\",\n",
              " \"If IL&FS is sold in its present form, its toxic culture, which has for three decades involved inflating project values, will ... Italy, India have the worst bad loan ratios among the top 10 economies Global deposits improved by 11.18 per cent, while domestic deposits growth was higher at 15.95 per cent IDBI Bank had said that LIC's open offer to purchase shares from the minority shareholders of the state-owned bank will ...\",\n",
              " 'The government has written to the RBI hinting it may invoke Section 7 of the Reserve Bank of India Act 1934 - a provision that ...',\n",
              " \"The 10-year benchmark bond yield rose to 7.87% from its previous close of 7.83% Moody's says the system, as a whole, is unprofitable due to high credit costs at dominant state-owned banks A comprehensive and pragmatic view of the risk and finance functions is necessary By end-March 2019, each CLC is supposed to achieve a net worth of a billion rupees, failing which there will be a big shakeout in ...\",\n",
              " \"The RBI had proposed revising the revised PCA framework to the Ministry of Finance in September 2016 It moved into the black after posting a net loss for 10 consecutive quarters (since March 2016) The bank plans to raise bonds up to Rs 10 bn in one or more tranches during the current or subsequent years Mehul Choksi's prime argument was to seek cancellation of the ED's complaint against him under the Fugitive Economic Offenders ...\",\n",
              " \"The capital infusion is part of the government's programme to help the bank in meeting capital adequacy norms The company had registered a net profit of Rs 1.4654 billion in the July-September period of 2017-18 The benchmark one-year MCLR rate -- on which most of the retail loans are based--stands increased to 8.50 per cent The withdrawal limit has been curtailed on Classic and Maestro debit cards, held by a large number of the bank's customers The bank said the board of directors in its meeting held on September 24 recommended for the amalgamation of Dena Bank with Bank ... Other options include splitting businesses according to verticals and disposing them off to several buyers or injecting liquidity ...\",\n",
              " 'The meeting assumes significance as the FSDC is meeting for the first time after RBI Deputy Governor Viral Acharya raised issues ... Kumar added that in wake of the IL&FS crisis, the SBI stepped up in a big way Governments that do not respect central bank independence will sooner or later incur the wrath of financial markets, Acharya said Instead of taking hard steps to reform PSBs, Centre continues to pass the buck and makes unwarranted insinuations, say retired ...',\n",
              " \"The bank had reported a net loss of Rs 15.3 billion in the July-September period of 2017-18 With a weakening rupee and a high current account deficit, export-oriented sectors look attractive, says Nimesh Shah In November 2014, the RBI had granted 'in-principle' approval to 11 applicants to set up payments banks The new rates would be effective from November 1 The company recorded a strong growth in the affordable segment both in value and volume terms and continues to enjoy comfortable ... Analysts on an average had expected a loss of Rs 937 million, according to Refinitiv data If the standoff with the government gets any worse, a test of the central bank's dire warning could come soon Hitachi will contribute to the development and expansion of digital payments service in India by creating an online platform Rajnish Kumar added that the Insolvency and Bankruptcy Code has come as a 'very good tool' in the hands of the banks and the ...\",\n",
              " 'Even bigger MFIs have cut their fresh disbursement due to liquidity crunch NBFC-bank credit impact on residential realty market will lead to price corrections, project takeovers and consolidation, say ...',\n",
              " \"The UIDAI wrote to banks after it received legal opinion on the matter, in the wake of a recent Supreme Court verdict Non banking finance company (NBFC) Manappuram Finance is in the process of reducing its reliance on the gold loan portfolio, by ... With the acquisition, HDFC Bank's holding will increase from the current 5 per cent to 9.95 per cent Single premium death benefit raised to 1.25x, as regulator focuses on innovations in product structures and marketing Heads of six large public sector banks have assured the government of adequate liquidity in the system even as sectoral concerns ...\",\n",
              " 'Viral Acharya said governments that invest in central bank independence will enjoy lower costs of borrowing, the love of ... Mutual fund redemptions  amounting to Rs 2 lakh crore by investors following the IL&FS  crisis will help in supporting other ... Net interest income rose 11% to Rs 64.18 billion in September 2018 against Rs 57.09 billion in the year-ago quarter Personal loans rose by 18.2% in August 2018, up from an increase of 15.7% in August 2017 Association picks holes in merger of associates with SBI to build a case against amalgamation of BoB, Vijaya and Dena YES Bank posted on Thursday its first drop in quarterly profit in at least three years, as the provisions for bad loans and ...',\n",
              " 'If a name does not unify the three, there could be continued clash of identities, which could splinter the brand even before it ...',\n",
              " 'The Board of Directors of IDFC Bank at its meeting Wednesday decided to seek approval of the Reserve Bank of India to rename the ... Net interest income rose 28% to Rs 24.17 bn from Rs 18.85 billion a year ago; Other income up 18% to Rs 14.73 bn The bank\\'s gross Non-Performing Assets (NPA) reduced to 1.60 per cent of its total assets at the end of September The ongoing liquidity crisis in NBFCs has \"rattled\" realty sector as this could hit fund inflows to developers as well as home ... Paytm Payments Bank Thursday announced the appointment of Satish Kumar Gupta as its managing director and CEO.',\n",
              " 'Gupta brings over ...',\n",
              " 'The value of the cards can be topped with cash to spend at any of the three million merchant outlets that accept Mastercard Mumbai, 24 OctoberAfter non-banking finance companies (NBFCs) tightened liquidity flow to property developers over the past ...',\n",
              " \"In the days ahead, the biggest challenge for Bandhan will be to find the right way to dilute promoter share Total income was at Rs 24.53 billion for the quarter, up from Rs 23.65 billion in the same period of preceding fiscal As many as 11 out of 21 banks are under the RBI's watchlist.\",\n",
              " \"Of these, two banks, Dena Bank and Allahabad Bank, are facing ... Karur Vysya Bank registered net profits at Rs 756.5 million during the corresponding quarter of previous year Gross NPAs, fell to 1.91 per cent for the September quarter, against 2.14 per cent in the year-ago quarter Revenue in the quarter was 6.175 billion euros, down 9 percent from 6.776 billion a year ago The major cause of current banking crisis is huge asset liability mismatch Paytm Payments Bank and Airtel Payments Bank were also barred from onboarding new customers earlier The report further said that the deceptive malware in these apps may have stolen thousands of customers' account and credit card ... RBI said it will decide on the quantum of purchase of individual securities The agency said the investigation in this aspect is under process as it filed a fresh charge sheet in the case of Vadodara-based ...\",\n",
              " 'The gross NPAs in the Indian banking system have accumulated to a staggering Rs 10 trillion ICICI Bank in a regulatory filing Tuesday said the clean chit given to Kochhar in March this year was based on the inquiry report ...',\n",
              " \"The bank's growth in advances portfolio rose by a 37 per cent on year-on-year basis The company had reported a net profit of Rs 5.98 billion in the year-ago period Provisions and contingencies surged almost double to Rs 1.4 billion in the quarter against Rs 748.9 million a year ago India's central bank eased rules last week to help the nation's non-bank lenders access loans more easily Govt to pitch for alignment of PCA provisions with globally accepted Basel norms IndusInd Bank made a contingent provision of Rs 2.75 billion against its exposure to the IL&FS group The bank will be taking necessary approvals for allotment of requisite equity shares to the government in due course of time, ... With multiple lenders chasing same set of borrowers in rural areas, signs of over-borrowing are now apparent in microfinance Recognition of stressed assets is largely complete and new non-performing loan formation will moderate in the next 12-18 months, ... JM Financial Consultants, Arpwood Capital and Alvarez & Marsal will advise the board going forward SBI also received approval for an enabling resolution for raising equity capital Housing finance company says it raised money in current month, is silent on interest rate These architects of the global economy pride themselves on being brilliant, aloof and rational.\",\n",
              " \"And then they wonder why they're ...\",\n",
              " \"Outstanding credit growth declined to 13.2% between FY15 and FY18 from 18.2% between FY08 and FY15 IOB may exit RBI's Prompt Corrective Action framework by 2019-20 The provision will allow banks to free up Rs 500-600 billion of liquidity which banks can lend to NBFCs till December 31 Without appropriate supervisory constraints in place, such banks are in a position to delay the recognition of losses The bank's net interest margin stood at 4.3% during second quarter of the 2018-19 financial year For individuals, the rate has been increased to 7.75 per cent for deposits for 12 and 18 months Debt-to-equity ratio jumps to 10-year high during FY18 as borrowings account for three-fourth of industry's incremental asset ...\",\n",
              " \"The central bank argued that payments systems are a subset of currency and predominantly controlled by banks in India A YES Bank spokesperson said Kapoor had acted in his role as promoter and not as the bank's MD and CEO IL&FS had required a line of credit by August 15 and wanted to close the rights issue by September 15 to avoid any default Banks also face a threat from tech giants such as, Alibaba and Apple The overarching impact of monetary policy on payment and settlement systems and vice versa provides support for regulation of ... RBI survey says manufacturers foresee hike in input costs, may raise selling prices; crude prices, tightening of financial ...\",\n",
              " \"The RBI report said prices have been particularly tepid in the metros and Delhi RBI enhances single-borrower exposure limit to 15% of bank's capital This comes at a time when the liquidity crunch at NBFCs has compounded worries for the market as investors fear the situation may ... For banks, the game will now be about resolution and not recognition of bad loans as seen in the past It may appear that NBFCs are reading the tea leaves right on funding In a letter to the Ministry of Corporate Affairs, the ICAI had stated that even the appointment of the chairman of the NFRA came ... Two global personnel advisory firms, Korn Ferry and Egon Zehnder, will assist the Banks Board Bureau (BBB) to assess people for ...\",\n",
              " \"Besides SuperTech, a large Mumbai-based realty developer is also reported to be on the path to default The average rates appreciated by 2.5 per cent in 10 major cities when compared to the previous quarter The bank has hired US-based advisory firm Korn Ferry to help with the selection process The private sector lender's appointed committee is targeting to complete the recruitment process latest by mid December 2018, it ... Denmark's largest bank is looking for a new leader after Thomas Borgen was ousted last month as the group struggles to deal with ...\",\n",
              " \"The interest rate for Senior Citizens has been increased to 8.25% (8%) per annum for 12 and 18 months Local data storage would not only allow the RBI to have unfettered access to the data but would also enable it to monitor payment ... Disinvestment target of 2018-19 is likely to fall short of Rs 800-billion Enables money transfer between wallets in first phase, with banks in second and through cards in third; 4-5 wallet players ... IIFL Holdings is a leading player in the Indian financial services space The report attributed rise in non-cash transaction to government's demonetization programme announced in November 2016 Crippled IL&FS group faced  Tuesday more embarrassments after India Ratings downgraded its  various mutual fund schemes and ...\",\n",
              " 'The analysis focussed on the modus operandi, amount involved, type of lending loopholes that facilitated perpetration of the ...',\n",
              " \"While NPA ageing and mark-to-market losses will keep provisioning elevated, high funding cost and slower credit growth will ... Net profit was Rs 2.66 billion ($36.08 million) in the quarter ended September 30, compared with Rs 2.64 billion a year earlier Says there is uncertainty over recovery of advances/dues from subsidiaries, customers Facing enquiry over the charges of nepotism and conflict of interest, ICICI Bank's former MD and CEO Chanda Kochhar had quit the ...\",\n",
              " \"In some cases, exposure is as high as 12% of the fund's corpus; a few investments are also in AA rated papers that are relatively ...\",\n",
              " \"The preferential allotment of shares is against infusion of Rs 17.90 billion by the government in the bank Lender takes a one-time contingent provision hit of Rs 2.75 billion against exposure to IL&FS group; without this provision, its ... PNB has already appointed the merchant bankers for sale of its asset in PNB Housing Finance Company AnyTimeLoan.in has a minimum net owned fund of Rs 20 million Founded in 2012 and headquartered in Hamburg, Germany, Kreditech operates in India, Poland, Russia and Spain Gross bad loans as a percentage of total loans stood at 1.09 per cent at end-September The report said liquidity tightness could lead to sharply higher financing costs for NBFIs Says liquidity tightness might lead to sharply higher financing costs, or even difficulty in rolling over their liabilities The order noted that some of the groups' companies are already undergoing the Corporate Insolvency Resolution Process of the ...\",\n",
              " \"The trust's dealings were ignored by everyone, perhaps in the hope that the institutions that owned IL&FS had adequate board ... A committee has been set up with three internal and two external members to search for suitable candidates The coming Tuesday had been set as a date for personal hearing, cross-questioning and recording of her statement Pure-play MFIs have been a significant contributor to the growth in microfinance lending and have posted double the growth rate ...\",\n",
              " 'He firmly believes that although BoB is a public sector bank, a lot can be done internally without government intervention The saddest thing about the Bali meetings is that \"Italy is seen as one of the greatest risks in the world,\" tweeted Davide ...',\n",
              " \"Such litigation challenges will impinge on the company's newly reconstituted board of directors from taking decisions Bandhan Bank's capital adequacy ratio is in excess of 30%, one of the highest in the industry Without the PCA imposition, he said some banks would have incurred even higher losses and required even more of taxpayer money ... New board initiates austerity measures to rationalise operating and personnel expenses across all group entities and not just the ...\",\n",
              " \"The newly-constituted board, headed by veteran banker Uday Kotak, met for the second time on Friday The Reserve Bank of India had earlier barred the lender from opening new branches India's banks have been plagued by a surge in non-performing loans which hit a record $150 billion at the end of March Kotak had said the resolution will take some time and the board's focus is to preserve the fair value of the assets and the ... India Ratings said the 15 top NBFCs have around Rs 5 trillion loan assets that are 'preferred for assignment or securitisation' On September 25, the bank had announced plans to ask the central bank for an extension of Kapoor's term as MD & CEO, which led to ...\",\n",
              " \"The open offer is in connection with the LIC's acquisition of 51 per cent controlling stake in the state-owned IDBI Bank The total securitisation portfolio of NBFCs was Rs 836 billion on fiscal 17-18, down from about Rs 900 billion in 2016-17, ...\",\n",
              " \"If the government-owned banks agree, the debt restructuring would help IL&FS tide over the immediate financial crisis The new management at the beleaguered infrastructure finance company has also started moving on cleaning up the mess Says will submit a strategic plan to RBI to pare stake He retired from Canara Bank as the MD and CEO after serving for a period of three years from September 11, 2015 till July 31, The bank is expected to see a merger of around 823 branches of 14 district cooperative banks and the State Cooperative Bank Net profit rose to Rs 4.88 billion for the quarter ended Sept. 30, from Rs 3.31 billion a year The 5 firms constitute for more than 50% of the entire group's revenue and may have diverted funds in projects that were worth Rs ... Interest rates have shot up and a cash shortage has worsened after defaults by Infrastructure Leasing & Financial Services Ltd. ...\",\n",
              " \"The bank's stock has plummeted since the RBI asked Rana Kapoor to exit as CEO by January 2019 With over 348 subsidiaries, IL&FS is said to have funnelled money, raised either from the debt market or banks, to these ... IL&FS is facing serious liquidity issues and it, along with its subsidiaries, has defaulted on various debt repayments The training programme will contain thought leadership courses, group exercises, simulations, including role plays and situation ... Once cleared, these projects can be monetised At present, the SBI's guidance for credit growth in FY19 is 10% When the liquidity conditions are tight, RBI buys securities from the market, thereby releasing money into the market HSBC said in a statement it has been working since the financial crisis to improve its internal controls and culture.\",\n",
              " \"Muthoot Microfin, a microfinance company of the Muthoot Pappachan group, is looking at pricing similar to Credit Access Grameen he bank had initially planned for growth of Rs150 billion through portfolio purchases According to SBI's internal assessment, there may be an opportunity to buy additional portfolio in range of Rs 200 billion to Rs ...\",\n",
              " 'The merger of the three banks would be through share swap The rupee Tuesday hit a new record low of 74.27 against the US dollar in afternoon trade The net asset value (NAV) of the credit risk fund took a hit of 5.17 per cent on Friday It is the smaller players in MFI space that may face more headwinds in resource raising Meanwhile, IL&FS Trans-portation, a subsidiary of IL&FS, said that it has also defaulted to interest payments for three tranche ... Company says it has a healthy liquidity position standing at Rs 200 billion as of September 2018 Income-Tax department examining data received from RBI, FIU to check potential tax evasion This will enable the reconstituted board to proceed smoothly and help the board to take important decisions: Ministry Industry players said investors pulled out money fearing contagion risks from the IL&FS default The NHB, a principal agency to promote and provide financial support to 97 housing finance institutions, had sanctioned Rs 88.35 ... Gireesh BabuPunjab National Bank is well on its target of recovery and loan upgradation for the fiscal year with almost Rs 130 ... FedFina is engaged in providing loans to individual and corporate borrowers, against the security of assets like gold and real ...',\n",
              " \"Global financial technology companies have reportedly sought an extension of the October 15 deadline The RBI will tighten norms for NBFCs given that many are becoming systemically important A spate of money market defaults by IL&FS has put the spotlight on non-bank finance companies 'Right now we are focussed on internal consolidation and we are not aspiring for any inorganic expansion' Also, the off-market transactions undertaken by non-residents in line with FDI guidelines, qualified institutional buyers, ...\",\n",
              " \"The government holds a 9.6 per cent stake in Axis Bank through state-owned entity Specified Undertaking of Unit Trust of India The rescue was critical for PM Modi, who can ill afford a financial crisis months before he faces voters at the next election Bank's stock has been falling drastically over uncertainty regarding its succession plan Officials say while the govt will take to task anyone guilty of bringing the company to this state, it will also ensure that ...\",\n",
              " 'This comes after the tenure of B Sriram who was appointed as the chief executive of IDBI Bank for three months ended in September ...',\n",
              " \"In the face of RBI's action, the bank had said that it will be seeking an 8-month extension beyond the curtailed down period till ...\",\n",
              " 'The Reserve Bank Friday lambasted  non-banking lenders for their excessive reliance on short-term  funds, terming it as a \"myopic ... Sharma retired from as CEO of Canara Bank in July 2018; he replaces B Sriram, who headed IDBI Bank until September this year Much of this can also be attributed to the troubles dogging the banking sector Kochhar got several awards as a leading banker and business leader in India and made it to several global lists including Time ... LIC made a public announcement for the open offer to shareholders, including retailers, as per the Sebi\\'s regulations with regard ...',\n",
              " \"The rise in yields and the rupee would pose a huge challenge for the six-member monetary policy committee scheduled to announce ... She championed many social causes but it was her inspiring rise to the top that was most admired Kochhar has been on long leave to facilitate the independent investigation, which is being conducted by former Supreme Court ... Kochhar made her reputation of a decisive leader and her style included a punishing work schedule The bank's board Thursday also approved allotment of 339.8 million equity shares to LIC at a price of Rs 61.73 per share Sandeep Bakhshi to succeed as MD & CEO of the bank Sandeep Bakhshi's appointment will be for a period of five years until October 3, 2023 The preferential issue to LIC will raise up to Rs 20.98 billion for the bank In a secret memo, the finance ministry said it was concerned that just Rs 28 billion of IL&FS securities owned by mutual funds ... India's shadow banks need to securitize more of their loans By relaxing LCR by 2 percentage points, the RBI freed up Rs 2 trn worth of liquidity in the banking system In the past two to three years, close to 15-20 firms are focusing on lending to the informal sector.\",\n",
              " 'One of the focus areas for the board will be to find ways to raise cash by selling assets An internal inquiry has been initiated and the matter reported to the relevant authorities for investigation.',\n",
              " \"New bank expected to help agriculture, traditional works and self-employment sectors The move comes in light of the rupee's drop to a record low on Wednesday triggered by a sharp rise in global crude oil prices These preferential shares, including share premium, would aggregate to Rs 21.57 billion I would like to specifically highlight the parts of the Bill, which, if implemented, urgently can drive the digital payments ...\",\n",
              " 'The medium, small and micro enterprise (MSME) financiers and microfinance (MFI) sub-sectors saw 26 deals apiece during the period If you were to compare profitability and return ratios, foreign players win hands down over state-run and even private banks With the quarter and financial half-year ending, banking system liquidity was strained due to advance tax outflow and goods and ... A performance matrix has been framed by the IBA and PSBs will be put in six different categories based on their profitability The five-shareholder arrangement has not worked for UTI thus far.',\n",
              " 'It took more than two years for the AMC to appoint a new chief ... An ousted director said that the nominee directors of the shareholders not only did not endorse the suggestions of raising ...',\n",
              " 'The lenders, especially public sector banks (PSBs) and institutions with exposure (loans and debt) worth Rs 570 billion, to ...',\n",
              " 'The deepening crisis in the  non-baking finance companies space may help commercial banks  re-emerge as a primary source of ...',\n",
              " 'Outstanding dues of big wilful defaulters of Punjab National Bank reduced marginally to 15,075.07 crore at end-August from Rs ... At $9.2 billion, Q3 investments 60% higher than the year-ago period; $23.7 bn inflows in the first nine months of 2018 the ...',\n",
              " \"The Ministry of Corporate Affairs seems to have taken past lessons to heart while building a water-tight case in the IL&FS issue NCLT said the new board must hold its meeting by October 8 and come out with a roadmap before the next hearing on October 31 Over 120 banks are now live on UPI in the country as on September The dramatic move underscores the government's concern about IL&FS' defaults spreading to other lenders in the world's ... With the revision, PNB's overnight marginal cost of funds based lending rate (MCLR) now stands at 8.2 per cent as against 7.9 per ...\",\n",
              " \"YES Bank says fully geared for Rana Kapoor's succession Even if financials aren't destabilised in the near-term, the stock may remain under pressure until promoters firm up on stake ...\",\n",
              " \"The lender said it will finalise the two external members on a panel to search Kapoor's successor by October 7 Private sector lender Yes Bank Monday said the bank is fully geared up for the succession plan for the post of its MD and CEO and ...\",\n",
              " 'The restriction comes weeks before the festive season.',\n",
              " 'Credit rating agency CARE had put some of its debt instruments on \\'credit watch with developing implications\\' Reserve Bank of India has decided to boost liquidity conditions in the market IL&FS has appointed Alvarez & Marsal to devise a restructuring plan that will be implemented upon approval by the board and ... On Friday, RBI withdrew the \"general\" permission given to Bandhan Bank to open branches and froze the remuneration of its MD and ... Post-merger, the asset size of the new entity would be over Rs 14.5 trillion The bank\\'s current market value stands at Rs 484.6 bn, while that of Kapoor and his family is pegged at Rs 45.2 bn Bank needs RBI approval to open branches; MD\\'s salary frozen NBFCs are facing the heat of a crisis at IL&FS, which defaulted on repayment of its commercial paper dues, leading to a contagion ... Services sector loans expanded by 26.7% in Aug 2018, compared with 5% in Aug last year Earlier this month, the LIC board had taken decision on the modalities and timeline for increasing stake in IDBI Bank to 51 per ...',\n",
              " \"The action was taken because of the bank's failure to bring down the non-operative financial holding company's shareholding to 40 ...\",\n",
              " 'The YES Bank MD & CEO said in a series of tweets that he remained fully committed to the interests of the bank and its ...',\n",
              " 'Better capitalised and more conservatively run finance firms are likely to swallow up an increasing number of smaller rivals, the ... Indian credit rating industry has come under scrutiny after the firms that assessed IL&FS, including the local partners of ...',\n",
              " \"It said BoB is likely to be the resulting entity post-merger and will become the third-largest Indian bank IL&FS Transportation Networks' dim sum bond rose about 1 point to 49.1 on Friday These allegations come at a time when Kapoor's tenure has been cut short by the RBI and all eyes are trained on finding his ...\",\n",
              " 'The finance minister Tuesday committed capital support to banks after meeting heads of public sector lenders The Reserve Bank of India allowed banks to dip further into statutory liquidity reserves to help them meet their liquidity ...',\n",
              " 'The RBI recently curtailed the tenure of Yes Bank\\'s founder and CEO Rana Kapoor till January 2019 An \"open-ended NBW\" does not carry a time limit for execution unlike non-bailable warrants These bonds will be issued at 29 authorised branches of State Bank of India A fall in economic growth would be a blow to Prime Minister Narendra Modi and the ruling Bharatiya Janata Party, which is already ...',\n",
              " \"The RBI said banks can now consider 2 percentage points of their statutory liquidity ratio as part of the liquidity coverage The system liquidity is in ample surplus at this point A steady decline in 10-year government bond yields beginning the second half of 2014 led to a sharp decline in borrowings costs ... 'If the bond market turmoil affects the macroeconomic stability, it would affect rupee even further' State-run banks may not get capital based on their performance and reform measures Bank deposits had grown by 8.88 per cent to Rs 116.45 trillion in the fortnight ended August 31, 2018 The country's lead lender also plans to sell a stake in SBI Card and SBI Capital Market, MD Rajnish Kumar said The largest lender State Bank of  India Wednesday said it has not received any concrete proposal  for additional funds so far ...\",\n",
              " \"The finance minister committed capital support to banks after meeting heads of public sector lenders The action comes a day after another international rating agency Moody's affirmed ratings of Bank of Baroda, and kept outlook on ...\",\n",
              " 'Many of the remaining 11 contenders are also in a precarious position; Indian Bank appears to be the only one to have the ...',\n",
              " 'The closure of the transaction was underway, subject to the fulfilment of all conditions precedent specified in the ...',\n",
              " 'The two institutions could increase their stakes through rights issue Finance Minister Arun Jaitley held the annual performance review meeting of PSBs on Tuesday and discussed wide-ranging issues, ... Jaitley said the financial inclusion index would create an element of competition among states with each of them vying for ...',\n",
              " \"The bank has set up a committee to find Kapoor's successor Nomura India's latest report says the IL&FS group has a consolidated debt of Rs 910 bn Financial Services Secretary Rajeev Kumar said banks expect to recover Rs 1.8 trn through IBC and other routes during the current ...\",\n",
              " \"Targets branch network of 500 by March 2019 RBI could also consider buying more bonds from the open market and open a special window for mutual funds to inject liquidity, ... About 41% of those debt papers, though, are due for refinancing in the current financial year, Credit Suisse has said in a report Non-banking finance companies are also walking the extra mile to assure investors that they are in the pink of health YES Bank to decide the future course of action after the RBI curtailed the term of its founding CEO Rana Kapoor The purchase will happen through multi-security auction using the multiple price method The central probe agency will seek Interpol red corner notices (global arrest warrants) against the brothers and other accused The meeting will review annual financial performance of public sector banks, credit offtake in the economy, priority sector ... Second-tier NBFC stocks are trading at 24.4x their trailing earnings, which is nearly twice their 15-year average of 13.9x Rising redemption pressure complicates the situation for debt fund managers IL&FS and its subsidiaries have defaulted on repayment to lenders in the current month and the group is facing severe liquidity ... IL&FS assets are built for 30 years' return on 10-year finance, says Gurumurthy We lend support to NBFCs within the regulatory policy framework and will continue to do so, says Rajnish Kumar Assuring lending support to non-banking financial companies, SBI Chairman Rajnish Kumar Sunday said there was no concern on ...\",\n",
              " \"The suggestions made by the private sector major covered issues ranging from timelines to limitation clause to applicable In 2017-18, Fullerton India's disbursement stood at Rs 122.71 billion Customers can also choose to pay for this short loan in 3 easy EMIs without putting any pressure on their personal finances We have never dealt with IL&FS, says Hooda We are strong fundamentally, and extremely liquid to take care of our day-to-day operations, says Wadhawan YES Bank's loan book has grown 42.4 per cent annually over the past two years The report based on insights of customers and senior banking executives in over 40 countries The tax department feels the bank has violated norms and under-paid the tax, while the bank feels the opposite The bank's gross non-performing assets stood at 16.66%, while net NPA was at 8.45% According to State Bank of India group economist Soumyakanti Ghosh, the RBI can potentially pump in at least an additional $25 ... Inter-creditor agreement guidelines also protect interests of third-party and exclusive security holders Shanti Lal Jain and Vikramaditya Singh Khichi have been appointed as executive directors in the Bank of Baroda initially for a ... SBI has exposure of Rs 170 billion in these projects detection does not lead to punitive outcomes so that investment in detective vigilance does not guarantee the desired reduction ...\",\n",
              " \"However, Kumar said India needs to reduce the number of state-owned banks through consolidation for better management The government announced a merger of the three entities earlier this week, which will create the country's third-biggest lender Moody's said Yes Bank will continue to outpace the industry in loan book growth, but added that while the capital buffers are ... Kapoor earned the ire of the Reserve Bank of India by wrongly classifying loans he should have counted as nonperforming Whether the merger constitutes meaningful reform at the present time is, however, open to question Vijaya Bank assured employees that the service conditions 'will remain unaffected and staff benefits retained' The recent announcement by the government to go in for an amalgamation of three public sector banks raises several ... Capital infusion seen necessary for banks to maintain regulatory norms at the time of paying interest towards AT-1 bonds The move to appoint five deputy managing directors from SBI is being seen as the government's effort to tap into the talent from ...\",\n",
              " \"The bank and Kochhar have been maintaining there had been no regulatory violations on their part and that she was not aware of ... Crisil Ratings in its report said the success of the three-way merger will be crucial as it will pave the revival path for other ... RBI has asked the bank to start the search for Kapoor's successor The Reserve Bank of India can sell an additional $25 billion, at least, in the foreign-exchange market, SBI estimates Cyril Amarchand Mangaldas declined to comment on its relationship with Nirav Modi, who is on the run overseas While some state-run lenders rose on Tuesday, most fell on concerns about eroding capital buffers and growing bad debt for buyers Credit rating agency Moody's on Tuesday said the merger of these banks would bring benefits of scale and governance A sliver of hope is if the RBI were to buy the plea that the inter-charge should not be looked at as a floor for customer-facing ... A line of defence by IL&FS is that the mounting dues from various agencies were the prime reason for its liquidity woes Typically, an interest rate defence of currency is meant to protect the real interest rate differential between countries Negligible non-performing assets in the segment is a driving factor for banks Lenders have made cash recovery of Rs 365.51 billion in the first quarter of the current fiscal Shareholders also voted to clear the issuance of over 310 million shares to the government as part of recapitalisation of PNB by ...\",\n",
              " 'Interested bidders are required to submit their expression of interest on e-bidding for these accounts which is slated to be held ...',\n",
              " 'In January the bank had set off accumulated losses with share premium amount, in an effort to spruce its balance sheet Three into one gives Bank of Baroda an opportunity to innovate The rating agency, however, expects that the merged entity will require capital support from the government, otherwise, such a ...',\n",
              " 'The merger seems to be grossly negative for Vijaya Bank and Bank of Baroda in the short term, as the negative net worth of Dena ...',\n",
              " 'But swap ratio should not be biased against stronger banks, say experts Amalgamated entity to be third-largest lender; govt to continue to provide capital support The rating agency has kept a stable outlook for private banks and two PSBs - SBI and Bank of Baroda.',\n",
              " 'The outlook for the rest of ...',\n",
              " \"The money was reportedly traced to banks in Cambodia, Thailand, Taiwan and Australia from the nostro account of UBI The proposed long-term bank facilities have been assigned AA- rating from Crisil The merger will create India's third-largest lender The State Bank of India (SBI) has announced Prashant Kumar as the Chief Financial Officer (CFO).A Science graduate and a Law ... 11 PSBs are under the Reserve Bank of India's prompt corrective action framework According to sources, no RBI representative turned up for the first and second meeting of the panel held on August 31 and ... Banks have become very cautious with regard to diamond finance after the country's biggest fraud of about Rs 140 billion The bank is planning to sell its entire stake in STCI Finance During the August 15-September 5 period, the total deposits in 32.61 PMJDY accounts witnessed an increase of Rs 12.66 billion In February, RBI, through a circular, subsumed all internal debt resolution mechanisms that were available to banks, and directed ...\",\n",
              " 'The RBI proposes to purchase G-secs having five different maturity dates The bonds, set to mature on September 15, 2028, carry coupon rate of over 9.11 per cent payable annually The bank has been adopting this method after a Supreme Court appointed amicus curiae recommended closure of proceedings in all ... Mallya left the country on March 2, 2016 while 13 banks moved the apex court four days later seeking its intervention to prevent ...',\n",
              " 'Merchandise exports during September quarter 2017-18 stood at $74.21 billion and non-oil exports stood at $65.17 billion Punjab National Bank has put nearly two dozen non-performing accounts (NPAs) on sale to recover over Rs 1,320 crore.',\n",
              " \"The bank's ... Punjab National Bank has put nearly two dozen non-performing accounts (NPAs) on sale to recover over Rs 1,320 crore.\",\n",
              " \"The bank's ...\",\n",
              " \"According to the RBI's February 12 circular, all resolution plans with a rating of RP4 are considered to have a moderate degree ...\",\n",
              " \"It emerged last week that the Netherlands' number one bank paid $897 million to settle a criminal probe over money laundering Centre may be gradually adding gold equivalent to the sale of sovereign gold bonds, says an analyst 'They have attacked my properties illegally without there being any basis of the same,' Choksi said The bank had also recently raised $400 million through two syndicated loan transactions in Taiwan and Japan The spike in borrowing could be explained by the possibility of liquidity turning tight ahead of advance tax outflow, which has ... 'A larger number of bad loans were originated in the period 2006-2008 when economic growth was strong,' said Raghuram Rajan Keeping in view the uncertainty and higher costs of the fund, the bank has decided not to go ahead with the plan for the time ...\",\n",
              " 'According to ED officials, Purvi Modi and other family members of Nirav Modi were the recipients of the proceeds of the crime Firms availing loans needn\\'t submit several other financial statements, bank says move will reduce paper work, cut lead time ... With a strong candidate stepping at the right time, fortunes might turn in favour of the bank, say experts Currently, Yes Bank\\'s retail asset book size is close to around Rs 320 billion Under the OMOs, RBI buys certain government securities from the market, which thereby provides liquidity to the system IL&FS has been facing liquidity problems for some time now Chaudhry will replace outgoing MD & CEO Shikha Sharma whose term ends on December 31 HDFC Standard Life Saturday said its board will meet on September 12 to consider appointment of new MD & CEO of the company after ... Millennials constitute 47% of the country\\'s working population and will be the primary contributors to economic growth The bank further said it received communication from RBI on imposition on penalty on September 6 Several PSBs under the RBI\\'s prompt corrective action highlighted the retirement of executives at various levels Capital adequacy ratio of banks is considered to be one of the key indicators of banks\\' health Data from the RBI reveals that massive amounts have been given to people in the name of agricultural loans even during the UPA ... Kochhar has also apprised Sebi of the current status of outstanding loans to the Videocon group Higher manufacturing growth rate gives \"rise to serious doubts about the veracity of new estimates\", said Dholakia The total exposure of the bank in the power sector is about Rs 60 billion The rise in MCLR will make home, auto and other loans costlier for customers According to its 12-page document, reviewed by Business Standard, there are 80 different charges and restrictions for accounts ...',\n",
              " \"Lack of capacity at the NCLTs is turning out to be a big concern for the investors as well as lenders As per the Sebi's takeover code, an acquisition of more than 25 per cent in a listed entity is termed as control and requires an ...\",\n",
              " 'The All India IDBI Officers Association has also sought withdrawal of the approval given by the Insurance Regulatory and ...',\n",
              " \"Satin is hiving it off because 85% of its lending has to be micro finance lending, according to RBI rules The bank is also in the process of closing its Hong Kong branch, which would release some capital This is about 45 per cent of bad loans worth Rs 10.2 trillion standing in the books of the top 500 debt-heavy corporates The mass casual leave programme was likely to have paralysed operations of the central bank and other major lenders across the ... Madras high court said it will issue necessary orders to arrest all the officials and persons involved in the 'scam' The apex bank has, however, excluded regional rural banks  from appointing IOs As Urjit Patel completes two years in office as the RBI Governor, the jury is still out whether he has been a 'hawk or a 'dove' Sources other than banks provided Rs 2.76 trillion of finance to the corporate sector in the same period Nirav Modi's personal residence in New York has long been an apartment at Essex House, located at 160 Central Park South Experience with independent unit for Mumbai region will be basis for taking decision any changes in other states The MCLR for one year, a benchmark rate for most retail loans, increased to 8.45 per cent from 8.25 per cent earlier SBI) has increased the lending rate by 20 basis points across all tenors up to three years The IPPB will have 650 branches and 3,250 access points across the country Ahead of India Post Payments Bank launch, men in khaki have been trained by NIBF Private banks also saw higher credit growth than their public and foreign counterparts The power sector loans are facing a slew of problems due to a changes in non-performing assets recognition after the February 12 ... RBI should relax net worth and security rules to prevent interchange costs from shooting up, say banks Gold reserves rose by $ 35.7 million to $ 20.763 billion The divestment of the stake in the NSE is expected to fetch at least Rs 483.5 million to the bank Bank deposits fell 719.00 billion rupees to 115.11 trillion rupees in the two weeks to Aug. 17 Dina Bandhu Mohapatra, Managing Director & CEO, Bank of India, elected as the body's Deputy Chairman The move assumes significance as many big-ticket frauds have been reported recently from the banks The Ministry said banks will remain open during the week, observing holidays only on Sunday, September 2, and second Saturday, ... Urjit Patel also came down heavily on banks hiding their bad debts Growth in credit card outstanding has been the fastest compared to other personal loan segments Chanda Kochhar is currently under investigation for charges of conflict of interest over a loan given to the Videocon group, ...\",\n",
              " 'Excess reliance on short-term debt poses rollover risks and hence liquidity risks for the borrowers Cashless disbursements by NBFC-MFIs now account for 87% of the total disbursements Private sector lender Yes Bank today said it has received RBI\\'s approval for continuance of Rana Kapoor as MD and CEO of the bank ... For a digital currency to be popular, internet penetration as well as digital literacy need to be greatly improved, say experts Kochhar, the CEO and MD of ICICI Bank, had been sent on leave after the bank appointed former Supreme Court judge B N Srikrishna ... One does not know, or for that matter may never know, whether Patel believed in demonetisation or not The rapid-fire sales were described as part of a plan in which Modi and associates \"fraudulently borrowed approximately $4 ...',\n",
              " \"The central bank seemed keen to extend the circular to non-banking financial companies (NBFC) as well Once most popular among foreign portfolio investors, stock is trading at a discount to peers in private space The rise in complaints was because of deficiencies in banking services Rs 34-bn net worth already impacted, shows analysis of 10 most valuable firms These numbers echo what the industry says: Feasibility of operations in rural areas is low On June 30, 2017, the size of the bank's balance sheet was Rs 330.4 trillion NPAs in public sector banks (PSBs) increased by about Rs 6.2 trillion between March 2015 and March 2018 IPPB services are slated for a nationwide launch by the Prime Minister Narendra Modi on September 1 In a meeting this month, finance ministry officials also asked the Reserve Bank of India to suggest a time frame for the ... Fresh slippages for the banking sector during Q1 of the current fiscal moderated to Rs 920 billion Life Insurance Corporation of India (LIC) is unlikely to offer any premium for shares of IDBI Bank, say sources.The bank's board ... Connivance of the PMO led by Shri Narendra Modi in the escape of Rs 234.84 billion PNB scam accused-Mehul Choksi, says Congress The rating agency cautioned that GNPA and NNPA may be higher at 12.2 per cent and 5.6 per cent, respectively, in absence of ... Banks will have to start resolution process for assets whose deadline is over ASL has also applied for membership to the NCDEX to make available to its customers commodity futures currently active on this ...\",\n",
              " 'The order will be a negative for large power generation projects belong to companies like Jaiprakash Associates, Lanco, GMR, KSK ...',\n",
              " \"The lender has published a list of new branch codes as well as the IFSC codes of these branches The panel, which includes ex-PM Manmohan Singh as a member, wanted to know the reasons of ever-greening of stressed accounts ... Power producers had approached the Allahabad High Court to prevent lenders from initiating insolvency proceedings against them There are about 34 stressed power projects and the combined value of their outstanding loans is about Rs 1.74 trillion Experts see increased hiring in tier-II cities for roles in sales, collection underwriting and risk 'The banks are the nominated agencies for import of gold.\",\n",
              " 'There are very few banks active in their role as the nominated agencies ...',\n",
              " 'Liabilities of big willful defaulters of scam-hit Punjab National Bank (PNB) fell by 1.8 per cent to Rs 15,175 crore by July-end ... EMV chip card protects against counterfeit (skimming) card fraud.',\n",
              " 'EMV chip card and PIN protects against both counterfeit ... PSBs closed down 35 foreign operations last year The bank is rated as \\'Good\\' by the government with a score of 71 which is the highest category of performance The cyber cell\\'s aim now is to find out the \\'money mules\\' who were used to withdraw the money using ATMs in foreign countries RBI has taken several measures to restore public confidence in urban cooperative banks (UCBs) The SBI chairman hopes to register an overall credit growth of 10% in the current year The country\\'s largest lender suffered a hefty loss of Rs 48.76 billion for the June quarter due to higher bad loans credit availability to MSME sector getting \\'squeezed\\' as PSBs are restrained from lending Most of the public sector banks are saddled with a huge amount of bad loans pile up in their accounts The RBI has mandated banks to identify projects with even a day\\'s default as a stressed asset Other lenders yet to come on board Various options that Bandhan Bank was looking at to meet the shareholding norms, are merging the three entities - Bandhan ... Kochhar, MD & CEO of ICICI Bank, is currently under scrutiny for her role in extending loans to the Videocon group, a conflicted ... On the latest quarterly losses posted by the bank, Chaturvedi said they were due to RBI norms Holistic balance sheet growth remains key task despite accelerated journey in bourses Reddy said a \"strategic view\" should be taken when it comes to the merger of banks He further said that the RBI should refrain from over-regulation and encourage banks to take risks The bank has partnered with Fintech companies for various B2C solutions ranging from wallets, payment gateways, digital lending, ...',\n",
              " \"In June, the bank's board of directors cleared issuance of up to 100 million new shares It implies that 18,135 ATMs at present are not able to dispense new currency notes He further said that pending the report Kochhar remains the CEO of ICICI Bank Good days for many Indian companies in the offshore loan market may soon be over, just as local lenders struggling with mountains ...\",\n",
              " 'The state Level Bankers Committee, Kerala, at its emergency meet on Tuesday also decided to announce a moratorium on education ...',\n",
              " 'There will not be any change in ICA document.',\n",
              " 'IBA will issue operational guidelines, says Sunil Mehta Chanda Kochhar is also a director for ICICI Lombard General Insurance, ICICI Prudential Life Insurance Company and ICICI ... A list of unbanked villages has been prepared and shared with the banks The RBI asked IL&FS Financial Services, a 100 per cent subsidiary of IL&FS, to bring its exposure down within a year IBA\\'s legal advisor to hold bankers meet on Sept 7 Vishwanathan said formalisation of Medium, Small and Micro enterprises (MSMEs) is important for financial stability of the system According to financial ministry data, the SBI collected Rs 24.34 billion for the financial year 2017 in penalty on ... Of the total formal credit of around Rs 100 trn, only 25% is extended to MSMEs currently Usha Ananthasubramanian was the MD & CEO of PNB before moving to Allahabad Bank, from where she was dismissed as MD & CEO on Aug ... On July 2, the Interpol had issued a Red Corner Notice (RCN) against Nirav Modi under money laundering charges levelled by the ... For the month of April 2017, SBI recovered Rs 2.35 billion as penalty Urjit Patel had said in June that no central bank nominee should be on the board of PSBs in a bid to avoid \"conflict of interest\" The aim is to conclude the sale before the end of September to get the benefit of reduction in NPAs and better recoveries in the ... Three insurers are yet to appoint a merger consultant, while private rivals are cornering the market The updated payments system comes with new features such as the ability for people to link their overdraft accounts to the UPI Persistent efforts of recovery from a variety of loans - large-size, medium-size and small enterprises, retail and farm sector - ...',\n",
              " \"The rating downgrade factors in the bank's weak financial performance Founded in 1996, Star Health was the country's first standalone insurance company and claims to be the largest such domestic firm RBI's licensing norms require a bank to bring down promoter holding to 40 % within 3 years of operation - which, for Bandhan ... Department of Financial Services Secretary Rajiv Kumar expressed confidence that PSBs will come out of the PCA this fiscal year The IPPB, which has already been delayed by several months, is currently running pilot services in Raipur and Ranchi The bank is looking for a social media service provider who can assist in creating and managing a strong social media presence The fraudulent transactions were carried out on August 11 and August 13 and the malware attack by the hackers originated in Some of the accounts include Videocon, Jindal Steel and Power, the official added Tightening of the disclosure norms is aimed at helping banks recognise their stressed assets as non-performing more uniformly and ...\",\n",
              " \"The Indian banking industry went in shudders on Tuesday after the Cosmos Bank admitted that it fell victim to an international ... A consent application is typically filed when the aggrieved party wants to settle the case without the main hearing Joshi alleges that domestic coal as well as the country's hydel resources cannot be used to generate power for exports Gross NPAs stood at Rs 250.67 bn at the end of June 2018, against Rs 210.32 bn in the year-ago period Most investors remain worried over absolute returns, owing to rising interest rates, crude oil prices and upcoming elections, ... For overnight and one-month tenor loans, the MCLR are increased by 0.05 per cent each to 8 per cent and 8.25 per cent State-owned Allahabad Bank today said Usha Ananthasubramanian no longer heads the bank following the Finance Ministry directive ...\",\n",
              " 'The unidentified hackers had executed money transfers on two separate occasions -August 11 and August 13- which raises the ...',\n",
              " ...]"
            ]
          },
          "metadata": {
            "tags": []
          },
          "execution_count": 85
        }
      ]
    },
    {
      "cell_type": "code",
      "metadata": {
        "colab": {
          "base_uri": "https://localhost:8080/",
          "height": 407
        },
        "id": "rXsECF2z4gdr",
        "outputId": "2e8e9ae6-af39-433d-f3f2-6176e802560a"
      },
      "source": [
        "sent_df=pd.DataFrame(sentences,columns=['sentences'])\n",
        "sent_df"
      ],
      "execution_count": 86,
      "outputs": [
        {
          "output_type": "execute_result",
          "data": {
            "text/html": [
              "<div>\n",
              "<style scoped>\n",
              "    .dataframe tbody tr th:only-of-type {\n",
              "        vertical-align: middle;\n",
              "    }\n",
              "\n",
              "    .dataframe tbody tr th {\n",
              "        vertical-align: top;\n",
              "    }\n",
              "\n",
              "    .dataframe thead th {\n",
              "        text-align: right;\n",
              "    }\n",
              "</style>\n",
              "<table border=\"1\" class=\"dataframe\">\n",
              "  <thead>\n",
              "    <tr style=\"text-align: right;\">\n",
              "      <th></th>\n",
              "      <th>sentences</th>\n",
              "    </tr>\n",
              "  </thead>\n",
              "  <tbody>\n",
              "    <tr>\n",
              "      <th>0</th>\n",
              "      <td>Close to 14.6 per cent (or 35,000) of the 240,...</td>\n",
              "    </tr>\n",
              "    <tr>\n",
              "      <th>1</th>\n",
              "      <td>Under the scheme, the government will offer 10...</td>\n",
              "    </tr>\n",
              "    <tr>\n",
              "      <th>2</th>\n",
              "      <td>HDFC Bank cuts base rate by 55 bps; SBI calls ...</td>\n",
              "    </tr>\n",
              "    <tr>\n",
              "      <th>3</th>\n",
              "      <td>The meeting was earlier scheduled on May 11, b...</td>\n",
              "    </tr>\n",
              "    <tr>\n",
              "      <th>4</th>\n",
              "      <td>It may be time to link the higher deposit insu...</td>\n",
              "    </tr>\n",
              "    <tr>\n",
              "      <th>...</th>\n",
              "      <td>...</td>\n",
              "    </tr>\n",
              "    <tr>\n",
              "      <th>21804</th>\n",
              "      <td>Yields Clipped, Reserves Dip, Rupee Rear-Up Co...</td>\n",
              "    </tr>\n",
              "    <tr>\n",
              "      <th>21805</th>\n",
              "      <td>Firms Can Borrow Abroad To Settle Npas Yields ...</td>\n",
              "    </tr>\n",
              "    <tr>\n",
              "      <th>21806</th>\n",
              "      <td>Piracy Keeping Fis Off Films Pvt Players Will ...</td>\n",
              "    </tr>\n",
              "    <tr>\n",
              "      <th>21807</th>\n",
              "      <td>The Union Budget And Interest Rates Banks To P...</td>\n",
              "    </tr>\n",
              "    <tr>\n",
              "      <th>21808</th>\n",
              "      <td>A Choppy Run Portended Clutch Of Factors To De...</td>\n",
              "    </tr>\n",
              "  </tbody>\n",
              "</table>\n",
              "<p>21809 rows × 1 columns</p>\n",
              "</div>"
            ],
            "text/plain": [
              "                                               sentences\n",
              "0      Close to 14.6 per cent (or 35,000) of the 240,...\n",
              "1      Under the scheme, the government will offer 10...\n",
              "2      HDFC Bank cuts base rate by 55 bps; SBI calls ...\n",
              "3      The meeting was earlier scheduled on May 11, b...\n",
              "4      It may be time to link the higher deposit insu...\n",
              "...                                                  ...\n",
              "21804  Yields Clipped, Reserves Dip, Rupee Rear-Up Co...\n",
              "21805  Firms Can Borrow Abroad To Settle Npas Yields ...\n",
              "21806  Piracy Keeping Fis Off Films Pvt Players Will ...\n",
              "21807  The Union Budget And Interest Rates Banks To P...\n",
              "21808  A Choppy Run Portended Clutch Of Factors To De...\n",
              "\n",
              "[21809 rows x 1 columns]"
            ]
          },
          "metadata": {
            "tags": []
          },
          "execution_count": 86
        }
      ]
    },
    {
      "cell_type": "code",
      "metadata": {
        "id": "DFTAfJgB4-MI"
      },
      "source": [
        "affinity_scores=affin.set_index('word')['value'].to_dict()"
      ],
      "execution_count": 87,
      "outputs": []
    },
    {
      "cell_type": "code",
      "metadata": {
        "id": "pCJ-eRbf5fl4"
      },
      "source": [
        "nlp=spacy.load('en_core_web_sm')\n",
        "sentiment_lexicon=affinity_scores\n",
        "\n",
        "def calculate_sentiment(text: str=None):  #create a user defined function to calculate the sentiment\n",
        "  sent_score=0\n",
        "  if text:\n",
        "    sentences=nlp(text)\n",
        "    for word in sentences:\n",
        "      sent_score+=sentiment_lexicon.get(word.lemma_,0) #lemmatization \n",
        "      return sent_score"
      ],
      "execution_count": 88,
      "outputs": []
    },
    {
      "cell_type": "code",
      "metadata": {
        "colab": {
          "base_uri": "https://localhost:8080/"
        },
        "id": "Ys8jBCLX83_n",
        "outputId": "7fa41ba8-5442-4675-bea7-9a6c192776d7"
      },
      "source": [
        "calculate_sentiment(text=\"excellent\")"
      ],
      "execution_count": 89,
      "outputs": [
        {
          "output_type": "execute_result",
          "data": {
            "text/plain": [
              "3"
            ]
          },
          "metadata": {
            "tags": []
          },
          "execution_count": 89
        }
      ]
    },
    {
      "cell_type": "code",
      "metadata": {
        "id": "fv4oJrgPAKMi"
      },
      "source": [
        "sent_df['sentimental_value']=sent_df['sentences'].apply(calculate_sentiment)"
      ],
      "execution_count": 90,
      "outputs": []
    },
    {
      "cell_type": "code",
      "metadata": {
        "colab": {
          "base_uri": "https://localhost:8080/"
        },
        "id": "py7j_tvjBZC_",
        "outputId": "7b007083-15d8-4bc6-cbf3-95f4f73a7ffe"
      },
      "source": [
        "sent_df['word_count']=sent_df['sentences'].str.split().apply(len) #calculate the word counts in the sentences\n",
        "sent_df['word_count'].head(10)"
      ],
      "execution_count": 91,
      "outputs": [
        {
          "output_type": "execute_result",
          "data": {
            "text/plain": [
              "0     98\n",
              "1     13\n",
              "2     94\n",
              "3     83\n",
              "4     81\n",
              "5     20\n",
              "6     21\n",
              "7    225\n",
              "8     84\n",
              "9    111\n",
              "Name: word_count, dtype: int64"
            ]
          },
          "metadata": {
            "tags": []
          },
          "execution_count": 91
        }
      ]
    },
    {
      "cell_type": "code",
      "metadata": {
        "colab": {
          "base_uri": "https://localhost:8080/",
          "height": 407
        },
        "id": "G2j-JkTGCWCK",
        "outputId": "9094cfaa-b88f-4ce9-d3bb-299f3b336038"
      },
      "source": [
        "sent_df"
      ],
      "execution_count": 92,
      "outputs": [
        {
          "output_type": "execute_result",
          "data": {
            "text/html": [
              "<div>\n",
              "<style scoped>\n",
              "    .dataframe tbody tr th:only-of-type {\n",
              "        vertical-align: middle;\n",
              "    }\n",
              "\n",
              "    .dataframe tbody tr th {\n",
              "        vertical-align: top;\n",
              "    }\n",
              "\n",
              "    .dataframe thead th {\n",
              "        text-align: right;\n",
              "    }\n",
              "</style>\n",
              "<table border=\"1\" class=\"dataframe\">\n",
              "  <thead>\n",
              "    <tr style=\"text-align: right;\">\n",
              "      <th></th>\n",
              "      <th>sentences</th>\n",
              "      <th>sentimental_value</th>\n",
              "      <th>word_count</th>\n",
              "    </tr>\n",
              "  </thead>\n",
              "  <tbody>\n",
              "    <tr>\n",
              "      <th>0</th>\n",
              "      <td>Close to 14.6 per cent (or 35,000) of the 240,...</td>\n",
              "      <td>0</td>\n",
              "      <td>98</td>\n",
              "    </tr>\n",
              "    <tr>\n",
              "      <th>1</th>\n",
              "      <td>Under the scheme, the government will offer 10...</td>\n",
              "      <td>0</td>\n",
              "      <td>13</td>\n",
              "    </tr>\n",
              "    <tr>\n",
              "      <th>2</th>\n",
              "      <td>HDFC Bank cuts base rate by 55 bps; SBI calls ...</td>\n",
              "      <td>0</td>\n",
              "      <td>94</td>\n",
              "    </tr>\n",
              "    <tr>\n",
              "      <th>3</th>\n",
              "      <td>The meeting was earlier scheduled on May 11, b...</td>\n",
              "      <td>0</td>\n",
              "      <td>83</td>\n",
              "    </tr>\n",
              "    <tr>\n",
              "      <th>4</th>\n",
              "      <td>It may be time to link the higher deposit insu...</td>\n",
              "      <td>0</td>\n",
              "      <td>81</td>\n",
              "    </tr>\n",
              "    <tr>\n",
              "      <th>...</th>\n",
              "      <td>...</td>\n",
              "      <td>...</td>\n",
              "      <td>...</td>\n",
              "    </tr>\n",
              "    <tr>\n",
              "      <th>21804</th>\n",
              "      <td>Yields Clipped, Reserves Dip, Rupee Rear-Up Co...</td>\n",
              "      <td>0</td>\n",
              "      <td>201</td>\n",
              "    </tr>\n",
              "    <tr>\n",
              "      <th>21805</th>\n",
              "      <td>Firms Can Borrow Abroad To Settle Npas Yields ...</td>\n",
              "      <td>0</td>\n",
              "      <td>222</td>\n",
              "    </tr>\n",
              "    <tr>\n",
              "      <th>21806</th>\n",
              "      <td>Piracy Keeping Fis Off Films Pvt Players Will ...</td>\n",
              "      <td>0</td>\n",
              "      <td>594</td>\n",
              "    </tr>\n",
              "    <tr>\n",
              "      <th>21807</th>\n",
              "      <td>The Union Budget And Interest Rates Banks To P...</td>\n",
              "      <td>0</td>\n",
              "      <td>552</td>\n",
              "    </tr>\n",
              "    <tr>\n",
              "      <th>21808</th>\n",
              "      <td>A Choppy Run Portended Clutch Of Factors To De...</td>\n",
              "      <td>0</td>\n",
              "      <td>313</td>\n",
              "    </tr>\n",
              "  </tbody>\n",
              "</table>\n",
              "<p>21809 rows × 3 columns</p>\n",
              "</div>"
            ],
            "text/plain": [
              "                                               sentences  ...  word_count\n",
              "0      Close to 14.6 per cent (or 35,000) of the 240,...  ...          98\n",
              "1      Under the scheme, the government will offer 10...  ...          13\n",
              "2      HDFC Bank cuts base rate by 55 bps; SBI calls ...  ...          94\n",
              "3      The meeting was earlier scheduled on May 11, b...  ...          83\n",
              "4      It may be time to link the higher deposit insu...  ...          81\n",
              "...                                                  ...  ...         ...\n",
              "21804  Yields Clipped, Reserves Dip, Rupee Rear-Up Co...  ...         201\n",
              "21805  Firms Can Borrow Abroad To Settle Npas Yields ...  ...         222\n",
              "21806  Piracy Keeping Fis Off Films Pvt Players Will ...  ...         594\n",
              "21807  The Union Budget And Interest Rates Banks To P...  ...         552\n",
              "21808  A Choppy Run Portended Clutch Of Factors To De...  ...         313\n",
              "\n",
              "[21809 rows x 3 columns]"
            ]
          },
          "metadata": {
            "tags": []
          },
          "execution_count": 92
        }
      ]
    },
    {
      "cell_type": "code",
      "metadata": {
        "colab": {
          "base_uri": "https://localhost:8080/",
          "height": 648
        },
        "id": "2kESdCsjCc8-",
        "outputId": "60b3d064-69ef-44cf-fb90-4837a5c02f84"
      },
      "source": [
        "sent_df.sort_values(by='sentimental_value').head(20)"
      ],
      "execution_count": 93,
      "outputs": [
        {
          "output_type": "execute_result",
          "data": {
            "text/html": [
              "<div>\n",
              "<style scoped>\n",
              "    .dataframe tbody tr th:only-of-type {\n",
              "        vertical-align: middle;\n",
              "    }\n",
              "\n",
              "    .dataframe tbody tr th {\n",
              "        vertical-align: top;\n",
              "    }\n",
              "\n",
              "    .dataframe thead th {\n",
              "        text-align: right;\n",
              "    }\n",
              "</style>\n",
              "<table border=\"1\" class=\"dataframe\">\n",
              "  <thead>\n",
              "    <tr style=\"text-align: right;\">\n",
              "      <th></th>\n",
              "      <th>sentences</th>\n",
              "      <th>sentimental_value</th>\n",
              "      <th>word_count</th>\n",
              "    </tr>\n",
              "  </thead>\n",
              "  <tbody>\n",
              "    <tr>\n",
              "      <th>3857</th>\n",
              "      <td>Fraudulent lending and embezzlement by officia...</td>\n",
              "      <td>-4</td>\n",
              "      <td>19</td>\n",
              "    </tr>\n",
              "    <tr>\n",
              "      <th>8743</th>\n",
              "      <td>Fraudulent home loan seekers and habitual defa...</td>\n",
              "      <td>-4</td>\n",
              "      <td>40</td>\n",
              "    </tr>\n",
              "    <tr>\n",
              "      <th>4424</th>\n",
              "      <td>Fraudulent Internet debit card transactions ar...</td>\n",
              "      <td>-4</td>\n",
              "      <td>22</td>\n",
              "    </tr>\n",
              "    <tr>\n",
              "      <th>3855</th>\n",
              "      <td>Fraudulent lending and embezzlement by officia...</td>\n",
              "      <td>-4</td>\n",
              "      <td>19</td>\n",
              "    </tr>\n",
              "    <tr>\n",
              "      <th>20178</th>\n",
              "      <td>Withdrawals limited to Rs 10,000.</td>\n",
              "      <td>-3</td>\n",
              "      <td>5</td>\n",
              "    </tr>\n",
              "    <tr>\n",
              "      <th>51</th>\n",
              "      <td>Worsening business conditions and sell-off by ...</td>\n",
              "      <td>-3</td>\n",
              "      <td>48</td>\n",
              "    </tr>\n",
              "    <tr>\n",
              "      <th>4583</th>\n",
              "      <td>Losses due to banking fraud have gone up sharp...</td>\n",
              "      <td>-3</td>\n",
              "      <td>23</td>\n",
              "    </tr>\n",
              "    <tr>\n",
              "      <th>13847</th>\n",
              "      <td>Worried over rising defaults on loans for new ...</td>\n",
              "      <td>-3</td>\n",
              "      <td>25</td>\n",
              "    </tr>\n",
              "    <tr>\n",
              "      <th>20398</th>\n",
              "      <td>Worried depositors and account holders of the ...</td>\n",
              "      <td>-3</td>\n",
              "      <td>39</td>\n",
              "    </tr>\n",
              "    <tr>\n",
              "      <th>7174</th>\n",
              "      <td>Warning of tough times ahead, the RBI today ra...</td>\n",
              "      <td>-3</td>\n",
              "      <td>24</td>\n",
              "    </tr>\n",
              "    <tr>\n",
              "      <th>4454</th>\n",
              "      <td>Worried over the rise in crime at banks’ autom...</td>\n",
              "      <td>-3</td>\n",
              "      <td>22</td>\n",
              "    </tr>\n",
              "    <tr>\n",
              "      <th>16775</th>\n",
              "      <td>Fake credit card fraud has cost banks in India...</td>\n",
              "      <td>-3</td>\n",
              "      <td>36</td>\n",
              "    </tr>\n",
              "    <tr>\n",
              "      <th>8630</th>\n",
              "      <td>Worried over banks’ reluctance to increase dep...</td>\n",
              "      <td>-3</td>\n",
              "      <td>28</td>\n",
              "    </tr>\n",
              "    <tr>\n",
              "      <th>7400</th>\n",
              "      <td>Crisis in Japan forces government to brace for...</td>\n",
              "      <td>-3</td>\n",
              "      <td>10</td>\n",
              "    </tr>\n",
              "    <tr>\n",
              "      <th>3906</th>\n",
              "      <td>Bad loans of public sector banks stood at over...</td>\n",
              "      <td>-3</td>\n",
              "      <td>21</td>\n",
              "    </tr>\n",
              "    <tr>\n",
              "      <th>18585</th>\n",
              "      <td>Desperately seeking to send money to relative?</td>\n",
              "      <td>-3</td>\n",
              "      <td>7</td>\n",
              "    </tr>\n",
              "    <tr>\n",
              "      <th>13452</th>\n",
              "      <td>Worried that global financial services provide...</td>\n",
              "      <td>-3</td>\n",
              "      <td>18</td>\n",
              "    </tr>\n",
              "    <tr>\n",
              "      <th>5219</th>\n",
              "      <td>Worsening external sector conditions have beco...</td>\n",
              "      <td>-3</td>\n",
              "      <td>21</td>\n",
              "    </tr>\n",
              "    <tr>\n",
              "      <th>6535</th>\n",
              "      <td>Alarmed at the trend of state-run banks' profi...</td>\n",
              "      <td>-2</td>\n",
              "      <td>35</td>\n",
              "    </tr>\n",
              "    <tr>\n",
              "      <th>4402</th>\n",
              "      <td>Aggressive lending to the agriculture sector a...</td>\n",
              "      <td>-2</td>\n",
              "      <td>44</td>\n",
              "    </tr>\n",
              "  </tbody>\n",
              "</table>\n",
              "</div>"
            ],
            "text/plain": [
              "                                               sentences  ...  word_count\n",
              "3857   Fraudulent lending and embezzlement by officia...  ...          19\n",
              "8743   Fraudulent home loan seekers and habitual defa...  ...          40\n",
              "4424   Fraudulent Internet debit card transactions ar...  ...          22\n",
              "3855   Fraudulent lending and embezzlement by officia...  ...          19\n",
              "20178                  Withdrawals limited to Rs 10,000.  ...           5\n",
              "51     Worsening business conditions and sell-off by ...  ...          48\n",
              "4583   Losses due to banking fraud have gone up sharp...  ...          23\n",
              "13847  Worried over rising defaults on loans for new ...  ...          25\n",
              "20398  Worried depositors and account holders of the ...  ...          39\n",
              "7174   Warning of tough times ahead, the RBI today ra...  ...          24\n",
              "4454   Worried over the rise in crime at banks’ autom...  ...          22\n",
              "16775  Fake credit card fraud has cost banks in India...  ...          36\n",
              "8630   Worried over banks’ reluctance to increase dep...  ...          28\n",
              "7400   Crisis in Japan forces government to brace for...  ...          10\n",
              "3906   Bad loans of public sector banks stood at over...  ...          21\n",
              "18585     Desperately seeking to send money to relative?  ...           7\n",
              "13452  Worried that global financial services provide...  ...          18\n",
              "5219   Worsening external sector conditions have beco...  ...          21\n",
              "6535   Alarmed at the trend of state-run banks' profi...  ...          35\n",
              "4402   Aggressive lending to the agriculture sector a...  ...          44\n",
              "\n",
              "[20 rows x 3 columns]"
            ]
          },
          "metadata": {
            "tags": []
          },
          "execution_count": 93
        }
      ]
    },
    {
      "cell_type": "code",
      "metadata": {
        "colab": {
          "base_uri": "https://localhost:8080/"
        },
        "id": "gV7spTbACwNf",
        "outputId": "de96824b-ecf0-40f5-b428-8b3e89aaf66e"
      },
      "source": [
        "sent_df['sentimental_value'].describe()"
      ],
      "execution_count": 94,
      "outputs": [
        {
          "output_type": "execute_result",
          "data": {
            "text/plain": [
              "count    21809.000000\n",
              "mean         0.006924\n",
              "std          0.261734\n",
              "min         -4.000000\n",
              "25%          0.000000\n",
              "50%          0.000000\n",
              "75%          0.000000\n",
              "max          5.000000\n",
              "Name: sentimental_value, dtype: float64"
            ]
          },
          "metadata": {
            "tags": []
          },
          "execution_count": 94
        }
      ]
    },
    {
      "cell_type": "code",
      "metadata": {
        "colab": {
          "base_uri": "https://localhost:8080/",
          "height": 348
        },
        "id": "RWot36L5FRbP",
        "outputId": "6d72078d-1f1b-41c9-db4a-bdddafacce8f"
      },
      "source": [
        "sent_df[sent_df['sentimental_value']<=0].head(10)"
      ],
      "execution_count": 95,
      "outputs": [
        {
          "output_type": "execute_result",
          "data": {
            "text/html": [
              "<div>\n",
              "<style scoped>\n",
              "    .dataframe tbody tr th:only-of-type {\n",
              "        vertical-align: middle;\n",
              "    }\n",
              "\n",
              "    .dataframe tbody tr th {\n",
              "        vertical-align: top;\n",
              "    }\n",
              "\n",
              "    .dataframe thead th {\n",
              "        text-align: right;\n",
              "    }\n",
              "</style>\n",
              "<table border=\"1\" class=\"dataframe\">\n",
              "  <thead>\n",
              "    <tr style=\"text-align: right;\">\n",
              "      <th></th>\n",
              "      <th>sentences</th>\n",
              "      <th>sentimental_value</th>\n",
              "      <th>word_count</th>\n",
              "    </tr>\n",
              "  </thead>\n",
              "  <tbody>\n",
              "    <tr>\n",
              "      <th>0</th>\n",
              "      <td>Close to 14.6 per cent (or 35,000) of the 240,...</td>\n",
              "      <td>0</td>\n",
              "      <td>98</td>\n",
              "    </tr>\n",
              "    <tr>\n",
              "      <th>1</th>\n",
              "      <td>Under the scheme, the government will offer 10...</td>\n",
              "      <td>0</td>\n",
              "      <td>13</td>\n",
              "    </tr>\n",
              "    <tr>\n",
              "      <th>2</th>\n",
              "      <td>HDFC Bank cuts base rate by 55 bps; SBI calls ...</td>\n",
              "      <td>0</td>\n",
              "      <td>94</td>\n",
              "    </tr>\n",
              "    <tr>\n",
              "      <th>3</th>\n",
              "      <td>The meeting was earlier scheduled on May 11, b...</td>\n",
              "      <td>0</td>\n",
              "      <td>83</td>\n",
              "    </tr>\n",
              "    <tr>\n",
              "      <th>4</th>\n",
              "      <td>It may be time to link the higher deposit insu...</td>\n",
              "      <td>0</td>\n",
              "      <td>81</td>\n",
              "    </tr>\n",
              "    <tr>\n",
              "      <th>5</th>\n",
              "      <td>These firms operate with very little short-ter...</td>\n",
              "      <td>0</td>\n",
              "      <td>20</td>\n",
              "    </tr>\n",
              "    <tr>\n",
              "      <th>6</th>\n",
              "      <td>State-owned banks launched an emergency credit...</td>\n",
              "      <td>0</td>\n",
              "      <td>21</td>\n",
              "    </tr>\n",
              "    <tr>\n",
              "      <th>7</th>\n",
              "      <td>Refinancing high-cost debt into low-cost debt ...</td>\n",
              "      <td>0</td>\n",
              "      <td>225</td>\n",
              "    </tr>\n",
              "    <tr>\n",
              "      <th>8</th>\n",
              "      <td>The excess borrowing will, however, ease the p...</td>\n",
              "      <td>0</td>\n",
              "      <td>84</td>\n",
              "    </tr>\n",
              "    <tr>\n",
              "      <th>9</th>\n",
              "      <td>In the year-ago fortnight, bank loans had stoo...</td>\n",
              "      <td>0</td>\n",
              "      <td>111</td>\n",
              "    </tr>\n",
              "  </tbody>\n",
              "</table>\n",
              "</div>"
            ],
            "text/plain": [
              "                                           sentences  ...  word_count\n",
              "0  Close to 14.6 per cent (or 35,000) of the 240,...  ...          98\n",
              "1  Under the scheme, the government will offer 10...  ...          13\n",
              "2  HDFC Bank cuts base rate by 55 bps; SBI calls ...  ...          94\n",
              "3  The meeting was earlier scheduled on May 11, b...  ...          83\n",
              "4  It may be time to link the higher deposit insu...  ...          81\n",
              "5  These firms operate with very little short-ter...  ...          20\n",
              "6  State-owned banks launched an emergency credit...  ...          21\n",
              "7  Refinancing high-cost debt into low-cost debt ...  ...         225\n",
              "8  The excess borrowing will, however, ease the p...  ...          84\n",
              "9  In the year-ago fortnight, bank loans had stoo...  ...         111\n",
              "\n",
              "[10 rows x 3 columns]"
            ]
          },
          "metadata": {
            "tags": []
          },
          "execution_count": 95
        }
      ]
    },
    {
      "cell_type": "code",
      "metadata": {
        "colab": {
          "base_uri": "https://localhost:8080/",
          "height": 348
        },
        "id": "klTFsvjEFgBN",
        "outputId": "d884548f-864c-47c6-b1d9-7db7e1947afd"
      },
      "source": [
        "sent_df[sent_df['sentimental_value']>2].head(10)"
      ],
      "execution_count": 96,
      "outputs": [
        {
          "output_type": "execute_result",
          "data": {
            "text/html": [
              "<div>\n",
              "<style scoped>\n",
              "    .dataframe tbody tr th:only-of-type {\n",
              "        vertical-align: middle;\n",
              "    }\n",
              "\n",
              "    .dataframe tbody tr th {\n",
              "        vertical-align: top;\n",
              "    }\n",
              "\n",
              "    .dataframe thead th {\n",
              "        text-align: right;\n",
              "    }\n",
              "</style>\n",
              "<table border=\"1\" class=\"dataframe\">\n",
              "  <thead>\n",
              "    <tr style=\"text-align: right;\">\n",
              "      <th></th>\n",
              "      <th>sentences</th>\n",
              "      <th>sentimental_value</th>\n",
              "      <th>word_count</th>\n",
              "    </tr>\n",
              "  </thead>\n",
              "  <tbody>\n",
              "    <tr>\n",
              "      <th>918</th>\n",
              "      <td>Outstanding credit growth declined to 13.2% be...</td>\n",
              "      <td>5</td>\n",
              "      <td>118</td>\n",
              "    </tr>\n",
              "    <tr>\n",
              "      <th>948</th>\n",
              "      <td>Outstanding dues of big wilful defaulters of P...</td>\n",
              "      <td>5</td>\n",
              "      <td>43</td>\n",
              "    </tr>\n",
              "    <tr>\n",
              "      <th>1025</th>\n",
              "      <td>Successful resolution of bad loans currently u...</td>\n",
              "      <td>3</td>\n",
              "      <td>23</td>\n",
              "    </tr>\n",
              "    <tr>\n",
              "      <th>1926</th>\n",
              "      <td>Praising the positive role being played by pub...</td>\n",
              "      <td>3</td>\n",
              "      <td>183</td>\n",
              "    </tr>\n",
              "    <tr>\n",
              "      <th>2931</th>\n",
              "      <td>Good Evening.</td>\n",
              "      <td>3</td>\n",
              "      <td>2</td>\n",
              "    </tr>\n",
              "    <tr>\n",
              "      <th>3096</th>\n",
              "      <td>Outstanding restructured advances of 10 large ...</td>\n",
              "      <td>5</td>\n",
              "      <td>23</td>\n",
              "    </tr>\n",
              "    <tr>\n",
              "      <th>5491</th>\n",
              "      <td>Greater regulatory clarity, a stable operating...</td>\n",
              "      <td>3</td>\n",
              "      <td>20</td>\n",
              "    </tr>\n",
              "    <tr>\n",
              "      <th>5676</th>\n",
              "      <td>Outstanding loan dues in the banking system sh...</td>\n",
              "      <td>5</td>\n",
              "      <td>25</td>\n",
              "    </tr>\n",
              "    <tr>\n",
              "      <th>9554</th>\n",
              "      <td>Outstanding credit of commercial banks decline...</td>\n",
              "      <td>5</td>\n",
              "      <td>36</td>\n",
              "    </tr>\n",
              "    <tr>\n",
              "      <th>9594</th>\n",
              "      <td>Outstanding gross NPAs of 39 listed banks were...</td>\n",
              "      <td>5</td>\n",
              "      <td>13</td>\n",
              "    </tr>\n",
              "  </tbody>\n",
              "</table>\n",
              "</div>"
            ],
            "text/plain": [
              "                                              sentences  ...  word_count\n",
              "918   Outstanding credit growth declined to 13.2% be...  ...         118\n",
              "948   Outstanding dues of big wilful defaulters of P...  ...          43\n",
              "1025  Successful resolution of bad loans currently u...  ...          23\n",
              "1926  Praising the positive role being played by pub...  ...         183\n",
              "2931                                      Good Evening.  ...           2\n",
              "3096  Outstanding restructured advances of 10 large ...  ...          23\n",
              "5491  Greater regulatory clarity, a stable operating...  ...          20\n",
              "5676  Outstanding loan dues in the banking system sh...  ...          25\n",
              "9554  Outstanding credit of commercial banks decline...  ...          36\n",
              "9594  Outstanding gross NPAs of 39 listed banks were...  ...          13\n",
              "\n",
              "[10 rows x 3 columns]"
            ]
          },
          "metadata": {
            "tags": []
          },
          "execution_count": 96
        }
      ]
    },
    {
      "cell_type": "code",
      "metadata": {
        "id": "_Gb7R0k7FvEy"
      },
      "source": [
        "sent_df['index']=range(0,len(sent_df))"
      ],
      "execution_count": 97,
      "outputs": []
    },
    {
      "cell_type": "markdown",
      "metadata": {
        "id": "z2jrqythA8iZ"
      },
      "source": [
        "**Different** **visualizations**"
      ]
    },
    {
      "cell_type": "code",
      "metadata": {
        "colab": {
          "base_uri": "https://localhost:8080/",
          "height": 391
        },
        "id": "sImrwAO3F-ZP",
        "outputId": "0ef07297-3835-409e-fc5f-8463f6eb606c"
      },
      "source": [
        "import seaborn as sns\n",
        "import matplotlib.pyplot as plt\n",
        "sns.distplot(sent_df['sentimental_value'])"
      ],
      "execution_count": 98,
      "outputs": [
        {
          "output_type": "stream",
          "text": [
            "/usr/local/lib/python3.7/dist-packages/seaborn/distributions.py:2557: FutureWarning:\n",
            "\n",
            "`distplot` is a deprecated function and will be removed in a future version. Please adapt your code to use either `displot` (a figure-level function with similar flexibility) or `histplot` (an axes-level function for histograms).\n",
            "\n"
          ],
          "name": "stderr"
        },
        {
          "output_type": "execute_result",
          "data": {
            "text/plain": [
              "<matplotlib.axes._subplots.AxesSubplot at 0x7f7927b03ed0>"
            ]
          },
          "metadata": {
            "tags": []
          },
          "execution_count": 98
        },
        {
          "output_type": "display_data",
          "data": {
            "image/png": "[encoded data removed]",
            "text/plain": [
              "<Figure size 432x288 with 1 Axes>"
            ]
          },
          "metadata": {
            "tags": [],
            "needs_background": "light"
          }
        }
      ]
    },
    {
      "cell_type": "code",
      "metadata": {
        "colab": {
          "base_uri": "https://localhost:8080/",
          "height": 578
        },
        "id": "rNrZqa1_GWDJ",
        "outputId": "64af8173-740b-496f-9272-768404ab0362"
      },
      "source": [
        "plt.figure(figsize=(15,10))\n",
        "sns.lineplot(y='sentimental_value',x='index',data=sent_df)"
      ],
      "execution_count": 99,
      "outputs": [
        {
          "output_type": "execute_result",
          "data": {
            "text/plain": [
              "<matplotlib.axes._subplots.AxesSubplot at 0x7f7912304710>"
            ]
          },
          "metadata": {
            "tags": []
          },
          "execution_count": 99
        },
        {
          "output_type": "display_data",
          "data": {
            "image/png": "[encoded data removed]",
            "text/plain": [
              "<Figure size 1080x720 with 1 Axes>"
            ]
          },
          "metadata": {
            "tags": [],
            "needs_background": "light"
          }
        }
      ]
    },
    {
      "cell_type": "code",
      "metadata": {
        "colab": {
          "base_uri": "https://localhost:8080/",
          "height": 573
        },
        "id": "8fi5Xdcg-8Yh",
        "outputId": "30cebbc7-537a-412b-aa82-1f0005aac791"
      },
      "source": [
        "plt.figure(figsize=(15,10))\n",
        "sns.lineplot(y='sentimental_value',x='word_count',data=sent_df)"
      ],
      "execution_count": 100,
      "outputs": [
        {
          "output_type": "execute_result",
          "data": {
            "text/plain": [
              "<matplotlib.axes._subplots.AxesSubplot at 0x7f791807ded0>"
            ]
          },
          "metadata": {
            "tags": []
          },
          "execution_count": 100
        },
        {
          "output_type": "display_data",
          "data": {
            "image/png": "[encoded data removed]",
            "text/plain": [
              "<Figure size 1080x720 with 1 Axes>"
            ]
          },
          "metadata": {
            "tags": [],
            "needs_background": "light"
          }
        }
      ]
    },
    {
      "cell_type": "code",
      "metadata": {
        "colab": {
          "base_uri": "https://localhost:8080/",
          "height": 459
        },
        "id": "yVQMzifE_pyc",
        "outputId": "78bfe5b3-c5c7-41c9-a565-110d5c478a15"
      },
      "source": [
        "sns.jointplot(x=sent_df['word_count'],y=sent_df['sentimental_value'],kind='scatter')"
      ],
      "execution_count": 101,
      "outputs": [
        {
          "output_type": "execute_result",
          "data": {
            "text/plain": [
              "<seaborn.axisgrid.JointGrid at 0x7f7928e87810>"
            ]
          },
          "metadata": {
            "tags": []
          },
          "execution_count": 101
        },
        {
          "output_type": "display_data",
          "data": {
            "image/png": "[encoded data removed]",
            "text/plain": [
              "<Figure size 432x432 with 3 Axes>"
            ]
          },
          "metadata": {
            "tags": [],
            "needs_background": "light"
          }
        }
      ]
    }
  ]
}